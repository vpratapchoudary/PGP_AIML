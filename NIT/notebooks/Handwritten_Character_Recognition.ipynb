{
  "nbformat": 4,
  "nbformat_minor": 0,
  "metadata": {
    "colab": {
      "name": "Mid_Program_Project_2_Handwritten_Character_Recognition.ipynb",
      "provenance": [],
      "collapsed_sections": [],
      "toc_visible": true
    },
    "kernelspec": {
      "name": "python3",
      "display_name": "Python 3"
    },
    "accelerator": "GPU"
  },
  "cells": [
    {
      "cell_type": "markdown",
      "metadata": {
        "id": "oee4bgHk0TC5"
      },
      "source": [
        "# Aim of the Project"
      ]
    },
    {
      "cell_type": "markdown",
      "metadata": {
        "id": "jaKOMAJe0dUt"
      },
      "source": [
        "The aim of this project is to automatically convert handwritten text into machine encoded text."
      ]
    },
    {
      "cell_type": "markdown",
      "metadata": {
        "id": "4J3DdzAe0TzU"
      },
      "source": [
        "# Problem Statement"
      ]
    },
    {
      "cell_type": "markdown",
      "metadata": {
        "id": "oUmx-WxA0nFP"
      },
      "source": [
        "A medical company needs to take handwritten prescription and retrieve the text from it. To do this manually, it will require a lot of time and lots of cost to the company. So, the company wants to automate this task. You need to create a neural network model that will take images as input, read the text images, and convert it into digital text."
      ]
    },
    {
      "cell_type": "markdown",
      "metadata": {
        "id": "QzhtTs-E1A_8"
      },
      "source": [
        "# Dataset Description"
      ]
    },
    {
      "cell_type": "markdown",
      "metadata": {
        "id": "w_TX9jSE1CHK"
      },
      "source": [
        "**IAM Dataset**\n",
        "\n",
        "We will be using the IAM dataset for training and testing our model. \n",
        "\n",
        "We will use the words subset of the dataset, in which each image contains a word. The dataset contains over 8000 images and their digital text."
      ]
    },
    {
      "cell_type": "markdown",
      "metadata": {
        "id": "FyhaBebI1ZJ6"
      },
      "source": [
        "# Strategy"
      ]
    },
    {
      "cell_type": "markdown",
      "metadata": {
        "id": "NvQC-cIY1dW7"
      },
      "source": [
        "The project has 4 major components:\n",
        "1. Preprocess image and text data\n",
        "2. Implementation of CNN layers to extract features\n",
        "3. Implementation of RNN (Bi-LSTM) layers to the sequence model\n",
        "4. CTC_loss and CTC_decode"
      ]
    },
    {
      "cell_type": "markdown",
      "metadata": {
        "id": "YOAnpS8E2WDI"
      },
      "source": [
        "# Importing the Primary Libraries"
      ]
    },
    {
      "cell_type": "code",
      "metadata": {
        "id": "SCnWmCQD0F8T"
      },
      "source": [
        "import pandas as pd\n",
        "import numpy as np\n",
        "import matplotlib.pyplot as plt\n",
        "import cv2\n",
        "import tensorflow\n",
        "import keras\n",
        "from sklearn.model_selection import train_test_split"
      ],
      "execution_count": null,
      "outputs": []
    },
    {
      "cell_type": "markdown",
      "metadata": {
        "id": "9zunYMHw3Lsl"
      },
      "source": [
        "# Download and Preprocess the Data"
      ]
    },
    {
      "cell_type": "code",
      "metadata": {
        "colab": {
          "base_uri": "https://localhost:8080/"
        },
        "id": "7vTs7GRo3CbK",
        "outputId": "d44d78de-dba1-4d43-9d21-55f96cda8fb9"
      },
      "source": [
        "#mount Google drive\n",
        "from google.colab import drive\n",
        "drive.mount('/content/drive')"
      ],
      "execution_count": null,
      "outputs": [
        {
          "output_type": "stream",
          "text": [
            "Drive already mounted at /content/drive; to attempt to forcibly remount, call drive.mount(\"/content/drive\", force_remount=True).\n"
          ],
          "name": "stdout"
        }
      ]
    },
    {
      "cell_type": "code",
      "metadata": {
        "colab": {
          "base_uri": "https://localhost:8080/"
        },
        "id": "sXDIsOKE4LW9",
        "outputId": "16e0a858-c6a9-4d25-ecc2-7d1da943ab5d"
      },
      "source": [
        "#reading the file and displaying the first 5 lines in parser.txt file\n",
        "file_path = ('/content/drive/MyDrive/Colab Notebooks/Handwritten Character Recognition/data/parser.txt')\n",
        "parser_file = open(file_path, 'r')\n",
        "for i in range(0,5):\n",
        "  line = parser_file.readline()\n",
        "  print(line)"
      ],
      "execution_count": null,
      "outputs": [
        {
          "output_type": "stream",
          "text": [
            "a01-000u-00-00 ok 154 408 768 27 51 AT A\n",
            "\n",
            "a01-000u-00-01 ok 154 507 766 213 48 NN MOVE\n",
            "\n",
            "a01-000u-00-02 ok 154 796 764 70 50 TO to\n",
            "\n",
            "a01-000u-00-03 ok 154 919 757 166 78 VB stop\n",
            "\n",
            "a01-000u-00-04 ok 154 1185 754 126 61 NPT Mr.\n",
            "\n"
          ],
          "name": "stdout"
        }
      ]
    },
    {
      "cell_type": "code",
      "metadata": {
        "id": "xt1Uzr077Gy8"
      },
      "source": [
        "#unzip the image data\n",
        "!unzip -q \"/content/drive/MyDrive/Colab Notebooks/Handwritten Character Recognition/data/words.zip\""
      ],
      "execution_count": null,
      "outputs": []
    },
    {
      "cell_type": "code",
      "metadata": {
        "id": "Zzow-KhZ9J5e",
        "colab": {
          "base_uri": "https://localhost:8080/"
        },
        "outputId": "5e246e2e-1be8-4887-b1c2-c02893aa1c9f"
      },
      "source": [
        "#we will take the first 10000 instances from parser file, append the values to a dataframe\n",
        "target_labels = []\n",
        "image_paths = []\n",
        "parser_file.seek(0)\n",
        "for i in range(0, 10000):\n",
        "  line = parser_file.readline()\n",
        "  line_split = line.split()\n",
        "  folder_split = line_split[0].split('-')\n",
        "  image_path = ('/content/words/{}/{}-{}/{}.png'.format(folder_split[0], folder_split[0], folder_split[1], line_split[0]))\n",
        "  #we have err images in the database, therefore, will consider only valid images in first 10K instances.\n",
        "  if line_split[1] == 'ok':\n",
        "    image = cv2.imread(image_path)\n",
        "    try:\n",
        "      image.shape\n",
        "      target_labels.append(line_split[-1])\n",
        "      image_paths.append(image_path)\n",
        "    except AttributeError:\n",
        "      print('Error image -- {} -- with incorrect OK validation removed'.format(image_path))"
      ],
      "execution_count": null,
      "outputs": [
        {
          "output_type": "stream",
          "text": [
            "Error image -- /content/words/a01/a01-117/a01-117-05-02.png -- with incorrect OK validation removed\n"
          ],
          "name": "stdout"
        }
      ]
    },
    {
      "cell_type": "code",
      "metadata": {
        "colab": {
          "base_uri": "https://localhost:8080/"
        },
        "id": "BD-fL6OYZPdh",
        "outputId": "8bf7c34d-e5f1-421c-eb60-f374e6712be4"
      },
      "source": [
        "print('No of Labels:', len(target_labels), '--- Sample label:', target_labels[1])\n",
        "print('No of Images:', len(image_paths), '--- Sample Image Path:', image_paths[1])"
      ],
      "execution_count": null,
      "outputs": [
        {
          "output_type": "stream",
          "text": [
            "No of Labels: 8725 --- Sample label: MOVE\n",
            "No of Images: 8725 --- Sample Image Path: /content/words/a01/a01-000u/a01-000u-00-01.png\n"
          ],
          "name": "stdout"
        }
      ]
    },
    {
      "cell_type": "code",
      "metadata": {
        "colab": {
          "base_uri": "https://localhost:8080/"
        },
        "id": "VkkSskiIGkOg",
        "outputId": "a12f5497-8263-493f-aa2d-d492a775204e"
      },
      "source": [
        "y = np.array(target_labels)\n",
        "y.shape"
      ],
      "execution_count": null,
      "outputs": [
        {
          "output_type": "execute_result",
          "data": {
            "text/plain": [
              "(8725,)"
            ]
          },
          "metadata": {
            "tags": []
          },
          "execution_count": 142
        }
      ]
    },
    {
      "cell_type": "markdown",
      "metadata": {
        "id": "rGXTynpDgi55"
      },
      "source": [
        "# Preprocess the Images"
      ]
    },
    {
      "cell_type": "code",
      "metadata": {
        "colab": {
          "base_uri": "https://localhost:8080/",
          "height": 144
        },
        "id": "DIcDwB8sgmKh",
        "outputId": "7f0cb37a-2086-493d-ef01-426b31b8ea89"
      },
      "source": [
        "#visualizing a image\n",
        "import matplotlib.image as mpimg\n",
        "\n",
        "img = mpimg.imread(image_paths[1])\n",
        "plt.imshow(img)\n",
        "print('Label:', target_labels[1])"
      ],
      "execution_count": null,
      "outputs": [
        {
          "output_type": "stream",
          "text": [
            "Label: MOVE\n"
          ],
          "name": "stdout"
        },
        {
          "output_type": "display_data",
          "data": {
            "image/png": "[encoded data removed]",
            "text/plain": [
              "<Figure size 432x288 with 1 Axes>"
            ]
          },
          "metadata": {
            "tags": [],
            "needs_background": "light"
          }
        }
      ]
    },
    {
      "cell_type": "markdown",
      "metadata": {
        "id": "EtcpBAqBc44d"
      },
      "source": [
        "Functions for Image preprocessing"
      ]
    },
    {
      "cell_type": "code",
      "metadata": {
        "id": "fHfgXPJrzbyG"
      },
      "source": [
        "#add padding to the image to avoid distortion while resizing\n",
        "def add_padding(img, old_w, old_h, new_w, new_h):\n",
        "  h1, h2 = int((new_h-old_h)/2), int((new_h-old_h)/2)+old_h\n",
        "  w1, w2 = int((new_w-old_w)/2), int((new_w-old_w)/2)+old_w\n",
        "  img_pad = np.ones([new_h, new_w, 3]) * 255\n",
        "  img_pad[h1:h2, w1:w2, :] = img\n",
        "  return img_pad"
      ],
      "execution_count": null,
      "outputs": []
    },
    {
      "cell_type": "code",
      "metadata": {
        "id": "oOj1r7W5e2w-"
      },
      "source": [
        "#func to convert all images to a consistent shape\n",
        "def fix_size(img, target_w, target_h):\n",
        "  h, w = img.shape[:2]\n",
        "  if w<target_w and h<target_h:\n",
        "    img = add_padding(img, w, h, target_w, target_h)\n",
        "  elif w>=target_w and h<target_h:\n",
        "    new_w = target_w\n",
        "    new_h = int(h*new_w/w)\n",
        "    new_img = cv2.resize(img, (new_w, new_h), interpolation = cv2.INTER_AREA)\n",
        "    img = add_padding(new_img, new_w, new_h, target_w, target_h)\n",
        "  elif w<target_w and h>=target_h:\n",
        "    new_h = target_h\n",
        "    new_w = int(w*new_h/h)\n",
        "    new_img = cv2.resize(img, (new_w, new_h), interpolation = cv2.INTER_AREA)\n",
        "    img = add_padding(new_img, new_w, new_h, target_w, target_h)\n",
        "  else:\n",
        "    '''w>=target_w and h>=target_h '''\n",
        "    ratio = max(w/target_w, h/target_h)\n",
        "    new_w = max(min(target_w, int(w / ratio)), 1)\n",
        "    new_h = max(min(target_h, int(h / ratio)), 1)\n",
        "    new_img = cv2.resize(img, (new_w, new_h), interpolation = cv2.INTER_AREA)\n",
        "    img = add_padding(new_img, new_w, new_h, target_w, target_h)\n",
        "  return img"
      ],
      "execution_count": null,
      "outputs": []
    },
    {
      "cell_type": "code",
      "metadata": {
        "id": "6mMNj0PvfQG4"
      },
      "source": [
        "#function to process the images and normalize\n",
        "def preprocess(path, img_w, img_h):\n",
        "  \"\"\" Pre-processing image for predicting \"\"\"\n",
        "  img = cv2.imread(path)\n",
        "  img = fix_size(img, img_w, img_h)\n",
        "\n",
        "  img = np.clip(img, 0, 255)\n",
        "  img = np.uint8(img)\n",
        "  img = cv2.cvtColor(img, cv2.COLOR_BGR2GRAY)\n",
        "  \n",
        "  img = img.astype(np.float32)\n",
        "  img /= 255\n",
        "  return img"
      ],
      "execution_count": null,
      "outputs": []
    },
    {
      "cell_type": "code",
      "metadata": {
        "id": "w2yNFT1aNz4K"
      },
      "source": [
        "#process the images and append to a list\n",
        "X = []\n",
        "\n",
        "for path in image_paths:\n",
        "  X.append(preprocess(path, 256, 64))"
      ],
      "execution_count": null,
      "outputs": []
    },
    {
      "cell_type": "code",
      "metadata": {
        "colab": {
          "base_uri": "https://localhost:8080/"
        },
        "id": "8C_uiXYHYlTW",
        "outputId": "929fe564-b5cb-4972-e071-2ff8ce4210c7"
      },
      "source": [
        "X = np.array(X).reshape(-1, 256, 64, 1)\n",
        "X.shape"
      ],
      "execution_count": null,
      "outputs": [
        {
          "output_type": "execute_result",
          "data": {
            "text/plain": [
              "(8725, 256, 64, 1)"
            ]
          },
          "metadata": {
            "tags": []
          },
          "execution_count": 148
        }
      ]
    },
    {
      "cell_type": "code",
      "metadata": {
        "id": "jFgTYT3PYwEk",
        "colab": {
          "base_uri": "https://localhost:8080/",
          "height": 285
        },
        "outputId": "2edf8919-d46a-4bba-80a5-8ef451d0ef73"
      },
      "source": [
        "#visualize an image before and after preprocessing\n",
        "img = mpimg.imread(image_paths[0])\n",
        "plt.subplot(121)\n",
        "plt.xticks([])\n",
        "plt.yticks([])\n",
        "plt.title('Original Image')\n",
        "plt.imshow(img)\n",
        "\n",
        "plt.subplot(122)\n",
        "plt.xticks([])\n",
        "plt.yticks([])\n",
        "plt.title('Processed Image')\n",
        "plt.imshow(X[0].reshape(64, 256))"
      ],
      "execution_count": 201,
      "outputs": [
        {
          "output_type": "execute_result",
          "data": {
            "text/plain": [
              "<matplotlib.image.AxesImage at 0x7f1e6b0430d0>"
            ]
          },
          "metadata": {
            "tags": []
          },
          "execution_count": 201
        },
        {
          "output_type": "display_data",
          "data": {
            "image/png": "[encoded data removed]",
            "text/plain": [
              "<Figure size 432x288 with 2 Axes>"
            ]
          },
          "metadata": {
            "tags": []
          }
        }
      ]
    },
    {
      "cell_type": "markdown",
      "metadata": {
        "id": "vtL0EDuEKJp-"
      },
      "source": [
        "# Text Processing"
      ]
    },
    {
      "cell_type": "markdown",
      "metadata": {
        "id": "65wkYLsOMD-t"
      },
      "source": [
        "We need to convert the labels to numbers which represent each character in the dataset. The labels are a combination of capitals and small letters in our dataset including digits and special characters."
      ]
    },
    {
      "cell_type": "code",
      "metadata": {
        "id": "tinHScDRKOQy"
      },
      "source": [
        "characters = u\"\"\"ABCDEFGHIJKLMNOPQRSTUVWXYZabcdefghijklmnopqrstuvwxyz0123456789!\"#$%&'()*+,-./:;<=>?@[\\]^_`{|}~. \"\"\"\n",
        "max_str_len = 24\n",
        "num_chars = len(characters)+1\n",
        "max_len_pred_label = 64\n",
        "\n",
        "def label_to_num(label):\n",
        "  label_num = []\n",
        "  for ch in label:\n",
        "    label_num.append(characters.find(ch))\n",
        "  return np.array(label_num)\n",
        "\n",
        "\n",
        "def num_to_label(num):\n",
        "  ret = ''\n",
        "  for ch in num:\n",
        "    if ch == -1:\n",
        "      break\n",
        "    else:\n",
        "      ret+=characters[ch]\n",
        "  return ret\n",
        "  "
      ],
      "execution_count": 162,
      "outputs": []
    },
    {
      "cell_type": "markdown",
      "metadata": {
        "id": "PEMnB6bradAn"
      },
      "source": [
        "# Splitting the Training and Validation Data"
      ]
    },
    {
      "cell_type": "code",
      "metadata": {
        "colab": {
          "base_uri": "https://localhost:8080/"
        },
        "id": "x4NfbPafZHNu",
        "outputId": "4673199c-4c81-49c5-f6ae-ed464e64c153"
      },
      "source": [
        "X_train, X_valid, y_train, y_valid = train_test_split(X, y, test_size=0.1, random_state=42)\n",
        "print(X_train.shape, X_valid.shape, y_train.shape, y_valid.shape)"
      ],
      "execution_count": 181,
      "outputs": [
        {
          "output_type": "stream",
          "text": [
            "(7852, 256, 64, 1) (873, 256, 64, 1) (7852,) (873,)\n"
          ],
          "name": "stdout"
        }
      ]
    },
    {
      "cell_type": "markdown",
      "metadata": {
        "id": "vQP5KqCqWq2F"
      },
      "source": [
        "> - **y_train_pad** contains the true labels converted to numbers and padded with -1. The length of each label is equal to max_str_len.\n",
        "> - **train_label_len** contains the length of each true label (without padding)\n",
        "> - **train_input_len** contains the length of each predicted label. The length of all the predicted labels is constant i.e max_len_pred_label-2.\n",
        "> - **train_output** is a dummy output for ctc loss."
      ]
    },
    {
      "cell_type": "code",
      "metadata": {
        "id": "w999FOOnO8jb"
      },
      "source": [
        "y_train_pad = np.ones([y_train.shape[0], max_str_len]) * -1\n",
        "train_label_len = np.zeros([y_train.shape[0], 1])\n",
        "train_input_len = np.ones([y_train.shape[0], 1]) * (max_len_pred_label - 2)\n",
        "train_output = np.zeros([y_train.shape[0]])\n",
        "\n",
        "for i in range(y_train.shape[0]):\n",
        "  train_label_len[i] = len(y_train[i])\n",
        "  y_train_pad[i, 0:len(y_train[i])] = label_to_num(y_train[i])"
      ],
      "execution_count": 182,
      "outputs": []
    },
    {
      "cell_type": "code",
      "metadata": {
        "id": "ioSKZO8vfVh_"
      },
      "source": [
        "y_valid_pad = np.ones([y_valid.shape[0], max_str_len]) * -1\n",
        "valid_label_len = np.zeros([y_valid.shape[0], 1])\n",
        "valid_input_len = np.ones([y_valid.shape[0], 1]) * (max_len_pred_label - 2)\n",
        "valid_output = np.zeros([y_valid.shape[0]])\n",
        "\n",
        "for i in range(y_valid.shape[0]):\n",
        "  valid_label_len[i] = len(y_valid[i])\n",
        "  y_valid_pad[i, 0:len(y_valid[i])] = label_to_num(y_valid[i])"
      ],
      "execution_count": 183,
      "outputs": []
    },
    {
      "cell_type": "code",
      "metadata": {
        "colab": {
          "base_uri": "https://localhost:8080/"
        },
        "id": "Vmo893H-Y1be",
        "outputId": "56a3a7ee-3f9a-482f-a3cc-4ab3545cfd04"
      },
      "source": [
        "print('True label:{} and Length:{}'.format(y_train[2], len(y_train[2])))\n",
        "print('Encoded label:{} and Length:{}'.format(y_train_pad[2], len(y_train_pad[2])))\n",
        "print(train_label_len[2], train_input_len[2])"
      ],
      "execution_count": 184,
      "outputs": [
        {
          "output_type": "stream",
          "text": [
            "True label:financial and Length:9\n",
            "Encoded label:[31. 34. 39. 26. 39. 28. 34. 26. 37. -1. -1. -1. -1. -1. -1. -1. -1. -1.\n",
            " -1. -1. -1. -1. -1. -1.] and Length:24\n",
            "[9.] [62.]\n"
          ],
          "name": "stdout"
        }
      ]
    },
    {
      "cell_type": "markdown",
      "metadata": {
        "id": "RGfYRI1Db3nM"
      },
      "source": [
        "# Building the model"
      ]
    },
    {
      "cell_type": "code",
      "metadata": {
        "id": "wQOkDGoOc8gs"
      },
      "source": [
        "#import the libraries\n",
        "from keras import backend as K\n",
        "from keras.models import Model\n",
        "from keras.layers import Input, Dense, Dropout, Conv2D, BatchNormalization, Activation, MaxPooling2D\n",
        "from keras.layers import Reshape, Bidirectional, LSTM, Lambda\n",
        "from keras.optimizers import Adam"
      ],
      "execution_count": 185,
      "outputs": []
    },
    {
      "cell_type": "code",
      "metadata": {
        "colab": {
          "base_uri": "https://localhost:8080/"
        },
        "id": "U872Rw-xb5pj",
        "outputId": "115b42c9-2125-4998-c24f-515ce7d9b1f2"
      },
      "source": [
        "if K.image_data_format() == 'channels_first':\n",
        "  input_shape = (1, 256, 64)\n",
        "else:\n",
        "  input_shape = (256, 64, 1)\n",
        "\n",
        "input_data = Input(shape=input_shape, name='input')\n",
        "\n",
        "inner = Conv2D(64, (3, 3), padding='same', name='conv1', kernel_initializer='he_normal')(input_data)\n",
        "inner = BatchNormalization()(inner)\n",
        "inner = Activation('relu')(inner)\n",
        "inner = MaxPooling2D(pool_size=(2, 2), name='max1')(inner)\n",
        "#inner = Dropout(0.2)(inner)\n",
        "\n",
        "inner = Conv2D(128, (3, 3), padding='same', name='conv2', kernel_initializer='he_normal')(inner)\n",
        "inner = BatchNormalization()(inner)\n",
        "inner = Activation('relu')(inner)\n",
        "inner = MaxPooling2D(pool_size=(2, 2), name='max2')(inner)\n",
        "#inner = Dropout(0.2)(inner)\n",
        "\n",
        "inner = Conv2D(256, (3, 3), padding='same', name='conv3', kernel_initializer='he_normal')(inner)\n",
        "inner = BatchNormalization()(inner)\n",
        "inner = Activation('relu')(inner)\n",
        "inner = Conv2D(256, (3, 3), padding='same', name='conv4', kernel_initializer='he_normal')(inner)\n",
        "inner = BatchNormalization()(inner)\n",
        "inner = Activation('relu')(inner)\n",
        "inner = MaxPooling2D(pool_size=(1, 2), name='max3')(inner)\n",
        "#inner = Dropout(0.3)(inner)\n",
        "\n",
        "inner = Conv2D(512, (3, 3), padding='same', name='conv5', kernel_initializer='he_normal')(inner)\n",
        "inner = BatchNormalization()(inner)\n",
        "inner = Activation('relu')(inner)\n",
        "inner = Conv2D(512, (3, 3), padding='same', name='conv6', kernel_initializer='he_normal')(inner)\n",
        "inner = BatchNormalization()(inner)\n",
        "inner = Activation('relu')(inner)\n",
        "inner = MaxPooling2D(pool_size=(1, 2), name='max4')(inner)\n",
        "#inner = Dropout(0.3)(inner)\n",
        "\n",
        "inner = Conv2D(512, (2, 2), padding='same', name='conv7', kernel_initializer='he_normal')(inner)\n",
        "inner = BatchNormalization()(inner)\n",
        "inner = Activation('relu')(inner)\n",
        "#inner = Dropout(0.2)(inner)\n",
        "\n",
        "#CNN to RNN\n",
        "inner = Reshape(target_shape=((64, 2048)), name='reshape')(inner)\n",
        "inner = Dense(64, activation='relu', kernel_initializer='he_normal', name='dense1')(inner)\n",
        "\n",
        "#RNN Bi-LSTM\n",
        "inner = Bidirectional(LSTM(256, return_sequences=True), name='lstm1')(inner)\n",
        "inner = Bidirectional(LSTM(256, return_sequences=True), name='lstm2')(inner)\n",
        "\n",
        "#Output\n",
        "inner = Dense(num_chars, kernel_initializer='he_normal', name='dense2')(inner)\n",
        "y_pred = Activation('softmax', name='softmax')(inner)\n",
        "\n",
        "model_predict = Model(inputs=input_data, outputs=y_pred)\n",
        "model_predict.summary()"
      ],
      "execution_count": 202,
      "outputs": [
        {
          "output_type": "stream",
          "text": [
            "Model: \"model_22\"\n",
            "_________________________________________________________________\n",
            "Layer (type)                 Output Shape              Param #   \n",
            "=================================================================\n",
            "input (InputLayer)           [(None, 256, 64, 1)]      0         \n",
            "_________________________________________________________________\n",
            "conv1 (Conv2D)               (None, 256, 64, 64)       640       \n",
            "_________________________________________________________________\n",
            "batch_normalization_60 (Batc (None, 256, 64, 64)       256       \n",
            "_________________________________________________________________\n",
            "activation_60 (Activation)   (None, 256, 64, 64)       0         \n",
            "_________________________________________________________________\n",
            "max1 (MaxPooling2D)          (None, 128, 32, 64)       0         \n",
            "_________________________________________________________________\n",
            "conv2 (Conv2D)               (None, 128, 32, 128)      73856     \n",
            "_________________________________________________________________\n",
            "batch_normalization_61 (Batc (None, 128, 32, 128)      512       \n",
            "_________________________________________________________________\n",
            "activation_61 (Activation)   (None, 128, 32, 128)      0         \n",
            "_________________________________________________________________\n",
            "max2 (MaxPooling2D)          (None, 64, 16, 128)       0         \n",
            "_________________________________________________________________\n",
            "conv3 (Conv2D)               (None, 64, 16, 256)       295168    \n",
            "_________________________________________________________________\n",
            "batch_normalization_62 (Batc (None, 64, 16, 256)       1024      \n",
            "_________________________________________________________________\n",
            "activation_62 (Activation)   (None, 64, 16, 256)       0         \n",
            "_________________________________________________________________\n",
            "conv4 (Conv2D)               (None, 64, 16, 256)       590080    \n",
            "_________________________________________________________________\n",
            "batch_normalization_63 (Batc (None, 64, 16, 256)       1024      \n",
            "_________________________________________________________________\n",
            "activation_63 (Activation)   (None, 64, 16, 256)       0         \n",
            "_________________________________________________________________\n",
            "max3 (MaxPooling2D)          (None, 64, 8, 256)        0         \n",
            "_________________________________________________________________\n",
            "conv5 (Conv2D)               (None, 64, 8, 512)        1180160   \n",
            "_________________________________________________________________\n",
            "batch_normalization_64 (Batc (None, 64, 8, 512)        2048      \n",
            "_________________________________________________________________\n",
            "activation_64 (Activation)   (None, 64, 8, 512)        0         \n",
            "_________________________________________________________________\n",
            "conv6 (Conv2D)               (None, 64, 8, 512)        2359808   \n",
            "_________________________________________________________________\n",
            "batch_normalization_65 (Batc (None, 64, 8, 512)        2048      \n",
            "_________________________________________________________________\n",
            "activation_65 (Activation)   (None, 64, 8, 512)        0         \n",
            "_________________________________________________________________\n",
            "max4 (MaxPooling2D)          (None, 64, 4, 512)        0         \n",
            "_________________________________________________________________\n",
            "conv7 (Conv2D)               (None, 64, 4, 512)        1049088   \n",
            "_________________________________________________________________\n",
            "batch_normalization_66 (Batc (None, 64, 4, 512)        2048      \n",
            "_________________________________________________________________\n",
            "activation_66 (Activation)   (None, 64, 4, 512)        0         \n",
            "_________________________________________________________________\n",
            "reshape (Reshape)            (None, 64, 2048)          0         \n",
            "_________________________________________________________________\n",
            "dense1 (Dense)               (None, 64, 64)            131136    \n",
            "_________________________________________________________________\n",
            "lstm1 (Bidirectional)        (None, 64, 512)           657408    \n",
            "_________________________________________________________________\n",
            "lstm2 (Bidirectional)        (None, 64, 512)           1574912   \n",
            "_________________________________________________________________\n",
            "dense2 (Dense)               (None, 64, 97)            49761     \n",
            "_________________________________________________________________\n",
            "softmax (Activation)         (None, 64, 97)            0         \n",
            "=================================================================\n",
            "Total params: 7,970,977\n",
            "Trainable params: 7,966,497\n",
            "Non-trainable params: 4,480\n",
            "_________________________________________________________________\n"
          ],
          "name": "stdout"
        }
      ]
    },
    {
      "cell_type": "markdown",
      "metadata": {
        "id": "2R1xzQ1fXoJc"
      },
      "source": [
        "The output shape of the predictions is (64, 97). The model predicts words of 64 characters and each character contains the probability of the 97 characters which we defined earlier."
      ]
    },
    {
      "cell_type": "markdown",
      "metadata": {
        "id": "hpdaToGuYD60"
      },
      "source": [
        "# CTC Function"
      ]
    },
    {
      "cell_type": "code",
      "metadata": {
        "id": "66apl_WEnlxT"
      },
      "source": [
        "def ctc_lambda_func(args):\n",
        "  y_pred, labels, input_length, label_length  = args\n",
        "\n",
        "  y_pred = y_pred[:, 2:, :]\n",
        "  return K.ctc_batch_cost(labels, y_pred, input_length, label_length)"
      ],
      "execution_count": 187,
      "outputs": []
    },
    {
      "cell_type": "code",
      "metadata": {
        "id": "MPqw96FEwkrE"
      },
      "source": [
        "labels = Input(name='the_labels', shape=[max_str_len], dtype='float32')\n",
        "input_length = Input(name='input_length', shape=[1], dtype='int64')\n",
        "label_length = Input(name='label_length', shape=[1], dtype='int64')\n",
        "\n",
        "ctc_loss = Lambda(ctc_lambda_func, output_shape=(1,), name='ctc')([y_pred, labels, input_length, label_length])\n",
        "\n",
        "model = Model(inputs=[input_data, labels, input_length, label_length], outputs=ctc_loss)"
      ],
      "execution_count": 203,
      "outputs": []
    },
    {
      "cell_type": "markdown",
      "metadata": {
        "id": "IR8o3uZpaWtl"
      },
      "source": [
        "# Training the Model"
      ]
    },
    {
      "cell_type": "markdown",
      "metadata": {
        "id": "J5ErQOa4uBIG"
      },
      "source": [
        "No of Epochs = 30\n",
        "\n",
        "Batch Size = 64"
      ]
    },
    {
      "cell_type": "code",
      "metadata": {
        "colab": {
          "base_uri": "https://localhost:8080/"
        },
        "id": "d_WLAD7zaV4A",
        "outputId": "ab522a2b-304b-4b66-e2a4-0529100f7a22"
      },
      "source": [
        "model.compile(loss={'ctc': lambda y_true, y_pred: y_pred}, optimizer=Adam(lr = 0.0001))\n",
        "\n",
        "model.fit(x=[X_train, y_train_pad, train_input_len, train_label_len], y=train_output, \n",
        "                validation_data=([X_valid, y_valid_pad, valid_input_len, valid_label_len], valid_output), \n",
        "                epochs=30, batch_size=64)"
      ],
      "execution_count": 189,
      "outputs": [
        {
          "output_type": "stream",
          "text": [
            "Epoch 1/30\n",
            "123/123 [==============================] - 45s 294ms/step - loss: 12.0377 - val_loss: 12.0577\n",
            "Epoch 2/30\n",
            "123/123 [==============================] - 33s 267ms/step - loss: 11.4097 - val_loss: 12.1992\n",
            "Epoch 3/30\n",
            "123/123 [==============================] - 33s 269ms/step - loss: 11.3207 - val_loss: 11.9505\n",
            "Epoch 4/30\n",
            "123/123 [==============================] - 33s 269ms/step - loss: 10.9875 - val_loss: 11.6868\n",
            "Epoch 5/30\n",
            "123/123 [==============================] - 33s 269ms/step - loss: 10.7551 - val_loss: 12.3373\n",
            "Epoch 6/30\n",
            "123/123 [==============================] - 33s 269ms/step - loss: 10.4488 - val_loss: 11.7416\n",
            "Epoch 7/30\n",
            "123/123 [==============================] - 33s 269ms/step - loss: 10.0349 - val_loss: 11.7600\n",
            "Epoch 8/30\n",
            "123/123 [==============================] - 33s 268ms/step - loss: 9.8133 - val_loss: 11.8245\n",
            "Epoch 9/30\n",
            "123/123 [==============================] - 33s 268ms/step - loss: 9.5409 - val_loss: 11.9427\n",
            "Epoch 10/30\n",
            "123/123 [==============================] - 33s 268ms/step - loss: 9.1427 - val_loss: 12.0692\n",
            "Epoch 11/30\n",
            "123/123 [==============================] - 33s 269ms/step - loss: 8.7846 - val_loss: 11.8937\n",
            "Epoch 12/30\n",
            "123/123 [==============================] - 33s 270ms/step - loss: 8.5172 - val_loss: 13.0108\n",
            "Epoch 13/30\n",
            "123/123 [==============================] - 33s 270ms/step - loss: 8.1717 - val_loss: 12.3211\n",
            "Epoch 14/30\n",
            "123/123 [==============================] - 33s 270ms/step - loss: 7.5502 - val_loss: 11.9918\n",
            "Epoch 15/30\n",
            "123/123 [==============================] - 33s 269ms/step - loss: 7.1895 - val_loss: 11.9702\n",
            "Epoch 16/30\n",
            "123/123 [==============================] - 33s 271ms/step - loss: 6.9249 - val_loss: 12.7671\n",
            "Epoch 17/30\n",
            "123/123 [==============================] - 33s 270ms/step - loss: 6.3915 - val_loss: 12.6315\n",
            "Epoch 18/30\n",
            "123/123 [==============================] - 33s 268ms/step - loss: 6.0930 - val_loss: 13.0671\n",
            "Epoch 19/30\n",
            "123/123 [==============================] - 33s 269ms/step - loss: 5.7235 - val_loss: 13.6430\n",
            "Epoch 20/30\n",
            "123/123 [==============================] - 33s 268ms/step - loss: 5.2976 - val_loss: 13.0855\n",
            "Epoch 21/30\n",
            "123/123 [==============================] - 33s 268ms/step - loss: 5.0651 - val_loss: 14.8042\n",
            "Epoch 22/30\n",
            "123/123 [==============================] - 33s 269ms/step - loss: 4.8453 - val_loss: 14.2438\n",
            "Epoch 23/30\n",
            "123/123 [==============================] - 33s 269ms/step - loss: 4.4588 - val_loss: 14.6388\n",
            "Epoch 24/30\n",
            "123/123 [==============================] - 33s 269ms/step - loss: 4.3312 - val_loss: 13.9576\n",
            "Epoch 25/30\n",
            "123/123 [==============================] - 33s 269ms/step - loss: 3.8376 - val_loss: 14.1501\n",
            "Epoch 26/30\n",
            "123/123 [==============================] - 33s 269ms/step - loss: 3.5950 - val_loss: 15.3902\n",
            "Epoch 27/30\n",
            "123/123 [==============================] - 33s 269ms/step - loss: 3.3755 - val_loss: 14.8977\n",
            "Epoch 28/30\n",
            "123/123 [==============================] - 33s 269ms/step - loss: 3.0267 - val_loss: 15.1764\n",
            "Epoch 29/30\n",
            "123/123 [==============================] - 33s 268ms/step - loss: 2.7555 - val_loss: 15.9264\n",
            "Epoch 30/30\n",
            "123/123 [==============================] - 33s 268ms/step - loss: 2.6439 - val_loss: 15.6402\n"
          ],
          "name": "stdout"
        }
      ]
    },
    {
      "cell_type": "code",
      "metadata": {
        "id": "doCIb5b1w1Cq"
      },
      "source": [
        "#save the model\n",
        "model_predict.save('/content/drive/MyDrive/Colab Notebooks/Handwritten Character Recognition/model.h5', overwrite=True)"
      ],
      "execution_count": 204,
      "outputs": []
    },
    {
      "cell_type": "markdown",
      "metadata": {
        "id": "mbhsLlEW_6i1"
      },
      "source": [
        "# Prediction and CTC Decode"
      ]
    },
    {
      "cell_type": "code",
      "metadata": {
        "id": "57T6wcsZ4_c0"
      },
      "source": [
        "preds = model_predict.predict(X_valid)\n",
        "\n",
        "decoded = K.get_value(K.ctc_decode(preds, input_length=np.ones(preds.shape[0])*preds.shape[1], greedy=True)[0][0])\n",
        "\n",
        "prediction = []\n",
        "for i in range(X_valid.shape[0]):\n",
        "  prediction.append(num_to_label(decoded[i]))"
      ],
      "execution_count": 190,
      "outputs": []
    },
    {
      "cell_type": "markdown",
      "metadata": {
        "id": "2TwloaIVBW3A"
      },
      "source": [
        "# Model Performance"
      ]
    },
    {
      "cell_type": "code",
      "metadata": {
        "colab": {
          "base_uri": "https://localhost:8080/"
        },
        "id": "451K-vupA0uE",
        "outputId": "9c2d91e3-f885-4291-9a3f-f8daf485e5b5"
      },
      "source": [
        "correct_char = 0\n",
        "total_char = 0\n",
        "correct = 0\n",
        "\n",
        "for i in range(y_valid.shape[0]):\n",
        "  #print(y_valid[i], prediction[i])\n",
        "  pr = prediction[i]\n",
        "  tr = y_valid[i]\n",
        "  total_char += len(tr)\n",
        "\n",
        "  for j in range(min(len(tr), len(pr))):\n",
        "    if tr[j] == pr[j]:\n",
        "      correct_char += 1\n",
        "\n",
        "  if pr == tr:\n",
        "    correct += 1\n",
        "\n",
        "print('Correct characters predicted: %.2f%%' %(correct_char*100/total_char))\n",
        "print('Correct words predicted: %.2f%%' %(correct*100/y_valid.shape[0]))"
      ],
      "execution_count": 191,
      "outputs": [
        {
          "output_type": "stream",
          "text": [
            "Correct characters predicted: 19.55%\n",
            "Correct words predicted: 22.57%\n"
          ],
          "name": "stdout"
        }
      ]
    },
    {
      "cell_type": "markdown",
      "metadata": {
        "id": "lYjBcOCik5xE"
      },
      "source": [
        "# Predicting a Test Image"
      ]
    },
    {
      "cell_type": "code",
      "metadata": {
        "colab": {
          "base_uri": "https://localhost:8080/",
          "height": 282
        },
        "id": "jjNty9XnC9ka",
        "outputId": "11ec7e0b-85bd-4c43-ba4e-04582359f5f5"
      },
      "source": [
        "test_img = cv2.imread('/content/words/n06/n06-092/n06-092-00-12.png', cv2.IMREAD_GRAYSCALE)\n",
        "plt.imshow(test_img, cmap='gray')\n",
        "plt.axis('off')\n",
        "test_img = preprocess('/content/words/n06/n06-092/n06-092-00-12.png', 256, 64)\n",
        "test_img = np.array(test_img).reshape(1, 256, 64, 1)\n",
        "pred = model_predict.predict(test_img)\n",
        "decoded = K.get_value(K.ctc_decode(pred, input_length=np.ones(pred.shape[0])*pred.shape[1], greedy=True)[0][0])\n",
        "print('Prediction:{}'.format(num_to_label(decoded[0])))\n",
        "print('==============')"
      ],
      "execution_count": 200,
      "outputs": [
        {
          "output_type": "stream",
          "text": [
            "Prediction:to\n",
            "==============\n"
          ],
          "name": "stdout"
        },
        {
          "output_type": "display_data",
          "data": {
            "image/png": "[encoded data removed]",
            "text/plain": [
              "<Figure size 432x288 with 1 Axes>"
            ]
          },
          "metadata": {
            "tags": [],
            "needs_background": "light"
          }
        }
      ]
    },
    {
      "cell_type": "markdown",
      "metadata": {
        "id": "0c0vR-_JuO0u"
      },
      "source": [
        "# Conclusion"
      ]
    },
    {
      "cell_type": "markdown",
      "metadata": {
        "id": "AqmohBlVuZYK"
      },
      "source": [
        "We have achieved 19.55% accuracy on Character level recognition and 22.57% on Word level recognition. The accuracy is low as we have used only a small portiong of the data (valid images of the first 10000 instances).\n",
        "\n",
        "The model can be imporved by:\n",
        "> - Using more training samples which will help the model to learn and generalise better\n",
        "> - Using regenerated images\n",
        "> - Cleaning the dataset eliminating the images which are not legible"
      ]
    }
  ]
}