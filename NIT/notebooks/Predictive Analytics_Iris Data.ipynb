{
 "cells": [
  {
   "cell_type": "code",
   "execution_count": 10,
   "metadata": {},
   "outputs": [],
   "source": [
    "#iris data\n",
    "\n",
    "#import pandas as pd\n",
    "#import numpy as np\n",
    "\n",
    "from sklearn.linear_model import LogisticRegression\n",
    "\n",
    "from sklearn.datasets import load_iris\n",
    "iris = load_iris()\n",
    "\n",
    "from sklearn.model_selection import cross_val_score\n",
    "slm = LogisticRegression(solver = \"liblinear\", multi_class = \"auto\")\n",
    "scores = cross_val_score(slm, iris.data, iris.target, cv = 5)\n",
    "\n",
    "accuracy = round(scores.mean(), 2)\n",
    "\n",
    "file = open(\"output/output.csv\", \"w\")\n",
    "file.write(str(accuracy))\n",
    "file.close()"
   ]
  },
  {
   "cell_type": "code",
   "execution_count": 34,
   "metadata": {},
   "outputs": [],
   "source": [
    "#IQ data\n",
    "import pandas as pd\n",
    "import numpy as np\n",
    "import scipy.stats as st\n",
    "from scipy.stats import ttest_1samp\n",
    "\n",
    "from numpy import loadtxt\n",
    "data = loadtxt(\"res/iqdata.csv\", delimiter = \",\")\n",
    "\n",
    "mean_data = round(np.mean(data), 2)\n",
    "std_data = round(np.std(data), 2)\n",
    "\n",
    "f = open(\"res/testcaseiq.txt\", \"r\")\n",
    "f.seek(0)\n",
    "\n",
    "num_of_testcases = int(f.readline().rstrip(\"\\n\"))\n",
    "\n",
    "import csv\n",
    "\n",
    "for tcn in range(num_of_testcases):\n",
    "    f2 = open(\"output/output\" + str(tcn+1) + \".csv\", mode = \"w\", newline = '')\n",
    "    out_list = [[mean_data],[std_data]]\n",
    "    lower_value = int(f.readline().rstrip('\\n'))\n",
    "    upper_value = int(f.readline().rstrip('\\n'))\n",
    "    if tcn == (num_of_testcases - 1):\n",
    "        samp_filename = f.readline()\n",
    "    else:\n",
    "        samp_filename = f.readline().rstrip('\\n')\n",
    "    \n",
    "    \n",
    "    z_low = (lower_value - mean_data)/std_data\n",
    "    z_upper = (upper_value - mean_data)/std_data\n",
    "    low_prob = st.norm.cdf(z_low)\n",
    "    upper_prob = st.norm.cdf(z_upper)\n",
    "    prob_dist = round((upper_prob - low_prob)*100, 3)\n",
    "    out_list.append([prob_dist])\n",
    "    \n",
    "    samp_data = loadtxt(\"res/\" + samp_filename + \".csv\", delimiter = \",\")\n",
    "    \n",
    "    stat, pval = ttest_1samp(samp_data, mean_data)\n",
    "    if pval<0.05:\n",
    "        hypo = \"Reject\"\n",
    "    else:\n",
    "        hypo = \"Accept\"\n",
    "    \n",
    "    out_list.append([hypo])\n",
    "    \n",
    "    with f2:\n",
    "        write = csv.writer(f2)\n",
    "        write.writerows(out_list)\n",
    "    f2.close()\n",
    "    \n",
    "    \n"
   ]
  },
  {
   "cell_type": "code",
   "execution_count": 3,
   "metadata": {},
   "outputs": [
    {
     "data": {
      "text/html": [
       "<div>\n",
       "<style scoped>\n",
       "    .dataframe tbody tr th:only-of-type {\n",
       "        vertical-align: middle;\n",
       "    }\n",
       "\n",
       "    .dataframe tbody tr th {\n",
       "        vertical-align: top;\n",
       "    }\n",
       "\n",
       "    .dataframe thead th {\n",
       "        text-align: right;\n",
       "    }\n",
       "</style>\n",
       "<table border=\"1\" class=\"dataframe\">\n",
       "  <thead>\n",
       "    <tr style=\"text-align: right;\">\n",
       "      <th></th>\n",
       "      <th>model</th>\n",
       "      <th>mpg</th>\n",
       "      <th>cyl</th>\n",
       "      <th>disp</th>\n",
       "      <th>hp</th>\n",
       "      <th>drat</th>\n",
       "      <th>wt</th>\n",
       "      <th>qsec</th>\n",
       "      <th>vs</th>\n",
       "      <th>am</th>\n",
       "      <th>gear</th>\n",
       "      <th>carb</th>\n",
       "    </tr>\n",
       "  </thead>\n",
       "  <tbody>\n",
       "    <tr>\n",
       "      <th>0</th>\n",
       "      <td>Mazda RX4</td>\n",
       "      <td>21.0</td>\n",
       "      <td>6</td>\n",
       "      <td>160.0</td>\n",
       "      <td>110</td>\n",
       "      <td>3.90</td>\n",
       "      <td>2.620</td>\n",
       "      <td>16.46</td>\n",
       "      <td>0</td>\n",
       "      <td>1</td>\n",
       "      <td>4</td>\n",
       "      <td>4</td>\n",
       "    </tr>\n",
       "    <tr>\n",
       "      <th>1</th>\n",
       "      <td>Mazda RX4 Wag</td>\n",
       "      <td>21.0</td>\n",
       "      <td>6</td>\n",
       "      <td>160.0</td>\n",
       "      <td>110</td>\n",
       "      <td>3.90</td>\n",
       "      <td>2.875</td>\n",
       "      <td>17.02</td>\n",
       "      <td>0</td>\n",
       "      <td>1</td>\n",
       "      <td>4</td>\n",
       "      <td>4</td>\n",
       "    </tr>\n",
       "    <tr>\n",
       "      <th>2</th>\n",
       "      <td>Datsun 710</td>\n",
       "      <td>22.8</td>\n",
       "      <td>4</td>\n",
       "      <td>108.0</td>\n",
       "      <td>93</td>\n",
       "      <td>3.85</td>\n",
       "      <td>2.320</td>\n",
       "      <td>18.61</td>\n",
       "      <td>1</td>\n",
       "      <td>1</td>\n",
       "      <td>4</td>\n",
       "      <td>1</td>\n",
       "    </tr>\n",
       "    <tr>\n",
       "      <th>3</th>\n",
       "      <td>Hornet 4 Drive</td>\n",
       "      <td>21.4</td>\n",
       "      <td>6</td>\n",
       "      <td>258.0</td>\n",
       "      <td>110</td>\n",
       "      <td>3.08</td>\n",
       "      <td>3.215</td>\n",
       "      <td>19.44</td>\n",
       "      <td>1</td>\n",
       "      <td>0</td>\n",
       "      <td>3</td>\n",
       "      <td>1</td>\n",
       "    </tr>\n",
       "    <tr>\n",
       "      <th>4</th>\n",
       "      <td>Hornet Sportabout</td>\n",
       "      <td>18.7</td>\n",
       "      <td>8</td>\n",
       "      <td>360.0</td>\n",
       "      <td>175</td>\n",
       "      <td>3.15</td>\n",
       "      <td>3.440</td>\n",
       "      <td>17.02</td>\n",
       "      <td>0</td>\n",
       "      <td>0</td>\n",
       "      <td>3</td>\n",
       "      <td>2</td>\n",
       "    </tr>\n",
       "  </tbody>\n",
       "</table>\n",
       "</div>"
      ],
      "text/plain": [
       "               model   mpg  cyl   disp   hp  drat     wt   qsec  vs  am  gear  \\\n",
       "0          Mazda RX4  21.0    6  160.0  110  3.90  2.620  16.46   0   1     4   \n",
       "1      Mazda RX4 Wag  21.0    6  160.0  110  3.90  2.875  17.02   0   1     4   \n",
       "2         Datsun 710  22.8    4  108.0   93  3.85  2.320  18.61   1   1     4   \n",
       "3     Hornet 4 Drive  21.4    6  258.0  110  3.08  3.215  19.44   1   0     3   \n",
       "4  Hornet Sportabout  18.7    8  360.0  175  3.15  3.440  17.02   0   0     3   \n",
       "\n",
       "   carb  \n",
       "0     4  \n",
       "1     4  \n",
       "2     1  \n",
       "3     1  \n",
       "4     2  "
      ]
     },
     "execution_count": 3,
     "metadata": {},
     "output_type": "execute_result"
    }
   ],
   "source": [
    "#cars data\n",
    "import pandas as pd\n",
    "import numpy as np\n",
    "from sklearn.linear_model import Ridge\n",
    "from sklearn.linear_model import Lasso\n",
    "from sklearn.model_selection import cross_val_score\n",
    "\n",
    "cars_data = pd.read_csv(\"res/mtcars.csv\")\n",
    "#cars_data.head()\n"
   ]
  },
  {
   "cell_type": "code",
   "execution_count": 4,
   "metadata": {},
   "outputs": [
    {
     "data": {
      "text/plain": [
       "(32, 12)"
      ]
     },
     "execution_count": 4,
     "metadata": {},
     "output_type": "execute_result"
    }
   ],
   "source": [
    "#cars_data.shape"
   ]
  },
  {
   "cell_type": "code",
   "execution_count": 17,
   "metadata": {},
   "outputs": [
    {
     "data": {
      "text/plain": [
       "array([[  6.   , 160.   , 110.   ,   3.9  ,   2.62 ,  16.46 ,   0.   ,\n",
       "          1.   ,   4.   ,   4.   ],\n",
       "       [  6.   , 160.   , 110.   ,   3.9  ,   2.875,  17.02 ,   0.   ,\n",
       "          1.   ,   4.   ,   4.   ],\n",
       "       [  4.   , 108.   ,  93.   ,   3.85 ,   2.32 ,  18.61 ,   1.   ,\n",
       "          1.   ,   4.   ,   1.   ],\n",
       "       [  6.   , 258.   , 110.   ,   3.08 ,   3.215,  19.44 ,   1.   ,\n",
       "          0.   ,   3.   ,   1.   ],\n",
       "       [  8.   , 360.   , 175.   ,   3.15 ,   3.44 ,  17.02 ,   0.   ,\n",
       "          0.   ,   3.   ,   2.   ],\n",
       "       [  6.   , 225.   , 105.   ,   2.76 ,   3.46 ,  20.22 ,   1.   ,\n",
       "          0.   ,   3.   ,   1.   ],\n",
       "       [  8.   , 360.   , 245.   ,   3.21 ,   3.57 ,  15.84 ,   0.   ,\n",
       "          0.   ,   3.   ,   4.   ],\n",
       "       [  4.   , 146.7  ,  62.   ,   3.69 ,   3.19 ,  20.   ,   1.   ,\n",
       "          0.   ,   4.   ,   2.   ],\n",
       "       [  4.   , 140.8  ,  95.   ,   3.92 ,   3.15 ,  22.9  ,   1.   ,\n",
       "          0.   ,   4.   ,   2.   ],\n",
       "       [  6.   , 167.6  , 123.   ,   3.92 ,   3.44 ,  18.3  ,   1.   ,\n",
       "          0.   ,   4.   ,   4.   ],\n",
       "       [  6.   , 167.6  , 123.   ,   3.92 ,   3.44 ,  18.9  ,   1.   ,\n",
       "          0.   ,   4.   ,   4.   ],\n",
       "       [  8.   , 275.8  , 180.   ,   3.07 ,   4.07 ,  17.4  ,   0.   ,\n",
       "          0.   ,   3.   ,   3.   ],\n",
       "       [  8.   , 275.8  , 180.   ,   3.07 ,   3.73 ,  17.6  ,   0.   ,\n",
       "          0.   ,   3.   ,   3.   ],\n",
       "       [  8.   , 275.8  , 180.   ,   3.07 ,   3.78 ,  18.   ,   0.   ,\n",
       "          0.   ,   3.   ,   3.   ],\n",
       "       [  8.   , 472.   , 205.   ,   2.93 ,   5.25 ,  17.98 ,   0.   ,\n",
       "          0.   ,   3.   ,   4.   ],\n",
       "       [  8.   , 460.   , 215.   ,   3.   ,   5.424,  17.82 ,   0.   ,\n",
       "          0.   ,   3.   ,   4.   ],\n",
       "       [  8.   , 440.   , 230.   ,   3.23 ,   5.345,  17.42 ,   0.   ,\n",
       "          0.   ,   3.   ,   4.   ],\n",
       "       [  4.   ,  78.7  ,  66.   ,   4.08 ,   2.2  ,  19.47 ,   1.   ,\n",
       "          1.   ,   4.   ,   1.   ],\n",
       "       [  4.   ,  75.7  ,  52.   ,   4.93 ,   1.615,  18.52 ,   1.   ,\n",
       "          1.   ,   4.   ,   2.   ],\n",
       "       [  4.   ,  71.1  ,  65.   ,   4.22 ,   1.835,  19.9  ,   1.   ,\n",
       "          1.   ,   4.   ,   1.   ],\n",
       "       [  4.   , 120.1  ,  97.   ,   3.7  ,   2.465,  20.01 ,   1.   ,\n",
       "          0.   ,   3.   ,   1.   ],\n",
       "       [  8.   , 318.   , 150.   ,   2.76 ,   3.52 ,  16.87 ,   0.   ,\n",
       "          0.   ,   3.   ,   2.   ],\n",
       "       [  8.   , 304.   , 150.   ,   3.15 ,   3.435,  17.3  ,   0.   ,\n",
       "          0.   ,   3.   ,   2.   ],\n",
       "       [  8.   , 350.   , 245.   ,   3.73 ,   3.84 ,  15.41 ,   0.   ,\n",
       "          0.   ,   3.   ,   4.   ],\n",
       "       [  8.   , 400.   , 175.   ,   3.08 ,   3.845,  17.05 ,   0.   ,\n",
       "          0.   ,   3.   ,   2.   ],\n",
       "       [  4.   ,  79.   ,  66.   ,   4.08 ,   1.935,  18.9  ,   1.   ,\n",
       "          1.   ,   4.   ,   1.   ],\n",
       "       [  4.   , 120.3  ,  91.   ,   4.43 ,   2.14 ,  16.7  ,   0.   ,\n",
       "          1.   ,   5.   ,   2.   ],\n",
       "       [  4.   ,  95.1  , 113.   ,   3.77 ,   1.513,  16.9  ,   1.   ,\n",
       "          1.   ,   5.   ,   2.   ],\n",
       "       [  8.   , 351.   , 264.   ,   4.22 ,   3.17 ,  14.5  ,   0.   ,\n",
       "          1.   ,   5.   ,   4.   ],\n",
       "       [  6.   , 145.   , 175.   ,   3.62 ,   2.77 ,  15.5  ,   0.   ,\n",
       "          1.   ,   5.   ,   6.   ],\n",
       "       [  8.   , 301.   , 335.   ,   3.54 ,   3.57 ,  14.6  ,   0.   ,\n",
       "          1.   ,   5.   ,   8.   ],\n",
       "       [  4.   , 121.   , 109.   ,   4.11 ,   2.78 ,  18.6  ,   1.   ,\n",
       "          1.   ,   4.   ,   2.   ]])"
      ]
     },
     "execution_count": 17,
     "metadata": {},
     "output_type": "execute_result"
    }
   ],
   "source": [
    "x = cars_data.iloc[:,2:]\n",
    "x = pd.DataFrame(x).to_numpy()\n",
    "x"
   ]
  },
  {
   "cell_type": "code",
   "execution_count": 9,
   "metadata": {},
   "outputs": [
    {
     "data": {
      "text/plain": [
       "(32, 10)"
      ]
     },
     "execution_count": 9,
     "metadata": {},
     "output_type": "execute_result"
    }
   ],
   "source": [
    "#x.shape"
   ]
  },
  {
   "cell_type": "code",
   "execution_count": 12,
   "metadata": {},
   "outputs": [
    {
     "data": {
      "text/plain": [
       "0    21.0\n",
       "1    21.0\n",
       "2    22.8\n",
       "3    21.4\n",
       "4    18.7\n",
       "Name: mpg, dtype: float64"
      ]
     },
     "execution_count": 12,
     "metadata": {},
     "output_type": "execute_result"
    }
   ],
   "source": [
    "y = cars_data['mpg']\n",
    "#y.head()"
   ]
  },
  {
   "cell_type": "code",
   "execution_count": 13,
   "metadata": {},
   "outputs": [
    {
     "data": {
      "text/plain": [
       "(32,)"
      ]
     },
     "execution_count": 13,
     "metadata": {},
     "output_type": "execute_result"
    }
   ],
   "source": [
    "#y.shape"
   ]
  },
  {
   "cell_type": "code",
   "execution_count": 18,
   "metadata": {},
   "outputs": [
    {
     "data": {
      "text/plain": [
       "array([-11.92958659,   0.76343372,  -1.48464671,  -5.60897544,\n",
       "        -1.68621967, -23.0139344 ,  -0.12390213,   0.86870249,\n",
       "         0.54912748,  -0.71457497])"
      ]
     },
     "execution_count": 18,
     "metadata": {},
     "output_type": "execute_result"
    }
   ],
   "source": [
    "clfr = Ridge(alpha = 1.0)\n",
    "scores_r = cross_val_score(clfr, x, y, cv = 10)\n",
    "scores_r"
   ]
  },
  {
   "cell_type": "code",
   "execution_count": 19,
   "metadata": {},
   "outputs": [
    {
     "data": {
      "text/plain": [
       "array([ -8.42901101,   0.56320179,  -2.38996515,  -4.60600589,\n",
       "         0.06686483, -25.27757952,  -0.12981153,   0.66802551,\n",
       "         0.58391805,   0.08680842])"
      ]
     },
     "execution_count": 19,
     "metadata": {},
     "output_type": "execute_result"
    }
   ],
   "source": [
    "clfl = Lasso(alpha = 1.0)\n",
    "scores_l = cross_val_score(clfl, x, y, cv = 10)\n",
    "scores_l"
   ]
  },
  {
   "cell_type": "code",
   "execution_count": 21,
   "metadata": {},
   "outputs": [
    {
     "data": {
      "text/plain": [
       "0.35"
      ]
     },
     "execution_count": 21,
     "metadata": {},
     "output_type": "execute_result"
    }
   ],
   "source": [
    "result = round((np.mean(scores_l) - np.mean(scores_r)), 2)\n",
    "#result"
   ]
  },
  {
   "cell_type": "code",
   "execution_count": 25,
   "metadata": {},
   "outputs": [],
   "source": [
    "import csv\n",
    "out_file = open(\"output/output.csv\", mode = 'w', newline = '')\n",
    "out_file.write(str(result))\n",
    "out_file.close()"
   ]
  },
  {
   "cell_type": "code",
   "execution_count": 48,
   "metadata": {},
   "outputs": [
    {
     "data": {
      "text/html": [
       "<div>\n",
       "<style scoped>\n",
       "    .dataframe tbody tr th:only-of-type {\n",
       "        vertical-align: middle;\n",
       "    }\n",
       "\n",
       "    .dataframe tbody tr th {\n",
       "        vertical-align: top;\n",
       "    }\n",
       "\n",
       "    .dataframe thead th {\n",
       "        text-align: right;\n",
       "    }\n",
       "</style>\n",
       "<table border=\"1\" class=\"dataframe\">\n",
       "  <thead>\n",
       "    <tr style=\"text-align: right;\">\n",
       "      <th></th>\n",
       "      <th>Cst_Cnt</th>\n",
       "      <th>Btl_Cnt</th>\n",
       "      <th>Sta_ID</th>\n",
       "      <th>Depth_ID</th>\n",
       "      <th>Depthm</th>\n",
       "      <th>T_degC</th>\n",
       "      <th>Salnty</th>\n",
       "    </tr>\n",
       "  </thead>\n",
       "  <tbody>\n",
       "    <tr>\n",
       "      <th>0</th>\n",
       "      <td>1</td>\n",
       "      <td>1</td>\n",
       "      <td>054.0 056.0</td>\n",
       "      <td>19-4903CR-HY-060-0930-05400560-0000A-3</td>\n",
       "      <td>0</td>\n",
       "      <td>10.50</td>\n",
       "      <td>33.440</td>\n",
       "    </tr>\n",
       "    <tr>\n",
       "      <th>1</th>\n",
       "      <td>1</td>\n",
       "      <td>16</td>\n",
       "      <td>054.0 056.0</td>\n",
       "      <td>19-4903CR-HY-060-0930-05400560-0152A-3</td>\n",
       "      <td>152</td>\n",
       "      <td>8.71</td>\n",
       "      <td>33.860</td>\n",
       "    </tr>\n",
       "    <tr>\n",
       "      <th>2</th>\n",
       "      <td>2</td>\n",
       "      <td>31</td>\n",
       "      <td>052.0 075.0</td>\n",
       "      <td>19-4903CR-HY-060-2112-05200750-0010A-3</td>\n",
       "      <td>10</td>\n",
       "      <td>9.89</td>\n",
       "      <td>32.940</td>\n",
       "    </tr>\n",
       "    <tr>\n",
       "      <th>3</th>\n",
       "      <td>2</td>\n",
       "      <td>46</td>\n",
       "      <td>052.0 075.0</td>\n",
       "      <td>19-4903CR-HY-060-2112-05200750-0250A-7</td>\n",
       "      <td>250</td>\n",
       "      <td>6.32</td>\n",
       "      <td>33.943</td>\n",
       "    </tr>\n",
       "    <tr>\n",
       "      <th>4</th>\n",
       "      <td>2</td>\n",
       "      <td>61</td>\n",
       "      <td>052.0 075.0</td>\n",
       "      <td>19-4903CR-HY-060-2112-05200750-1203A-3</td>\n",
       "      <td>1203</td>\n",
       "      <td>3.14</td>\n",
       "      <td>34.430</td>\n",
       "    </tr>\n",
       "  </tbody>\n",
       "</table>\n",
       "</div>"
      ],
      "text/plain": [
       "   Cst_Cnt  Btl_Cnt       Sta_ID                                Depth_ID  \\\n",
       "0        1        1  054.0 056.0  19-4903CR-HY-060-0930-05400560-0000A-3   \n",
       "1        1       16  054.0 056.0  19-4903CR-HY-060-0930-05400560-0152A-3   \n",
       "2        2       31  052.0 075.0  19-4903CR-HY-060-2112-05200750-0010A-3   \n",
       "3        2       46  052.0 075.0  19-4903CR-HY-060-2112-05200750-0250A-7   \n",
       "4        2       61  052.0 075.0  19-4903CR-HY-060-2112-05200750-1203A-3   \n",
       "\n",
       "   Depthm  T_degC  Salnty  \n",
       "0       0   10.50  33.440  \n",
       "1     152    8.71  33.860  \n",
       "2      10    9.89  32.940  \n",
       "3     250    6.32  33.943  \n",
       "4    1203    3.14  34.430  "
      ]
     },
     "execution_count": 48,
     "metadata": {},
     "output_type": "execute_result"
    }
   ],
   "source": [
    "#salinity question\n",
    "import pandas as pd\n",
    "import numpy as np\n",
    "\n",
    "from sklearn.linear_model import LinearRegression\n",
    "from sklearn.metrics import mean_squared_error, r2_score\n",
    "from sklearn.model_selection import train_test_split\n",
    "from sklearn.model_selection import KFold\n",
    "from sklearn.model_selection import cross_validate\n",
    "from sklearn.metrics import recall_score\n",
    "\n",
    "sal_data = pd.read_csv(\"res/bottle.csv\")\n",
    "sal_data.head()\n"
   ]
  },
  {
   "cell_type": "code",
   "execution_count": 7,
   "metadata": {},
   "outputs": [
    {
     "data": {
      "text/html": [
       "<div>\n",
       "<style scoped>\n",
       "    .dataframe tbody tr th:only-of-type {\n",
       "        vertical-align: middle;\n",
       "    }\n",
       "\n",
       "    .dataframe tbody tr th {\n",
       "        vertical-align: top;\n",
       "    }\n",
       "\n",
       "    .dataframe thead th {\n",
       "        text-align: right;\n",
       "    }\n",
       "</style>\n",
       "<table border=\"1\" class=\"dataframe\">\n",
       "  <thead>\n",
       "    <tr style=\"text-align: right;\">\n",
       "      <th></th>\n",
       "      <th>T_degC</th>\n",
       "      <th>Salnty</th>\n",
       "    </tr>\n",
       "  </thead>\n",
       "  <tbody>\n",
       "    <tr>\n",
       "      <th>0</th>\n",
       "      <td>10.50</td>\n",
       "      <td>33.440</td>\n",
       "    </tr>\n",
       "    <tr>\n",
       "      <th>1</th>\n",
       "      <td>8.71</td>\n",
       "      <td>33.860</td>\n",
       "    </tr>\n",
       "    <tr>\n",
       "      <th>2</th>\n",
       "      <td>9.89</td>\n",
       "      <td>32.940</td>\n",
       "    </tr>\n",
       "    <tr>\n",
       "      <th>3</th>\n",
       "      <td>6.32</td>\n",
       "      <td>33.943</td>\n",
       "    </tr>\n",
       "    <tr>\n",
       "      <th>4</th>\n",
       "      <td>3.14</td>\n",
       "      <td>34.430</td>\n",
       "    </tr>\n",
       "  </tbody>\n",
       "</table>\n",
       "</div>"
      ],
      "text/plain": [
       "   T_degC  Salnty\n",
       "0   10.50  33.440\n",
       "1    8.71  33.860\n",
       "2    9.89  32.940\n",
       "3    6.32  33.943\n",
       "4    3.14  34.430"
      ]
     },
     "execution_count": 7,
     "metadata": {},
     "output_type": "execute_result"
    }
   ],
   "source": [
    "sal_sample = sal_data.iloc[:1000, 5:]\n",
    "#sal_sample.head()\n",
    "#sal_sample.shape"
   ]
  },
  {
   "cell_type": "code",
   "execution_count": 11,
   "metadata": {},
   "outputs": [
    {
     "data": {
      "text/plain": [
       "T_degC     5\n",
       "Salnty    19\n",
       "dtype: int64"
      ]
     },
     "execution_count": 11,
     "metadata": {},
     "output_type": "execute_result"
    }
   ],
   "source": [
    "#sal_sample.isnull().sum()"
   ]
  },
  {
   "cell_type": "code",
   "execution_count": 15,
   "metadata": {},
   "outputs": [
    {
     "data": {
      "text/plain": [
       "T_degC    0\n",
       "Salnty    0\n",
       "dtype: int64"
      ]
     },
     "execution_count": 15,
     "metadata": {},
     "output_type": "execute_result"
    }
   ],
   "source": [
    "sal_sample['T_degC'].replace(to_replace = np.NaN, value = sal_sample['T_degC'].mean(), inplace = True)\n",
    "sal_sample['Salnty'].replace(to_replace = np.NaN, value = sal_sample['Salnty'].mean(), inplace = True)\n",
    "#sal_sample.isnull().sum()"
   ]
  },
  {
   "cell_type": "code",
   "execution_count": 98,
   "metadata": {},
   "outputs": [],
   "source": [
    "X = sal_sample['Salnty']\n",
    "Y = sal_sample['T_degC']\n",
    "\n",
    "X = X.values.reshape(1000,1)\n",
    "\n",
    "X_train, X_test, y_train, y_test = train_test_split(X, Y, test_size = 0.3, random_state = 1)\n",
    "X_train = X_train.reshape(700,1)\n",
    "X_test = X_test.reshape(300,1)\n",
    "train_rows = X_train.shape[0]\n",
    "test_rows = X_test.shape[0]\n",
    "#print(train_rows, test_rows)\n",
    "#X_test.shape"
   ]
  },
  {
   "cell_type": "code",
   "execution_count": 94,
   "metadata": {},
   "outputs": [],
   "source": [
    "slm = LinearRegression()\n",
    "slm.fit(X_train, y_train)\n",
    "coeff = [[round(slm.coef_[0], 3)]]\n",
    "intc = [round(slm.intercept_,3)]"
   ]
  },
  {
   "cell_type": "code",
   "execution_count": 95,
   "metadata": {},
   "outputs": [
    {
     "name": "stdout",
     "output_type": "stream",
     "text": [
      "11.685 0.305\n"
     ]
    }
   ],
   "source": [
    "predicted = slm.predict(X_test)\n",
    "mse = round(mean_squared_error(y_test, predicted),3)\n",
    "rsquare = round(r2_score(y_test, predicted),3)\n",
    "#print(mse, rsquare)"
   ]
  },
  {
   "cell_type": "code",
   "execution_count": 96,
   "metadata": {},
   "outputs": [
    {
     "data": {
      "text/plain": [
       "3.267"
      ]
     },
     "execution_count": 96,
     "metadata": {},
     "output_type": "execute_result"
    }
   ],
   "source": [
    "k_fold = KFold(n_splits = 5, random_state = 5)\n",
    "scoring = ['neg_mean_squared_error']\n",
    "scores = cross_validate(slm, X, Y, cv = 5, scoring = scoring)\n",
    "#print(sorted(scores.keys()))\n",
    "rmse = np.sqrt((-1*scores['test_neg_mean_squared_error']))\n",
    "#print(scores['test_neg_mean_squared_error'])\n",
    "rmse_mean = round(np.mean(rmse),3)\n",
    "#rmse_mean"
   ]
  },
  {
   "cell_type": "code",
   "execution_count": 97,
   "metadata": {},
   "outputs": [],
   "source": [
    "out_list1 = [[train_rows],[test_rows],[coeff],[intc]]\n",
    "out_list2 = [[mse],[rsquare],[rmse_mean]]\n",
    "\n",
    "import csv\n",
    "f1 = open(\"output/output1.csv\", mode = 'w', newline = '')\n",
    "with f1:\n",
    "    write = csv.writer(f1)\n",
    "    write.writerows(out_list1)\n",
    "f1.close()\n",
    "\n",
    "f2 = open(\"output/output2.csv\", mode = 'w', newline = '')\n",
    "with f2:\n",
    "    write = csv.writer(f2)\n",
    "    write.writerows(out_list2)\n",
    "f2.close()\n"
   ]
  },
  {
   "cell_type": "code",
   "execution_count": null,
   "metadata": {},
   "outputs": [],
   "source": []
  }
 ],
 "metadata": {
  "kernelspec": {
   "display_name": "Python 3",
   "language": "python",
   "name": "python3"
  },
  "language_info": {
   "codemirror_mode": {
    "name": "ipython",
    "version": 3
   },
   "file_extension": ".py",
   "mimetype": "text/x-python",
   "name": "python",
   "nbconvert_exporter": "python",
   "pygments_lexer": "ipython3",
   "version": "3.7.3"
  }
 },
 "nbformat": 4,
 "nbformat_minor": 2
}
