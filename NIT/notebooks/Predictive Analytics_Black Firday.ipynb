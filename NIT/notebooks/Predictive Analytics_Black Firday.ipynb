{
 "cells": [
  {
   "cell_type": "markdown",
   "metadata": {},
   "source": [
    "# Q1"
   ]
  },
  {
   "cell_type": "code",
   "execution_count": 1,
   "metadata": {},
   "outputs": [],
   "source": [
    "import pandas as pd"
   ]
  },
  {
   "cell_type": "code",
   "execution_count": 2,
   "metadata": {},
   "outputs": [
    {
     "data": {
      "text/html": [
       "<div>\n",
       "<style scoped>\n",
       "    .dataframe tbody tr th:only-of-type {\n",
       "        vertical-align: middle;\n",
       "    }\n",
       "\n",
       "    .dataframe tbody tr th {\n",
       "        vertical-align: top;\n",
       "    }\n",
       "\n",
       "    .dataframe thead th {\n",
       "        text-align: right;\n",
       "    }\n",
       "</style>\n",
       "<table border=\"1\" class=\"dataframe\">\n",
       "  <thead>\n",
       "    <tr style=\"text-align: right;\">\n",
       "      <th></th>\n",
       "      <th>User_ID</th>\n",
       "      <th>Gender</th>\n",
       "      <th>Age</th>\n",
       "      <th>Occupation</th>\n",
       "      <th>City_Category</th>\n",
       "      <th>Stay_In_Current_City_Years</th>\n",
       "      <th>Marital_Status</th>\n",
       "      <th>Purchase</th>\n",
       "    </tr>\n",
       "  </thead>\n",
       "  <tbody>\n",
       "    <tr>\n",
       "      <th>0</th>\n",
       "      <td>1000001</td>\n",
       "      <td>F</td>\n",
       "      <td>0-17</td>\n",
       "      <td>10.0</td>\n",
       "      <td>A</td>\n",
       "      <td>2</td>\n",
       "      <td>0</td>\n",
       "      <td>8370</td>\n",
       "    </tr>\n",
       "    <tr>\n",
       "      <th>1</th>\n",
       "      <td>1000001</td>\n",
       "      <td>F</td>\n",
       "      <td>0-17</td>\n",
       "      <td>10.0</td>\n",
       "      <td>A</td>\n",
       "      <td>2</td>\n",
       "      <td>0</td>\n",
       "      <td>15200</td>\n",
       "    </tr>\n",
       "    <tr>\n",
       "      <th>2</th>\n",
       "      <td>1000001</td>\n",
       "      <td>F</td>\n",
       "      <td>0-17</td>\n",
       "      <td>10.0</td>\n",
       "      <td>A</td>\n",
       "      <td>2</td>\n",
       "      <td>0</td>\n",
       "      <td>1422</td>\n",
       "    </tr>\n",
       "    <tr>\n",
       "      <th>3</th>\n",
       "      <td>1000001</td>\n",
       "      <td>F</td>\n",
       "      <td>0-17</td>\n",
       "      <td>10.0</td>\n",
       "      <td>A</td>\n",
       "      <td>2</td>\n",
       "      <td>0</td>\n",
       "      <td>1057</td>\n",
       "    </tr>\n",
       "    <tr>\n",
       "      <th>4</th>\n",
       "      <td>1000003</td>\n",
       "      <td>M</td>\n",
       "      <td>26-35</td>\n",
       "      <td>15.0</td>\n",
       "      <td>A</td>\n",
       "      <td>3</td>\n",
       "      <td>0</td>\n",
       "      <td>15227</td>\n",
       "    </tr>\n",
       "  </tbody>\n",
       "</table>\n",
       "</div>"
      ],
      "text/plain": [
       "   User_ID Gender    Age  Occupation City_Category Stay_In_Current_City_Years  \\\n",
       "0  1000001      F   0-17        10.0             A                          2   \n",
       "1  1000001      F   0-17        10.0             A                          2   \n",
       "2  1000001      F   0-17        10.0             A                          2   \n",
       "3  1000001      F   0-17        10.0             A                          2   \n",
       "4  1000003      M  26-35        15.0             A                          3   \n",
       "\n",
       "   Marital_Status  Purchase  \n",
       "0               0      8370  \n",
       "1               0     15200  \n",
       "2               0      1422  \n",
       "3               0      1057  \n",
       "4               0     15227  "
      ]
     },
     "execution_count": 2,
     "metadata": {},
     "output_type": "execute_result"
    }
   ],
   "source": [
    "df = pd.read_csv(\"res/blackfriday.csv\")\n",
    "df.head()"
   ]
  },
  {
   "cell_type": "code",
   "execution_count": 81,
   "metadata": {},
   "outputs": [
    {
     "data": {
      "text/plain": [
       "[[2], ['Occupation'], ['Stay_In_Current_City_Years']]"
      ]
     },
     "execution_count": 81,
     "metadata": {},
     "output_type": "execute_result"
    }
   ],
   "source": [
    "nan_col = df.columns[df.isnull().any()]\n",
    "nan_colcount = len(nan_col)\n",
    "out_list1 = [[nan_colcount]]\n",
    "for i in range(len(nan_col)):\n",
    "    out_list1.append([nan_col[i]])\n",
    "out_list1\n"
   ]
  },
  {
   "cell_type": "code",
   "execution_count": 9,
   "metadata": {},
   "outputs": [
    {
     "name": "stdout",
     "output_type": "stream",
     "text": [
      "2\n",
      "0\n",
      "Occupation\n",
      "1\n",
      "Stay_In_Current_City_Years\n"
     ]
    }
   ],
   "source": [
    "name_columns_null = df.columns[df.isnull().any()]\n",
    "print(len(name_columns_null))\n",
    "for i in range(len(name_columns_null)):\n",
    "    print(i)\n",
    "    print(name_columns_null[i])"
   ]
  },
  {
   "cell_type": "code",
   "execution_count": 82,
   "metadata": {},
   "outputs": [],
   "source": [
    "import csv\n",
    "file = open('output/output.csv', mode = 'w', newline = '')\n",
    "with file:\n",
    "    write = csv.writer(file)\n",
    "    write.writerows(out_list1)\n",
    "        "
   ]
  },
  {
   "cell_type": "code",
   "execution_count": null,
   "metadata": {},
   "outputs": [],
   "source": [
    "#ques1 final code for Hackerearth\n",
    "import pandas as pd\n",
    "import numpy as np\n",
    "import sys\n",
    "import csv\n",
    "sys.path.append('../')\n",
    "\n",
    "# I\tA. Load data\n",
    "df = pd.read_csv(\"res/blackfriday.csv\")\n",
    "\n",
    "def solution():\n",
    "    nan_col = df.columns[df.isnull().any()]\n",
    "    nan_colcount = len(nan_col)\n",
    "    out_list1 = [[nan_colcount]]\n",
    "    for i in range(len(nan_col)):\n",
    "        out_list1.append([nan_col[i]])\n",
    "        \n",
    "    import csv\n",
    "    file = open('output/output.csv', mode = 'w', newline = '')\n",
    "    with file:\n",
    "        write = csv.writer(file)\n",
    "        write.writerows(out_list1)"
   ]
  },
  {
   "cell_type": "markdown",
   "metadata": {},
   "source": [
    "# Q2"
   ]
  },
  {
   "cell_type": "code",
   "execution_count": 1,
   "metadata": {},
   "outputs": [],
   "source": [
    "import pandas as pd"
   ]
  },
  {
   "cell_type": "code",
   "execution_count": 2,
   "metadata": {},
   "outputs": [
    {
     "data": {
      "text/html": [
       "<div>\n",
       "<style scoped>\n",
       "    .dataframe tbody tr th:only-of-type {\n",
       "        vertical-align: middle;\n",
       "    }\n",
       "\n",
       "    .dataframe tbody tr th {\n",
       "        vertical-align: top;\n",
       "    }\n",
       "\n",
       "    .dataframe thead th {\n",
       "        text-align: right;\n",
       "    }\n",
       "</style>\n",
       "<table border=\"1\" class=\"dataframe\">\n",
       "  <thead>\n",
       "    <tr style=\"text-align: right;\">\n",
       "      <th></th>\n",
       "      <th>User_ID</th>\n",
       "      <th>Gender</th>\n",
       "      <th>Age</th>\n",
       "      <th>Occupation</th>\n",
       "      <th>City_Category</th>\n",
       "      <th>Stay_In_Current_City_Years</th>\n",
       "      <th>Marital_Status</th>\n",
       "      <th>Purchase</th>\n",
       "    </tr>\n",
       "  </thead>\n",
       "  <tbody>\n",
       "    <tr>\n",
       "      <th>0</th>\n",
       "      <td>1000001</td>\n",
       "      <td>F</td>\n",
       "      <td>0-17</td>\n",
       "      <td>10.0</td>\n",
       "      <td>A</td>\n",
       "      <td>2</td>\n",
       "      <td>0</td>\n",
       "      <td>8370</td>\n",
       "    </tr>\n",
       "    <tr>\n",
       "      <th>1</th>\n",
       "      <td>1000001</td>\n",
       "      <td>F</td>\n",
       "      <td>0-17</td>\n",
       "      <td>10.0</td>\n",
       "      <td>A</td>\n",
       "      <td>2</td>\n",
       "      <td>0</td>\n",
       "      <td>15200</td>\n",
       "    </tr>\n",
       "    <tr>\n",
       "      <th>2</th>\n",
       "      <td>1000001</td>\n",
       "      <td>F</td>\n",
       "      <td>0-17</td>\n",
       "      <td>10.0</td>\n",
       "      <td>A</td>\n",
       "      <td>2</td>\n",
       "      <td>0</td>\n",
       "      <td>1422</td>\n",
       "    </tr>\n",
       "    <tr>\n",
       "      <th>3</th>\n",
       "      <td>1000001</td>\n",
       "      <td>F</td>\n",
       "      <td>0-17</td>\n",
       "      <td>10.0</td>\n",
       "      <td>A</td>\n",
       "      <td>2</td>\n",
       "      <td>0</td>\n",
       "      <td>1057</td>\n",
       "    </tr>\n",
       "    <tr>\n",
       "      <th>4</th>\n",
       "      <td>1000003</td>\n",
       "      <td>M</td>\n",
       "      <td>26-35</td>\n",
       "      <td>15.0</td>\n",
       "      <td>A</td>\n",
       "      <td>3</td>\n",
       "      <td>0</td>\n",
       "      <td>15227</td>\n",
       "    </tr>\n",
       "  </tbody>\n",
       "</table>\n",
       "</div>"
      ],
      "text/plain": [
       "   User_ID Gender    Age  Occupation City_Category Stay_In_Current_City_Years  \\\n",
       "0  1000001      F   0-17        10.0             A                          2   \n",
       "1  1000001      F   0-17        10.0             A                          2   \n",
       "2  1000001      F   0-17        10.0             A                          2   \n",
       "3  1000001      F   0-17        10.0             A                          2   \n",
       "4  1000003      M  26-35        15.0             A                          3   \n",
       "\n",
       "   Marital_Status  Purchase  \n",
       "0               0      8370  \n",
       "1               0     15200  \n",
       "2               0      1422  \n",
       "3               0      1057  \n",
       "4               0     15227  "
      ]
     },
     "execution_count": 2,
     "metadata": {},
     "output_type": "execute_result"
    }
   ],
   "source": [
    "df = pd.read_csv('res/blackfriday.csv')\n",
    "df.head()"
   ]
  },
  {
   "cell_type": "code",
   "execution_count": 20,
   "metadata": {},
   "outputs": [
    {
     "name": "stdout",
     "output_type": "stream",
     "text": [
      "mean: 9281.19\n",
      "median: 8057.5\n",
      "[[6884 7187]]\n"
     ]
    }
   ],
   "source": [
    "mean_pur = round(df['Purchase'].mean(),2)\n",
    "print(\"mean:\",mean_pur)\n",
    "\n",
    "med_pur = round(df['Purchase'].median(),1)\n",
    "print(\"median:\",med_pur)\n",
    "\n",
    "import numpy as np\n",
    "mode_pur = pd.DataFrame([df['Purchase'].mode()])\n",
    "mode_pur = np.array(mode_pur)\n",
    "print(mode_pur)"
   ]
  },
  {
   "cell_type": "code",
   "execution_count": 44,
   "metadata": {},
   "outputs": [
    {
     "data": {
      "text/plain": [
       "[[9281.19], [8057.5]]"
      ]
     },
     "execution_count": 44,
     "metadata": {},
     "output_type": "execute_result"
    }
   ],
   "source": [
    "out_list1 = [[mean_pur],[med_pur]]\n",
    "out_list1"
   ]
  },
  {
   "cell_type": "code",
   "execution_count": 45,
   "metadata": {},
   "outputs": [
    {
     "data": {
      "text/plain": [
       "[[9281.19], [8057.5], [6884], [7187]]"
      ]
     },
     "execution_count": 45,
     "metadata": {},
     "output_type": "execute_result"
    }
   ],
   "source": [
    "for i in range(len(mode_pur)):\n",
    "    for j in range(len(mode_pur)+1):\n",
    "        out_list1.append([mode_pur[i][j]])"
   ]
  },
  {
   "cell_type": "code",
   "execution_count": 46,
   "metadata": {},
   "outputs": [],
   "source": [
    "import csv\n",
    "file = open('output/output.csv', mode = 'w', newline = '')\n",
    "with file:\n",
    "    write = csv.writer(file)\n",
    "    write.writerows(out_list1)"
   ]
  },
  {
   "cell_type": "code",
   "execution_count": 30,
   "metadata": {},
   "outputs": [
    {
     "data": {
      "text/plain": [
       "1"
      ]
     },
     "execution_count": 30,
     "metadata": {},
     "output_type": "execute_result"
    }
   ],
   "source": [
    "#ques2 final code for Hackerearth\n",
    "import pandas as pd\n",
    "import numpy as np\n",
    "import sys\n",
    "sys.path.append('../')\n",
    "\n",
    "# I. Load data\n",
    "df = pd.read_csv('res/blackfriday.csv')\n",
    "\n",
    "def solution():\n",
    "\n",
    "# IV. Summary Statistics\n",
    "# A. Mean\n",
    "    mean_pur = round(df['Purchase'].mean(),2)\n",
    "# B. Median\n",
    "    med_pur = round(df['Purchase'].median(),1)\n",
    "\n",
    "# C. Mode\n",
    "    mode_pur = pd.DataFrame([df['Purchase'].mode()])\n",
    "    mode_pur = np.array(mode_pur)\n",
    "    \n",
    "    out_list1 = [[mean_pur],[med_pur]]\n",
    "    for i in range(len(mode_pur)):\n",
    "        for j in range(len(mode_pur)+1):\n",
    "            out_list1.append([mode_pur[i][j]])\n",
    "    \n",
    "    import csv\n",
    "    file = open('output/output.csv', mode = 'w', newline = '')\n",
    "    with file:\n",
    "        write = csv.writer(file)\n",
    "        write.writerows(out_list1)"
   ]
  },
  {
   "cell_type": "markdown",
   "metadata": {},
   "source": [
    "# Q3"
   ]
  },
  {
   "cell_type": "code",
   "execution_count": 50,
   "metadata": {},
   "outputs": [
    {
     "name": "stdout",
     "output_type": "stream",
     "text": [
      "24229772.61\n",
      "4922.37\n"
     ]
    }
   ],
   "source": [
    "import statistics\n",
    "var_pur = round(statistics.pvariance(df['Purchase']),2)\n",
    "print(var_pur)\n",
    "\n",
    "sd_pur = round(statistics.pstdev(df['Purchase']),2)\n",
    "print(sd_pur)"
   ]
  },
  {
   "cell_type": "code",
   "execution_count": 51,
   "metadata": {},
   "outputs": [
    {
     "name": "stdout",
     "output_type": "stream",
     "text": [
      "0.63\n"
     ]
    }
   ],
   "source": [
    "skew_pur = round(df['Purchase'].skew(),2)\n",
    "print(skew_pur)"
   ]
  },
  {
   "cell_type": "code",
   "execution_count": 52,
   "metadata": {},
   "outputs": [
    {
     "name": "stdout",
     "output_type": "stream",
     "text": [
      "-0.3\n"
     ]
    }
   ],
   "source": [
    "kur_pur = round(df['Purchase'].kurtosis(),1)\n",
    "print(kur_pur)"
   ]
  },
  {
   "cell_type": "code",
   "execution_count": 53,
   "metadata": {},
   "outputs": [
    {
     "data": {
      "text/plain": [
       "[[24229772.61], [4922.37], [0.63], [-0.3]]"
      ]
     },
     "execution_count": 53,
     "metadata": {},
     "output_type": "execute_result"
    }
   ],
   "source": [
    "out_list1 = [[var_pur], [sd_pur], [skew_pur], [kur_pur]]\n",
    "out_list1"
   ]
  },
  {
   "cell_type": "code",
   "execution_count": 54,
   "metadata": {},
   "outputs": [],
   "source": [
    "import csv\n",
    "file = open('output/output.csv', 'w', newline = '')\n",
    "with file:\n",
    "    write = csv.writer(file)\n",
    "    write.writerows(out_list1)"
   ]
  },
  {
   "cell_type": "code",
   "execution_count": 57,
   "metadata": {},
   "outputs": [
    {
     "data": {
      "text/plain": [
       "-0.3"
      ]
     },
     "execution_count": 57,
     "metadata": {},
     "output_type": "execute_result"
    }
   ],
   "source": [
    "sk = round(df['Purchase'].kurtosis(),1)\n",
    "sk"
   ]
  },
  {
   "cell_type": "code",
   "execution_count": null,
   "metadata": {},
   "outputs": [],
   "source": [
    "#ques3 final code for Hackerearth\n",
    "import pandas as pd\n",
    "import numpy as np\n",
    "import sys\n",
    "import csv\n",
    "sys.path.append('../')\n",
    "# I\tA. Load data\n",
    "df = pd.read_csv('res/blackfriday.csv')\n",
    "\n",
    "def solution():\n",
    "    \n",
    "\t# D. Variance\n",
    "    import statistics\n",
    "    var_pur = round(statistics.pvariance(df['Purchase']),2)\n",
    "\n",
    "\n",
    "\t# E. Std. Dev.\n",
    "    sd_pur = round(statistics.pstdev(df['Purchase']),2)\n",
    "\n",
    "\n",
    "\t# F. Skewness\n",
    "    skew_pur = round(df['Purchase'].skew(),2)\n",
    "\n",
    "\n",
    "\t# G. Kurtosis\n",
    "    kur_pur = round(df['Purchase'].kurtosis(),1)\n",
    "    \n",
    "    out_list1 = [[var_pur], [sd_pur], [skew_pur], [kur_pur]]\n",
    "    import csv\n",
    "    file = open('output/output.csv', 'w', newline = '')\n",
    "    with file:\n",
    "        write = csv.writer(file)\n",
    "        write.writerows(out_list1)"
   ]
  },
  {
   "cell_type": "markdown",
   "metadata": {},
   "source": [
    "# Q4 "
   ]
  },
  {
   "cell_type": "code",
   "execution_count": 58,
   "metadata": {},
   "outputs": [],
   "source": [
    "import pandas as pd\n",
    "import numpy as np\n",
    "import statistics\n",
    "import csv"
   ]
  },
  {
   "cell_type": "code",
   "execution_count": 59,
   "metadata": {},
   "outputs": [
    {
     "data": {
      "text/html": [
       "<div>\n",
       "<style scoped>\n",
       "    .dataframe tbody tr th:only-of-type {\n",
       "        vertical-align: middle;\n",
       "    }\n",
       "\n",
       "    .dataframe tbody tr th {\n",
       "        vertical-align: top;\n",
       "    }\n",
       "\n",
       "    .dataframe thead th {\n",
       "        text-align: right;\n",
       "    }\n",
       "</style>\n",
       "<table border=\"1\" class=\"dataframe\">\n",
       "  <thead>\n",
       "    <tr style=\"text-align: right;\">\n",
       "      <th></th>\n",
       "      <th>User_ID</th>\n",
       "      <th>Gender</th>\n",
       "      <th>Age</th>\n",
       "      <th>Occupation</th>\n",
       "      <th>City_Category</th>\n",
       "      <th>Stay_In_Current_City_Years</th>\n",
       "      <th>Marital_Status</th>\n",
       "      <th>Purchase</th>\n",
       "    </tr>\n",
       "  </thead>\n",
       "  <tbody>\n",
       "    <tr>\n",
       "      <th>0</th>\n",
       "      <td>1000001</td>\n",
       "      <td>F</td>\n",
       "      <td>0-17</td>\n",
       "      <td>10.0</td>\n",
       "      <td>A</td>\n",
       "      <td>2</td>\n",
       "      <td>0</td>\n",
       "      <td>8370</td>\n",
       "    </tr>\n",
       "    <tr>\n",
       "      <th>1</th>\n",
       "      <td>1000001</td>\n",
       "      <td>F</td>\n",
       "      <td>0-17</td>\n",
       "      <td>10.0</td>\n",
       "      <td>A</td>\n",
       "      <td>2</td>\n",
       "      <td>0</td>\n",
       "      <td>15200</td>\n",
       "    </tr>\n",
       "    <tr>\n",
       "      <th>2</th>\n",
       "      <td>1000001</td>\n",
       "      <td>F</td>\n",
       "      <td>0-17</td>\n",
       "      <td>10.0</td>\n",
       "      <td>A</td>\n",
       "      <td>2</td>\n",
       "      <td>0</td>\n",
       "      <td>1422</td>\n",
       "    </tr>\n",
       "    <tr>\n",
       "      <th>3</th>\n",
       "      <td>1000001</td>\n",
       "      <td>F</td>\n",
       "      <td>0-17</td>\n",
       "      <td>10.0</td>\n",
       "      <td>A</td>\n",
       "      <td>2</td>\n",
       "      <td>0</td>\n",
       "      <td>1057</td>\n",
       "    </tr>\n",
       "    <tr>\n",
       "      <th>4</th>\n",
       "      <td>1000003</td>\n",
       "      <td>M</td>\n",
       "      <td>26-35</td>\n",
       "      <td>15.0</td>\n",
       "      <td>A</td>\n",
       "      <td>3</td>\n",
       "      <td>0</td>\n",
       "      <td>15227</td>\n",
       "    </tr>\n",
       "  </tbody>\n",
       "</table>\n",
       "</div>"
      ],
      "text/plain": [
       "   User_ID Gender    Age  Occupation City_Category Stay_In_Current_City_Years  \\\n",
       "0  1000001      F   0-17        10.0             A                          2   \n",
       "1  1000001      F   0-17        10.0             A                          2   \n",
       "2  1000001      F   0-17        10.0             A                          2   \n",
       "3  1000001      F   0-17        10.0             A                          2   \n",
       "4  1000003      M  26-35        15.0             A                          3   \n",
       "\n",
       "   Marital_Status  Purchase  \n",
       "0               0      8370  \n",
       "1               0     15200  \n",
       "2               0      1422  \n",
       "3               0      1057  \n",
       "4               0     15227  "
      ]
     },
     "execution_count": 59,
     "metadata": {},
     "output_type": "execute_result"
    }
   ],
   "source": [
    "df = pd.read_csv(\"res/blackfriday.csv\")\n",
    "df.head()"
   ]
  },
  {
   "cell_type": "code",
   "execution_count": 66,
   "metadata": {},
   "outputs": [],
   "source": [
    "pur_data = sorted(df['Purchase'])\n",
    "Q1, Q3 = np.percentile(pur_data,[25,75])\n",
    "iqr_pur = round(Q3 - Q1,1)\n",
    "lower_range = Q1 - (1.5*iqr_pur)\n",
    "upper_range = Q3 + (1.5*iqr_pur)\n",
    "\n",
    "out_count = ((df['Purchase'] < lower_range) | (df['Purchase'] > upper_range)).sum()\n",
    "out_list1 = [[iqr_pur],[out_count]]\n",
    "\n",
    "file = open('output/output.csv', 'w', newline = '')\n",
    "with file:\n",
    "    write = csv.writer(file)\n",
    "    write.writerows(out_list1)"
   ]
  },
  {
   "cell_type": "code",
   "execution_count": null,
   "metadata": {},
   "outputs": [],
   "source": [
    "#ques4 final code for Hackerearth\n",
    "import pandas as pd\n",
    "import numpy as np\n",
    "import csv\n",
    "import sys\n",
    "sys.path.append('../')\n",
    "\n",
    "# I\tA. Load data\n",
    "df = pd.read_csv(\"res/blackfriday.csv\")\n",
    "\n",
    "def solution():\n",
    "\n",
    "# B. IQR\n",
    "    pur_data = sorted(df['Purchase'])\n",
    "    Q1, Q3 = np.percentile(pur_data,[25,75])\n",
    "    iqr_pur = round(Q3 - Q1,1)\n",
    "    lower_range = Q1 - (1.5*iqr_pur)\n",
    "    upper_range = Q3 + (1.5*iqr_pur)\n",
    "\n",
    "    out_count = ((df['Purchase'] < lower_range) | (df['Purchase'] > upper_range)).sum()\n",
    "    out_list1 = [[iqr_pur],[out_count]]\n",
    "\n",
    "    file = open('output/output.csv', 'w', newline = '')\n",
    "    with file:\n",
    "        write = csv.writer(file)\n",
    "        write.writerows(out_list1)"
   ]
  },
  {
   "cell_type": "markdown",
   "metadata": {},
   "source": [
    "# Q5"
   ]
  },
  {
   "cell_type": "code",
   "execution_count": 67,
   "metadata": {},
   "outputs": [
    {
     "data": {
      "text/plain": [
       "4864"
      ]
     },
     "execution_count": 67,
     "metadata": {},
     "output_type": "execute_result"
    }
   ],
   "source": [
    "x = len(df['Purchase'])\n",
    "x"
   ]
  },
  {
   "cell_type": "code",
   "execution_count": 70,
   "metadata": {},
   "outputs": [
    {
     "data": {
      "text/plain": [
       "Gender\n",
       "F    1115\n",
       "M    3749\n",
       "Name: Purchase, dtype: int64"
      ]
     },
     "execution_count": 70,
     "metadata": {},
     "output_type": "execute_result"
    }
   ],
   "source": [
    "gender = df.groupby(['Gender']).count()['Purchase']\n",
    "#gender"
   ]
  },
  {
   "cell_type": "code",
   "execution_count": 77,
   "metadata": {},
   "outputs": [
    {
     "data": {
      "text/html": [
       "<div>\n",
       "<style scoped>\n",
       "    .dataframe tbody tr th:only-of-type {\n",
       "        vertical-align: middle;\n",
       "    }\n",
       "\n",
       "    .dataframe tbody tr th {\n",
       "        vertical-align: top;\n",
       "    }\n",
       "\n",
       "    .dataframe thead th {\n",
       "        text-align: right;\n",
       "    }\n",
       "</style>\n",
       "<table border=\"1\" class=\"dataframe\">\n",
       "  <thead>\n",
       "    <tr style=\"text-align: right;\">\n",
       "      <th></th>\n",
       "      <th>M</th>\n",
       "      <th>F</th>\n",
       "    </tr>\n",
       "  </thead>\n",
       "  <tbody>\n",
       "    <tr>\n",
       "      <th>0</th>\n",
       "      <td>0.770765</td>\n",
       "      <td>0.229235</td>\n",
       "    </tr>\n",
       "  </tbody>\n",
       "</table>\n",
       "</div>"
      ],
      "text/plain": [
       "          M         F\n",
       "0  0.770765  0.229235"
      ]
     },
     "execution_count": 77,
     "metadata": {},
     "output_type": "execute_result"
    }
   ],
   "source": [
    "#prob_df = pd.DataFrame({'M':([gender['M']/x]), 'F':([gender['F']/x])})\n",
    "#prob_df"
   ]
  },
  {
   "cell_type": "code",
   "execution_count": 78,
   "metadata": {},
   "outputs": [
    {
     "data": {
      "text/plain": [
       "[0.770764802631579, 0.22923519736842105]"
      ]
     },
     "execution_count": 78,
     "metadata": {},
     "output_type": "execute_result"
    }
   ],
   "source": [
    "probability = [gender['M']/x, gender['F']/x]\n",
    "#probability"
   ]
  },
  {
   "cell_type": "code",
   "execution_count": 79,
   "metadata": {},
   "outputs": [
    {
     "data": {
      "text/plain": [
       "0.770764802631579"
      ]
     },
     "execution_count": 79,
     "metadata": {},
     "output_type": "execute_result"
    }
   ],
   "source": [
    "high_prob = max(probability)\n",
    "high_prob"
   ]
  },
  {
   "cell_type": "code",
   "execution_count": 104,
   "metadata": {},
   "outputs": [
    {
     "name": "stdout",
     "output_type": "stream",
     "text": [
      "A\n",
      "B\n"
     ]
    }
   ],
   "source": [
    "df = pd.read_csv('res/blackfriday.csv')\n",
    "df_count = len(df['User_ID'])\n",
    "finp = open('res/testcaseprobability.txt', 'r')\n",
    "finp.seek(0)\n",
    "num_f_testcases = int(finp.readline().rstrip(\"\\n\"))\n",
    "\n",
    "for tcn in range(num_f_testcases):\n",
    "    f2 = open(\"output/\" + \"output\" + str(tcn+1) +\".csv\",\"w\", newline = '')\n",
    "    age_cat = finp.readline().rstrip(\"\\n\")\n",
    "    if tcn == (num_f_testcases - 1):\n",
    "        city_cat = finp.readline()\n",
    "    else:\n",
    "        city_cat = finp.readline().rstrip(\"\\n\")\n",
    "    \n",
    "    print(city_cat)\n",
    "    \n",
    "    filt_df = df[df['Age'] == age_cat]\n",
    "    gen_count = filt_df.groupby(['Gender']).count()['Purchase']\n",
    "    if(gen_count['M'] > gen_count['F']):\n",
    "        high_prob = 'Male'\n",
    "    else:\n",
    "        high_prob = 'Female'\n",
    "    \n",
    "    city_count = df.groupby(['City_Category']).count()['User_ID']\n",
    "    prob_city = city_count[city_cat]/df_count\n",
    "    \n",
    "    out_list1 = [[high_prob], [prob_city]]\n",
    "    \n",
    "    with f2:\n",
    "        write = csv.writer(f2)\n",
    "        write.writerows(out_list1)\n",
    "    \n",
    "    "
   ]
  },
  {
   "cell_type": "code",
   "execution_count": 109,
   "metadata": {},
   "outputs": [
    {
     "data": {
      "text/plain": [
       "0.3783"
      ]
     },
     "execution_count": 109,
     "metadata": {},
     "output_type": "execute_result"
    }
   ],
   "source": [
    "age_cat = '26-35'\n",
    "city_cat = 'B'\n",
    "filt_df = df[df['Age'] == age_cat]\n",
    "#filt_df\n",
    "gen_count = filt_df.groupby(['Gender']).count()['Purchase']\n",
    "gen_count\n",
    "if(gen_count['M'] > gen_count['F']):\n",
    "    gen = 'Male'\n",
    "else:\n",
    "    gen = 'Female'\n",
    "\n",
    "city_count = df.groupby(['City_Category']).count()['User_ID']\n",
    "prob = round(city_count[city_cat]/len(df['User_ID']), 4)\n",
    "#out_list = [[gen],[prob]]\n",
    "#out_list\n",
    "prob"
   ]
  },
  {
   "cell_type": "code",
   "execution_count": 93,
   "metadata": {},
   "outputs": [
    {
     "data": {
      "text/plain": [
       "4864"
      ]
     },
     "execution_count": 93,
     "metadata": {},
     "output_type": "execute_result"
    }
   ],
   "source": [
    "len(df['User_ID'])"
   ]
  },
  {
   "cell_type": "code",
   "execution_count": null,
   "metadata": {},
   "outputs": [],
   "source": [
    "#ques5 final code for Hackerearth\n",
    "import pandas as pd\n",
    "import numpy as np\n",
    "import csv\n",
    "import sys\n",
    "sys.path.append('../')\n",
    "\n",
    "df = pd.read_csv('res/blackfriday.csv')\n",
    "\n",
    "# Read values from testcase\n",
    "\n",
    "\n",
    "def solution():\n",
    "    df_count = len(df['User_ID'])\n",
    "    finp = open('res/testcaseprobability.txt', 'r')\n",
    "    finp.seek(0)\n",
    "    num_f_testcases = int(finp.readline().rstrip(\"\\n\"))\n",
    "\n",
    "    for tcn in range(num_f_testcases):\n",
    "        f2 = open(\"output/\" + \"output\" + str(tcn+1) +\".csv\",\"w\", newline = '')\n",
    "        age_cat = finp.readline().rstrip(\"\\n\")\n",
    "        if tcn == (num_f_testcases - 1):\n",
    "            city_cat = finp.readline()\n",
    "        else:\n",
    "            city_cat = finp.readline().rstrip(\"\\n\")\n",
    "    \n",
    "        print(city_cat)\n",
    "    \n",
    "        filt_df = df[df['Age'] == age_cat]\n",
    "        gen_count = filt_df.groupby(['Gender']).count()['Purchase']\n",
    "        if(gen_count['M'] > gen_count['F']):\n",
    "            high_prob = 'Male'\n",
    "        else:\n",
    "            high_prob = 'Female'\n",
    "    \n",
    "        city_count = df.groupby(['City_Category']).count()['User_ID']\n",
    "        prob_city = round(city_count[city_cat]/df_count, 4)\n",
    "    \n",
    "        out_list1 = [[high_prob], [prob_city]]\n",
    "    \n",
    "        with f2:\n",
    "            write = csv.writer(f2)\n",
    "            write.writerows(out_list1)"
   ]
  }
 ],
 "metadata": {
  "kernelspec": {
   "display_name": "Python 3",
   "language": "python",
   "name": "python3"
  },
  "language_info": {
   "codemirror_mode": {
    "name": "ipython",
    "version": 3
   },
   "file_extension": ".py",
   "mimetype": "text/x-python",
   "name": "python",
   "nbconvert_exporter": "python",
   "pygments_lexer": "ipython3",
   "version": "3.7.3"
  }
 },
 "nbformat": 4,
 "nbformat_minor": 2
}
