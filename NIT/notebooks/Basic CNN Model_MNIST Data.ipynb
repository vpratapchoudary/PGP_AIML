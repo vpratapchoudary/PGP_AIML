{
  "nbformat": 4,
  "nbformat_minor": 0,
  "metadata": {
    "colab": {
      "name": "Deep_Learning_Assignment1_File2.ipynb",
      "provenance": [],
      "collapsed_sections": []
    },
    "kernelspec": {
      "name": "python3",
      "display_name": "Python 3"
    }
  },
  "cells": [
    {
      "cell_type": "code",
      "metadata": {
        "colab": {
          "base_uri": "https://localhost:8080/"
        },
        "id": "54DMC2OzPBXF",
        "outputId": "af62a16a-83f7-4a57-89a9-ddcb1ba42773"
      },
      "source": [
        "#verifying the tensorflow installation\r\n",
        "import tensorflow as tf\r\n",
        "from tensorflow import keras\r\n",
        "print(tf.__version__)\r\n",
        "print(tf.keras.__version__)"
      ],
      "execution_count": 2,
      "outputs": [
        {
          "output_type": "stream",
          "text": [
            "2.4.0\n",
            "2.4.0\n"
          ],
          "name": "stdout"
        }
      ]
    },
    {
      "cell_type": "code",
      "metadata": {
        "colab": {
          "base_uri": "https://localhost:8080/"
        },
        "id": "yQ0pUTtV4ZDI",
        "outputId": "ded22842-589f-41dd-8378-02090a09d6b9"
      },
      "source": [
        "#loading MNIST data\r\n",
        "mnist = keras.datasets.mnist\r\n",
        "(X_train, Y_train), (X_test, Y_test) = mnist.load_data()\r\n",
        "#displaying the shape of data\r\n",
        "print(X_train.shape)\r\n",
        "print(Y_train.shape)\r\n",
        "print(X_test.shape)\r\n",
        "print(Y_test.shape)"
      ],
      "execution_count": 3,
      "outputs": [
        {
          "output_type": "stream",
          "text": [
            "Downloading data from https://storage.googleapis.com/tensorflow/tf-keras-datasets/mnist.npz\n",
            "11493376/11490434 [==============================] - 0s 0us/step\n",
            "(60000, 28, 28)\n",
            "(60000,)\n",
            "(10000, 28, 28)\n",
            "(10000,)\n"
          ],
          "name": "stdout"
        }
      ]
    },
    {
      "cell_type": "code",
      "metadata": {
        "colab": {
          "base_uri": "https://localhost:8080/"
        },
        "id": "bdr7HuTy5ZMO",
        "outputId": "145ffebb-2346-4317-987b-d98f2d4c6972"
      },
      "source": [
        "#Data preprocessing\r\n",
        "#X_train is 60000 rows of 28X28 values; let's flatten by reshaping to 60000X784\r\n",
        "reshaped = 784\r\n",
        "X_train = X_train.reshape(60000,reshaped)\r\n",
        "X_test = X_test.reshape(10000,reshaped)\r\n",
        "\r\n",
        "#converting the data type to float\r\n",
        "X_train = X_train.astype('float32')\r\n",
        "X_test = X_test.astype('float32')\r\n",
        "\r\n",
        "#normalizing the input values to be within 0 to 1\r\n",
        "X_train /= 255\r\n",
        "X_test /= 255\r\n",
        "print(X_train.shape, 'train samples')\r\n",
        "print(X_test.shape, 'test samples')\r\n",
        "\r\n",
        "#one-hot representation of the target labels\r\n",
        "Y_train = tf.keras.utils.to_categorical(Y_train, 10)\r\n",
        "Y_test = tf.keras.utils.to_categorical(Y_test, 10)"
      ],
      "execution_count": 4,
      "outputs": [
        {
          "output_type": "stream",
          "text": [
            "(60000, 784) train samples\n",
            "(10000, 784) test samples\n"
          ],
          "name": "stdout"
        }
      ]
    },
    {
      "cell_type": "code",
      "metadata": {
        "id": "Gy93nW2V7nR9"
      },
      "source": [
        "#Designing the model\r\n",
        "from tensorflow.keras.layers import Dense, Dropout #importing Dense and Dropout layers.\r\n",
        "from tensorflow.keras import Sequential #importing sequential model from keras\r\n",
        "\r\n",
        "model = tf.keras.Sequential() #defining model\r\n",
        "N_hidden = 256 #defining hidden neurons to use in the layers\r\n",
        "\r\n",
        "#adding densely connected layer to output 256 units\r\n",
        "model.add(Dense(N_hidden, name='dense_layer', input_shape=(784,), activation='relu'))\r\n",
        "\r\n",
        "#adding dropout layer to reduce overfitting\r\n",
        "model.add(Dropout(0.4))\r\n",
        "\r\n",
        "#adding hidden layer to output 256 units\r\n",
        "model.add(Dense(N_hidden, name='dense_layer_2', activation='relu'))\r\n",
        "\r\n",
        "#adding dropout layer to reduce overfitting\r\n",
        "model.add(Dropout(0.4))\r\n",
        "\r\n",
        "#adding hidden layer to output 256 units\r\n",
        "model.add(Dense(N_hidden, name='dense_layer_3', activation='relu'))\r\n",
        "\r\n",
        "#adding dropout layer to reduce overfitting\r\n",
        "model.add(Dropout(0.4))\r\n",
        "\r\n",
        "#adding an output layer with 10 output units\r\n",
        "model.add(Dense(10, name='output_layer', activation='softmax'))"
      ],
      "execution_count": 28,
      "outputs": []
    },
    {
      "cell_type": "code",
      "metadata": {
        "id": "2x-CEE_dBryi"
      },
      "source": [
        "#compiling the model\r\n",
        "model.compile(optimizer='Adam', loss='categorical_crossentropy', metrics=['accuracy'])"
      ],
      "execution_count": 29,
      "outputs": []
    },
    {
      "cell_type": "code",
      "metadata": {
        "colab": {
          "base_uri": "https://localhost:8080/"
        },
        "id": "nhbnGhw5B9PT",
        "outputId": "16f6522d-aa82-4da9-d909-477cd1d124f5"
      },
      "source": [
        "#training the model\r\n",
        "training = model.fit(X_train, Y_train, batch_size=75, epochs=15, validation_split=0.2)"
      ],
      "execution_count": 30,
      "outputs": [
        {
          "output_type": "stream",
          "text": [
            "Epoch 1/15\n",
            "640/640 [==============================] - 5s 7ms/step - loss: 0.7867 - accuracy: 0.7403 - val_loss: 0.1494 - val_accuracy: 0.9567\n",
            "Epoch 2/15\n",
            "640/640 [==============================] - 4s 7ms/step - loss: 0.2258 - accuracy: 0.9327 - val_loss: 0.1307 - val_accuracy: 0.9598\n",
            "Epoch 3/15\n",
            "640/640 [==============================] - 5s 7ms/step - loss: 0.1722 - accuracy: 0.9509 - val_loss: 0.1068 - val_accuracy: 0.9689\n",
            "Epoch 4/15\n",
            "640/640 [==============================] - 5s 7ms/step - loss: 0.1405 - accuracy: 0.9594 - val_loss: 0.0963 - val_accuracy: 0.9725\n",
            "Epoch 5/15\n",
            "640/640 [==============================] - 4s 7ms/step - loss: 0.1206 - accuracy: 0.9646 - val_loss: 0.0924 - val_accuracy: 0.9740\n",
            "Epoch 6/15\n",
            "640/640 [==============================] - 4s 7ms/step - loss: 0.1119 - accuracy: 0.9675 - val_loss: 0.0886 - val_accuracy: 0.9756\n",
            "Epoch 7/15\n",
            "640/640 [==============================] - 4s 7ms/step - loss: 0.1095 - accuracy: 0.9665 - val_loss: 0.0884 - val_accuracy: 0.9747\n",
            "Epoch 8/15\n",
            "640/640 [==============================] - 4s 7ms/step - loss: 0.0895 - accuracy: 0.9729 - val_loss: 0.0797 - val_accuracy: 0.9770\n",
            "Epoch 9/15\n",
            "640/640 [==============================] - 4s 7ms/step - loss: 0.0915 - accuracy: 0.9722 - val_loss: 0.0815 - val_accuracy: 0.9778\n",
            "Epoch 10/15\n",
            "640/640 [==============================] - 5s 7ms/step - loss: 0.0882 - accuracy: 0.9738 - val_loss: 0.0893 - val_accuracy: 0.9755\n",
            "Epoch 11/15\n",
            "640/640 [==============================] - 4s 7ms/step - loss: 0.0804 - accuracy: 0.9760 - val_loss: 0.0829 - val_accuracy: 0.9776\n",
            "Epoch 12/15\n",
            "640/640 [==============================] - 4s 7ms/step - loss: 0.0761 - accuracy: 0.9771 - val_loss: 0.0805 - val_accuracy: 0.9779\n",
            "Epoch 13/15\n",
            "640/640 [==============================] - 5s 7ms/step - loss: 0.0727 - accuracy: 0.9776 - val_loss: 0.0855 - val_accuracy: 0.9761\n",
            "Epoch 14/15\n",
            "640/640 [==============================] - 4s 7ms/step - loss: 0.0735 - accuracy: 0.9785 - val_loss: 0.0813 - val_accuracy: 0.9770\n",
            "Epoch 15/15\n",
            "640/640 [==============================] - 5s 7ms/step - loss: 0.0650 - accuracy: 0.9794 - val_loss: 0.0784 - val_accuracy: 0.9795\n"
          ],
          "name": "stdout"
        }
      ]
    },
    {
      "cell_type": "code",
      "metadata": {
        "colab": {
          "base_uri": "https://localhost:8080/",
          "height": 590
        },
        "id": "DhyfZq-VCl9h",
        "outputId": "da8cda93-e07e-4c7c-f818-61630755ff36"
      },
      "source": [
        "#plotting the accuracy and loss variations\r\n",
        "import matplotlib.pyplot as plt\r\n",
        "%matplotlib inline\r\n",
        "print(training.history.keys())\r\n",
        "plt.plot(training.history['accuracy'])\r\n",
        "plt.plot(training.history['val_accuracy'])\r\n",
        "plt.title('model_accuracy')\r\n",
        "plt.ylabel('accuracy')\r\n",
        "plt.xlabel('epoch')\r\n",
        "plt.legend(['train', 'test'], loc='upper left')\r\n",
        "plt.show()\r\n",
        "\r\n",
        "plt.plot(training.history['loss'])\r\n",
        "plt.plot(training.history['val_loss'])\r\n",
        "plt.title('model_loss')\r\n",
        "plt.ylabel('loss')\r\n",
        "plt.xlabel('epoch')\r\n",
        "plt.legend(['train', 'test'], loc='upper left')\r\n",
        "plt.show()"
      ],
      "execution_count": 31,
      "outputs": [
        {
          "output_type": "stream",
          "text": [
            "dict_keys(['loss', 'accuracy', 'val_loss', 'val_accuracy'])\n"
          ],
          "name": "stdout"
        },
        {
          "output_type": "display_data",
          "data": {
            "image/png": "[encoded data removed]",
            "text/plain": [
              "<Figure size 432x288 with 1 Axes>"
            ]
          },
          "metadata": {
            "tags": [],
            "needs_background": "light"
          }
        },
        {
          "output_type": "display_data",
          "data": {
            "image/png": "[encoded data removed]",
            "text/plain": [
              "<Figure size 432x288 with 1 Axes>"
            ]
          },
          "metadata": {
            "tags": [],
            "needs_background": "light"
          }
        }
      ]
    },
    {
      "cell_type": "code",
      "metadata": {
        "colab": {
          "base_uri": "https://localhost:8080/"
        },
        "id": "NUbtH8U_ECoG",
        "outputId": "d756ddef-b183-43e8-8707-111c886565a1"
      },
      "source": [
        "#model evaluation\r\n",
        "test_loss, test_accuracy = model.evaluate(X_test, Y_test)\r\n",
        "print('Test Accuracy:', test_accuracy)"
      ],
      "execution_count": 32,
      "outputs": [
        {
          "output_type": "stream",
          "text": [
            "313/313 [==============================] - 1s 2ms/step - loss: 0.0721 - accuracy: 0.9808\n",
            "Test Accuracy: 0.9807999730110168\n"
          ],
          "name": "stdout"
        }
      ]
    },
    {
      "cell_type": "markdown",
      "metadata": {
        "id": "iPEOol6dI6tg"
      },
      "source": [
        "**Model Summary**\r\n",
        "> - I have used MNIST hand written digits dataset for Classification. The data is loaded and preprocessed to flatten the features and one-hot encode the labels.\r\n",
        "> - The Sequential model is designed with 7 layers:\r\n",
        ">> - Input layer\r\n",
        ">> - 2 hidden layers\r\n",
        ">> - 3 dropout layers with value 0.4 to reduce overfitting\r\n",
        ">> - Output layer\r\n",
        "> - After checking different parameters, below are finalized.\r\n",
        ">> - Optimizer: Adam\r\n",
        ">> - Loss: categorical_crossentropy\r\n",
        ">> - Batch Size: 75\r\n",
        ">> - Epochs: 15\r\n",
        "> - With the model setup we have got a good fit with test accuracy of 98%.\r\n",
        "> - The model working is specified at the code level as comments."
      ]
    }
  ]
}