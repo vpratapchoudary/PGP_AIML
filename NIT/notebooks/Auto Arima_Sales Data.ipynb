{
 "cells": [
  {
   "cell_type": "code",
   "execution_count": null,
   "metadata": {},
   "outputs": [],
   "source": [
    "#conda list\n",
    "#!pip install pmdarima --user"
   ]
  },
  {
   "cell_type": "code",
   "execution_count": null,
   "metadata": {},
   "outputs": [],
   "source": [
    "import pandas as pd\n",
    "import numpy as np\n",
    "from pmdarima.arima import auto_arima\n",
    "from datetime import datetime"
   ]
  },
  {
   "cell_type": "markdown",
   "metadata": {},
   "source": [
    "# Q1"
   ]
  },
  {
   "cell_type": "code",
   "execution_count": null,
   "metadata": {},
   "outputs": [],
   "source": [
    "df1 = pd.read_csv(\"res/Historical_Data1.csv\")\n",
    "df1.head()"
   ]
  },
  {
   "cell_type": "code",
   "execution_count": null,
   "metadata": {},
   "outputs": [],
   "source": [
    "df1.dtypes"
   ]
  },
  {
   "cell_type": "code",
   "execution_count": null,
   "metadata": {},
   "outputs": [],
   "source": [
    "df1['Date'] = df1['Date'].apply(lambda x:pd.to_datetime(str(x), format='%Y%m%d'))\n",
    "df1.head()"
   ]
  },
  {
   "cell_type": "code",
   "execution_count": null,
   "metadata": {},
   "outputs": [],
   "source": [
    "df1.dtypes"
   ]
  },
  {
   "cell_type": "code",
   "execution_count": null,
   "metadata": {},
   "outputs": [],
   "source": [
    "total_sales_day = df1.groupby('Date')['Sold_Units'].sum().reset_index()\n",
    "total_sales_day.head()"
   ]
  },
  {
   "cell_type": "code",
   "execution_count": null,
   "metadata": {},
   "outputs": [],
   "source": [
    "#res1_num_days_sold3 = np.where(total_sales_day['Sold_Units'] > 3)\n",
    "res1_num_days_sold3 = pd.Series(total_sales_day['Sold_Units'] > 3).sum()\n",
    "print(res1_num_days_sold3)"
   ]
  },
  {
   "cell_type": "code",
   "execution_count": null,
   "metadata": {},
   "outputs": [],
   "source": [
    "#country_sales = pd.DataFrame(df1.groupby(['Country_Code', df1['Date'].dt.strftime('%B')])['Sold_Units'].sum().reset_index())\n",
    "country_sales = df1.groupby(['Country_Code', df1['Date'].dt.strftime('%B')])['Sold_Units'].sum().reset_index()"
   ]
  },
  {
   "cell_type": "code",
   "execution_count": null,
   "metadata": {},
   "outputs": [],
   "source": [
    "#fr_sales = country_sales[country_sales['Country_Code']=='FR']\n",
    "#fr_sales_aug = fr_sales[fr_sales['Date']=='August']\n",
    "res2_fr_sales_aug = country_sales[country_sales['Country_Code']=='FR'][country_sales['Date']=='August'].iloc[0,2]\n",
    "print(res2_fr_sales_aug)\n",
    "#res2_fr_sales_aug = fr_sales_aug.iloc[0,2]\n",
    "#res2_fr_sales_aug"
   ]
  },
  {
   "cell_type": "code",
   "execution_count": null,
   "metadata": {},
   "outputs": [],
   "source": [
    "res3_AT_sales = country_sales[country_sales['Country_Code']=='AT']['Sold_Units'].sum()\n",
    "#res3_AT_sales = AT_sales['Sold_Units'].sum()\n",
    "print(res3_AT_sales)"
   ]
  },
  {
   "cell_type": "code",
   "execution_count": null,
   "metadata": {},
   "outputs": [],
   "source": [
    "result = [res1_num_days_sold3, res2_fr_sales_aug, res3_AT_sales]\n",
    "result = pd.DataFrame(result)\n",
    "result.to_csv('output/output.csv', header=False, index=False)"
   ]
  },
  {
   "cell_type": "markdown",
   "metadata": {},
   "source": [
    "# Q2"
   ]
  },
  {
   "cell_type": "code",
   "execution_count": null,
   "metadata": {},
   "outputs": [],
   "source": [
    "df2=pd.read_csv(\"res/Historical_Data1.csv\")\n",
    "df2['Date'] = df2['Date'].apply(lambda x:pd.to_datetime(str(x), format='%Y%m%d').date())\n",
    "df2.head()"
   ]
  },
  {
   "cell_type": "code",
   "execution_count": null,
   "metadata": {},
   "outputs": [],
   "source": [
    "country_group = pd.DataFrame(df2.groupby(['Country_Code','Date'])['Sold_Units'].sum().reset_index())\n",
    "country_group.head()"
   ]
  },
  {
   "cell_type": "code",
   "execution_count": null,
   "metadata": {},
   "outputs": [],
   "source": [
    "#countries = country_group['Country_Code'].unique()\n",
    "#countries"
   ]
  },
  {
   "cell_type": "code",
   "execution_count": null,
   "metadata": {},
   "outputs": [],
   "source": [
    "#country_group.set_index(country_group['Date'], freq)"
   ]
  },
  {
   "cell_type": "code",
   "execution_count": null,
   "metadata": {},
   "outputs": [],
   "source": [
    "frames=[]\n",
    "for loc in country_group['Country_Code'].unique():\n",
    "    frames.append(pd.DataFrame(data={'Country_Code':loc, 'Date':pd.date_range(start=min(country_group.Date), end=max(country_group.Date)), 'Sold_Units':0}))\n",
    "df_combined = pd.concat(frames)\n",
    "df_combined.set_index(['Country_Code', 'Date'], inplace=True)\n",
    "df_combined.update(country_group.set_index(['Country_Code', 'Date']))\n",
    "df_combined.reset_index(inplace=True)\n",
    "df_combined.head()\n",
    "    "
   ]
  },
  {
   "cell_type": "code",
   "execution_count": null,
   "metadata": {},
   "outputs": [],
   "source": [
    "FR_sales = df_combined[df_combined['Country_Code']=='FR'][df_combined['Sold_Units']>0].sort_values(by='Date').iloc[0,1]\n",
    "res1_FR_sales = FR_sales.date()\n",
    "print(res1_FR_sales)"
   ]
  },
  {
   "cell_type": "code",
   "execution_count": null,
   "metadata": {},
   "outputs": [],
   "source": [
    "AT_no_sales = df_combined[df_combined['Country_Code']=='AT'][df_combined['Sold_Units']==0].count()\n",
    "res2_AT_no_sales = AT_no_sales[0]\n",
    "print(res2_AT_no_sales)"
   ]
  },
  {
   "cell_type": "markdown",
   "metadata": {},
   "source": [
    "# Q3"
   ]
  },
  {
   "cell_type": "code",
   "execution_count": null,
   "metadata": {},
   "outputs": [],
   "source": [
    "df3 = pd.read_csv(\"res/Historical_Data1.csv\")\n",
    "df3.head()"
   ]
  },
  {
   "cell_type": "code",
   "execution_count": null,
   "metadata": {},
   "outputs": [],
   "source": [
    "df3['Date'] = df3['Date'].apply(lambda x:pd.to_datetime(str(x), format='%Y%m%d').date())\n",
    "country_group = pd.DataFrame(df3.groupby(['Country_Code','Date'])['Sold_Units'].sum().reset_index())"
   ]
  },
  {
   "cell_type": "code",
   "execution_count": null,
   "metadata": {},
   "outputs": [],
   "source": [
    "#df3.set_index('Date', inplace=True)"
   ]
  },
  {
   "cell_type": "code",
   "execution_count": null,
   "metadata": {},
   "outputs": [],
   "source": [
    "#df3.sort_index(inplace=True)\n",
    "#df3.head()\n"
   ]
  },
  {
   "cell_type": "code",
   "execution_count": null,
   "metadata": {},
   "outputs": [],
   "source": [
    "frames=[]\n",
    "for loc in country_group['Country_Code'].unique():\n",
    "    frames.append(pd.DataFrame(data={'Country_Code':loc, 'Date':pd.date_range(start=min(country_group.Date), end=max(country_group.Date)), 'Sold_Units':0}))\n",
    "df_combined = pd.concat(frames)\n",
    "df_combined.set_index(['Country_Code', 'Date'], inplace=True)\n",
    "df_combined.update(country_group.set_index(['Country_Code', 'Date']))\n",
    "df_combined.reset_index(inplace=True)\n",
    "df_combined.set_index('Date', inplace=True)\n",
    "df_combined.sort_index(inplace=True)\n",
    "df_combined.head()"
   ]
  },
  {
   "cell_type": "code",
   "execution_count": null,
   "metadata": {},
   "outputs": [],
   "source": [
    "from sklearn.metrics import mean_absolute_error"
   ]
  },
  {
   "cell_type": "code",
   "execution_count": null,
   "metadata": {},
   "outputs": [],
   "source": [
    "result = []\n",
    "for loc in df_combined['Country_Code'].unique():\n",
    "    df4 = df_combined[df_combined['Country_Code']==loc]\n",
    "    X = df4['Country_Code'].values\n",
    "    train_size=int(len(X)-10)\n",
    "    train, test = df4.iloc[0:train_size,1], df4.iloc[train_size:len(X)]\n",
    "    \n",
    "    model = auto_arima(train, trace=True, suppress_warnings=True, error_action='ignore')\n",
    "    model.fit(train)\n",
    "    \n",
    "    prediction = pd.DataFrame(model.predict(),index=test.index)\n",
    "    prediction.columns=['predicted_units']\n",
    "    test['predicted_units'] = prediction['predicted_units']\n",
    "    mae = round(mean_absolute_error(test['Sold_Units'], test['predicted_units']),3)\n",
    "    result.append(mae)\n",
    "    print(mae)\n",
    "    \n",
    "    "
   ]
  },
  {
   "cell_type": "code",
   "execution_count": null,
   "metadata": {},
   "outputs": [],
   "source": [
    "X = df4['Country_Code'].values\n",
    "train_size=int(len(X)-10)\n",
    "train, test = df4.iloc[0:train_size,1], df4.iloc[train_size:len(X)]\n",
    "model = auto_arima(train, trace=True, suppress_warnings=True, error_action='ignore')\n",
    "model.fit(train)\n",
    "\n",
    "prediction = pd.DataFrame(model.predict(),index=test.index)\n",
    "prediction.columns=['predicted_units']\n",
    "test['predicted_units'] = prediction['predicted_units']\n",
    "test"
   ]
  },
  {
   "cell_type": "code",
   "execution_count": null,
   "metadata": {},
   "outputs": [],
   "source": [
    "mae = round(mean_absolute_error(test['Sold_Units'], test['predicted_units']),3)\n",
    "mae"
   ]
  },
  {
   "cell_type": "code",
   "execution_count": 98,
   "metadata": {},
   "outputs": [
    {
     "data": {
      "text/plain": [
       "[2.09, 1.759, 2.71, 4.15]"
      ]
     },
     "execution_count": 98,
     "metadata": {},
     "output_type": "execute_result"
    }
   ],
   "source": [
    "result = [round(result[0], 2), round(result[1], 3), round(result[2], 2), round(result[3], 2)]\n",
    "result"
   ]
  },
  {
   "cell_type": "code",
   "execution_count": null,
   "metadata": {},
   "outputs": [],
   "source": []
  }
 ],
 "metadata": {
  "kernelspec": {
   "display_name": "Python 3",
   "language": "python",
   "name": "python3"
  },
  "language_info": {
   "codemirror_mode": {
    "name": "ipython",
    "version": 3
   },
   "file_extension": ".py",
   "mimetype": "text/x-python",
   "name": "python",
   "nbconvert_exporter": "python",
   "pygments_lexer": "ipython3",
   "version": "3.7.3"
  }
 },
 "nbformat": 4,
 "nbformat_minor": 2
}
