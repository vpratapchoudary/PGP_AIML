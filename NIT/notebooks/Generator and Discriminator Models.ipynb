{
  "nbformat": 4,
  "nbformat_minor": 0,
  "metadata": {
    "colab": {
      "name": "Deep Learning_Assignment3_File2.ipynb",
      "provenance": []
    },
    "kernelspec": {
      "name": "python3",
      "display_name": "Python 3"
    },
    "accelerator": "GPU"
  },
  "cells": [
    {
      "cell_type": "markdown",
      "metadata": {
        "id": "hlG06tU5iRd8"
      },
      "source": [
        "# Importing Libraries"
      ]
    },
    {
      "cell_type": "code",
      "metadata": {
        "id": "Xw87HiP_k5NU"
      },
      "source": [
        "import tensorflow as tf\r\n",
        "import tensorflow.keras"
      ],
      "execution_count": 2,
      "outputs": []
    },
    {
      "cell_type": "code",
      "metadata": {
        "id": "WbVBv51g2iD5"
      },
      "source": [
        "import pandas as pd\r\n",
        "import numpy as np\r\n",
        "from tensorflow.keras.preprocessing import image\r\n",
        "from tensorflow.keras.preprocessing.image import ImageDataGenerator\r\n",
        "from tensorflow.keras.models import Sequential\r\n",
        "from tensorflow.keras.layers import Conv2D, Dense, Flatten, Activation, Dropout, BatchNormalization, MaxPooling2D, Conv2DTranspose, LeakyReLU, Reshape\r\n",
        "import matplotlib.pyplot as plt\r\n",
        "import matplotlib.image as mpimg\r\n",
        "from keras.datasets import mnist\r\n",
        "from keras.layers.advanced_activations import LeakyReLU\r\n",
        "from keras.optimizers import Adam\r\n",
        "import glob\r\n",
        "import imageio\r\n",
        "import PIL\r\n",
        "import time\r\n",
        "from IPython import display"
      ],
      "execution_count": 3,
      "outputs": []
    },
    {
      "cell_type": "markdown",
      "metadata": {
        "id": "CPGj4Kw-ieFI"
      },
      "source": [
        "# Loading and Preprocessing the Data"
      ]
    },
    {
      "cell_type": "code",
      "metadata": {
        "colab": {
          "base_uri": "https://localhost:8080/"
        },
        "id": "N5Xup8E08T5r",
        "outputId": "846ed10a-cf19-498b-fd2b-1a3a57e1be99"
      },
      "source": [
        "#load the data\r\n",
        "(train_images, train_labels), (_, _) = tf.keras.datasets.mnist.load_data()"
      ],
      "execution_count": 4,
      "outputs": [
        {
          "output_type": "stream",
          "text": [
            "Downloading data from https://storage.googleapis.com/tensorflow/tf-keras-datasets/mnist.npz\n",
            "11493376/11490434 [==============================] - 0s 0us/step\n"
          ],
          "name": "stdout"
        }
      ]
    },
    {
      "cell_type": "code",
      "metadata": {
        "id": "9Wna5xLMAahS"
      },
      "source": [
        "#reshape the images and Normalize\r\n",
        "train_images = train_images.reshape(train_images.shape[0], 28, 28, 1).astype('float32')\r\n",
        "train_images = (train_images - 127.5) / 127.5"
      ],
      "execution_count": 5,
      "outputs": []
    },
    {
      "cell_type": "code",
      "metadata": {
        "id": "REfMUl07AyRx"
      },
      "source": [
        "BUFFER_SIZE = 60000\r\n",
        "BATCH_SIZE = 100"
      ],
      "execution_count": 6,
      "outputs": []
    },
    {
      "cell_type": "code",
      "metadata": {
        "id": "ApEtTL6QA6ig"
      },
      "source": [
        "#shuffle and batch the images\r\n",
        "train_dataset = tf.data.Dataset.from_tensor_slices(train_images).shuffle(BUFFER_SIZE).batch(BATCH_SIZE)"
      ],
      "execution_count": 7,
      "outputs": []
    },
    {
      "cell_type": "code",
      "metadata": {
        "colab": {
          "base_uri": "https://localhost:8080/"
        },
        "id": "LSxBqLaKBiCw",
        "outputId": "4e37c124-28ce-4255-f2d0-15ba4dde1ff3"
      },
      "source": [
        "train_dataset"
      ],
      "execution_count": 8,
      "outputs": [
        {
          "output_type": "execute_result",
          "data": {
            "text/plain": [
              "<BatchDataset shapes: (None, 28, 28, 1), types: tf.float32>"
            ]
          },
          "metadata": {
            "tags": []
          },
          "execution_count": 8
        }
      ]
    },
    {
      "cell_type": "markdown",
      "metadata": {
        "id": "UMg-oIyfimnk"
      },
      "source": [
        "# Building the Generator Model"
      ]
    },
    {
      "cell_type": "code",
      "metadata": {
        "id": "LpidX0sLBoUM"
      },
      "source": [
        "#building a Generator model\r\n",
        "def generator_model():\r\n",
        "    model = Sequential()\r\n",
        "    model.add(Dense(7*7*256, use_bias=False, input_shape=(100,)))\r\n",
        "    model.add(BatchNormalization())\r\n",
        "    model.add(LeakyReLU())\r\n",
        "\r\n",
        "    model.add(Reshape((7,7,256)))\r\n",
        "    assert model.output_shape == (None, 7, 7, 256)\r\n",
        "\r\n",
        "    model.add(Conv2DTranspose(128, (5, 5), strides=(1,1), padding='same', use_bias=False))\r\n",
        "    assert model.output_shape == (None, 7, 7, 128)\r\n",
        "    model.add(BatchNormalization())\r\n",
        "    model.add(LeakyReLU())\r\n",
        "\r\n",
        "    model.add(Conv2DTranspose(64, (5, 5), strides=(2,2), padding='same', use_bias=False))\r\n",
        "    assert model.output_shape == (None, 14, 14, 64)\r\n",
        "    model.add(BatchNormalization())\r\n",
        "    model.add(LeakyReLU())\r\n",
        "\r\n",
        "    model.add(Conv2DTranspose(1, (5, 5), strides=(2, 2), padding='same', use_bias=False, activation='tanh'))\r\n",
        "    assert model.output_shape == (None, 28, 28, 1)\r\n",
        "\r\n",
        "    return model\r\n"
      ],
      "execution_count": 9,
      "outputs": []
    },
    {
      "cell_type": "code",
      "metadata": {
        "colab": {
          "base_uri": "https://localhost:8080/",
          "height": 282
        },
        "id": "XA8u2v-GEgPq",
        "outputId": "70f83262-1f5b-49fd-f237-d26f97048ff9"
      },
      "source": [
        "generator = generator_model()\r\n",
        "\r\n",
        "noise = tf.random.normal([1, 100])\r\n",
        "generated_image = generator(noise, training=False)\r\n",
        "\r\n",
        "plt.imshow(generated_image[0, :, :, 0], cmap='gray')"
      ],
      "execution_count": 10,
      "outputs": [
        {
          "output_type": "execute_result",
          "data": {
            "text/plain": [
              "<matplotlib.image.AxesImage at 0x7f1cd45965c0>"
            ]
          },
          "metadata": {
            "tags": []
          },
          "execution_count": 10
        },
        {
          "output_type": "display_data",
          "data": {
            "image/png": "[encoded data removed]",
            "text/plain": [
              "<Figure size 432x288 with 1 Axes>"
            ]
          },
          "metadata": {
            "tags": [],
            "needs_background": "light"
          }
        }
      ]
    },
    {
      "cell_type": "markdown",
      "metadata": {
        "id": "M23Hd8Guitdm"
      },
      "source": [
        "# Building the Discriminator Model"
      ]
    },
    {
      "cell_type": "code",
      "metadata": {
        "id": "eBcTF4PKFKYC"
      },
      "source": [
        "#Discriminator model\r\n",
        "def discriminator_model():\r\n",
        "    model = Sequential()\r\n",
        "    model.add(Conv2D(64, (5, 5), strides=(2, 2), padding='same', input_shape=[28, 28, 1]))\r\n",
        "    model.add(LeakyReLU())\r\n",
        "    model.add(Dropout(0.3))\r\n",
        "\r\n",
        "    model.add(Conv2D(128, (5, 5), strides=(2, 2), padding='same'))\r\n",
        "    model.add(LeakyReLU())\r\n",
        "    model.add(Dropout(0.3))\r\n",
        "\r\n",
        "    model.add(Flatten())\r\n",
        "    model.add(Dense(1))\r\n",
        "\r\n",
        "    return model"
      ],
      "execution_count": 11,
      "outputs": []
    },
    {
      "cell_type": "code",
      "metadata": {
        "colab": {
          "base_uri": "https://localhost:8080/"
        },
        "id": "4o-NwqQ9F6EY",
        "outputId": "7eea0c4c-1155-4728-f419-1fe1042afc59"
      },
      "source": [
        "discriminator = discriminator_model()\r\n",
        "decision = discriminator(generated_image)\r\n",
        "print(decision)"
      ],
      "execution_count": 12,
      "outputs": [
        {
          "output_type": "stream",
          "text": [
            "tf.Tensor([[0.00216195]], shape=(1, 1), dtype=float32)\n"
          ],
          "name": "stdout"
        }
      ]
    },
    {
      "cell_type": "markdown",
      "metadata": {
        "id": "YdeSeWi2jxD5"
      },
      "source": [
        "* Defining loss functions and optimizers for both models."
      ]
    },
    {
      "cell_type": "code",
      "metadata": {
        "id": "xtb869_lGH4p"
      },
      "source": [
        "from tensorflow.keras.losses import BinaryCrossentropy\r\n",
        "cross_entropy = BinaryCrossentropy(from_logits=True)"
      ],
      "execution_count": 13,
      "outputs": []
    },
    {
      "cell_type": "markdown",
      "metadata": {
        "id": "dbWijqc4j7Iz"
      },
      "source": [
        "* This method helps to distinguish between real images from fakes by discriminator.\r\n",
        "* Compares the discriminator's predictions on real images to an array of 1s, and the discriminator's predictions on fake (generated) images to an array of 0s"
      ]
    },
    {
      "cell_type": "code",
      "metadata": {
        "id": "SEpn4lCZGbrB"
      },
      "source": [
        "#discriminator loss function\r\n",
        "def discriminator_loss(real_output, fake_output):\r\n",
        "    real_loss = cross_entropy(tf.ones_like(real_output), real_output)\r\n",
        "    fake_loss = cross_entropy(tf.zeros_like(fake_output), fake_output)\r\n",
        "    total_loss = real_loss + fake_loss\r\n",
        "    return total_loss"
      ],
      "execution_count": 14,
      "outputs": []
    },
    {
      "cell_type": "markdown",
      "metadata": {
        "id": "hKhXmq2dkA6G"
      },
      "source": [
        "* The generator's loss quantifies how well it was able to trick the discriminator.\r\n",
        "* If the generator is performing well, the discriminator will classify the fake images as real (or 1). Here, we will compare the discriminators decisions on the generated images to an array of 1s."
      ]
    },
    {
      "cell_type": "code",
      "metadata": {
        "id": "x4YLQlQhHBuM"
      },
      "source": [
        "#generator loss function\r\n",
        "def generator_loss(fake_output):\r\n",
        "    return cross_entropy(tf.ones_like(fake_output), fake_output)"
      ],
      "execution_count": 15,
      "outputs": []
    },
    {
      "cell_type": "code",
      "metadata": {
        "id": "ki8Uv3iGHR22"
      },
      "source": [
        "generator_optimizer = Adam(1e-4)\r\n",
        "discriminator_optimizer = Adam(1e-4)"
      ],
      "execution_count": 16,
      "outputs": []
    },
    {
      "cell_type": "markdown",
      "metadata": {
        "id": "Jb8imivwkSig"
      },
      "source": [
        "* Generator receiving a random seed as input.\r\n",
        "* That seed is used to produce an image.\r\n",
        "* The discriminator is then used to classify real images (drawn from the training set) and fakes images (produced by the generator).\r\n",
        "* The loss is calculated for each of these models, and the gradients are used to update the generator and discriminator."
      ]
    },
    {
      "cell_type": "code",
      "metadata": {
        "id": "V0BHxEuEHesE"
      },
      "source": [
        "EPOCHS = 25\r\n",
        "noise_dim = 100\r\n",
        "num_examples_to_generate = 16\r\n",
        "\r\n",
        "seed = tf.random.normal([num_examples_to_generate, noise_dim])"
      ],
      "execution_count": 17,
      "outputs": []
    },
    {
      "cell_type": "markdown",
      "metadata": {
        "id": "YueBrbUjjWbU"
      },
      "source": [
        "* Creating the GAN where Generator and Discriminator will be combined.\r\n",
        "* When we train the generator we will freeze the Discriminator.\r\n",
        "* We will input the noised image of shape 100 units to the Generator.\r\n",
        "* The output generated from the Generator will be fed to the Discriminator."
      ]
    },
    {
      "cell_type": "code",
      "metadata": {
        "id": "-XdHIUVmH0wR"
      },
      "source": [
        "@tf.function\r\n",
        "def train_step(images):\r\n",
        "    noise = tf.random.normal([BATCH_SIZE, noise_dim])\r\n",
        "\r\n",
        "    with tf.GradientTape() as gen_tape, tf.GradientTape() as disc_tape:\r\n",
        "        generated_images = generator(noise, training=True)\r\n",
        "\r\n",
        "        real_output = discriminator(images, training=True)\r\n",
        "        fake_output = discriminator(generated_images, training=True)\r\n",
        "\r\n",
        "        gen_loss = generator_loss(fake_output)\r\n",
        "        disc_loss = discriminator_loss(real_output, fake_output)\r\n",
        "\r\n",
        "    gradients_of_generator = gen_tape.gradient(gen_loss, generator.trainable_variables)\r\n",
        "    gradients_of_discriminator = disc_tape.gradient(disc_loss, discriminator.trainable_variables)\r\n",
        "\r\n",
        "    generator_optimizer.apply_gradients(zip(gradients_of_generator, generator.trainable_variables))\r\n",
        "    discriminator_optimizer.apply_gradients(zip(gradients_of_discriminator, discriminator.trainable_variables))    "
      ],
      "execution_count": 18,
      "outputs": []
    },
    {
      "cell_type": "code",
      "metadata": {
        "id": "C5mlqJwoKkE8"
      },
      "source": [
        "def generate_and_save_images(model, epoch, test_input):\r\n",
        "    predictions = model(test_input, training=False)\r\n",
        "\r\n",
        "    fig = plt.figure(figsize=(4,4))\r\n",
        "\r\n",
        "    for i in range(predictions.shape[0]):\r\n",
        "        plt.subplot(4, 4, i+1)\r\n",
        "        plt.imshow(predictions[i, :, :, 0] * 127.5 + 127.5, cmap='gray')\r\n",
        "        plt.axis('off')\r\n",
        "\r\n",
        "    plt.savefig('image_at_epoch_{:04d}.png'.format(epoch))\r\n",
        "    plt.show()"
      ],
      "execution_count": 19,
      "outputs": []
    },
    {
      "cell_type": "code",
      "metadata": {
        "id": "duI1Mj3fJhOl"
      },
      "source": [
        "def train(dataset, epochs):\r\n",
        "    for epoch in range(epochs):\r\n",
        "        start = time.time()\r\n",
        "\r\n",
        "        for image_batch in dataset:\r\n",
        "            train_step(image_batch)\r\n",
        "\r\n",
        "        display.clear_output(wait=True)\r\n",
        "        generate_and_save_images(generator, epoch+1, seed)\r\n",
        "\r\n",
        "        print('Time for epoch {} is {} sec'.format(epoch+1, time.time()-start))\r\n",
        "\r\n",
        "    display.clear_output(wait=True)\r\n",
        "    generate_and_save_images(generator, epochs, seed)"
      ],
      "execution_count": 20,
      "outputs": []
    },
    {
      "cell_type": "code",
      "metadata": {
        "colab": {
          "base_uri": "https://localhost:8080/",
          "height": 248
        },
        "id": "9welIL87Lflg",
        "outputId": "92fc1a43-08f3-4c41-aa9c-bea026694d53"
      },
      "source": [
        "train(train_dataset, EPOCHS)"
      ],
      "execution_count": 21,
      "outputs": [
        {
          "output_type": "display_data",
          "data": {
            "image/png": "[encoded data removed]",
            "text/plain": [
              "<Figure size 288x288 with 16 Axes>"
            ]
          },
          "metadata": {
            "tags": [],
            "needs_background": "light"
          }
        }
      ]
    },
    {
      "cell_type": "code",
      "metadata": {
        "colab": {
          "base_uri": "https://localhost:8080/",
          "height": 286
        },
        "id": "C6p8Y-GxLpPg",
        "outputId": "003d424b-ef1d-440c-f4e8-813416271683"
      },
      "source": [
        "%pylab inline\r\n",
        "import matplotlib.pyplot as plt\r\n",
        "import matplotlib.image as mpimg\r\n",
        "img=mpimg.imread('/content/image_at_epoch_0025.png')\r\n",
        "imgplot = plt.imshow(img)\r\n",
        "plt.show()"
      ],
      "execution_count": 24,
      "outputs": [
        {
          "output_type": "stream",
          "text": [
            "Populating the interactive namespace from numpy and matplotlib\n"
          ],
          "name": "stdout"
        },
        {
          "output_type": "display_data",
          "data": {
            "image/png": "[encoded data removed]",
            "text/plain": [
              "<Figure size 432x288 with 1 Axes>"
            ]
          },
          "metadata": {
            "tags": [],
            "needs_background": "light"
          }
        }
      ]
    },
    {
      "cell_type": "markdown",
      "metadata": {
        "id": "3SXaux6bkmm_"
      },
      "source": [
        "* I have used the batch size of 100 to get better performance. Reducing the batch size will further improve the performance however, requires extra time to execute.\r\n",
        "* I have run the model only for 25 epochs considering the compute power available and got the above results. It can be furhter improved increasing the number of epochs."
      ]
    }
  ]
}