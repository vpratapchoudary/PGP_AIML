{
  "nbformat": 4,
  "nbformat_minor": 0,
  "metadata": {
    "colab": {
      "name": "NLP Assignment-2_ABC News.ipynb",
      "provenance": []
    },
    "kernelspec": {
      "name": "python3",
      "display_name": "Python 3"
    },
    "accelerator": "GPU"
  },
  "cells": [
    {
      "cell_type": "markdown",
      "metadata": {
        "id": "8L-ZJhg8aX1U"
      },
      "source": [
        "**Business Challenge**\n",
        "\n",
        "Newa articles includes the entire corpus of articles published by ABC website in the given time range. With a volume of 200 articles per day and a good focus on international news, we can be certain that every event of significance has been captured here.\n"
      ]
    },
    {
      "cell_type": "markdown",
      "metadata": {
        "id": "6Dl0QhT_bfSs"
      },
      "source": [
        "**Requirement**\n",
        "\n",
        "1. Load the dataset and create a dataframe\n",
        "2. Check the hygiene of data and sanitize it\n",
        "3. Create DTM using following parameters\n",
        "    * CountVectorizer(max_df=0.95, min_df=2, max_features=1000, ngram_range=(1,2), stop_words='english')\n",
        "4. Fit LDA model with 5 components\n",
        "5. Create a report using:\n",
        "\n",
        "    import mglearn as mg\n",
        "\n",
        "    sorting = np.argsort(lda.components_)[:, ::-1]\n",
        "\n",
        "    features = np.array(vect.get_feature_names())\n",
        "\n",
        "    mg.tools.print_topics(topics=range(5), feature_names=features, sorting=sorting, topics_per_chunk=5, n_words=25)\n",
        "\n",
        "Where LDA is the model created\n",
        "\n",
        "Vect is the vector created using CountVectorizer\n",
        "\n",
        "Key Issues:\n",
        "1. publish_date: Date of publishing for the article in yyyyMMDD format\n",
        "2. headline_text: Text of the headline in ASCII English, lowercase\n",
        "\n",
        "**Dataset**\n",
        "https://drive.google.com/file/d/10u4XP4NEcpDEgEAY4p46u3jYF3MK8ofK/view?usp=sharing"
      ]
    },
    {
      "cell_type": "code",
      "metadata": {
        "colab": {
          "base_uri": "https://localhost:8080/"
        },
        "id": "sn09onkLZ1aL",
        "outputId": "53e44c54-4268-429d-fcc3-0115e3a39ed5"
      },
      "source": [
        "#import libraries\n",
        "import pandas as pd\n",
        "import numpy as np\n",
        "import re\n",
        "import nltk\n",
        "nltk.download('stopwords')\n",
        "from nltk.corpus import stopwords\n",
        "from nltk.stem import PorterStemmer\n",
        "from sklearn.feature_extraction.text import CountVectorizer"
      ],
      "execution_count": 1,
      "outputs": [
        {
          "output_type": "stream",
          "text": [
            "[nltk_data] Downloading package stopwords to /root/nltk_data...\n",
            "[nltk_data]   Unzipping corpora/stopwords.zip.\n"
          ],
          "name": "stdout"
        }
      ]
    },
    {
      "cell_type": "code",
      "metadata": {
        "colab": {
          "base_uri": "https://localhost:8080/"
        },
        "id": "uhs5y0uMhSVs",
        "outputId": "b3d70b3e-0198-4876-a740-0af56297a3dd"
      },
      "source": [
        "#mount google drive\n",
        "from google.colab import drive\n",
        "drive.mount('/content/drive')"
      ],
      "execution_count": 2,
      "outputs": [
        {
          "output_type": "stream",
          "text": [
            "Mounted at /content/drive\n"
          ],
          "name": "stdout"
        }
      ]
    },
    {
      "cell_type": "code",
      "metadata": {
        "colab": {
          "base_uri": "https://localhost:8080/"
        },
        "id": "u1Rth54PhdaJ",
        "outputId": "956d713d-dfef-4455-cc5d-4494b0a7caee"
      },
      "source": [
        "#download dataset\n",
        "!gdown --id 10u4XP4NEcpDEgEAY4p46u3jYF3MK8ofK"
      ],
      "execution_count": 3,
      "outputs": [
        {
          "output_type": "stream",
          "text": [
            "Downloading...\n",
            "From: https://drive.google.com/uc?id=10u4XP4NEcpDEgEAY4p46u3jYF3MK8ofK\n",
            "To: /content/abcnews-date-text.csv\n",
            "55.4MB [00:00, 133MB/s]\n"
          ],
          "name": "stdout"
        }
      ]
    },
    {
      "cell_type": "code",
      "metadata": {
        "colab": {
          "base_uri": "https://localhost:8080/",
          "height": 204
        },
        "id": "K5m-gKvpiPsS",
        "outputId": "a4d43785-561a-4b73-c230-c63db35b55cd"
      },
      "source": [
        "#load the data to dataframe\n",
        "df = pd.read_csv(\"/content/abcnews-date-text.csv\")\n",
        "df.head()"
      ],
      "execution_count": 4,
      "outputs": [
        {
          "output_type": "execute_result",
          "data": {
            "text/html": [
              "<div>\n",
              "<style scoped>\n",
              "    .dataframe tbody tr th:only-of-type {\n",
              "        vertical-align: middle;\n",
              "    }\n",
              "\n",
              "    .dataframe tbody tr th {\n",
              "        vertical-align: top;\n",
              "    }\n",
              "\n",
              "    .dataframe thead th {\n",
              "        text-align: right;\n",
              "    }\n",
              "</style>\n",
              "<table border=\"1\" class=\"dataframe\">\n",
              "  <thead>\n",
              "    <tr style=\"text-align: right;\">\n",
              "      <th></th>\n",
              "      <th>publish_date</th>\n",
              "      <th>headline_text</th>\n",
              "    </tr>\n",
              "  </thead>\n",
              "  <tbody>\n",
              "    <tr>\n",
              "      <th>0</th>\n",
              "      <td>20030219</td>\n",
              "      <td>aba decides against community broadcasting lic...</td>\n",
              "    </tr>\n",
              "    <tr>\n",
              "      <th>1</th>\n",
              "      <td>20030219</td>\n",
              "      <td>act fire witnesses must be aware of defamation</td>\n",
              "    </tr>\n",
              "    <tr>\n",
              "      <th>2</th>\n",
              "      <td>20030219</td>\n",
              "      <td>a g calls for infrastructure protection summit</td>\n",
              "    </tr>\n",
              "    <tr>\n",
              "      <th>3</th>\n",
              "      <td>20030219</td>\n",
              "      <td>air nz staff in aust strike for pay rise</td>\n",
              "    </tr>\n",
              "    <tr>\n",
              "      <th>4</th>\n",
              "      <td>20030219</td>\n",
              "      <td>air nz strike to affect australian travellers</td>\n",
              "    </tr>\n",
              "  </tbody>\n",
              "</table>\n",
              "</div>"
            ],
            "text/plain": [
              "   publish_date                                      headline_text\n",
              "0      20030219  aba decides against community broadcasting lic...\n",
              "1      20030219     act fire witnesses must be aware of defamation\n",
              "2      20030219     a g calls for infrastructure protection summit\n",
              "3      20030219           air nz staff in aust strike for pay rise\n",
              "4      20030219      air nz strike to affect australian travellers"
            ]
          },
          "metadata": {
            "tags": []
          },
          "execution_count": 4
        }
      ]
    },
    {
      "cell_type": "code",
      "metadata": {
        "colab": {
          "base_uri": "https://localhost:8080/"
        },
        "id": "dGEtU1wlifpH",
        "outputId": "43abada5-98f4-4dc1-d047-8f0c724248dc"
      },
      "source": [
        "#check properties\n",
        "print(df.shape)\n",
        "print(df.dtypes)"
      ],
      "execution_count": 5,
      "outputs": [
        {
          "output_type": "stream",
          "text": [
            "(1103663, 2)\n",
            "publish_date      int64\n",
            "headline_text    object\n",
            "dtype: object\n"
          ],
          "name": "stdout"
        }
      ]
    },
    {
      "cell_type": "code",
      "metadata": {
        "colab": {
          "base_uri": "https://localhost:8080/",
          "height": 204
        },
        "id": "Q0culJKKixp2",
        "outputId": "ff909e63-19f1-4915-ef48-4c570c2bdd68"
      },
      "source": [
        "#extract year and month from publish_date\n",
        "df['year'] = df['publish_date'].astype(str).str[:4].astype(np.int64)\n",
        "df['month'] = df['publish_date'].astype(str).str[4:6].astype(np.int64)\n",
        "df.head()"
      ],
      "execution_count": 6,
      "outputs": [
        {
          "output_type": "execute_result",
          "data": {
            "text/html": [
              "<div>\n",
              "<style scoped>\n",
              "    .dataframe tbody tr th:only-of-type {\n",
              "        vertical-align: middle;\n",
              "    }\n",
              "\n",
              "    .dataframe tbody tr th {\n",
              "        vertical-align: top;\n",
              "    }\n",
              "\n",
              "    .dataframe thead th {\n",
              "        text-align: right;\n",
              "    }\n",
              "</style>\n",
              "<table border=\"1\" class=\"dataframe\">\n",
              "  <thead>\n",
              "    <tr style=\"text-align: right;\">\n",
              "      <th></th>\n",
              "      <th>publish_date</th>\n",
              "      <th>headline_text</th>\n",
              "      <th>year</th>\n",
              "      <th>month</th>\n",
              "    </tr>\n",
              "  </thead>\n",
              "  <tbody>\n",
              "    <tr>\n",
              "      <th>0</th>\n",
              "      <td>20030219</td>\n",
              "      <td>aba decides against community broadcasting lic...</td>\n",
              "      <td>2003</td>\n",
              "      <td>2</td>\n",
              "    </tr>\n",
              "    <tr>\n",
              "      <th>1</th>\n",
              "      <td>20030219</td>\n",
              "      <td>act fire witnesses must be aware of defamation</td>\n",
              "      <td>2003</td>\n",
              "      <td>2</td>\n",
              "    </tr>\n",
              "    <tr>\n",
              "      <th>2</th>\n",
              "      <td>20030219</td>\n",
              "      <td>a g calls for infrastructure protection summit</td>\n",
              "      <td>2003</td>\n",
              "      <td>2</td>\n",
              "    </tr>\n",
              "    <tr>\n",
              "      <th>3</th>\n",
              "      <td>20030219</td>\n",
              "      <td>air nz staff in aust strike for pay rise</td>\n",
              "      <td>2003</td>\n",
              "      <td>2</td>\n",
              "    </tr>\n",
              "    <tr>\n",
              "      <th>4</th>\n",
              "      <td>20030219</td>\n",
              "      <td>air nz strike to affect australian travellers</td>\n",
              "      <td>2003</td>\n",
              "      <td>2</td>\n",
              "    </tr>\n",
              "  </tbody>\n",
              "</table>\n",
              "</div>"
            ],
            "text/plain": [
              "   publish_date                                      headline_text  year  month\n",
              "0      20030219  aba decides against community broadcasting lic...  2003      2\n",
              "1      20030219     act fire witnesses must be aware of defamation  2003      2\n",
              "2      20030219     a g calls for infrastructure protection summit  2003      2\n",
              "3      20030219           air nz staff in aust strike for pay rise  2003      2\n",
              "4      20030219      air nz strike to affect australian travellers  2003      2"
            ]
          },
          "metadata": {
            "tags": []
          },
          "execution_count": 6
        }
      ]
    },
    {
      "cell_type": "code",
      "metadata": {
        "colab": {
          "base_uri": "https://localhost:8080/"
        },
        "id": "nVYnERVijdS3",
        "outputId": "cace7657-dc50-4321-d1fb-068afa42493e"
      },
      "source": [
        "#checking the hygiene of year and month\n",
        "print(df.year.unique())\n",
        "print(df.month.unique())"
      ],
      "execution_count": 7,
      "outputs": [
        {
          "output_type": "stream",
          "text": [
            "[2003 2004 2005 2006 2007 2008 2009 2010 2011 2012 2013 2014 2015 2016\n",
            " 2017]\n",
            "[ 2  3  4  5  6  7  8  9 10 11 12  1]\n"
          ],
          "name": "stdout"
        }
      ]
    },
    {
      "cell_type": "code",
      "metadata": {
        "colab": {
          "base_uri": "https://localhost:8080/",
          "height": 312
        },
        "id": "YS8nj8mwkCli",
        "outputId": "d48ed68f-60b7-4bee-ae79-47a83a326903"
      },
      "source": [
        "#plot the number of articles per year\n",
        "import matplotlib.pyplot as plt\n",
        "import seaborn as sns\n",
        "\n",
        "with sns.color_palette(\"GnBu_d\", 10):\n",
        "  ax = sns.countplot(y='year', data=df)\n",
        "  ax.set(xlabel='No. of Articles', ylabel='Year')\n",
        "plt.title(\"Number of Articles per Year\")"
      ],
      "execution_count": 8,
      "outputs": [
        {
          "output_type": "execute_result",
          "data": {
            "text/plain": [
              "Text(0.5, 1.0, 'Number of Articles per Year')"
            ]
          },
          "metadata": {
            "tags": []
          },
          "execution_count": 8
        },
        {
          "output_type": "display_data",
          "data": {
            "image/png": "[encoded data removed]",
            "text/plain": [
              "<Figure size 432x288 with 1 Axes>"
            ]
          },
          "metadata": {
            "tags": [],
            "needs_background": "light"
          }
        }
      ]
    },
    {
      "cell_type": "code",
      "metadata": {
        "colab": {
          "base_uri": "https://localhost:8080/",
          "height": 204
        },
        "id": "pL8b8pqnk825",
        "outputId": "ccac1bb1-5320-41af-f679-fad3dda6bf6c"
      },
      "source": [
        "#remove stop words and apply stemming\n",
        "corpus = []\n",
        "ps = PorterStemmer()\n",
        "stop_words = set(stopwords.words('english'))\n",
        "\n",
        "for i in range(len(df)):\n",
        "  #remove special characters\n",
        "  text = re.sub('[^a-zA-Z]', \" \", df['headline_text'][i]).lower().split()\n",
        "\n",
        "  #Stemming and removing stop words\n",
        "  text = [ps.stem(word) for word in text if word not in stop_words]\n",
        "\n",
        "  #joining all the cleaned words\n",
        "  text = \" \".join(text)\n",
        "\n",
        "  #add cleaned text to corpus\n",
        "  corpus.append(text)\n",
        "\n",
        "#add the cleaned articles to dataframe\n",
        "df['headline_cleaned'] = corpus\n",
        "df.head()"
      ],
      "execution_count": 9,
      "outputs": [
        {
          "output_type": "execute_result",
          "data": {
            "text/html": [
              "<div>\n",
              "<style scoped>\n",
              "    .dataframe tbody tr th:only-of-type {\n",
              "        vertical-align: middle;\n",
              "    }\n",
              "\n",
              "    .dataframe tbody tr th {\n",
              "        vertical-align: top;\n",
              "    }\n",
              "\n",
              "    .dataframe thead th {\n",
              "        text-align: right;\n",
              "    }\n",
              "</style>\n",
              "<table border=\"1\" class=\"dataframe\">\n",
              "  <thead>\n",
              "    <tr style=\"text-align: right;\">\n",
              "      <th></th>\n",
              "      <th>publish_date</th>\n",
              "      <th>headline_text</th>\n",
              "      <th>year</th>\n",
              "      <th>month</th>\n",
              "      <th>headline_cleaned</th>\n",
              "    </tr>\n",
              "  </thead>\n",
              "  <tbody>\n",
              "    <tr>\n",
              "      <th>0</th>\n",
              "      <td>20030219</td>\n",
              "      <td>aba decides against community broadcasting lic...</td>\n",
              "      <td>2003</td>\n",
              "      <td>2</td>\n",
              "      <td>aba decid commun broadcast licenc</td>\n",
              "    </tr>\n",
              "    <tr>\n",
              "      <th>1</th>\n",
              "      <td>20030219</td>\n",
              "      <td>act fire witnesses must be aware of defamation</td>\n",
              "      <td>2003</td>\n",
              "      <td>2</td>\n",
              "      <td>act fire wit must awar defam</td>\n",
              "    </tr>\n",
              "    <tr>\n",
              "      <th>2</th>\n",
              "      <td>20030219</td>\n",
              "      <td>a g calls for infrastructure protection summit</td>\n",
              "      <td>2003</td>\n",
              "      <td>2</td>\n",
              "      <td>g call infrastructur protect summit</td>\n",
              "    </tr>\n",
              "    <tr>\n",
              "      <th>3</th>\n",
              "      <td>20030219</td>\n",
              "      <td>air nz staff in aust strike for pay rise</td>\n",
              "      <td>2003</td>\n",
              "      <td>2</td>\n",
              "      <td>air nz staff aust strike pay rise</td>\n",
              "    </tr>\n",
              "    <tr>\n",
              "      <th>4</th>\n",
              "      <td>20030219</td>\n",
              "      <td>air nz strike to affect australian travellers</td>\n",
              "      <td>2003</td>\n",
              "      <td>2</td>\n",
              "      <td>air nz strike affect australian travel</td>\n",
              "    </tr>\n",
              "  </tbody>\n",
              "</table>\n",
              "</div>"
            ],
            "text/plain": [
              "   publish_date  ...                        headline_cleaned\n",
              "0      20030219  ...       aba decid commun broadcast licenc\n",
              "1      20030219  ...            act fire wit must awar defam\n",
              "2      20030219  ...     g call infrastructur protect summit\n",
              "3      20030219  ...       air nz staff aust strike pay rise\n",
              "4      20030219  ...  air nz strike affect australian travel\n",
              "\n",
              "[5 rows x 5 columns]"
            ]
          },
          "metadata": {
            "tags": []
          },
          "execution_count": 9
        }
      ]
    },
    {
      "cell_type": "code",
      "metadata": {
        "id": "7UwnIWDxoVbY"
      },
      "source": [
        "#create DTM with CountVectorizer\n",
        "vectorizer = CountVectorizer(max_df=0.95, min_df=2, max_features=1000, ngram_range=(1,2), stop_words='english')\n",
        "dtm = vectorizer.fit_transform(df['headline_cleaned'].values.astype('U'))"
      ],
      "execution_count": 10,
      "outputs": []
    },
    {
      "cell_type": "code",
      "metadata": {
        "colab": {
          "base_uri": "https://localhost:8080/"
        },
        "id": "Bd4093SC3rrj",
        "outputId": "b973fdf7-b128-4e00-9174-4df0c96007da"
      },
      "source": [
        "#LDA model\n",
        "from sklearn.decomposition import LatentDirichletAllocation\n",
        "\n",
        "LDA = LatentDirichletAllocation(n_components=5, random_state=42)\n",
        "LDA.fit(dtm)"
      ],
      "execution_count": 11,
      "outputs": [
        {
          "output_type": "execute_result",
          "data": {
            "text/plain": [
              "LatentDirichletAllocation(batch_size=128, doc_topic_prior=None,\n",
              "                          evaluate_every=-1, learning_decay=0.7,\n",
              "                          learning_method='batch', learning_offset=10.0,\n",
              "                          max_doc_update_iter=100, max_iter=10,\n",
              "                          mean_change_tol=0.001, n_components=5, n_jobs=None,\n",
              "                          perp_tol=0.1, random_state=42, topic_word_prior=None,\n",
              "                          total_samples=1000000.0, verbose=0)"
            ]
          },
          "metadata": {
            "tags": []
          },
          "execution_count": 11
        }
      ]
    },
    {
      "cell_type": "code",
      "metadata": {
        "colab": {
          "base_uri": "https://localhost:8080/"
        },
        "id": "l706CkQ83_Jf",
        "outputId": "8b621ebb-1a14-445d-8e93-032609c421c4"
      },
      "source": [
        "#!pip install mglearn\n",
        "import mglearn as mg\n",
        "sorting = np.argsort(LDA.components_)[:, ::-1]\n",
        "features = np.array(vectorizer.get_feature_names())\n",
        "mg.tools.print_topics(topics=range(5), feature_names=features, sorting=sorting, topics_per_chunk=5, n_words=25)"
      ],
      "execution_count": 13,
      "outputs": [
        {
          "output_type": "stream",
          "text": [
            "Collecting mglearn\n",
            "\u001b[?25l  Downloading https://files.pythonhosted.org/packages/65/38/8aced26fce0b2ae82c3c87cd3b6105f38ca6d9d51704ecc44aa54473e6b9/mglearn-0.1.9.tar.gz (540kB)\n",
            "\r\u001b[K     |▋                               | 10kB 20.0MB/s eta 0:00:01\r\u001b[K     |█▏                              | 20kB 11.3MB/s eta 0:00:01\r\u001b[K     |█▉                              | 30kB 8.8MB/s eta 0:00:01\r\u001b[K     |██▍                             | 40kB 8.0MB/s eta 0:00:01\r\u001b[K     |███                             | 51kB 4.9MB/s eta 0:00:01\r\u001b[K     |███▋                            | 61kB 5.3MB/s eta 0:00:01\r\u001b[K     |████▎                           | 71kB 5.7MB/s eta 0:00:01\r\u001b[K     |████▉                           | 81kB 5.9MB/s eta 0:00:01\r\u001b[K     |█████▌                          | 92kB 5.7MB/s eta 0:00:01\r\u001b[K     |██████                          | 102kB 5.9MB/s eta 0:00:01\r\u001b[K     |██████▊                         | 112kB 5.9MB/s eta 0:00:01\r\u001b[K     |███████▎                        | 122kB 5.9MB/s eta 0:00:01\r\u001b[K     |███████▉                        | 133kB 5.9MB/s eta 0:00:01\r\u001b[K     |████████▌                       | 143kB 5.9MB/s eta 0:00:01\r\u001b[K     |█████████                       | 153kB 5.9MB/s eta 0:00:01\r\u001b[K     |█████████▊                      | 163kB 5.9MB/s eta 0:00:01\r\u001b[K     |██████████▎                     | 174kB 5.9MB/s eta 0:00:01\r\u001b[K     |███████████                     | 184kB 5.9MB/s eta 0:00:01\r\u001b[K     |███████████▌                    | 194kB 5.9MB/s eta 0:00:01\r\u001b[K     |████████████▏                   | 204kB 5.9MB/s eta 0:00:01\r\u001b[K     |████████████▊                   | 215kB 5.9MB/s eta 0:00:01\r\u001b[K     |█████████████▍                  | 225kB 5.9MB/s eta 0:00:01\r\u001b[K     |██████████████                  | 235kB 5.9MB/s eta 0:00:01\r\u001b[K     |██████████████▋                 | 245kB 5.9MB/s eta 0:00:01\r\u001b[K     |███████████████▏                | 256kB 5.9MB/s eta 0:00:01\r\u001b[K     |███████████████▊                | 266kB 5.9MB/s eta 0:00:01\r\u001b[K     |████████████████▍               | 276kB 5.9MB/s eta 0:00:01\r\u001b[K     |█████████████████               | 286kB 5.9MB/s eta 0:00:01\r\u001b[K     |█████████████████▋              | 296kB 5.9MB/s eta 0:00:01\r\u001b[K     |██████████████████▏             | 307kB 5.9MB/s eta 0:00:01\r\u001b[K     |██████████████████▉             | 317kB 5.9MB/s eta 0:00:01\r\u001b[K     |███████████████████▍            | 327kB 5.9MB/s eta 0:00:01\r\u001b[K     |████████████████████            | 337kB 5.9MB/s eta 0:00:01\r\u001b[K     |████████████████████▋           | 348kB 5.9MB/s eta 0:00:01\r\u001b[K     |█████████████████████▎          | 358kB 5.9MB/s eta 0:00:01\r\u001b[K     |█████████████████████▉          | 368kB 5.9MB/s eta 0:00:01\r\u001b[K     |██████████████████████▌         | 378kB 5.9MB/s eta 0:00:01\r\u001b[K     |███████████████████████         | 389kB 5.9MB/s eta 0:00:01\r\u001b[K     |███████████████████████▋        | 399kB 5.9MB/s eta 0:00:01\r\u001b[K     |████████████████████████▎       | 409kB 5.9MB/s eta 0:00:01\r\u001b[K     |████████████████████████▉       | 419kB 5.9MB/s eta 0:00:01\r\u001b[K     |█████████████████████████▌      | 430kB 5.9MB/s eta 0:00:01\r\u001b[K     |██████████████████████████      | 440kB 5.9MB/s eta 0:00:01\r\u001b[K     |██████████████████████████▊     | 450kB 5.9MB/s eta 0:00:01\r\u001b[K     |███████████████████████████▎    | 460kB 5.9MB/s eta 0:00:01\r\u001b[K     |████████████████████████████    | 471kB 5.9MB/s eta 0:00:01\r\u001b[K     |████████████████████████████▌   | 481kB 5.9MB/s eta 0:00:01\r\u001b[K     |█████████████████████████████▏  | 491kB 5.9MB/s eta 0:00:01\r\u001b[K     |█████████████████████████████▊  | 501kB 5.9MB/s eta 0:00:01\r\u001b[K     |██████████████████████████████▍ | 512kB 5.9MB/s eta 0:00:01\r\u001b[K     |███████████████████████████████ | 522kB 5.9MB/s eta 0:00:01\r\u001b[K     |███████████████████████████████▌| 532kB 5.9MB/s eta 0:00:01\r\u001b[K     |████████████████████████████████| 542kB 5.9MB/s \n",
            "\u001b[?25hRequirement already satisfied: numpy in /usr/local/lib/python3.7/dist-packages (from mglearn) (1.19.5)\n",
            "Requirement already satisfied: matplotlib in /usr/local/lib/python3.7/dist-packages (from mglearn) (3.2.2)\n",
            "Requirement already satisfied: scikit-learn in /usr/local/lib/python3.7/dist-packages (from mglearn) (0.22.2.post1)\n",
            "Requirement already satisfied: pandas in /usr/local/lib/python3.7/dist-packages (from mglearn) (1.1.5)\n",
            "Requirement already satisfied: pillow in /usr/local/lib/python3.7/dist-packages (from mglearn) (7.0.0)\n",
            "Requirement already satisfied: cycler in /usr/local/lib/python3.7/dist-packages (from mglearn) (0.10.0)\n",
            "Requirement already satisfied: imageio in /usr/local/lib/python3.7/dist-packages (from mglearn) (2.4.1)\n",
            "Requirement already satisfied: joblib in /usr/local/lib/python3.7/dist-packages (from mglearn) (1.0.1)\n",
            "Requirement already satisfied: python-dateutil>=2.1 in /usr/local/lib/python3.7/dist-packages (from matplotlib->mglearn) (2.8.1)\n",
            "Requirement already satisfied: kiwisolver>=1.0.1 in /usr/local/lib/python3.7/dist-packages (from matplotlib->mglearn) (1.3.1)\n",
            "Requirement already satisfied: pyparsing!=2.0.4,!=2.1.2,!=2.1.6,>=2.0.1 in /usr/local/lib/python3.7/dist-packages (from matplotlib->mglearn) (2.4.7)\n",
            "Requirement already satisfied: scipy>=0.17.0 in /usr/local/lib/python3.7/dist-packages (from scikit-learn->mglearn) (1.4.1)\n",
            "Requirement already satisfied: pytz>=2017.2 in /usr/local/lib/python3.7/dist-packages (from pandas->mglearn) (2018.9)\n",
            "Requirement already satisfied: six in /usr/local/lib/python3.7/dist-packages (from cycler->mglearn) (1.15.0)\n",
            "Building wheels for collected packages: mglearn\n",
            "  Building wheel for mglearn (setup.py) ... \u001b[?25l\u001b[?25hdone\n",
            "  Created wheel for mglearn: filename=mglearn-0.1.9-py2.py3-none-any.whl size=582638 sha256=41d1451a98fec91cc4cb736c5a12ba2ce4ca09f1ceea6f3cb9f207864fab7db5\n",
            "  Stored in directory: /root/.cache/pip/wheels/eb/a6/ea/a6a3716233fa62fc561259b5cb1e28f79e9ff3592c0adac5f0\n",
            "Successfully built mglearn\n",
            "Installing collected packages: mglearn\n",
            "Successfully installed mglearn-0.1.9\n",
            "topic 0       topic 1       topic 2       topic 3       topic 4       \n",
            "--------      --------      --------      --------      --------      \n",
            "plan          polic         court         win           man           \n",
            "health        kill          face          urg           interview     \n",
            "warn          crash         chang         new           charg         \n",
            "market        council       govt          help          sydney        \n",
            "rise          australian    accus         set           australia     \n",
            "report        open          cut           world         jail          \n",
            "new           car           govern        make          day           \n",
            "boost         miss          job           cup           hit           \n",
            "talk          water         farmer        final         test          \n",
            "power         man           concern       iraq          south         \n",
            "price         coast         murder        child         investig      \n",
            "work          die           rural         support       death         \n",
            "busi          attack        green         centr         fight         \n",
            "return        probe         elect         say           lead          \n",
            "servic        gold          trial         student       pm            \n",
            "hous          dead          minist        school        say           \n",
            "council       countri       case          adelaid       polic         \n",
            "forc          consid        nsw           war           famili        \n",
            "commun        search        law           blaze         nation        \n",
            "home          sa            driver        australia     arrest        \n",
            "hope          inquiri       say           victim        head          \n",
            "say           want          fund          abus          leader        \n",
            "share         hour          public        award         run           \n",
            "region        road          reject        game          drug          \n",
            "canberra      woman         hospit        defend        shoot         \n",
            "\n",
            "\n"
          ],
          "name": "stdout"
        }
      ]
    }
  ]
}