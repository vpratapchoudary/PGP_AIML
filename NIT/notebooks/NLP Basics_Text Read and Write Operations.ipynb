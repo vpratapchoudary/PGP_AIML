{
 "cells": [
  {
   "cell_type": "markdown",
   "metadata": {},
   "source": [
    "1. Write code snippets in python to perform the following tasks\n",
    "    * Print your current working directory\n",
    "    * Create a new directory on your desktop named: \"Text Mining and NLP\"\n",
    "    * Make \"Text Mining and NLP\" your current working directory"
   ]
  },
  {
   "cell_type": "code",
   "execution_count": 1,
   "metadata": {},
   "outputs": [
    {
     "name": "stdout",
     "output_type": "stream",
     "text": [
      "Current working directory: /home/edureka/NLP Assignment-1\n",
      "New working directory: /home/edureka/Text Mining and NLP\n"
     ]
    }
   ],
   "source": [
    "import os\n",
    "\n",
    "#print current working directory\n",
    "print(\"Current working directory:\", os.getcwd())\n",
    "\n",
    "#Create new directory \"Text Mining and NLP\"\n",
    "os.mkdir(\"../Text Mining and NLP\")\n",
    "\n",
    "#Change directory\n",
    "os.chdir(\"../Text Mining and NLP\")\n",
    "\n",
    "#print new directory\n",
    "print(\"New working directory:\", os.getcwd())"
   ]
  },
  {
   "cell_type": "markdown",
   "metadata": {},
   "source": [
    "2. Write code snippets in python to perform the following tasks\n",
    "    * Create a text file named Greetings.txt and write \"Welcome to Text Mining and Natural Language Processing\"\n",
    "    * Move this file to the folder Text Mining and NLP which you created in ques1\n",
    "    * Rename this file to \"Welcome.txt\""
   ]
  },
  {
   "cell_type": "code",
   "execution_count": 2,
   "metadata": {},
   "outputs": [
    {
     "name": "stdout",
     "output_type": "stream",
     "text": [
      "/home/edureka\n"
     ]
    }
   ],
   "source": [
    "#change directory to home\n",
    "os.chdir(\"../\")\n",
    "print(os.getcwd())\n",
    "\n",
    "#creating a text file\n",
    "file = open(\"Greetings.txt\", mode='x+')"
   ]
  },
  {
   "cell_type": "code",
   "execution_count": 3,
   "metadata": {},
   "outputs": [],
   "source": [
    "#write text to file\n",
    "file = open(\"Greetings.txt\", mode='w+')\n",
    "file.write(\"Welcome to Text Mining and Natural Language Processing\")\n",
    "file.close()"
   ]
  },
  {
   "cell_type": "code",
   "execution_count": 4,
   "metadata": {},
   "outputs": [
    {
     "data": {
      "text/plain": [
       "'/home/edureka/Text Mining and NLP/Welcome.txt'"
      ]
     },
     "execution_count": 4,
     "metadata": {},
     "output_type": "execute_result"
    }
   ],
   "source": [
    "#move the file and rename\n",
    "import shutil\n",
    "shutil.move(\"/home/edureka/Greetings.txt\", \"/home/edureka/Text Mining and NLP/Welcome.txt\")"
   ]
  },
  {
   "cell_type": "markdown",
   "metadata": {},
   "source": [
    "3. You are given a Docx file named NLP.docx. Perform the following tasks:\n",
    "    * use the DOCX module to open the file and perform the following tasks:\n",
    "        * How many paragraphs are there in the file?\n",
    "        * For each paragraph, print the numbers of words it contains\n",
    "        * Read the content from the Welcome.txt file which you created in question number 2 and make that content the first paragraph in the NLP.docx file"
   ]
  },
  {
   "cell_type": "code",
   "execution_count": 5,
   "metadata": {},
   "outputs": [
    {
     "name": "stdout",
     "output_type": "stream",
     "text": [
      "Number of Paragraphs in the Doc: 26\n"
     ]
    }
   ],
   "source": [
    "#import the docx module\n",
    "import docx\n",
    "\n",
    "#read the word file\n",
    "doc = docx.Document(\"/home/edureka/NLP Assignment-1/NLP.docx\")\n",
    "\n",
    "#print no. of paragraphs\n",
    "paras = doc.paragraphs\n",
    "print(\"Number of Paragraphs in the Doc:\", len(paras))"
   ]
  },
  {
   "cell_type": "code",
   "execution_count": 11,
   "metadata": {},
   "outputs": [
    {
     "name": "stdout",
     "output_type": "stream",
     "text": [
      "Number of words in para 1: 72\n",
      "Number of words in para 2: 59\n",
      "Number of words in para 3: 134\n",
      "Number of words in para 4: 27\n",
      "Number of words in para 5: 6\n",
      "Number of words in para 6: 72\n",
      "Number of words in para 7: 38\n",
      "Number of words in para 8: 62\n",
      "Number of words in para 9: 48\n",
      "Number of words in para 10: 52\n",
      "Number of words in para 11: 9\n",
      "Number of words in para 12: 64\n",
      "Number of words in para 13: 40\n",
      "Number of words in para 14: 77\n",
      "Number of words in para 15: 96\n",
      "Number of words in para 16: 8\n",
      "Number of words in para 17: 48\n",
      "Number of words in para 18: 108\n",
      "Number of words in para 19: 33\n",
      "Number of words in para 20: 53\n",
      "Number of words in para 21: 60\n",
      "Number of words in para 22: 6\n",
      "Number of words in para 23: 81\n",
      "Number of words in para 24: 92\n",
      "Number of words in para 25: 71\n",
      "Number of words in para 26: 60\n"
     ]
    }
   ],
   "source": [
    "#print the number of words in each paragraph\n",
    "import re\n",
    "\n",
    "para_num = 1\n",
    "\n",
    "for para in paras:\n",
    "    string = para.text\n",
    "    print(\"Number of words in para {}: {}\".format(para_num, len(re.findall(r'\\w+', string))))\n",
    "    para_num += 1"
   ]
  },
  {
   "cell_type": "code",
   "execution_count": 12,
   "metadata": {},
   "outputs": [],
   "source": [
    "#read content from Welcome.txt and write to NLP.docx\n",
    "file = open(\"/home/edureka/Text Mining and NLP/Welcome.txt\", mode='r')\n",
    "text = file.read()\n",
    "file.close()\n",
    "\n",
    "#insert to first paragraph\n",
    "new_para = paras[0].insert_paragraph_before(text)"
   ]
  },
  {
   "cell_type": "code",
   "execution_count": 13,
   "metadata": {},
   "outputs": [],
   "source": [
    "#save the doc\n",
    "doc.save(\"/home/edureka/NLP Assignment-1/NLP.docx\")"
   ]
  },
  {
   "cell_type": "code",
   "execution_count": 18,
   "metadata": {
    "scrolled": true
   },
   "outputs": [
    {
     "name": "stdout",
     "output_type": "stream",
     "text": [
      "Welcome to Text Mining and Natural Language Processing\n"
     ]
    }
   ],
   "source": [
    "#check the newly added text\n",
    "new_doc = docx.Document(\"/home/edureka/NLP Assignment-1/NLP.docx\")\n",
    "new_paras = doc.paragraphs\n",
    "print(new_paras[0].text)"
   ]
  },
  {
   "cell_type": "markdown",
   "metadata": {},
   "source": [
    "4. You are given a CSV file named \"EmployeeDetails.csv\". Perform the following tasks:\n",
    "    * Use the pandas module to read the CSV file\n",
    "    * Split the name as first name and last name and make 2 separate columns\n",
    "    * Delete \"Name Column\"\n",
    "    * Increment the \"Salary\" Column by 10% of the existing value and save changes in the same column\n",
    "    * Save changes to a new file named \"Employee_Data.csv\""
   ]
  },
  {
   "cell_type": "code",
   "execution_count": 29,
   "metadata": {},
   "outputs": [
    {
     "name": "stdout",
     "output_type": "stream",
     "text": [
      "             Name   Age  Salary\n",
      "0     Arjun singh    24   10000\n",
      "1       Vibhor Jha   26   25000\n",
      "2  Yoshita Debnath   23   15000\n",
      "3   Abhitesh Setia   25   18000\n",
      "4    Shaurya Nayar   26   30000\n",
      "5      Disha Gupta   27   23000\n"
     ]
    }
   ],
   "source": [
    "#read csv file\n",
    "import pandas as pd\n",
    "df = pd.read_csv(\"/home/edureka/NLP Assignment-1/EmployeeDetails.csv\")\n",
    "print(df)"
   ]
  },
  {
   "cell_type": "code",
   "execution_count": 31,
   "metadata": {},
   "outputs": [
    {
     "name": "stdout",
     "output_type": "stream",
     "text": [
      "             Name   Age  Salary First_Name Last_Name\n",
      "0     Arjun singh    24   10000      Arjun     singh\n",
      "1       Vibhor Jha   26   25000     Vibhor       Jha\n",
      "2  Yoshita Debnath   23   15000    Yoshita   Debnath\n",
      "3   Abhitesh Setia   25   18000   Abhitesh     Setia\n",
      "4    Shaurya Nayar   26   30000    Shaurya     Nayar\n",
      "5      Disha Gupta   27   23000      Disha     Gupta\n"
     ]
    }
   ],
   "source": [
    "#split first and last names\n",
    "first_names = []\n",
    "last_names = []\n",
    "for i in range(len(df)):\n",
    "    split = df.iloc[i][0].split()\n",
    "    first_names.append(split[0])\n",
    "    last_names.append(split[1])\n",
    "df['First_Name'] = first_names\n",
    "df['Last_Name'] = last_names\n",
    "print(df)"
   ]
  },
  {
   "cell_type": "code",
   "execution_count": 38,
   "metadata": {},
   "outputs": [
    {
     "name": "stdout",
     "output_type": "stream",
     "text": [
      "Index(['Name ', 'Age', 'Salary', 'First_Name', 'Last_Name'], dtype='object')\n",
      "   Age  Salary First_Name Last_Name\n",
      "0   24   10000      Arjun     singh\n",
      "1   26   25000     Vibhor       Jha\n",
      "2   23   15000    Yoshita   Debnath\n",
      "3   25   18000   Abhitesh     Setia\n",
      "4   26   30000    Shaurya     Nayar\n",
      "5   27   23000      Disha     Gupta\n"
     ]
    }
   ],
   "source": [
    "#delete Name column\n",
    "print(df.columns)\n",
    "df.drop(['Name '], axis=1, inplace=True)\n",
    "print(df)"
   ]
  },
  {
   "cell_type": "code",
   "execution_count": 39,
   "metadata": {},
   "outputs": [
    {
     "name": "stdout",
     "output_type": "stream",
     "text": [
      "   Age   Salary First_Name Last_Name\n",
      "0   24  11000.0      Arjun     singh\n",
      "1   26  27500.0     Vibhor       Jha\n",
      "2   23  16500.0    Yoshita   Debnath\n",
      "3   25  19800.0   Abhitesh     Setia\n",
      "4   26  33000.0    Shaurya     Nayar\n",
      "5   27  25300.0      Disha     Gupta\n"
     ]
    }
   ],
   "source": [
    "#increment salary by 10%\n",
    "df['Salary'] = (df['Salary'] + df['Salary']*0.1)\n",
    "print(df)"
   ]
  },
  {
   "cell_type": "code",
   "execution_count": 40,
   "metadata": {},
   "outputs": [],
   "source": [
    "#save to a new file\n",
    "df.to_csv(\"/home/edureka/NLP Assignment-1/Employee_Data.csv\")"
   ]
  }
 ],
 "metadata": {
  "kernelspec": {
   "display_name": "Python 3",
   "language": "python",
   "name": "python3"
  },
  "language_info": {
   "codemirror_mode": {
    "name": "ipython",
    "version": 3
   },
   "file_extension": ".py",
   "mimetype": "text/x-python",
   "name": "python",
   "nbconvert_exporter": "python",
   "pygments_lexer": "ipython3",
   "version": "3.7.3"
  }
 },
 "nbformat": 4,
 "nbformat_minor": 2
}
