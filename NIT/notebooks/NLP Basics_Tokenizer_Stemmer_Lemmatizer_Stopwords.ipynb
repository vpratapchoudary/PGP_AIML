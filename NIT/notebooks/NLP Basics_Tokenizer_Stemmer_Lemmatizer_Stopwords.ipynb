{
  "nbformat": 4,
  "nbformat_minor": 0,
  "metadata": {
    "kernelspec": {
      "display_name": "Python 3",
      "language": "python",
      "name": "python3"
    },
    "language_info": {
      "codemirror_mode": {
        "name": "ipython",
        "version": 3
      },
      "file_extension": ".py",
      "mimetype": "text/x-python",
      "name": "python",
      "nbconvert_exporter": "python",
      "pygments_lexer": "ipython3",
      "version": "3.7.3"
    },
    "colab": {
      "name": "NLP_Assignment-1_Question-3 Solution.ipynb",
      "provenance": [],
      "collapsed_sections": []
    }
  },
  "cells": [
    {
      "cell_type": "markdown",
      "metadata": {
        "id": "MModUAQ_IuZG"
      },
      "source": [
        "1. Write a program to enter a string from the user and perform the following tasks:\n",
        "    * Write a python function named \"Tokenize\" which returns the tokenized string\n",
        "    * Print tokens along with the frequency of each token using the above function\n",
        "    * Print the 5 least occurring tokens"
      ]
    },
    {
      "cell_type": "code",
      "metadata": {
        "colab": {
          "base_uri": "https://localhost:8080/"
        },
        "id": "xwgHOcuTQ93n",
        "outputId": "effe0cf7-b1ea-4336-ba5e-5d174b8d8562"
      },
      "source": [
        "#import libraries\n",
        "import nltk\n",
        "nltk.download('punkt')\n",
        "nltk.download('wordnet')\n",
        "from nltk.corpus import wordnet\n",
        "from nltk.tokenize import word_tokenize\n",
        "from nltk import FreqDist\n",
        "from operator import itemgetter\n",
        "\n",
        "import pandas as pd\n",
        "import numpy as np"
      ],
      "execution_count": 6,
      "outputs": [
        {
          "output_type": "stream",
          "text": [
            "[nltk_data] Downloading package punkt to /root/nltk_data...\n",
            "[nltk_data]   Package punkt is already up-to-date!\n",
            "[nltk_data] Downloading package wordnet to /root/nltk_data...\n",
            "[nltk_data]   Package wordnet is already up-to-date!\n"
          ],
          "name": "stdout"
        }
      ]
    },
    {
      "cell_type": "code",
      "metadata": {
        "colab": {
          "base_uri": "https://localhost:8080/"
        },
        "id": "sw_hbIfIIuZM",
        "outputId": "7b055e67-fcc0-4c62-9c65-27c7927dde2b"
      },
      "source": [
        "%%writefile tokenizer_func.py\n",
        "\n",
        "#import libraries\n",
        "import nltk\n",
        "from nltk.tokenize import word_tokenize\n",
        "from nltk import FreqDist\n",
        "from operator import itemgetter\n",
        "\n",
        "#define tokenize function\n",
        "def Tokenize():\n",
        "    text = input()\n",
        "    tokens = word_tokenize(text) #tokenize the words\n",
        "    fdist = FreqDist(tokens) #find the frequency of words\n",
        "    for f in fdist:\n",
        "        print(f, fdist[f])\n",
        "    min_5 = dict(sorted(fdist.items(), key=itemgetter(1))[:5]) #find the least 5 occuring words\n",
        "    print(\"Least 5 occurring tokens:\", min_5)\n",
        "    return tokens"
      ],
      "execution_count": 8,
      "outputs": [
        {
          "output_type": "stream",
          "text": [
            "Overwriting tokenizer_func.py\n"
          ],
          "name": "stdout"
        }
      ]
    },
    {
      "cell_type": "code",
      "metadata": {
        "colab": {
          "base_uri": "https://localhost:8080/"
        },
        "id": "PYfBIhpvMAjR",
        "outputId": "6714be51-781c-484e-c67b-4316ecd07e91"
      },
      "source": [
        "#run the Tokenize function\n",
        "from tokenizer_func import Tokenize\n",
        "Tokenize()"
      ],
      "execution_count": 9,
      "outputs": [
        {
          "output_type": "stream",
          "text": [
            "Natural language processing (NLP) is a subfield of linguistics, computer science, and artificial intelligence concerned with the interactions between computers and human language, in particular how to program computers to process and analyze large amounts of natural language data.\n",
            "Natural 1\n",
            "language 3\n",
            "processing 1\n",
            "( 1\n",
            "NLP 1\n",
            ") 1\n",
            "is 1\n",
            "a 1\n",
            "subfield 1\n",
            "of 2\n",
            "linguistics 1\n",
            ", 3\n",
            "computer 1\n",
            "science 1\n",
            "and 3\n",
            "artificial 1\n",
            "intelligence 1\n",
            "concerned 1\n",
            "with 1\n",
            "the 1\n",
            "interactions 1\n",
            "between 1\n",
            "computers 2\n",
            "human 1\n",
            "in 1\n",
            "particular 1\n",
            "how 1\n",
            "to 2\n",
            "program 1\n",
            "process 1\n",
            "analyze 1\n",
            "large 1\n",
            "amounts 1\n",
            "natural 1\n",
            "data 1\n",
            ". 1\n",
            "Least 5 occurring tokens: {'Natural': 1, 'processing': 1, '(': 1, 'NLP': 1, ')': 1}\n"
          ],
          "name": "stdout"
        },
        {
          "output_type": "execute_result",
          "data": {
            "text/plain": [
              "['Natural',\n",
              " 'language',\n",
              " 'processing',\n",
              " '(',\n",
              " 'NLP',\n",
              " ')',\n",
              " 'is',\n",
              " 'a',\n",
              " 'subfield',\n",
              " 'of',\n",
              " 'linguistics',\n",
              " ',',\n",
              " 'computer',\n",
              " 'science',\n",
              " ',',\n",
              " 'and',\n",
              " 'artificial',\n",
              " 'intelligence',\n",
              " 'concerned',\n",
              " 'with',\n",
              " 'the',\n",
              " 'interactions',\n",
              " 'between',\n",
              " 'computers',\n",
              " 'and',\n",
              " 'human',\n",
              " 'language',\n",
              " ',',\n",
              " 'in',\n",
              " 'particular',\n",
              " 'how',\n",
              " 'to',\n",
              " 'program',\n",
              " 'computers',\n",
              " 'to',\n",
              " 'process',\n",
              " 'and',\n",
              " 'analyze',\n",
              " 'large',\n",
              " 'amounts',\n",
              " 'of',\n",
              " 'natural',\n",
              " 'language',\n",
              " 'data',\n",
              " '.']"
            ]
          },
          "metadata": {
            "tags": []
          },
          "execution_count": 9
        }
      ]
    },
    {
      "cell_type": "markdown",
      "metadata": {
        "id": "BA4Ffh1ZIuZN"
      },
      "source": [
        "2. Write a program to enter a string from the user and perform the following tasks\n",
        "    * Write a python function named \"RemoveStopWords\" which returns the string after removing stop words\n",
        "    * Count frequency of each stop word present in a string using the above function\n",
        "    * Plot a bar graph depicting stop words and their frequencies"
      ]
    },
    {
      "cell_type": "code",
      "metadata": {
        "colab": {
          "base_uri": "https://localhost:8080/"
        },
        "id": "1nEsJKksIuZN",
        "outputId": "c800ff20-98eb-4a18-987a-55d21ee1292f"
      },
      "source": [
        "%%writefile removestopwords.py\n",
        "#Remove stop words function\n",
        "import nltk\n",
        "nltk.download('stopwords')\n",
        "from nltk.corpus import stopwords\n",
        "def RemoveStopWords(token_list):\n",
        "    stop_words = set(stopwords.words('english')) #copy stopwords to a list\n",
        "    stop_removed = [w for w in token_list if w not in stop_words] #for loop to append the words to a list except stopwords\n",
        "    return stop_removed"
      ],
      "execution_count": 10,
      "outputs": [
        {
          "output_type": "stream",
          "text": [
            "Writing removestopwords.py\n"
          ],
          "name": "stdout"
        }
      ]
    },
    {
      "cell_type": "code",
      "metadata": {
        "colab": {
          "base_uri": "https://localhost:8080/"
        },
        "id": "ZQOKG4vmIuZN",
        "outputId": "6f7d3b2c-4788-44c3-bb58-b9fffca1d766"
      },
      "source": [
        "#counting frequency of stop words in a string\n",
        "import nltk\n",
        "nltk.download('punkt')\n",
        "from nltk import FreqDist\n",
        "from nltk.tokenize import word_tokenize\n",
        "string = input()\n",
        "from removestopwords import RemoveStopWords\n",
        "\n",
        "tokens = word_tokenize(string) #tokenize\n",
        "stop_removed = RemoveStopWords(tokens) #remove stopwords\n",
        "\n",
        "stop_present = [word for word in tokens if word not in stop_removed] #save stop words to a list\n",
        "print(stop_present,'\\n==========================================')\n",
        "\n",
        "swfdist = FreqDist(stop_present) #find the frequency of stop words\n",
        "print(\"Frequency Distribution of Stop Words:\\n==========================================\")\n",
        "for f in swfdist:\n",
        "    print(\"{}: {}\".format(f, swfdist[f]))"
      ],
      "execution_count": 11,
      "outputs": [
        {
          "output_type": "stream",
          "text": [
            "[nltk_data] Downloading package punkt to /root/nltk_data...\n",
            "[nltk_data]   Package punkt is already up-to-date!\n",
            "Natural language processing (NLP) is a subfield of linguistics, computer science, and artificial intelligence concerned with the interactions between computers and human language, in particular how to program computers to process and analyze large amounts of natural language data.\n",
            "[nltk_data] Downloading package stopwords to /root/nltk_data...\n",
            "[nltk_data]   Unzipping corpora/stopwords.zip.\n",
            "['is', 'a', 'of', 'and', 'with', 'the', 'between', 'and', 'in', 'how', 'to', 'to', 'and', 'of'] \n",
            "==========================================\n",
            "Frequency Distribution of Stop Words:\n",
            "==========================================\n",
            "is: 1\n",
            "a: 1\n",
            "of: 2\n",
            "and: 3\n",
            "with: 1\n",
            "the: 1\n",
            "between: 1\n",
            "in: 1\n",
            "how: 1\n",
            "to: 2\n"
          ],
          "name": "stdout"
        }
      ]
    },
    {
      "cell_type": "code",
      "metadata": {
        "colab": {
          "base_uri": "https://localhost:8080/",
          "height": 353
        },
        "id": "Nxq62hVSIuZO",
        "outputId": "647bc553-3c3e-4a77-b08e-f09f7dfcae36"
      },
      "source": [
        "#plot a bar graph depicting frequency of stop words\n",
        "import matplotlib.pyplot as plt\n",
        "%matplotlib inline\n",
        "\n",
        "plt.figure(figsize=(10, 5))\n",
        "plt.bar(swfdist.keys(), swfdist.values())\n",
        "plt.title(\"Frequency of Stop words in the input\")"
      ],
      "execution_count": 12,
      "outputs": [
        {
          "output_type": "execute_result",
          "data": {
            "text/plain": [
              "Text(0.5, 1.0, 'Frequency of Stop words in the input')"
            ]
          },
          "metadata": {
            "tags": []
          },
          "execution_count": 12
        },
        {
          "output_type": "display_data",
          "data": {
            "image/png": "[encoded data removed]",
            "text/plain": [
              "<Figure size 720x360 with 1 Axes>"
            ]
          },
          "metadata": {
            "tags": [],
            "needs_background": "light"
          }
        }
      ]
    },
    {
      "cell_type": "markdown",
      "metadata": {
        "id": "xySAQtgAIuZO"
      },
      "source": [
        "3. Write a program to enter a string from the user and perform the following tasks\n",
        "    * Write a python function named \"Lemmatize\" which returns a string after lemmatizing the string\n",
        "    * Write a python function named \"Stemmed\" which returns a string after stemming the string\n",
        "    * Print all the words along with their lemmatized and stemmed from using the above functions\n",
        "    * Save these results in a CSV file having 3 columns: Original Word, Lemmatized Form, Stemmed Form"
      ]
    },
    {
      "cell_type": "code",
      "metadata": {
        "colab": {
          "base_uri": "https://localhost:8080/"
        },
        "id": "MBNlAL20IuZO",
        "outputId": "69a9d91e-f07b-4fda-dbd0-13528f6702a8"
      },
      "source": [
        "%%writefile lemma_stem.py\n",
        "#lemmatize and stemming\n",
        "#import libraries\n",
        "import nltk\n",
        "nltk.download('wordnet')\n",
        "from nltk.corpus import wordnet\n",
        "from nltk.stem import PorterStemmer, WordNetLemmatizer\n",
        "\n",
        "#define lemmatize function\n",
        "def Lemmatize(token_list):\n",
        "    lemmatizer = WordNetLemmatizer()\n",
        "    lemmatized = [lemmatizer.lemmatize(word) for word in token_list]\n",
        "    return lemmatized\n",
        "\n",
        "#define stemming function\n",
        "def Stemmed(token_list):\n",
        "    stemmer = PorterStemmer()\n",
        "    stemmed = [stemmer.stem(word) for word in token_list]\n",
        "    return stemmed"
      ],
      "execution_count": 13,
      "outputs": [
        {
          "output_type": "stream",
          "text": [
            "Writing lemma_stem.py\n"
          ],
          "name": "stdout"
        }
      ]
    },
    {
      "cell_type": "code",
      "metadata": {
        "colab": {
          "base_uri": "https://localhost:8080/"
        },
        "id": "5jUaj78xIuZP",
        "outputId": "f646d975-69d3-4cc4-bc03-bf6d5bd00295"
      },
      "source": [
        "#implement lemmatizer and stemmer\n",
        "text = \"cries studies studied cried hurry hurried hurries jump jumped jumping jumps\"\n",
        "tokens = word_tokenize(text)\n",
        "\n",
        "import lemma_stem\n",
        "from lemma_stem import Lemmatize, Stemmed\n",
        "lemma = Lemmatize(tokens)\n",
        "stem = Stemmed(tokens)\n",
        "\n",
        "#write the results to a Pandas dataframe\n",
        "import pandas as pd\n",
        "df = pd.DataFrame()\n",
        "df['Original Word'] = tokens\n",
        "df['Lemmatized Form'] = lemma\n",
        "df['Stemmed Form'] = stem\n",
        "\n",
        "print(df)\n",
        "df.to_csv(\"StemmedAndLemmatizedResults.csv\") #save the results to CSV file"
      ],
      "execution_count": 14,
      "outputs": [
        {
          "output_type": "stream",
          "text": [
            "[nltk_data] Downloading package wordnet to /root/nltk_data...\n",
            "[nltk_data]   Package wordnet is already up-to-date!\n",
            "   Original Word Lemmatized Form Stemmed Form\n",
            "0          cries             cry          cri\n",
            "1        studies           study        studi\n",
            "2        studied         studied        studi\n",
            "3          cried           cried          cri\n",
            "4          hurry           hurry        hurri\n",
            "5        hurried         hurried        hurri\n",
            "6        hurries           hurry        hurri\n",
            "7           jump            jump         jump\n",
            "8         jumped          jumped         jump\n",
            "9        jumping         jumping         jump\n",
            "10         jumps            jump         jump\n"
          ],
          "name": "stdout"
        }
      ]
    },
    {
      "cell_type": "markdown",
      "metadata": {
        "id": "dqv8s8BUIuZP"
      },
      "source": [
        "4. Create a python file named \"PreProcess\" and perform the following tasks:\n",
        "    * Copy the function \"Tokenize\" in this file from question1\n",
        "    * Copy the function \"RemoveStopWords\" in this file from question2\n",
        "    * Copy the function \"Lemmatize\" in this file from question3"
      ]
    },
    {
      "cell_type": "markdown",
      "metadata": {
        "id": "wPXFyiFDIuZP"
      },
      "source": [
        "Create a function named \"Refine\" which accepts a string and calls the above 3 functions in the same order\n",
        "    * Tokenize (inputted string will be the input)\n",
        "    * RemoveStopWords (tokenized string should be input)\n",
        "    * Lemmatize (stop words removed string shoulg be input)\n",
        "    \n",
        "Save this python file as PreProcess."
      ]
    },
    {
      "cell_type": "code",
      "metadata": {
        "colab": {
          "base_uri": "https://localhost:8080/"
        },
        "id": "eHVc5RIbIuZP",
        "outputId": "78ae79a3-e252-4cb6-b7f2-9f6e06205322"
      },
      "source": [
        "%%writefile PreProcess.py\n",
        "#creating a PreProcess file\n",
        "from tokenizer_func import Tokenize\n",
        "from removestopwords import RemoveStopWords\n",
        "from lemma_stem import Lemmatize\n",
        "\n",
        "#defining Refine function to carry out the processing\n",
        "def Refine():\n",
        "    tokens = Tokenize()\n",
        "    stop_remove = RemoveStopWords(tokens)\n",
        "    lemmatized_words = Lemmatize(stop_remove)\n",
        "    print('Tokenized: ', tokens)\n",
        "    print('Stop Words Removed Copy: ', stop_remove)\n",
        "    print('Lemmatized Words: ', lemmatized_words)"
      ],
      "execution_count": 15,
      "outputs": [
        {
          "output_type": "stream",
          "text": [
            "Writing PreProcess.py\n"
          ],
          "name": "stdout"
        }
      ]
    },
    {
      "cell_type": "code",
      "metadata": {
        "colab": {
          "base_uri": "https://localhost:8080/"
        },
        "id": "hK0-gyIaJ8l5",
        "outputId": "5234e006-ee4a-42fa-81a7-7165dc29ff81"
      },
      "source": [
        "#runt the refine function\n",
        "from PreProcess import Refine\n",
        "Refine()"
      ],
      "execution_count": 16,
      "outputs": [
        {
          "output_type": "stream",
          "text": [
            "Natural language processing (NLP) is a subfield of linguistics, computer science, and artificial intelligence concerned with the interactions between computers and human language, in particular how to program computers to process and analyze large amounts of natural language data.\n",
            "Natural 1\n",
            "language 3\n",
            "processing 1\n",
            "( 1\n",
            "NLP 1\n",
            ") 1\n",
            "is 1\n",
            "a 1\n",
            "subfield 1\n",
            "of 2\n",
            "linguistics 1\n",
            ", 3\n",
            "computer 1\n",
            "science 1\n",
            "and 3\n",
            "artificial 1\n",
            "intelligence 1\n",
            "concerned 1\n",
            "with 1\n",
            "the 1\n",
            "interactions 1\n",
            "between 1\n",
            "computers 2\n",
            "human 1\n",
            "in 1\n",
            "particular 1\n",
            "how 1\n",
            "to 2\n",
            "program 1\n",
            "process 1\n",
            "analyze 1\n",
            "large 1\n",
            "amounts 1\n",
            "natural 1\n",
            "data 1\n",
            ". 1\n",
            "Least 5 occurring tokens: {'Natural': 1, 'processing': 1, '(': 1, 'NLP': 1, ')': 1}\n",
            "Tokenized:  ['Natural', 'language', 'processing', '(', 'NLP', ')', 'is', 'a', 'subfield', 'of', 'linguistics', ',', 'computer', 'science', ',', 'and', 'artificial', 'intelligence', 'concerned', 'with', 'the', 'interactions', 'between', 'computers', 'and', 'human', 'language', ',', 'in', 'particular', 'how', 'to', 'program', 'computers', 'to', 'process', 'and', 'analyze', 'large', 'amounts', 'of', 'natural', 'language', 'data', '.']\n",
            "Stop Words Removed Copy:  ['Natural', 'language', 'processing', '(', 'NLP', ')', 'subfield', 'linguistics', ',', 'computer', 'science', ',', 'artificial', 'intelligence', 'concerned', 'interactions', 'computers', 'human', 'language', ',', 'particular', 'program', 'computers', 'process', 'analyze', 'large', 'amounts', 'natural', 'language', 'data', '.']\n",
            "Lemmatized Words:  ['Natural', 'language', 'processing', '(', 'NLP', ')', 'subfield', 'linguistics', ',', 'computer', 'science', ',', 'artificial', 'intelligence', 'concerned', 'interaction', 'computer', 'human', 'language', ',', 'particular', 'program', 'computer', 'process', 'analyze', 'large', 'amount', 'natural', 'language', 'data', '.']\n"
          ],
          "name": "stdout"
        }
      ]
    }
  ]
}