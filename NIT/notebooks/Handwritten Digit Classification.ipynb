{
  "nbformat": 4,
  "nbformat_minor": 0,
  "metadata": {
    "accelerator": "GPU",
    "colab": {
      "name": "Deep_Learning_Assignment1_File1.ipynb",
      "provenance": [],
      "collapsed_sections": [
        "HruLQ2fqS3f2",
        "PwEj36wcbsXF",
        "u5DMnZp1bxAU",
        "yZBPiGLXYGUM",
        "pjps75cBuR1Z",
        "AFbx6XHI0KyQ"
      ],
      "toc_visible": true
    },
    "kernelspec": {
      "display_name": "Python 3",
      "language": "python",
      "name": "python3"
    },
    "language_info": {
      "codemirror_mode": {
        "name": "ipython",
        "version": 3
      },
      "file_extension": ".py",
      "mimetype": "text/x-python",
      "name": "python",
      "nbconvert_exporter": "python",
      "pygments_lexer": "ipython3",
      "version": "3.7.3"
    }
  },
  "cells": [
    {
      "cell_type": "markdown",
      "metadata": {
        "id": "XxeyelGk_Tp4"
      },
      "source": [
        "# Classifying Handwritten digits using Tensorflow 2.x"
      ]
    },
    {
      "cell_type": "markdown",
      "metadata": {
        "id": "VqFvADlTZgrp"
      },
      "source": [
        "This is a [Google Colaboratory](https://colab.research.google.com/notebooks/welcome.ipynb) notebook file. Python programs are run directly in the browser—a great way to learn and use TensorFlow. To follow this tutorial, run the notebook in Google Colab by clicking the button at the top of this page.\n",
        "\n",
        "1. In Colab, connect to a Python runtime: At the top-right of the menu bar, select *CONNECT*.\n",
        "2. Run all the notebook code cells: Select *Runtime* > *Run all*."
      ]
    },
    {
      "cell_type": "markdown",
      "metadata": {
        "id": "JL8GMQz2R90b"
      },
      "source": [
        "##Problem Statement"
      ]
    },
    {
      "cell_type": "markdown",
      "metadata": {
        "id": "CI0fQw8zSEku"
      },
      "source": [
        "**MNIST (\"Modified National Institute of Standards and Technology\")** is the de facto “hello world” dataset of computer vision. Since its release in 1999, this classic dataset of handwritten images has served as the basis for benchmarking classification algorithms. As new machine learning techniques emerge, MNIST remains a reliable resource for researchers and learners alike.\n",
        "\n",
        "In this demo, your goal is to correctly identify digits from a dataset of thousands of handwritten images. "
      ]
    },
    {
      "cell_type": "markdown",
      "metadata": {
        "id": "HruLQ2fqS3f2"
      },
      "source": [
        "####**Tasks to be Performed**"
      ]
    },
    {
      "cell_type": "markdown",
      "metadata": {
        "id": "GtuEkgrQS7Rs"
      },
      "source": [
        "In this tutorial you will be performing the following tasks:\n",
        "- Prepare the dataset for the model\n",
        "- Install Tensorflow 2.x\n",
        "- Develop Single Layer Perceptron model for classifying the handwritten digits\n",
        "- Plot the change in accuracy per epochs\n",
        "- Evaluate the model on the testing data\n",
        "- Analyse the model summary\n",
        "- Add hidden layer to the model to make it Multi-Layer Perceptron\n",
        "- Add Dropout to prevent overfitting and check its effect on accuracy\n",
        "- Increasing the number of Hidden Layer neuron and check its effect on accuracy\n",
        "- Use different optimizers and check its effect on accuracy\n",
        "- Increase the hidden layers and check its effect on accuracy\n",
        "- Manipulate the batch_size and epochs and check its effect on accuracy\n",
        "- Answer: What parameters should be choosen to get best accuracy on classifying the handwritten digits?"
      ]
    },
    {
      "cell_type": "markdown",
      "metadata": {
        "id": "PwEj36wcbsXF"
      },
      "source": [
        "####**Dataset Description**"
      ]
    },
    {
      "cell_type": "markdown",
      "metadata": {
        "id": "bbg_FbbPU2fe"
      },
      "source": [
        "\n",
        "The **[MNIST Handwritten Digit Classification Dataset](http://yann.lecun.com/exdb/mnist/)** consists of 60,000 training images and 10,000 testing images of handwritten digits.\n",
        "\n",
        "Each image is 28 pixels in height and 28 pixels in width, for a total of 784 pixels in total. Each pixel has a single pixel-value associated with it, indicating the lightness or darkness of that pixel, with higher numbers meaning darker. This pixel-value is an integer between 0 and 255, inclusive.\n",
        "\n",
        "![alt text](https://i.imgur.com/Su00XUA.png)\n",
        "\n"
      ]
    },
    {
      "cell_type": "markdown",
      "metadata": {
        "id": "u5DMnZp1bxAU"
      },
      "source": [
        "####**Skills Gained**"
      ]
    },
    {
      "cell_type": "markdown",
      "metadata": {
        "id": "InSeMIvFScja"
      },
      "source": [
        "- TensorFlow 2.x\n",
        "- Single Layer Perceptron\n",
        "- Multi Layer Perceptron\n",
        "- Model Improvisation"
      ]
    },
    {
      "cell_type": "markdown",
      "metadata": {
        "id": "szLxFVyIytsv"
      },
      "source": [
        "# Solution: Classifying Handwritten digits using Tensorflow 2.x"
      ]
    },
    {
      "cell_type": "markdown",
      "metadata": {
        "id": "yZBPiGLXYGUM"
      },
      "source": [
        "##Installing TensorFlow 2.x"
      ]
    },
    {
      "cell_type": "code",
      "metadata": {
        "id": "qSt1IGYaYe_y"
      },
      "source": [
        "# !pip install tensorflow"
      ],
      "execution_count": 1,
      "outputs": []
    },
    {
      "cell_type": "code",
      "metadata": {
        "colab": {
          "base_uri": "https://localhost:8080/"
        },
        "id": "knttI4ECLnHE",
        "outputId": "38252c8d-183f-4812-b16c-7adddb05f812"
      },
      "source": [
        "#verify the installation\n",
        "import tensorflow as tf\n",
        "from tensorflow import keras \n",
        "\n",
        "#Check tf.keras version\n",
        "print(tf.__version__)\n",
        "print(tf.keras.__version__)\n"
      ],
      "execution_count": 2,
      "outputs": [
        {
          "output_type": "stream",
          "text": [
            "2.4.0\n",
            "2.4.0\n"
          ],
          "name": "stdout"
        }
      ]
    },
    {
      "cell_type": "markdown",
      "metadata": {
        "id": "RaTcM_Gk_jco"
      },
      "source": [
        "##Preparing the Data"
      ]
    },
    {
      "cell_type": "markdown",
      "metadata": {
        "id": "M0UnlNytbPmC"
      },
      "source": [
        "###Loading the Data"
      ]
    },
    {
      "cell_type": "markdown",
      "metadata": {
        "id": "peAAgeflZwcH"
      },
      "source": [
        "Load and prepare the [MNIST dataset](http://yann.lecun.com/exdb/mnist/) and convert the samples from integers to floating-point numbers and deal with categorical data:"
      ]
    },
    {
      "cell_type": "code",
      "metadata": {
        "id": "c8-PSPuqLn_K",
        "colab": {
          "base_uri": "https://localhost:8080/"
        },
        "outputId": "fbda24dc-5591-4d26-b79a-611614d87a02"
      },
      "source": [
        "# Loading MNIST dataset\n",
        "mnist = keras.datasets.mnist \n",
        "(X_train, Y_train), (X_test, Y_test) = mnist.load_data()"
      ],
      "execution_count": 3,
      "outputs": [
        {
          "output_type": "stream",
          "text": [
            "Downloading data from https://storage.googleapis.com/tensorflow/tf-keras-datasets/mnist.npz\n",
            "11493376/11490434 [==============================] - 0s 0us/step\n"
          ],
          "name": "stdout"
        }
      ]
    },
    {
      "cell_type": "code",
      "metadata": {
        "colab": {
          "base_uri": "https://localhost:8080/"
        },
        "id": "t_v4WkSBLrJH",
        "outputId": "7b7e04ca-03b2-4359-b029-8d2be8001e32"
      },
      "source": [
        "# Data Exploration\n",
        "print(X_train.shape)\n",
        "print(X_test.shape)\n",
        "print(Y_train.shape)\n",
        "print(Y_test.shape)"
      ],
      "execution_count": 4,
      "outputs": [
        {
          "output_type": "stream",
          "text": [
            "(60000, 28, 28)\n",
            "(10000, 28, 28)\n",
            "(60000,)\n",
            "(10000,)\n"
          ],
          "name": "stdout"
        }
      ]
    },
    {
      "cell_type": "markdown",
      "metadata": {
        "id": "WQR_cGsYaWVD"
      },
      "source": [
        "###Data Preprocessing"
      ]
    },
    {
      "cell_type": "code",
      "metadata": {
        "colab": {
          "base_uri": "https://localhost:8080/"
        },
        "id": "5uAo7yDtRhbG",
        "outputId": "2ae7d98b-83ae-48b8-b2ba-1680c7006d4d"
      },
      "source": [
        "# X_train is 60000 rows of 28x28 values; we reshape it to # 60000 x 784. \n",
        "RESHAPED = 784 # 28x28 = 784 neurons\n",
        "X_train = X_train.reshape(60000, RESHAPED) \n",
        "X_test = X_test.reshape(10000, RESHAPED) \n",
        "\n",
        "# Data is converted into float32 to use 32-bit precision # when training a neural network \n",
        "X_train = X_train.astype('float32')\n",
        "X_test = X_test.astype('float32') \n",
        "\n",
        "# Normalizing the input to be within the range [0,1]\n",
        "#intensity of each pixel is divided by 255, the maximum intensity value\n",
        "X_train /= 255\n",
        "X_test /= 255\n",
        "print(X_train.shape[0], 'train samples') \n",
        "print(X_test.shape[0], 'test samples') \n",
        "\n",
        "# One-hot representation of the labels.\n",
        "Y_train = tf.keras.utils.to_categorical(Y_train, 10) \n",
        "Y_test = tf.keras.utils.to_categorical(Y_test, 10)\n"
      ],
      "execution_count": 5,
      "outputs": [
        {
          "output_type": "stream",
          "text": [
            "60000 train samples\n",
            "10000 test samples\n"
          ],
          "name": "stdout"
        }
      ]
    },
    {
      "cell_type": "code",
      "metadata": {
        "colab": {
          "base_uri": "https://localhost:8080/"
        },
        "id": "s2UiLoPJxdCB",
        "outputId": "e224a414-d0d2-4f35-b18e-c64af0e2b399"
      },
      "source": [
        "print(X_train.shape)\n",
        "print(Y_train.shape)"
      ],
      "execution_count": 6,
      "outputs": [
        {
          "output_type": "stream",
          "text": [
            "(60000, 784)\n",
            "(60000, 10)\n"
          ],
          "name": "stdout"
        }
      ]
    },
    {
      "cell_type": "markdown",
      "metadata": {
        "id": "8g6qsSi21x97"
      },
      "source": [
        "## Designing the Model"
      ]
    },
    {
      "cell_type": "markdown",
      "metadata": {
        "id": "ajqy56PT_pHr"
      },
      "source": [
        "###Preparing the Model 0: Single layer Perceptron"
      ]
    },
    {
      "cell_type": "markdown",
      "metadata": {
        "id": "wncYBuNkaCFf"
      },
      "source": [
        "Build the `Sequential` model with 0 hidden layers. Choose an optimizer and loss function for training:"
      ]
    },
    {
      "cell_type": "code",
      "metadata": {
        "id": "2Q5jFOQUM-c0"
      },
      "source": [
        "import tensorflow as tf\n",
        "from tensorflow.keras.layers import Dense\n",
        "from tensorflow.keras import Sequential\n",
        "model_0 = Sequential()\n",
        "# Now the model will take as input arrays of shape (*, 784)# and output arrays of shape (*, 10)\n",
        "model_0.add(Dense(10,input_shape=(784,),name='first_layer', activation='softmax')) "
      ],
      "execution_count": 7,
      "outputs": []
    },
    {
      "cell_type": "code",
      "metadata": {
        "id": "ocCzyD2SWC9I"
      },
      "source": [
        "# Compiling the model.\n",
        "model_0.compile(optimizer='SGD', \n",
        "              loss='categorical_crossentropy',\n",
        "              metrics=['accuracy'])"
      ],
      "execution_count": 8,
      "outputs": []
    },
    {
      "cell_type": "code",
      "metadata": {
        "colab": {
          "base_uri": "https://localhost:8080/"
        },
        "id": "fvAt9Atl-cnx",
        "outputId": "5e00f3c4-3815-4140-e6cd-d48507e174d6"
      },
      "source": [
        "# Training the model. \n",
        "training = model_0.fit(X_train, Y_train, batch_size=64, epochs=70, validation_split=0.2) "
      ],
      "execution_count": 9,
      "outputs": [
        {
          "output_type": "stream",
          "text": [
            "Epoch 1/70\n",
            "750/750 [==============================] - 4s 3ms/step - loss: 1.4715 - accuracy: 0.6057 - val_loss: 0.6600 - val_accuracy: 0.8562\n",
            "Epoch 2/70\n",
            "750/750 [==============================] - 2s 2ms/step - loss: 0.6473 - accuracy: 0.8508 - val_loss: 0.5116 - val_accuracy: 0.8734\n",
            "Epoch 3/70\n",
            "750/750 [==============================] - 2s 2ms/step - loss: 0.5229 - accuracy: 0.8703 - val_loss: 0.4520 - val_accuracy: 0.8858\n",
            "Epoch 4/70\n",
            "750/750 [==============================] - 2s 2ms/step - loss: 0.4789 - accuracy: 0.8751 - val_loss: 0.4193 - val_accuracy: 0.8914\n",
            "Epoch 5/70\n",
            "750/750 [==============================] - 2s 2ms/step - loss: 0.4444 - accuracy: 0.8833 - val_loss: 0.3981 - val_accuracy: 0.8949\n",
            "Epoch 6/70\n",
            "750/750 [==============================] - 2s 2ms/step - loss: 0.4227 - accuracy: 0.8881 - val_loss: 0.3824 - val_accuracy: 0.8980\n",
            "Epoch 7/70\n",
            "750/750 [==============================] - 2s 2ms/step - loss: 0.4053 - accuracy: 0.8897 - val_loss: 0.3706 - val_accuracy: 0.9004\n",
            "Epoch 8/70\n",
            "750/750 [==============================] - 2s 2ms/step - loss: 0.3877 - accuracy: 0.8935 - val_loss: 0.3616 - val_accuracy: 0.9023\n",
            "Epoch 9/70\n",
            "750/750 [==============================] - 2s 2ms/step - loss: 0.3922 - accuracy: 0.8925 - val_loss: 0.3541 - val_accuracy: 0.9049\n",
            "Epoch 10/70\n",
            "750/750 [==============================] - 2s 2ms/step - loss: 0.3737 - accuracy: 0.8979 - val_loss: 0.3477 - val_accuracy: 0.9054\n",
            "Epoch 11/70\n",
            "750/750 [==============================] - 2s 2ms/step - loss: 0.3674 - accuracy: 0.8995 - val_loss: 0.3424 - val_accuracy: 0.9078\n",
            "Epoch 12/70\n",
            "750/750 [==============================] - 2s 2ms/step - loss: 0.3578 - accuracy: 0.9013 - val_loss: 0.3376 - val_accuracy: 0.9087\n",
            "Epoch 13/70\n",
            "750/750 [==============================] - 2s 2ms/step - loss: 0.3537 - accuracy: 0.9027 - val_loss: 0.3337 - val_accuracy: 0.9089\n",
            "Epoch 14/70\n",
            "750/750 [==============================] - 2s 2ms/step - loss: 0.3538 - accuracy: 0.9023 - val_loss: 0.3300 - val_accuracy: 0.9100\n",
            "Epoch 15/70\n",
            "750/750 [==============================] - 2s 2ms/step - loss: 0.3462 - accuracy: 0.9046 - val_loss: 0.3268 - val_accuracy: 0.9108\n",
            "Epoch 16/70\n",
            "750/750 [==============================] - 2s 2ms/step - loss: 0.3446 - accuracy: 0.9036 - val_loss: 0.3240 - val_accuracy: 0.9109\n",
            "Epoch 17/70\n",
            "750/750 [==============================] - 2s 2ms/step - loss: 0.3420 - accuracy: 0.9063 - val_loss: 0.3212 - val_accuracy: 0.9119\n",
            "Epoch 18/70\n",
            "750/750 [==============================] - 2s 2ms/step - loss: 0.3384 - accuracy: 0.9060 - val_loss: 0.3188 - val_accuracy: 0.9125\n",
            "Epoch 19/70\n",
            "750/750 [==============================] - 2s 2ms/step - loss: 0.3286 - accuracy: 0.9091 - val_loss: 0.3168 - val_accuracy: 0.9124\n",
            "Epoch 20/70\n",
            "750/750 [==============================] - 2s 2ms/step - loss: 0.3370 - accuracy: 0.9082 - val_loss: 0.3146 - val_accuracy: 0.9137\n",
            "Epoch 21/70\n",
            "750/750 [==============================] - 2s 2ms/step - loss: 0.3334 - accuracy: 0.9084 - val_loss: 0.3128 - val_accuracy: 0.9139\n",
            "Epoch 22/70\n",
            "750/750 [==============================] - 2s 2ms/step - loss: 0.3304 - accuracy: 0.9081 - val_loss: 0.3109 - val_accuracy: 0.9147\n",
            "Epoch 23/70\n",
            "750/750 [==============================] - 2s 2ms/step - loss: 0.3194 - accuracy: 0.9124 - val_loss: 0.3094 - val_accuracy: 0.9152\n",
            "Epoch 24/70\n",
            "750/750 [==============================] - 2s 2ms/step - loss: 0.3190 - accuracy: 0.9099 - val_loss: 0.3080 - val_accuracy: 0.9140\n",
            "Epoch 25/70\n",
            "750/750 [==============================] - 2s 2ms/step - loss: 0.3157 - accuracy: 0.9125 - val_loss: 0.3067 - val_accuracy: 0.9154\n",
            "Epoch 26/70\n",
            "750/750 [==============================] - 2s 2ms/step - loss: 0.3197 - accuracy: 0.9109 - val_loss: 0.3054 - val_accuracy: 0.9155\n",
            "Epoch 27/70\n",
            "750/750 [==============================] - 2s 2ms/step - loss: 0.3233 - accuracy: 0.9103 - val_loss: 0.3040 - val_accuracy: 0.9158\n",
            "Epoch 28/70\n",
            "750/750 [==============================] - 2s 2ms/step - loss: 0.3203 - accuracy: 0.9082 - val_loss: 0.3028 - val_accuracy: 0.9160\n",
            "Epoch 29/70\n",
            "750/750 [==============================] - 2s 2ms/step - loss: 0.3166 - accuracy: 0.9121 - val_loss: 0.3019 - val_accuracy: 0.9160\n",
            "Epoch 30/70\n",
            "750/750 [==============================] - 2s 2ms/step - loss: 0.3103 - accuracy: 0.9133 - val_loss: 0.3009 - val_accuracy: 0.9167\n",
            "Epoch 31/70\n",
            "750/750 [==============================] - 2s 2ms/step - loss: 0.3183 - accuracy: 0.9126 - val_loss: 0.2997 - val_accuracy: 0.9162\n",
            "Epoch 32/70\n",
            "750/750 [==============================] - 2s 2ms/step - loss: 0.3107 - accuracy: 0.9143 - val_loss: 0.2988 - val_accuracy: 0.9168\n",
            "Epoch 33/70\n",
            "750/750 [==============================] - 2s 2ms/step - loss: 0.3111 - accuracy: 0.9139 - val_loss: 0.2978 - val_accuracy: 0.9174\n",
            "Epoch 34/70\n",
            "750/750 [==============================] - 2s 2ms/step - loss: 0.3126 - accuracy: 0.9133 - val_loss: 0.2970 - val_accuracy: 0.9183\n",
            "Epoch 35/70\n",
            "750/750 [==============================] - 2s 2ms/step - loss: 0.3050 - accuracy: 0.9161 - val_loss: 0.2963 - val_accuracy: 0.9178\n",
            "Epoch 36/70\n",
            "750/750 [==============================] - 2s 2ms/step - loss: 0.3009 - accuracy: 0.9163 - val_loss: 0.2954 - val_accuracy: 0.9183\n",
            "Epoch 37/70\n",
            "750/750 [==============================] - 2s 2ms/step - loss: 0.3081 - accuracy: 0.9149 - val_loss: 0.2947 - val_accuracy: 0.9180\n",
            "Epoch 38/70\n",
            "750/750 [==============================] - 2s 2ms/step - loss: 0.3019 - accuracy: 0.9147 - val_loss: 0.2939 - val_accuracy: 0.9193\n",
            "Epoch 39/70\n",
            "750/750 [==============================] - 2s 2ms/step - loss: 0.3072 - accuracy: 0.9158 - val_loss: 0.2934 - val_accuracy: 0.9189\n",
            "Epoch 40/70\n",
            "750/750 [==============================] - 2s 2ms/step - loss: 0.3046 - accuracy: 0.9155 - val_loss: 0.2927 - val_accuracy: 0.9194\n",
            "Epoch 41/70\n",
            "750/750 [==============================] - 2s 2ms/step - loss: 0.3027 - accuracy: 0.9154 - val_loss: 0.2921 - val_accuracy: 0.9192\n",
            "Epoch 42/70\n",
            "750/750 [==============================] - 2s 2ms/step - loss: 0.3022 - accuracy: 0.9172 - val_loss: 0.2915 - val_accuracy: 0.9189\n",
            "Epoch 43/70\n",
            "750/750 [==============================] - 2s 2ms/step - loss: 0.3006 - accuracy: 0.9166 - val_loss: 0.2912 - val_accuracy: 0.9183\n",
            "Epoch 44/70\n",
            "750/750 [==============================] - 2s 2ms/step - loss: 0.2963 - accuracy: 0.9190 - val_loss: 0.2903 - val_accuracy: 0.9193\n",
            "Epoch 45/70\n",
            "750/750 [==============================] - 2s 2ms/step - loss: 0.2994 - accuracy: 0.9157 - val_loss: 0.2897 - val_accuracy: 0.9202\n",
            "Epoch 46/70\n",
            "750/750 [==============================] - 2s 2ms/step - loss: 0.3019 - accuracy: 0.9149 - val_loss: 0.2896 - val_accuracy: 0.9192\n",
            "Epoch 47/70\n",
            "750/750 [==============================] - 2s 2ms/step - loss: 0.3007 - accuracy: 0.9154 - val_loss: 0.2888 - val_accuracy: 0.9197\n",
            "Epoch 48/70\n",
            "750/750 [==============================] - 2s 2ms/step - loss: 0.3022 - accuracy: 0.9176 - val_loss: 0.2884 - val_accuracy: 0.9202\n",
            "Epoch 49/70\n",
            "750/750 [==============================] - 2s 2ms/step - loss: 0.2943 - accuracy: 0.9191 - val_loss: 0.2879 - val_accuracy: 0.9197\n",
            "Epoch 50/70\n",
            "750/750 [==============================] - 2s 2ms/step - loss: 0.2895 - accuracy: 0.9188 - val_loss: 0.2874 - val_accuracy: 0.9208\n",
            "Epoch 51/70\n",
            "750/750 [==============================] - 2s 2ms/step - loss: 0.2918 - accuracy: 0.9188 - val_loss: 0.2872 - val_accuracy: 0.9197\n",
            "Epoch 52/70\n",
            "750/750 [==============================] - 2s 2ms/step - loss: 0.2967 - accuracy: 0.9171 - val_loss: 0.2866 - val_accuracy: 0.9203\n",
            "Epoch 53/70\n",
            "750/750 [==============================] - 2s 2ms/step - loss: 0.2957 - accuracy: 0.9167 - val_loss: 0.2863 - val_accuracy: 0.9208\n",
            "Epoch 54/70\n",
            "750/750 [==============================] - 2s 2ms/step - loss: 0.2845 - accuracy: 0.9200 - val_loss: 0.2859 - val_accuracy: 0.9199\n",
            "Epoch 55/70\n",
            "750/750 [==============================] - 2s 2ms/step - loss: 0.2911 - accuracy: 0.9191 - val_loss: 0.2852 - val_accuracy: 0.9202\n",
            "Epoch 56/70\n",
            "750/750 [==============================] - 2s 2ms/step - loss: 0.2910 - accuracy: 0.9182 - val_loss: 0.2849 - val_accuracy: 0.9208\n",
            "Epoch 57/70\n",
            "750/750 [==============================] - 2s 2ms/step - loss: 0.2888 - accuracy: 0.9189 - val_loss: 0.2846 - val_accuracy: 0.9206\n",
            "Epoch 58/70\n",
            "750/750 [==============================] - 2s 2ms/step - loss: 0.2936 - accuracy: 0.9172 - val_loss: 0.2842 - val_accuracy: 0.9205\n",
            "Epoch 59/70\n",
            "750/750 [==============================] - 2s 2ms/step - loss: 0.2912 - accuracy: 0.9190 - val_loss: 0.2839 - val_accuracy: 0.9207\n",
            "Epoch 60/70\n",
            "750/750 [==============================] - 2s 2ms/step - loss: 0.2961 - accuracy: 0.9155 - val_loss: 0.2837 - val_accuracy: 0.9202\n",
            "Epoch 61/70\n",
            "750/750 [==============================] - 2s 2ms/step - loss: 0.2933 - accuracy: 0.9189 - val_loss: 0.2831 - val_accuracy: 0.9209\n",
            "Epoch 62/70\n",
            "750/750 [==============================] - 2s 2ms/step - loss: 0.2905 - accuracy: 0.9191 - val_loss: 0.2828 - val_accuracy: 0.9212\n",
            "Epoch 63/70\n",
            "750/750 [==============================] - 2s 2ms/step - loss: 0.2838 - accuracy: 0.9189 - val_loss: 0.2825 - val_accuracy: 0.9205\n",
            "Epoch 64/70\n",
            "750/750 [==============================] - 2s 2ms/step - loss: 0.2852 - accuracy: 0.9205 - val_loss: 0.2824 - val_accuracy: 0.9210\n",
            "Epoch 65/70\n",
            "750/750 [==============================] - 2s 2ms/step - loss: 0.2914 - accuracy: 0.9193 - val_loss: 0.2819 - val_accuracy: 0.9217\n",
            "Epoch 66/70\n",
            "750/750 [==============================] - 2s 2ms/step - loss: 0.2862 - accuracy: 0.9190 - val_loss: 0.2816 - val_accuracy: 0.9214\n",
            "Epoch 67/70\n",
            "750/750 [==============================] - 2s 2ms/step - loss: 0.2899 - accuracy: 0.9197 - val_loss: 0.2815 - val_accuracy: 0.9212\n",
            "Epoch 68/70\n",
            "750/750 [==============================] - 2s 2ms/step - loss: 0.2866 - accuracy: 0.9197 - val_loss: 0.2811 - val_accuracy: 0.9215\n",
            "Epoch 69/70\n",
            "750/750 [==============================] - 2s 2ms/step - loss: 0.2920 - accuracy: 0.9197 - val_loss: 0.2810 - val_accuracy: 0.9209\n",
            "Epoch 70/70\n",
            "750/750 [==============================] - 2s 2ms/step - loss: 0.2888 - accuracy: 0.9192 - val_loss: 0.2807 - val_accuracy: 0.9209\n"
          ],
          "name": "stdout"
        }
      ]
    },
    {
      "cell_type": "code",
      "metadata": {
        "colab": {
          "base_uri": "https://localhost:8080/"
        },
        "id": "Z_eAnBbPRjk0",
        "outputId": "a836746e-42ac-44db-dbe4-a78c4bbe48f6"
      },
      "source": [
        "len(training.history['loss']), len(training.history['accuracy']), len(training.history['val_loss']), len(training.history['val_accuracy'])"
      ],
      "execution_count": 10,
      "outputs": [
        {
          "output_type": "execute_result",
          "data": {
            "text/plain": [
              "(70, 70, 70, 70)"
            ]
          },
          "metadata": {
            "tags": []
          },
          "execution_count": 10
        }
      ]
    },
    {
      "cell_type": "code",
      "metadata": {
        "colab": {
          "base_uri": "https://localhost:8080/",
          "height": 590
        },
        "id": "hof2yoiDBCab",
        "outputId": "16038456-0f68-4e04-ff94-5be400698f4f"
      },
      "source": [
        "import matplotlib.pyplot as plt\n",
        "%matplotlib inline\n",
        "# list all data in training\n",
        "print(training.history.keys())\n",
        "# summarize training for accuracy\n",
        "plt.plot(training.history['accuracy'])\n",
        "plt.plot(training.history['val_accuracy'])\n",
        "plt.title('model accuracy')\n",
        "plt.ylabel('accuracy')\n",
        "plt.xlabel('epoch')\n",
        "plt.legend(['train', 'test'], loc='upper left')\n",
        "plt.show()\n",
        "# summarize traning for loss\n",
        "plt.plot(training.history['loss'])\n",
        "plt.plot(training.history['val_loss'])\n",
        "plt.title('model loss')\n",
        "plt.ylabel('loss')\n",
        "plt.xlabel('epoch')\n",
        "plt.legend(['train', 'test'], loc='upper left')\n",
        "plt.show()"
      ],
      "execution_count": 11,
      "outputs": [
        {
          "output_type": "stream",
          "text": [
            "dict_keys(['loss', 'accuracy', 'val_loss', 'val_accuracy'])\n"
          ],
          "name": "stdout"
        },
        {
          "output_type": "display_data",
          "data": {
            "image/png": "[encoded data removed]",
            "text/plain": [
              "<Figure size 432x288 with 1 Axes>"
            ]
          },
          "metadata": {
            "tags": [],
            "needs_background": "light"
          }
        },
        {
          "output_type": "display_data",
          "data": {
            "image/png": "[encoded data removed]",
            "text/plain": [
              "<Figure size 432x288 with 1 Axes>"
            ]
          },
          "metadata": {
            "tags": [],
            "needs_background": "light"
          }
        }
      ]
    },
    {
      "cell_type": "code",
      "metadata": {
        "colab": {
          "base_uri": "https://localhost:8080/"
        },
        "id": "SzP_B7w7_1tj",
        "outputId": "e2b19984-88db-4b37-a4fc-fee105455fd6"
      },
      "source": [
        "#evaluate the model\n",
        "test_loss, test_acc = model_0.evaluate(X_test, Y_test)\n",
        "print('Test accuracy:', test_acc)"
      ],
      "execution_count": 12,
      "outputs": [
        {
          "output_type": "stream",
          "text": [
            "313/313 [==============================] - 1s 2ms/step - loss: 0.2823 - accuracy: 0.9213\n",
            "Test accuracy: 0.9212999939918518\n"
          ],
          "name": "stdout"
        }
      ]
    },
    {
      "cell_type": "code",
      "metadata": {
        "colab": {
          "base_uri": "https://localhost:8080/"
        },
        "id": "ZrHaOTYTaukM",
        "outputId": "a54a8082-bd66-4502-9494-e6d69ed093b8"
      },
      "source": [
        "model_0.summary()"
      ],
      "execution_count": 13,
      "outputs": [
        {
          "output_type": "stream",
          "text": [
            "Model: \"sequential\"\n",
            "_________________________________________________________________\n",
            "Layer (type)                 Output Shape              Param #   \n",
            "=================================================================\n",
            "first_layer (Dense)          (None, 10)                7850      \n",
            "=================================================================\n",
            "Total params: 7,850\n",
            "Trainable params: 7,850\n",
            "Non-trainable params: 0\n",
            "_________________________________________________________________\n"
          ],
          "name": "stdout"
        }
      ]
    },
    {
      "cell_type": "code",
      "metadata": {
        "colab": {
          "base_uri": "https://localhost:8080/"
        },
        "id": "6Tp4Zeqq68Wt",
        "outputId": "19841826-a434-4d93-af67-e6ec9beb4aca"
      },
      "source": [
        "model_0.weights"
      ],
      "execution_count": 14,
      "outputs": [
        {
          "output_type": "execute_result",
          "data": {
            "text/plain": [
              "[<tf.Variable 'first_layer/kernel:0' shape=(784, 10) dtype=float32, numpy=\n",
              " array([[-0.01182194, -0.07143442, -0.00398411, ..., -0.07002718,\n",
              "         -0.06060057, -0.00339469],\n",
              "        [ 0.08200488, -0.0196467 ,  0.08438156, ..., -0.02844574,\n",
              "          0.01626004, -0.0832996 ],\n",
              "        [-0.05625058,  0.07689724, -0.04314871, ..., -0.07116959,\n",
              "          0.02473933,  0.07876625],\n",
              "        ...,\n",
              "        [ 0.0044666 , -0.00193425, -0.03155564, ..., -0.00446316,\n",
              "          0.03274216, -0.05881702],\n",
              "        [-0.00286949, -0.05066209,  0.05916785, ..., -0.07443991,\n",
              "          0.07143175,  0.03653288],\n",
              "        [-0.02542564,  0.06398518, -0.01856478, ...,  0.02275828,\n",
              "         -0.05214717, -0.01072587]], dtype=float32)>,\n",
              " <tf.Variable 'first_layer/bias:0' shape=(10,) dtype=float32, numpy=\n",
              " array([-0.3540475 ,  0.35413042,  0.08279598, -0.25758305,  0.03581994,\n",
              "         1.2689586 , -0.10053985,  0.6431126 , -1.422252  , -0.25040284],\n",
              "       dtype=float32)>]"
            ]
          },
          "metadata": {
            "tags": []
          },
          "execution_count": 14
        }
      ]
    },
    {
      "cell_type": "code",
      "metadata": {
        "colab": {
          "base_uri": "https://localhost:8080/"
        },
        "id": "SsL3O8UfartE",
        "outputId": "47bccd7a-7a8f-4b86-fa0a-e6121051ea6c"
      },
      "source": [
        "# model_0.get_config()\n",
        "model_0.save('mnistdigits_perceptron')"
      ],
      "execution_count": 15,
      "outputs": [
        {
          "output_type": "stream",
          "text": [
            "INFO:tensorflow:Assets written to: mnistdigits_perceptron/assets\n"
          ],
          "name": "stdout"
        }
      ]
    },
    {
      "cell_type": "markdown",
      "metadata": {
        "id": "n8iGAu5OAO5Y"
      },
      "source": [
        "###Improved Model 1: Adding Hidden Layer - Multi Layer Perceptron "
      ]
    },
    {
      "cell_type": "code",
      "metadata": {
        "id": "VVkZL5uiAhJB"
      },
      "source": [
        "import tensorflow as tf\n",
        "from tensorflow.keras.layers import Dense\n",
        "from tensorflow.keras import Sequential\n",
        "\n",
        "#Most common type of model is a stack of layers\n",
        "model_1 = tf.keras.Sequential()\n",
        "N_hidden = 128\n",
        "# Adds a densely-connected layer with 128 units to the model:\n",
        "model_1.add(Dense(N_hidden, name='frist_layer', input_shape=(784,), activation = 'relu'))\n",
        "# Now the model will take as input arrays of shape (*, 784)# and output arrays of shape (*, 64)\n",
        "\n",
        "# Adding another dense layer:\n",
        "model_1.add(Dense(N_hidden, name='second_layer', activation='relu'))\n",
        "# After the first layer, you don't need to specify\u000b# the size of the input anymore:\n",
        "# Add an output layer with 10 output units (10 different classes):\n",
        "model_1.add(Dense(10, name='softmax_layer', activation = 'softmax'))"
      ],
      "execution_count": 16,
      "outputs": []
    },
    {
      "cell_type": "code",
      "metadata": {
        "id": "MiYit8ATfCXw"
      },
      "source": [
        "# Compiling the model.\n",
        "model_1.compile(optimizer='SGD', \n",
        "              loss='categorical_crossentropy',\n",
        "              metrics=['accuracy'])"
      ],
      "execution_count": 17,
      "outputs": []
    },
    {
      "cell_type": "code",
      "metadata": {
        "colab": {
          "base_uri": "https://localhost:8080/"
        },
        "id": "Ekw8psViw94o",
        "outputId": "66de762d-77a6-4bbf-bbc0-403cfd31e754"
      },
      "source": [
        "model_1.summary()"
      ],
      "execution_count": 18,
      "outputs": [
        {
          "output_type": "stream",
          "text": [
            "Model: \"sequential_1\"\n",
            "_________________________________________________________________\n",
            "Layer (type)                 Output Shape              Param #   \n",
            "=================================================================\n",
            "frist_layer (Dense)          (None, 128)               100480    \n",
            "_________________________________________________________________\n",
            "second_layer (Dense)         (None, 128)               16512     \n",
            "_________________________________________________________________\n",
            "softmax_layer (Dense)        (None, 10)                1290      \n",
            "=================================================================\n",
            "Total params: 118,282\n",
            "Trainable params: 118,282\n",
            "Non-trainable params: 0\n",
            "_________________________________________________________________\n"
          ],
          "name": "stdout"
        }
      ]
    },
    {
      "cell_type": "code",
      "metadata": {
        "colab": {
          "base_uri": "https://localhost:8080/"
        },
        "id": "an1ZMOOzxQ3a",
        "outputId": "fac7cef6-20ff-460e-8ba3-71f603153278"
      },
      "source": [
        "X_train.shape"
      ],
      "execution_count": 19,
      "outputs": [
        {
          "output_type": "execute_result",
          "data": {
            "text/plain": [
              "(60000, 784)"
            ]
          },
          "metadata": {
            "tags": []
          },
          "execution_count": 19
        }
      ]
    },
    {
      "cell_type": "code",
      "metadata": {
        "colab": {
          "base_uri": "https://localhost:8080/"
        },
        "id": "qeWrSoxzfCYE",
        "outputId": "644d1340-6f55-47be-c7a7-f00b177d52b3"
      },
      "source": [
        "# Training the model. \n",
        "training = model_1.fit(X_train, Y_train, batch_size=64, epochs=100, validation_split=0.2) "
      ],
      "execution_count": 20,
      "outputs": [
        {
          "output_type": "stream",
          "text": [
            "Epoch 1/100\n",
            "750/750 [==============================] - 2s 3ms/step - loss: 1.5436 - accuracy: 0.5627 - val_loss: 0.4463 - val_accuracy: 0.8857\n",
            "Epoch 2/100\n",
            "750/750 [==============================] - 2s 2ms/step - loss: 0.4389 - accuracy: 0.8822 - val_loss: 0.3324 - val_accuracy: 0.9065\n",
            "Epoch 3/100\n",
            "750/750 [==============================] - 2s 3ms/step - loss: 0.3423 - accuracy: 0.9036 - val_loss: 0.2943 - val_accuracy: 0.9139\n",
            "Epoch 4/100\n",
            "750/750 [==============================] - 2s 2ms/step - loss: 0.2990 - accuracy: 0.9134 - val_loss: 0.2676 - val_accuracy: 0.9247\n",
            "Epoch 5/100\n",
            "750/750 [==============================] - 2s 2ms/step - loss: 0.2706 - accuracy: 0.9226 - val_loss: 0.2502 - val_accuracy: 0.9304\n",
            "Epoch 6/100\n",
            "750/750 [==============================] - 2s 3ms/step - loss: 0.2556 - accuracy: 0.9266 - val_loss: 0.2340 - val_accuracy: 0.9328\n",
            "Epoch 7/100\n",
            "750/750 [==============================] - 2s 2ms/step - loss: 0.2356 - accuracy: 0.9322 - val_loss: 0.2199 - val_accuracy: 0.9386\n",
            "Epoch 8/100\n",
            "750/750 [==============================] - 2s 2ms/step - loss: 0.2283 - accuracy: 0.9355 - val_loss: 0.2092 - val_accuracy: 0.9413\n",
            "Epoch 9/100\n",
            "750/750 [==============================] - 2s 2ms/step - loss: 0.2080 - accuracy: 0.9396 - val_loss: 0.2018 - val_accuracy: 0.9448\n",
            "Epoch 10/100\n",
            "750/750 [==============================] - 2s 2ms/step - loss: 0.1998 - accuracy: 0.9442 - val_loss: 0.1921 - val_accuracy: 0.9479\n",
            "Epoch 11/100\n",
            "750/750 [==============================] - 2s 2ms/step - loss: 0.1845 - accuracy: 0.9469 - val_loss: 0.1848 - val_accuracy: 0.9497\n",
            "Epoch 12/100\n",
            "750/750 [==============================] - 2s 2ms/step - loss: 0.1778 - accuracy: 0.9487 - val_loss: 0.1781 - val_accuracy: 0.9517\n",
            "Epoch 13/100\n",
            "750/750 [==============================] - 2s 2ms/step - loss: 0.1723 - accuracy: 0.9499 - val_loss: 0.1715 - val_accuracy: 0.9543\n",
            "Epoch 14/100\n",
            "750/750 [==============================] - 2s 2ms/step - loss: 0.1663 - accuracy: 0.9526 - val_loss: 0.1661 - val_accuracy: 0.9546\n",
            "Epoch 15/100\n",
            "750/750 [==============================] - 2s 3ms/step - loss: 0.1516 - accuracy: 0.9556 - val_loss: 0.1609 - val_accuracy: 0.9569\n",
            "Epoch 16/100\n",
            "750/750 [==============================] - 2s 2ms/step - loss: 0.1505 - accuracy: 0.9567 - val_loss: 0.1577 - val_accuracy: 0.9566\n",
            "Epoch 17/100\n",
            "750/750 [==============================] - 2s 3ms/step - loss: 0.1448 - accuracy: 0.9574 - val_loss: 0.1528 - val_accuracy: 0.9581\n",
            "Epoch 18/100\n",
            "750/750 [==============================] - 2s 2ms/step - loss: 0.1409 - accuracy: 0.9582 - val_loss: 0.1486 - val_accuracy: 0.9588\n",
            "Epoch 19/100\n",
            "750/750 [==============================] - 2s 3ms/step - loss: 0.1327 - accuracy: 0.9607 - val_loss: 0.1452 - val_accuracy: 0.9605\n",
            "Epoch 20/100\n",
            "750/750 [==============================] - 2s 3ms/step - loss: 0.1293 - accuracy: 0.9630 - val_loss: 0.1418 - val_accuracy: 0.9608\n",
            "Epoch 21/100\n",
            "750/750 [==============================] - 2s 3ms/step - loss: 0.1217 - accuracy: 0.9654 - val_loss: 0.1379 - val_accuracy: 0.9630\n",
            "Epoch 22/100\n",
            "750/750 [==============================] - 2s 3ms/step - loss: 0.1204 - accuracy: 0.9652 - val_loss: 0.1353 - val_accuracy: 0.9628\n",
            "Epoch 23/100\n",
            "750/750 [==============================] - 2s 3ms/step - loss: 0.1162 - accuracy: 0.9675 - val_loss: 0.1315 - val_accuracy: 0.9643\n",
            "Epoch 24/100\n",
            "750/750 [==============================] - 2s 3ms/step - loss: 0.1081 - accuracy: 0.9695 - val_loss: 0.1291 - val_accuracy: 0.9647\n",
            "Epoch 25/100\n",
            "750/750 [==============================] - 2s 3ms/step - loss: 0.1054 - accuracy: 0.9695 - val_loss: 0.1273 - val_accuracy: 0.9650\n",
            "Epoch 26/100\n",
            "750/750 [==============================] - 2s 3ms/step - loss: 0.1038 - accuracy: 0.9708 - val_loss: 0.1249 - val_accuracy: 0.9658\n",
            "Epoch 27/100\n",
            "750/750 [==============================] - 2s 2ms/step - loss: 0.0963 - accuracy: 0.9729 - val_loss: 0.1228 - val_accuracy: 0.9663\n",
            "Epoch 28/100\n",
            "750/750 [==============================] - 2s 3ms/step - loss: 0.0961 - accuracy: 0.9728 - val_loss: 0.1195 - val_accuracy: 0.9669\n",
            "Epoch 29/100\n",
            "750/750 [==============================] - 2s 3ms/step - loss: 0.0942 - accuracy: 0.9741 - val_loss: 0.1200 - val_accuracy: 0.9670\n",
            "Epoch 30/100\n",
            "750/750 [==============================] - 2s 3ms/step - loss: 0.0899 - accuracy: 0.9756 - val_loss: 0.1159 - val_accuracy: 0.9677\n",
            "Epoch 31/100\n",
            "750/750 [==============================] - 2s 3ms/step - loss: 0.0884 - accuracy: 0.9756 - val_loss: 0.1147 - val_accuracy: 0.9672\n",
            "Epoch 32/100\n",
            "750/750 [==============================] - 2s 3ms/step - loss: 0.0844 - accuracy: 0.9768 - val_loss: 0.1126 - val_accuracy: 0.9684\n",
            "Epoch 33/100\n",
            "750/750 [==============================] - 2s 3ms/step - loss: 0.0845 - accuracy: 0.9768 - val_loss: 0.1106 - val_accuracy: 0.9688\n",
            "Epoch 34/100\n",
            "750/750 [==============================] - 2s 2ms/step - loss: 0.0795 - accuracy: 0.9777 - val_loss: 0.1098 - val_accuracy: 0.9683\n",
            "Epoch 35/100\n",
            "750/750 [==============================] - 2s 3ms/step - loss: 0.0763 - accuracy: 0.9788 - val_loss: 0.1085 - val_accuracy: 0.9696\n",
            "Epoch 36/100\n",
            "750/750 [==============================] - 2s 2ms/step - loss: 0.0725 - accuracy: 0.9803 - val_loss: 0.1064 - val_accuracy: 0.9696\n",
            "Epoch 37/100\n",
            "750/750 [==============================] - 2s 3ms/step - loss: 0.0716 - accuracy: 0.9810 - val_loss: 0.1056 - val_accuracy: 0.9703\n",
            "Epoch 38/100\n",
            "750/750 [==============================] - 2s 2ms/step - loss: 0.0763 - accuracy: 0.9793 - val_loss: 0.1049 - val_accuracy: 0.9699\n",
            "Epoch 39/100\n",
            "750/750 [==============================] - 2s 3ms/step - loss: 0.0695 - accuracy: 0.9812 - val_loss: 0.1040 - val_accuracy: 0.9697\n",
            "Epoch 40/100\n",
            "750/750 [==============================] - 2s 2ms/step - loss: 0.0700 - accuracy: 0.9812 - val_loss: 0.1035 - val_accuracy: 0.9702\n",
            "Epoch 41/100\n",
            "750/750 [==============================] - 2s 3ms/step - loss: 0.0656 - accuracy: 0.9816 - val_loss: 0.1008 - val_accuracy: 0.9711\n",
            "Epoch 42/100\n",
            "750/750 [==============================] - 2s 2ms/step - loss: 0.0630 - accuracy: 0.9831 - val_loss: 0.1008 - val_accuracy: 0.9712\n",
            "Epoch 43/100\n",
            "750/750 [==============================] - 2s 2ms/step - loss: 0.0645 - accuracy: 0.9837 - val_loss: 0.0993 - val_accuracy: 0.9716\n",
            "Epoch 44/100\n",
            "750/750 [==============================] - 2s 2ms/step - loss: 0.0573 - accuracy: 0.9844 - val_loss: 0.0983 - val_accuracy: 0.9719\n",
            "Epoch 45/100\n",
            "750/750 [==============================] - 2s 3ms/step - loss: 0.0582 - accuracy: 0.9841 - val_loss: 0.0975 - val_accuracy: 0.9728\n",
            "Epoch 46/100\n",
            "750/750 [==============================] - 2s 3ms/step - loss: 0.0576 - accuracy: 0.9847 - val_loss: 0.0979 - val_accuracy: 0.9721\n",
            "Epoch 47/100\n",
            "750/750 [==============================] - 2s 2ms/step - loss: 0.0586 - accuracy: 0.9847 - val_loss: 0.0963 - val_accuracy: 0.9728\n",
            "Epoch 48/100\n",
            "750/750 [==============================] - 2s 2ms/step - loss: 0.0557 - accuracy: 0.9848 - val_loss: 0.0966 - val_accuracy: 0.9729\n",
            "Epoch 49/100\n",
            "750/750 [==============================] - 2s 2ms/step - loss: 0.0512 - accuracy: 0.9867 - val_loss: 0.0955 - val_accuracy: 0.9722\n",
            "Epoch 50/100\n",
            "750/750 [==============================] - 2s 3ms/step - loss: 0.0523 - accuracy: 0.9866 - val_loss: 0.0942 - val_accuracy: 0.9732\n",
            "Epoch 51/100\n",
            "750/750 [==============================] - 2s 2ms/step - loss: 0.0518 - accuracy: 0.9870 - val_loss: 0.0943 - val_accuracy: 0.9736\n",
            "Epoch 52/100\n",
            "750/750 [==============================] - 2s 2ms/step - loss: 0.0508 - accuracy: 0.9871 - val_loss: 0.0944 - val_accuracy: 0.9725\n",
            "Epoch 53/100\n",
            "750/750 [==============================] - 2s 2ms/step - loss: 0.0494 - accuracy: 0.9871 - val_loss: 0.0924 - val_accuracy: 0.9728\n",
            "Epoch 54/100\n",
            "750/750 [==============================] - 2s 2ms/step - loss: 0.0457 - accuracy: 0.9878 - val_loss: 0.0921 - val_accuracy: 0.9732\n",
            "Epoch 55/100\n",
            "750/750 [==============================] - 2s 3ms/step - loss: 0.0467 - accuracy: 0.9883 - val_loss: 0.0933 - val_accuracy: 0.9732\n",
            "Epoch 56/100\n",
            "750/750 [==============================] - 2s 3ms/step - loss: 0.0430 - accuracy: 0.9889 - val_loss: 0.0922 - val_accuracy: 0.9737\n",
            "Epoch 57/100\n",
            "750/750 [==============================] - 2s 2ms/step - loss: 0.0437 - accuracy: 0.9889 - val_loss: 0.0922 - val_accuracy: 0.9728\n",
            "Epoch 58/100\n",
            "750/750 [==============================] - 2s 3ms/step - loss: 0.0438 - accuracy: 0.9889 - val_loss: 0.0914 - val_accuracy: 0.9736\n",
            "Epoch 59/100\n",
            "750/750 [==============================] - 2s 2ms/step - loss: 0.0407 - accuracy: 0.9898 - val_loss: 0.0919 - val_accuracy: 0.9738\n",
            "Epoch 60/100\n",
            "750/750 [==============================] - 2s 3ms/step - loss: 0.0402 - accuracy: 0.9899 - val_loss: 0.0922 - val_accuracy: 0.9735\n",
            "Epoch 61/100\n",
            "750/750 [==============================] - 2s 3ms/step - loss: 0.0404 - accuracy: 0.9900 - val_loss: 0.0898 - val_accuracy: 0.9745\n",
            "Epoch 62/100\n",
            "750/750 [==============================] - 2s 2ms/step - loss: 0.0380 - accuracy: 0.9903 - val_loss: 0.0899 - val_accuracy: 0.9744\n",
            "Epoch 63/100\n",
            "750/750 [==============================] - 2s 3ms/step - loss: 0.0383 - accuracy: 0.9905 - val_loss: 0.0899 - val_accuracy: 0.9742\n",
            "Epoch 64/100\n",
            "750/750 [==============================] - 2s 3ms/step - loss: 0.0364 - accuracy: 0.9916 - val_loss: 0.0906 - val_accuracy: 0.9739\n",
            "Epoch 65/100\n",
            "750/750 [==============================] - 2s 3ms/step - loss: 0.0384 - accuracy: 0.9899 - val_loss: 0.0893 - val_accuracy: 0.9747\n",
            "Epoch 66/100\n",
            "750/750 [==============================] - 2s 2ms/step - loss: 0.0342 - accuracy: 0.9918 - val_loss: 0.0902 - val_accuracy: 0.9739\n",
            "Epoch 67/100\n",
            "750/750 [==============================] - 2s 3ms/step - loss: 0.0341 - accuracy: 0.9920 - val_loss: 0.0889 - val_accuracy: 0.9747\n",
            "Epoch 68/100\n",
            "750/750 [==============================] - 2s 3ms/step - loss: 0.0346 - accuracy: 0.9920 - val_loss: 0.0908 - val_accuracy: 0.9737\n",
            "Epoch 69/100\n",
            "750/750 [==============================] - 2s 2ms/step - loss: 0.0328 - accuracy: 0.9928 - val_loss: 0.0887 - val_accuracy: 0.9747\n",
            "Epoch 70/100\n",
            "750/750 [==============================] - 2s 3ms/step - loss: 0.0311 - accuracy: 0.9927 - val_loss: 0.0894 - val_accuracy: 0.9741\n",
            "Epoch 71/100\n",
            "750/750 [==============================] - 2s 3ms/step - loss: 0.0305 - accuracy: 0.9935 - val_loss: 0.0887 - val_accuracy: 0.9741\n",
            "Epoch 72/100\n",
            "750/750 [==============================] - 2s 3ms/step - loss: 0.0302 - accuracy: 0.9938 - val_loss: 0.0877 - val_accuracy: 0.9760\n",
            "Epoch 73/100\n",
            "750/750 [==============================] - 2s 2ms/step - loss: 0.0312 - accuracy: 0.9930 - val_loss: 0.0886 - val_accuracy: 0.9751\n",
            "Epoch 74/100\n",
            "750/750 [==============================] - 2s 3ms/step - loss: 0.0276 - accuracy: 0.9945 - val_loss: 0.0884 - val_accuracy: 0.9752\n",
            "Epoch 75/100\n",
            "750/750 [==============================] - 2s 3ms/step - loss: 0.0272 - accuracy: 0.9944 - val_loss: 0.0885 - val_accuracy: 0.9749\n",
            "Epoch 76/100\n",
            "750/750 [==============================] - 2s 2ms/step - loss: 0.0275 - accuracy: 0.9949 - val_loss: 0.0912 - val_accuracy: 0.9745\n",
            "Epoch 77/100\n",
            "750/750 [==============================] - 2s 2ms/step - loss: 0.0290 - accuracy: 0.9941 - val_loss: 0.0891 - val_accuracy: 0.9741\n",
            "Epoch 78/100\n",
            "750/750 [==============================] - 2s 2ms/step - loss: 0.0256 - accuracy: 0.9945 - val_loss: 0.0882 - val_accuracy: 0.9742\n",
            "Epoch 79/100\n",
            "750/750 [==============================] - 2s 2ms/step - loss: 0.0255 - accuracy: 0.9951 - val_loss: 0.0878 - val_accuracy: 0.9753\n",
            "Epoch 80/100\n",
            "750/750 [==============================] - 2s 3ms/step - loss: 0.0251 - accuracy: 0.9950 - val_loss: 0.0879 - val_accuracy: 0.9748\n",
            "Epoch 81/100\n",
            "750/750 [==============================] - 2s 3ms/step - loss: 0.0256 - accuracy: 0.9950 - val_loss: 0.0879 - val_accuracy: 0.9751\n",
            "Epoch 82/100\n",
            "750/750 [==============================] - 2s 3ms/step - loss: 0.0234 - accuracy: 0.9956 - val_loss: 0.0888 - val_accuracy: 0.9748\n",
            "Epoch 83/100\n",
            "750/750 [==============================] - 2s 3ms/step - loss: 0.0229 - accuracy: 0.9959 - val_loss: 0.0881 - val_accuracy: 0.9752\n",
            "Epoch 84/100\n",
            "750/750 [==============================] - 2s 2ms/step - loss: 0.0234 - accuracy: 0.9956 - val_loss: 0.0914 - val_accuracy: 0.9737\n",
            "Epoch 85/100\n",
            "750/750 [==============================] - 2s 3ms/step - loss: 0.0237 - accuracy: 0.9952 - val_loss: 0.0884 - val_accuracy: 0.9751\n",
            "Epoch 86/100\n",
            "750/750 [==============================] - 2s 2ms/step - loss: 0.0218 - accuracy: 0.9962 - val_loss: 0.0883 - val_accuracy: 0.9757\n",
            "Epoch 87/100\n",
            "750/750 [==============================] - 2s 3ms/step - loss: 0.0223 - accuracy: 0.9956 - val_loss: 0.0889 - val_accuracy: 0.9753\n",
            "Epoch 88/100\n",
            "750/750 [==============================] - 2s 2ms/step - loss: 0.0209 - accuracy: 0.9963 - val_loss: 0.0878 - val_accuracy: 0.9753\n",
            "Epoch 89/100\n",
            "750/750 [==============================] - 2s 2ms/step - loss: 0.0214 - accuracy: 0.9961 - val_loss: 0.0875 - val_accuracy: 0.9761\n",
            "Epoch 90/100\n",
            "750/750 [==============================] - 2s 3ms/step - loss: 0.0191 - accuracy: 0.9965 - val_loss: 0.0885 - val_accuracy: 0.9759\n",
            "Epoch 91/100\n",
            "750/750 [==============================] - 2s 3ms/step - loss: 0.0204 - accuracy: 0.9968 - val_loss: 0.0875 - val_accuracy: 0.9758\n",
            "Epoch 92/100\n",
            "750/750 [==============================] - 2s 2ms/step - loss: 0.0194 - accuracy: 0.9967 - val_loss: 0.0880 - val_accuracy: 0.9753\n",
            "Epoch 93/100\n",
            "750/750 [==============================] - 2s 2ms/step - loss: 0.0187 - accuracy: 0.9973 - val_loss: 0.0878 - val_accuracy: 0.9757\n",
            "Epoch 94/100\n",
            "750/750 [==============================] - 2s 3ms/step - loss: 0.0183 - accuracy: 0.9969 - val_loss: 0.0876 - val_accuracy: 0.9759\n",
            "Epoch 95/100\n",
            "750/750 [==============================] - 2s 3ms/step - loss: 0.0186 - accuracy: 0.9972 - val_loss: 0.0879 - val_accuracy: 0.9759\n",
            "Epoch 96/100\n",
            "750/750 [==============================] - 2s 2ms/step - loss: 0.0172 - accuracy: 0.9972 - val_loss: 0.0881 - val_accuracy: 0.9757\n",
            "Epoch 97/100\n",
            "750/750 [==============================] - 2s 2ms/step - loss: 0.0170 - accuracy: 0.9977 - val_loss: 0.0887 - val_accuracy: 0.9760\n",
            "Epoch 98/100\n",
            "750/750 [==============================] - 2s 3ms/step - loss: 0.0168 - accuracy: 0.9978 - val_loss: 0.0892 - val_accuracy: 0.9753\n",
            "Epoch 99/100\n",
            "750/750 [==============================] - 2s 3ms/step - loss: 0.0163 - accuracy: 0.9977 - val_loss: 0.0880 - val_accuracy: 0.9760\n",
            "Epoch 100/100\n",
            "750/750 [==============================] - 2s 3ms/step - loss: 0.0167 - accuracy: 0.9976 - val_loss: 0.0893 - val_accuracy: 0.9755\n"
          ],
          "name": "stdout"
        }
      ]
    },
    {
      "cell_type": "code",
      "metadata": {
        "colab": {
          "base_uri": "https://localhost:8080/",
          "height": 590
        },
        "id": "0W6J4tagfCYR",
        "outputId": "06113ffa-240c-43d7-c0a8-32b06ed2564c"
      },
      "source": [
        "import matplotlib.pyplot as plt\n",
        "%matplotlib inline\n",
        "# list all data in training\n",
        "print(training.history.keys())\n",
        "# summarize training for accuracy\n",
        "plt.plot(training.history['accuracy'])\n",
        "plt.plot(training.history['val_accuracy'])\n",
        "plt.title('model accuracy')\n",
        "plt.ylabel('accuracy')\n",
        "plt.xlabel('epoch')\n",
        "plt.legend(['train', 'test'], loc='upper left')\n",
        "plt.show()\n",
        "# summarize traning for loss\n",
        "plt.plot(training.history['loss'])\n",
        "plt.plot(training.history['val_loss'])\n",
        "plt.title('model loss')\n",
        "plt.ylabel('loss')\n",
        "plt.xlabel('epoch')\n",
        "plt.legend(['train', 'test'], loc='upper left')\n",
        "plt.show()"
      ],
      "execution_count": 21,
      "outputs": [
        {
          "output_type": "stream",
          "text": [
            "dict_keys(['loss', 'accuracy', 'val_loss', 'val_accuracy'])\n"
          ],
          "name": "stdout"
        },
        {
          "output_type": "display_data",
          "data": {
            "image/png": "[encoded data removed]",
            "text/plain": [
              "<Figure size 432x288 with 1 Axes>"
            ]
          },
          "metadata": {
            "tags": [],
            "needs_background": "light"
          }
        },
        {
          "output_type": "display_data",
          "data": {
            "image/png": "[encoded data removed]",
            "text/plain": [
              "<Figure size 432x288 with 1 Axes>"
            ]
          },
          "metadata": {
            "tags": [],
            "needs_background": "light"
          }
        }
      ]
    },
    {
      "cell_type": "code",
      "metadata": {
        "colab": {
          "base_uri": "https://localhost:8080/"
        },
        "id": "LG8UWh68fCYe",
        "outputId": "13a703e6-fba6-4de4-df05-e2e2108dcf7c"
      },
      "source": [
        "#evaluate the model\n",
        "test_loss, test_acc = model_1.evaluate(X_test, Y_test)\n",
        "print('Test accuracy:', test_acc)"
      ],
      "execution_count": 22,
      "outputs": [
        {
          "output_type": "stream",
          "text": [
            "313/313 [==============================] - 1s 2ms/step - loss: 0.0756 - accuracy: 0.9762\n",
            "Test accuracy: 0.9761999845504761\n"
          ],
          "name": "stdout"
        }
      ]
    },
    {
      "cell_type": "code",
      "metadata": {
        "colab": {
          "base_uri": "https://localhost:8080/"
        },
        "id": "iE5uSPRvfCYq",
        "outputId": "23efe8b4-1b4a-4ce2-d352-3e79aea4528f"
      },
      "source": [
        "model_1.summary()"
      ],
      "execution_count": null,
      "outputs": [
        {
          "output_type": "stream",
          "text": [
            "Model: \"sequential_1\"\n",
            "_________________________________________________________________\n",
            "Layer (type)                 Output Shape              Param #   \n",
            "=================================================================\n",
            "frist_layer (Dense)          (None, 64)                50240     \n",
            "_________________________________________________________________\n",
            "second_layer (Dense)         (None, 64)                4160      \n",
            "_________________________________________________________________\n",
            "softmax_layer (Dense)        (None, 10)                650       \n",
            "=================================================================\n",
            "Total params: 55,050\n",
            "Trainable params: 55,050\n",
            "Non-trainable params: 0\n",
            "_________________________________________________________________\n"
          ],
          "name": "stdout"
        }
      ]
    },
    {
      "cell_type": "code",
      "metadata": {
        "colab": {
          "base_uri": "https://localhost:8080/"
        },
        "id": "p3TehZJnAlD6",
        "outputId": "3ed7af6e-17b6-41cd-9355-a2499f8233cd"
      },
      "source": [
        "model_1.weights"
      ],
      "execution_count": null,
      "outputs": [
        {
          "output_type": "execute_result",
          "data": {
            "text/plain": [
              "[<tf.Variable 'frist_layer/kernel:0' shape=(784, 64) dtype=float32, numpy=\n",
              " array([[ 0.02462893, -0.02195248,  0.02383371, ...,  0.03463955,\n",
              "         -0.02766402,  0.06504446],\n",
              "        [ 0.02151432, -0.0545406 , -0.06167971, ..., -0.08053005,\n",
              "         -0.03974636,  0.0099289 ],\n",
              "        [ 0.02189458, -0.06688212,  0.06714154, ...,  0.003544  ,\n",
              "         -0.00237268, -0.04402876],\n",
              "        ...,\n",
              "        [ 0.00789183,  0.06641159,  0.06743055, ...,  0.0732697 ,\n",
              "         -0.0837156 ,  0.06129592],\n",
              "        [-0.00362051,  0.0379677 ,  0.010162  , ...,  0.01400792,\n",
              "          0.0600479 , -0.08297924],\n",
              "        [ 0.00155894,  0.01882093, -0.05163996, ...,  0.00043916,\n",
              "         -0.04383892,  0.03568826]], dtype=float32)>,\n",
              " <tf.Variable 'frist_layer/bias:0' shape=(64,) dtype=float32, numpy=\n",
              " array([-0.12296277,  0.05312745, -0.00459063, -0.03500145, -0.12018252,\n",
              "         0.15529048,  0.01732744,  0.16238065, -0.01890365,  0.01206397,\n",
              "        -0.10634891,  0.00226891,  0.16837238,  0.13686383, -0.10753072,\n",
              "        -0.02627477,  0.004709  ,  0.07918592,  0.10583173,  0.16177644,\n",
              "         0.05295004,  0.04912465,  0.0424284 , -0.06765245, -0.04839185,\n",
              "         0.05972842,  0.06275267, -0.02732965,  0.08862051, -0.0230956 ,\n",
              "        -0.12231951, -0.14501642,  0.06004505,  0.09992296, -0.0084876 ,\n",
              "        -0.07762162,  0.02067665, -0.09279944, -0.08532627, -0.06448676,\n",
              "         0.01494815,  0.09200271, -0.025463  ,  0.11391464,  0.10780149,\n",
              "         0.0677402 ,  0.10828505,  0.0068076 ,  0.00022881,  0.10112162,\n",
              "        -0.11811736,  0.06139441,  0.00444793,  0.21266422,  0.01348021,\n",
              "         0.18763116,  0.00363062,  0.07739833,  0.00757149,  0.07920831,\n",
              "         0.13349041,  0.01187847, -0.01426483,  0.1527656 ], dtype=float32)>,\n",
              " <tf.Variable 'second_layer/kernel:0' shape=(64, 64) dtype=float32, numpy=\n",
              " array([[ 0.35054287,  0.01699287,  0.1575574 , ...,  0.05772455,\n",
              "          0.02956111, -0.08627676],\n",
              "        [-0.09955706,  0.13179345, -0.23077793, ..., -0.174656  ,\n",
              "         -0.15409969,  0.19040921],\n",
              "        [-0.0212346 , -0.14141758, -0.17376938, ..., -0.16722919,\n",
              "         -0.15285034, -0.18714209],\n",
              "        ...,\n",
              "        [ 0.45644432,  0.0281585 ,  0.27884004, ...,  0.04791772,\n",
              "         -0.13823052, -0.18836242],\n",
              "        [-0.05735808,  0.12589195,  0.18659693, ..., -0.1816609 ,\n",
              "          0.08089593, -0.19839276],\n",
              "        [-0.04180438,  0.1930651 , -0.19932346, ..., -0.02324525,\n",
              "          0.25495395,  0.24033459]], dtype=float32)>,\n",
              " <tf.Variable 'second_layer/bias:0' shape=(64,) dtype=float32, numpy=\n",
              " array([-0.01780721, -0.00159711,  0.11403492,  0.01409225, -0.01186434,\n",
              "         0.05337195, -0.00373896,  0.01229496,  0.08059324,  0.06020833,\n",
              "         0.12870844,  0.00702729,  0.11510059,  0.05518219,  0.1044405 ,\n",
              "         0.09618077,  0.07453799,  0.07991374,  0.09334422, -0.04307207,\n",
              "        -0.0585361 , -0.00228469,  0.12176784,  0.08840398,  0.01696948,\n",
              "        -0.04952231,  0.05342478, -0.00307164,  0.0971313 ,  0.01400229,\n",
              "         0.00378723,  0.02680507,  0.00419295,  0.0038727 ,  0.00466467,\n",
              "         0.03850494, -0.02591919,  0.06069123, -0.01122206,  0.04699098,\n",
              "         0.02695104,  0.03119222,  0.01320183,  0.0092539 , -0.0117162 ,\n",
              "         0.00900279,  0.02258327, -0.00847956,  0.01560906, -0.00889965,\n",
              "         0.00606687,  0.0133333 ,  0.05364239,  0.12146879, -0.0221446 ,\n",
              "         0.05957758,  0.0679585 ,  0.04774653,  0.07937045,  0.00045799,\n",
              "        -0.01483538,  0.03055959,  0.10706249,  0.04140465], dtype=float32)>,\n",
              " <tf.Variable 'softmax_layer/kernel:0' shape=(64, 10) dtype=float32, numpy=\n",
              " array([[ 0.30897158, -0.26626903,  0.45400685,  0.11943319, -0.49900612,\n",
              "          0.03623491, -0.61859316,  0.282953  , -0.19931114,  0.4781416 ],\n",
              "        [-0.04011284,  0.00549286, -0.01779102, -0.25818658,  0.12099648,\n",
              "          0.05707278,  0.11991248,  0.15722366,  0.21290399, -0.02565908],\n",
              "        [ 0.00215575,  0.54629064, -0.8725006 ,  0.23566219, -0.72461414,\n",
              "          0.7157015 , -0.09435504,  0.64840764, -0.4007268 , -0.4096451 ],\n",
              "        [-0.08677096,  0.472647  , -0.18821807,  0.37875196, -0.2583125 ,\n",
              "          0.57583106,  0.3195175 ,  0.11244284, -0.8183331 ,  0.11609405],\n",
              "        [ 0.10327877,  0.19459024,  0.01207859, -0.21608633, -0.259376  ,\n",
              "          0.05615717, -0.14390835, -0.16535701,  0.09030841, -0.2562576 ],\n",
              "        [-0.53561544, -0.43105766,  0.14709754,  0.08866907, -0.4552163 ,\n",
              "          0.4973553 , -0.09097102,  0.186752  , -0.36058086,  0.54101044],\n",
              "        [ 0.17565669, -0.11213536, -0.14908393, -0.27590135,  0.2668899 ,\n",
              "         -0.27947977,  0.24028458,  0.44935083,  0.14356361, -0.08190288],\n",
              "        [ 0.6494224 , -0.33579645,  0.774076  ,  0.1869933 , -0.20607047,\n",
              "         -0.36029348,  0.18765612,  0.2607878 , -0.23593464,  0.1439688 ],\n",
              "        [-0.0024035 ,  0.15931065,  0.14176011, -0.5220611 ,  0.05331621,\n",
              "          0.67312235,  0.3500185 , -0.12446839,  0.20299315, -0.43221158],\n",
              "        [ 0.06640317, -0.38820854,  0.4608521 ,  0.06164475, -0.08851551,\n",
              "         -0.2864595 ,  0.32294002,  0.64913887, -0.78226465,  0.04546191],\n",
              "        [-0.04551953, -0.25225407, -0.51613   , -0.55968904,  0.32985073,\n",
              "          0.57177067, -0.15721597,  0.3935685 , -0.5016172 ,  0.06925456],\n",
              "        [-0.16529648,  0.0815479 , -0.07828894, -0.26083234,  0.17133066,\n",
              "          0.15921415, -0.16673769, -0.07746129, -0.11225939,  0.16804498],\n",
              "        [-0.5054477 , -0.07282185, -0.09718587,  0.08592784, -0.12622567,\n",
              "          0.2574039 ,  0.35509917, -0.6384599 ,  0.75784624, -0.38199452],\n",
              "        [ 0.61702543, -0.32398117,  0.14652485, -0.21429673, -0.47251388,\n",
              "          0.41801086, -0.26598066, -0.32776254,  0.2025778 , -0.10575565],\n",
              "        [-0.26401976,  0.36517745, -0.0383218 , -0.50700176,  0.7819205 ,\n",
              "         -0.60031766, -0.537965  ,  0.43846512,  0.3379286 ,  0.22766092],\n",
              "        [-0.1624269 ,  0.09709643,  0.85142386, -0.5647855 ,  0.44243544,\n",
              "          0.32364345,  0.26777312, -0.4621265 , -0.49286252, -0.65090173],\n",
              "        [-0.33496606,  0.5272599 ,  0.40684175,  0.54106736, -0.78327894,\n",
              "         -0.8733862 , -0.22232036,  0.8394841 , -0.0636154 , -0.21624605],\n",
              "        [ 0.38962528,  0.16127074,  0.0827324 , -0.5738523 ,  0.00148635,\n",
              "          0.14568272, -0.3839463 ,  0.56072336,  0.15125716,  0.14935343],\n",
              "        [-0.29241464,  0.48129478, -0.17020811,  0.41344348, -0.4496736 ,\n",
              "         -0.227512  , -0.3479523 ,  0.61421376,  0.1394228 , -0.2769513 ],\n",
              "        [ 0.05780937, -0.24068102,  0.7260139 ,  0.4272    , -0.00474457,\n",
              "         -0.17296122,  0.10621092, -0.29714113, -0.32535455, -0.39683706],\n",
              "        [ 0.43210903, -0.48494965, -0.3784969 ,  0.28779152,  0.48694783,\n",
              "         -0.49008107,  0.18500711,  0.12122487, -0.5057846 ,  0.5202205 ],\n",
              "        [-0.34185195,  0.11392649, -0.7357238 ,  0.25002947, -0.44731945,\n",
              "          0.0811597 ,  0.7605213 ,  0.01567297, -0.26962987,  0.03944929],\n",
              "        [ 0.41151172, -0.62895626,  0.45328474, -0.45911765,  0.2251069 ,\n",
              "         -0.16915037,  0.05787625,  0.1965827 ,  0.7304148 , -0.11288588],\n",
              "        [-0.5647604 ,  0.20222837, -0.37228516, -0.10442872, -0.00423747,\n",
              "          0.19217935, -0.14507753, -0.22259249,  0.07972902, -0.20585425],\n",
              "        [-0.0421028 ,  0.43829775,  0.3001222 ,  0.3873297 , -0.3008856 ,\n",
              "          0.29970932,  0.02858843, -0.5220964 , -0.6574154 ,  0.07855349],\n",
              "        [ 0.5862935 , -0.30919233,  0.27557474,  0.81810516, -0.20931357,\n",
              "         -0.42916444, -0.21232606,  0.0226353 , -0.353872  , -0.07332602],\n",
              "        [ 0.03976087,  0.12840886, -0.19191532, -0.17275397, -0.12823313,\n",
              "         -0.33234218, -0.44899198, -0.19217916,  0.28964025,  0.7336756 ],\n",
              "        [ 0.13627753, -0.11110233, -0.24621838,  0.10378195, -0.08646557,\n",
              "          0.17658307,  0.03125418, -0.14887166, -0.27182   , -0.0145146 ],\n",
              "        [-0.4112887 ,  0.4412319 ,  0.5674768 ,  0.43154514,  0.52840656,\n",
              "         -0.5093454 , -0.22483833, -0.2761927 ,  0.01853475, -0.81083757],\n",
              "        [-0.29402006, -0.12042298, -0.1786425 ,  0.05033678,  0.00117479,\n",
              "         -0.5888858 ,  0.45942593,  0.440017  , -0.05487746, -0.54767555],\n",
              "        [ 0.06133172,  0.23110616,  0.3770115 , -0.24367389, -0.21764642,\n",
              "          0.1193375 , -0.16237073, -0.2589686 , -0.08678726,  0.27144253],\n",
              "        [ 0.1802691 , -0.67614996, -0.29035446,  0.39115846, -0.25667962,\n",
              "          0.17219107, -0.22852403,  0.3803705 ,  0.32091746, -0.07851029],\n",
              "        [ 0.17456877, -0.11518345, -0.0665431 ,  0.14161141, -0.009587  ,\n",
              "         -0.20079231,  0.42175242, -0.0732111 ,  0.3184281 , -0.13521287],\n",
              "        [-0.02267675,  0.20317455,  0.11520501, -0.12910447,  0.24442782,\n",
              "          0.2521167 , -0.15073276, -0.36437383,  0.07361601,  0.578345  ],\n",
              "        [-0.15078194, -0.21086195,  0.1743711 ,  0.42904693,  0.5537642 ,\n",
              "         -0.85831887,  0.2225978 ,  0.15636928,  0.28648147,  0.27692962],\n",
              "        [ 0.24355608,  0.04241383,  0.03439984, -0.7818146 ,  0.8456812 ,\n",
              "         -0.60514987,  0.2598062 ,  0.38372052, -0.7206962 , -0.23719124],\n",
              "        [-0.04473596, -0.17896175, -0.6819663 ,  0.37265667,  0.50150675,\n",
              "          0.44462168, -0.35741153, -0.27285662, -0.2794317 , -0.04887487],\n",
              "        [ 0.00724499, -0.2561076 , -0.5571936 , -0.21827765, -0.01119965,\n",
              "          0.666064  ,  0.19646816,  0.04514925,  0.15423764,  0.02068859],\n",
              "        [ 0.5688732 , -0.40535763,  0.08173305,  0.23668946, -0.40299138,\n",
              "          0.41051894,  0.47365752, -0.61928517, -0.13544685,  0.04589624],\n",
              "        [-0.34585878,  0.37530935, -0.442155  ,  0.17484348,  0.5252421 ,\n",
              "         -0.08002622, -0.60315967, -0.1394324 ,  0.39792994,  0.41796154],\n",
              "        [-0.1978149 , -0.18662277,  0.22781812,  0.34685758,  0.03461287,\n",
              "         -0.00774118,  0.18034618,  0.03599335, -0.07706506, -0.0929657 ],\n",
              "        [ 0.20824213, -0.16288456,  0.17985761,  0.43481144, -0.63324946,\n",
              "         -0.22235471, -0.50530374, -0.08284085,  0.26618674, -0.01723832],\n",
              "        [ 0.26731995,  0.42247733, -0.39805862, -0.53663105,  0.13802972,\n",
              "         -0.6273418 ,  0.02832528,  0.06982205, -0.5215045 , -0.13061996],\n",
              "        [ 0.34636706,  0.16365531, -0.75591886, -0.01225307,  0.06211163,\n",
              "          0.25042608,  0.56684023, -0.03849226,  0.1610604 ,  0.22290607],\n",
              "        [ 0.29294446,  0.47149765, -0.11316052,  0.14019445,  0.5838513 ,\n",
              "          0.09433486, -0.34320953,  0.08233954, -0.74802977,  0.4501083 ],\n",
              "        [ 0.24422713,  0.09625675,  0.12519649, -0.2279408 , -0.16655271,\n",
              "         -0.04496458, -0.20105907, -0.22248177, -0.20759301, -0.2695577 ],\n",
              "        [ 0.64784056, -0.01345411,  0.02905976, -0.64175725, -0.03666814,\n",
              "         -0.34144646,  0.39701304, -0.3461153 ,  0.6144808 , -0.24446757],\n",
              "        [-0.4725151 , -0.07104172,  0.0971099 ,  0.6109912 ,  0.19467576,\n",
              "          0.50159395, -0.74722683, -0.45385534,  0.24518357,  0.65702915],\n",
              "        [-0.13272278,  0.10015311,  0.02402854, -0.24188328, -0.599729  ,\n",
              "          0.51281714,  0.04076331,  0.06110252, -0.35199165,  0.28830492],\n",
              "        [ 0.6238322 ,  0.5213806 , -0.3065918 ,  0.02436789, -0.01603618,\n",
              "         -0.49353698,  0.43654972, -0.30420884, -0.40040427, -0.71400684],\n",
              "        [-0.03523756,  0.10238901,  0.14682534,  0.12855956,  0.09939129,\n",
              "         -0.22662394, -0.16942412,  0.10736241,  0.28559968, -0.20666575],\n",
              "        [ 0.11329893, -0.20660062,  0.46613163,  0.03279319, -0.32611343,\n",
              "          0.3157086 , -0.47385347,  0.02660199,  0.23535123,  0.55965036],\n",
              "        [-0.1656313 ,  0.43562114, -0.09421697, -1.0908675 ,  0.64391005,\n",
              "         -0.23135418,  0.19577612, -0.11098827,  0.25560433,  0.21161743],\n",
              "        [-0.3890119 ,  0.5060036 , -0.19384247, -0.17318106, -0.2928423 ,\n",
              "         -0.09350987,  0.0120801 , -0.21871117,  0.39660737, -0.16865492],\n",
              "        [-0.03304509, -0.14094168,  0.30335176,  0.52422017, -0.55896   ,\n",
              "         -0.03500175, -0.17996247, -0.6370204 ,  0.28609827,  0.73218995],\n",
              "        [-0.42833504, -0.53703755, -0.4538329 ,  0.4898082 , -0.3004387 ,\n",
              "          0.52538633, -0.11238806, -0.06981769,  0.2628246 ,  0.3664839 ],\n",
              "        [ 0.11223308,  0.17354637,  0.3178252 , -0.23502848, -0.10478052,\n",
              "         -0.58611184,  0.3082319 ,  0.17922468,  0.19009745,  0.4727689 ],\n",
              "        [ 0.05194678,  0.03885004,  0.5473215 , -0.26517773,  0.0711237 ,\n",
              "         -0.38418537,  0.49331093,  0.628484  ,  0.32096517, -0.8817838 ],\n",
              "        [-0.26442337, -0.7098312 , -0.21668127,  0.18208615,  0.17539527,\n",
              "          0.51947504, -0.07273004, -0.15935366,  0.3098464 ,  0.4619549 ],\n",
              "        [ 0.24707833,  0.17725739, -0.13371336, -0.168206  ,  0.20566247,\n",
              "         -0.01633767, -0.04655569, -0.00980802, -0.23251912,  0.03083007],\n",
              "        [-0.2222633 ,  0.04975575,  0.86035943, -0.12045275,  0.01394653,\n",
              "          0.5914974 , -0.64114046,  0.47846124, -0.5324015 , -0.9844463 ],\n",
              "        [ 0.05910638,  0.21943286,  0.34694365,  0.24513826, -0.3765668 ,\n",
              "          0.2351061 ,  0.21330376, -0.21275453, -0.0246938 , -0.3480217 ],\n",
              "        [ 0.11469121,  0.17998923,  0.4599621 , -0.49539274, -0.33309466,\n",
              "          0.22158721,  0.02412559, -0.177865  , -0.34323823,  0.27832335],\n",
              "        [-0.23894815, -0.2453878 , -0.27745754, -0.04692604,  0.34443134,\n",
              "         -0.22187021,  0.03881435, -0.11100881,  0.15895943,  0.04079728]],\n",
              "       dtype=float32)>,\n",
              " <tf.Variable 'softmax_layer/bias:0' shape=(10,) dtype=float32, numpy=\n",
              " array([-0.15286125,  0.09962338,  0.00254037, -0.1641843 , -0.02581466,\n",
              "         0.14208674, -0.00106601,  0.14400844, -0.00891493, -0.03542052],\n",
              "       dtype=float32)>]"
            ]
          },
          "metadata": {
            "tags": []
          },
          "execution_count": 24
        }
      ]
    },
    {
      "cell_type": "code",
      "metadata": {
        "colab": {
          "base_uri": "https://localhost:8080/"
        },
        "id": "x_no8rMBfCY6",
        "outputId": "73d3b2e2-821c-4875-bba7-eaeb3367c934"
      },
      "source": [
        "model_1.get_config()"
      ],
      "execution_count": null,
      "outputs": [
        {
          "output_type": "execute_result",
          "data": {
            "text/plain": [
              "{'layers': [{'class_name': 'InputLayer',\n",
              "   'config': {'batch_input_shape': (None, 784),\n",
              "    'dtype': 'float32',\n",
              "    'name': 'frist_layer_input',\n",
              "    'ragged': False,\n",
              "    'sparse': False}},\n",
              "  {'class_name': 'Dense',\n",
              "   'config': {'activation': 'relu',\n",
              "    'activity_regularizer': None,\n",
              "    'batch_input_shape': (None, 784),\n",
              "    'bias_constraint': None,\n",
              "    'bias_initializer': {'class_name': 'Zeros', 'config': {}},\n",
              "    'bias_regularizer': None,\n",
              "    'dtype': 'float32',\n",
              "    'kernel_constraint': None,\n",
              "    'kernel_initializer': {'class_name': 'GlorotUniform',\n",
              "     'config': {'seed': None}},\n",
              "    'kernel_regularizer': None,\n",
              "    'name': 'frist_layer',\n",
              "    'trainable': True,\n",
              "    'units': 64,\n",
              "    'use_bias': True}},\n",
              "  {'class_name': 'Dense',\n",
              "   'config': {'activation': 'relu',\n",
              "    'activity_regularizer': None,\n",
              "    'bias_constraint': None,\n",
              "    'bias_initializer': {'class_name': 'Zeros', 'config': {}},\n",
              "    'bias_regularizer': None,\n",
              "    'dtype': 'float32',\n",
              "    'kernel_constraint': None,\n",
              "    'kernel_initializer': {'class_name': 'GlorotUniform',\n",
              "     'config': {'seed': None}},\n",
              "    'kernel_regularizer': None,\n",
              "    'name': 'second_layer',\n",
              "    'trainable': True,\n",
              "    'units': 64,\n",
              "    'use_bias': True}},\n",
              "  {'class_name': 'Dense',\n",
              "   'config': {'activation': 'softmax',\n",
              "    'activity_regularizer': None,\n",
              "    'bias_constraint': None,\n",
              "    'bias_initializer': {'class_name': 'Zeros', 'config': {}},\n",
              "    'bias_regularizer': None,\n",
              "    'dtype': 'float32',\n",
              "    'kernel_constraint': None,\n",
              "    'kernel_initializer': {'class_name': 'GlorotUniform',\n",
              "     'config': {'seed': None}},\n",
              "    'kernel_regularizer': None,\n",
              "    'name': 'softmax_layer',\n",
              "    'trainable': True,\n",
              "    'units': 10,\n",
              "    'use_bias': True}}],\n",
              " 'name': 'sequential_1'}"
            ]
          },
          "metadata": {
            "tags": []
          },
          "execution_count": 25
        }
      ]
    },
    {
      "cell_type": "markdown",
      "metadata": {
        "id": "Nw7DXcLYfZzp"
      },
      "source": [
        "###Improved Model 2 - Adding Dropout to Avoid Overfitting"
      ]
    },
    {
      "cell_type": "code",
      "metadata": {
        "id": "AXUf6nhvBHnc"
      },
      "source": [
        "from tensorflow.keras.layers import Dropout\n",
        "\n",
        "#Most common type of model is a stack of layers\n",
        "model_2 = tf.keras.Sequential()\n",
        "N_hidden = 128\n",
        "# Adds a densely-connected layer with 64 units to the model:\n",
        "model_2.add(Dense(N_hidden, name='dense_layer', input_shape=(784,), activation = 'relu'))\n",
        "# Now the model will take as input arrays of shape (*, 784)# and output arrays of shape (*, 64)\n",
        "model_2.add(Dropout(0.3))\n",
        "# Adding another dense layer:\n",
        "model_2.add(Dense(N_hidden, name='dense_layer_2', activation='relu'))\n",
        "model_2.add(Dropout(0.3))\n",
        "# Adding another dense layer:\n",
        "model_2.add(Dense(N_hidden, name='dense_layer_add', activation='relu'))\n",
        "model_2.add(Dropout(0.3))\n",
        "\n",
        "# Add an output layer with 10 output units (10 different classes):\n",
        "model_2.add(Dense(10, name='dense_layer_3', activation = 'softmax'))\n"
      ],
      "execution_count": 39,
      "outputs": []
    },
    {
      "cell_type": "code",
      "metadata": {
        "id": "wo95PYlPgBe4"
      },
      "source": [
        "# Compiling the model.\n",
        "model_2.compile(optimizer='SGD', \n",
        "              loss='categorical_crossentropy',\n",
        "              metrics=['accuracy'])"
      ],
      "execution_count": 40,
      "outputs": []
    },
    {
      "cell_type": "code",
      "metadata": {
        "colab": {
          "base_uri": "https://localhost:8080/"
        },
        "id": "VVB6XG6g_Pka",
        "outputId": "fb2a8df5-aa14-44f8-8447-c659183f67b1"
      },
      "source": [
        "model_2.summary()"
      ],
      "execution_count": 41,
      "outputs": [
        {
          "output_type": "stream",
          "text": [
            "Model: \"sequential_5\"\n",
            "_________________________________________________________________\n",
            "Layer (type)                 Output Shape              Param #   \n",
            "=================================================================\n",
            "dense_layer (Dense)          (None, 128)               100480    \n",
            "_________________________________________________________________\n",
            "dropout_7 (Dropout)          (None, 128)               0         \n",
            "_________________________________________________________________\n",
            "dense_layer_2 (Dense)        (None, 128)               16512     \n",
            "_________________________________________________________________\n",
            "dropout_8 (Dropout)          (None, 128)               0         \n",
            "_________________________________________________________________\n",
            "dense_layer_add (Dense)      (None, 128)               16512     \n",
            "_________________________________________________________________\n",
            "dropout_9 (Dropout)          (None, 128)               0         \n",
            "_________________________________________________________________\n",
            "dense_layer_3 (Dense)        (None, 10)                1290      \n",
            "=================================================================\n",
            "Total params: 134,794\n",
            "Trainable params: 134,794\n",
            "Non-trainable params: 0\n",
            "_________________________________________________________________\n"
          ],
          "name": "stdout"
        }
      ]
    },
    {
      "cell_type": "code",
      "metadata": {
        "colab": {
          "base_uri": "https://localhost:8080/"
        },
        "id": "VfargzxGgBfI",
        "outputId": "f9121e4e-fdcd-4c03-82a8-c12ee8fd2bb4"
      },
      "source": [
        "# Training the model. \n",
        "training = model_2.fit(X_train, Y_train, batch_size=64, epochs=50, validation_split=0.2) "
      ],
      "execution_count": 42,
      "outputs": [
        {
          "output_type": "stream",
          "text": [
            "Epoch 1/50\n",
            "750/750 [==============================] - 2s 3ms/step - loss: 1.9698 - accuracy: 0.3087 - val_loss: 0.6126 - val_accuracy: 0.8470\n",
            "Epoch 2/50\n",
            "750/750 [==============================] - 2s 3ms/step - loss: 0.8497 - accuracy: 0.7269 - val_loss: 0.3813 - val_accuracy: 0.8940\n",
            "Epoch 3/50\n",
            "750/750 [==============================] - 2s 3ms/step - loss: 0.6001 - accuracy: 0.8131 - val_loss: 0.3103 - val_accuracy: 0.9091\n",
            "Epoch 4/50\n",
            "750/750 [==============================] - 2s 3ms/step - loss: 0.5088 - accuracy: 0.8493 - val_loss: 0.2739 - val_accuracy: 0.9182\n",
            "Epoch 5/50\n",
            "750/750 [==============================] - 2s 3ms/step - loss: 0.4446 - accuracy: 0.8692 - val_loss: 0.2500 - val_accuracy: 0.9259\n",
            "Epoch 6/50\n",
            "750/750 [==============================] - 2s 3ms/step - loss: 0.3942 - accuracy: 0.8842 - val_loss: 0.2273 - val_accuracy: 0.9333\n",
            "Epoch 7/50\n",
            "750/750 [==============================] - 2s 3ms/step - loss: 0.3679 - accuracy: 0.8906 - val_loss: 0.2128 - val_accuracy: 0.9380\n",
            "Epoch 8/50\n",
            "750/750 [==============================] - 2s 3ms/step - loss: 0.3365 - accuracy: 0.9026 - val_loss: 0.1986 - val_accuracy: 0.9418\n",
            "Epoch 9/50\n",
            "750/750 [==============================] - 2s 3ms/step - loss: 0.3123 - accuracy: 0.9077 - val_loss: 0.1882 - val_accuracy: 0.9448\n",
            "Epoch 10/50\n",
            "750/750 [==============================] - 2s 3ms/step - loss: 0.2992 - accuracy: 0.9136 - val_loss: 0.1765 - val_accuracy: 0.9486\n",
            "Epoch 11/50\n",
            "750/750 [==============================] - 2s 3ms/step - loss: 0.2810 - accuracy: 0.9181 - val_loss: 0.1690 - val_accuracy: 0.9510\n",
            "Epoch 12/50\n",
            "750/750 [==============================] - 2s 3ms/step - loss: 0.2644 - accuracy: 0.9238 - val_loss: 0.1635 - val_accuracy: 0.9531\n",
            "Epoch 13/50\n",
            "750/750 [==============================] - 2s 3ms/step - loss: 0.2584 - accuracy: 0.9266 - val_loss: 0.1558 - val_accuracy: 0.9537\n",
            "Epoch 14/50\n",
            "750/750 [==============================] - 2s 3ms/step - loss: 0.2538 - accuracy: 0.9260 - val_loss: 0.1504 - val_accuracy: 0.9563\n",
            "Epoch 15/50\n",
            "750/750 [==============================] - 2s 3ms/step - loss: 0.2359 - accuracy: 0.9321 - val_loss: 0.1437 - val_accuracy: 0.9585\n",
            "Epoch 16/50\n",
            "750/750 [==============================] - 2s 3ms/step - loss: 0.2241 - accuracy: 0.9348 - val_loss: 0.1384 - val_accuracy: 0.9596\n",
            "Epoch 17/50\n",
            "750/750 [==============================] - 2s 3ms/step - loss: 0.2164 - accuracy: 0.9389 - val_loss: 0.1360 - val_accuracy: 0.9603\n",
            "Epoch 18/50\n",
            "750/750 [==============================] - 2s 3ms/step - loss: 0.2140 - accuracy: 0.9380 - val_loss: 0.1300 - val_accuracy: 0.9622\n",
            "Epoch 19/50\n",
            "750/750 [==============================] - 2s 3ms/step - loss: 0.2055 - accuracy: 0.9396 - val_loss: 0.1285 - val_accuracy: 0.9621\n",
            "Epoch 20/50\n",
            "750/750 [==============================] - 2s 3ms/step - loss: 0.2016 - accuracy: 0.9427 - val_loss: 0.1232 - val_accuracy: 0.9633\n",
            "Epoch 21/50\n",
            "750/750 [==============================] - 2s 3ms/step - loss: 0.1878 - accuracy: 0.9448 - val_loss: 0.1210 - val_accuracy: 0.9638\n",
            "Epoch 22/50\n",
            "750/750 [==============================] - 2s 3ms/step - loss: 0.1877 - accuracy: 0.9453 - val_loss: 0.1191 - val_accuracy: 0.9645\n",
            "Epoch 23/50\n",
            "750/750 [==============================] - 2s 3ms/step - loss: 0.1772 - accuracy: 0.9490 - val_loss: 0.1180 - val_accuracy: 0.9646\n",
            "Epoch 24/50\n",
            "750/750 [==============================] - 2s 3ms/step - loss: 0.1726 - accuracy: 0.9485 - val_loss: 0.1149 - val_accuracy: 0.9656\n",
            "Epoch 25/50\n",
            "750/750 [==============================] - 2s 3ms/step - loss: 0.1675 - accuracy: 0.9487 - val_loss: 0.1126 - val_accuracy: 0.9666\n",
            "Epoch 26/50\n",
            "750/750 [==============================] - 2s 3ms/step - loss: 0.1645 - accuracy: 0.9527 - val_loss: 0.1115 - val_accuracy: 0.9663\n",
            "Epoch 27/50\n",
            "750/750 [==============================] - 2s 3ms/step - loss: 0.1638 - accuracy: 0.9527 - val_loss: 0.1106 - val_accuracy: 0.9675\n",
            "Epoch 28/50\n",
            "750/750 [==============================] - 2s 3ms/step - loss: 0.1648 - accuracy: 0.9510 - val_loss: 0.1083 - val_accuracy: 0.9672\n",
            "Epoch 29/50\n",
            "750/750 [==============================] - 2s 3ms/step - loss: 0.1624 - accuracy: 0.9535 - val_loss: 0.1072 - val_accuracy: 0.9680\n",
            "Epoch 30/50\n",
            "750/750 [==============================] - 2s 3ms/step - loss: 0.1491 - accuracy: 0.9559 - val_loss: 0.1069 - val_accuracy: 0.9680\n",
            "Epoch 31/50\n",
            "750/750 [==============================] - 2s 3ms/step - loss: 0.1440 - accuracy: 0.9584 - val_loss: 0.1052 - val_accuracy: 0.9685\n",
            "Epoch 32/50\n",
            "750/750 [==============================] - 2s 3ms/step - loss: 0.1489 - accuracy: 0.9563 - val_loss: 0.1032 - val_accuracy: 0.9697\n",
            "Epoch 33/50\n",
            "750/750 [==============================] - 2s 3ms/step - loss: 0.1412 - accuracy: 0.9586 - val_loss: 0.1028 - val_accuracy: 0.9685\n",
            "Epoch 34/50\n",
            "750/750 [==============================] - 2s 3ms/step - loss: 0.1392 - accuracy: 0.9586 - val_loss: 0.1007 - val_accuracy: 0.9697\n",
            "Epoch 35/50\n",
            "750/750 [==============================] - 2s 3ms/step - loss: 0.1385 - accuracy: 0.9588 - val_loss: 0.1019 - val_accuracy: 0.9694\n",
            "Epoch 36/50\n",
            "750/750 [==============================] - 2s 3ms/step - loss: 0.1366 - accuracy: 0.9585 - val_loss: 0.0997 - val_accuracy: 0.9710\n",
            "Epoch 37/50\n",
            "750/750 [==============================] - 2s 3ms/step - loss: 0.1395 - accuracy: 0.9592 - val_loss: 0.0985 - val_accuracy: 0.9707\n",
            "Epoch 38/50\n",
            "750/750 [==============================] - 2s 3ms/step - loss: 0.1324 - accuracy: 0.9620 - val_loss: 0.0983 - val_accuracy: 0.9707\n",
            "Epoch 39/50\n",
            "750/750 [==============================] - 2s 3ms/step - loss: 0.1320 - accuracy: 0.9614 - val_loss: 0.0983 - val_accuracy: 0.9701\n",
            "Epoch 40/50\n",
            "750/750 [==============================] - 2s 3ms/step - loss: 0.1249 - accuracy: 0.9620 - val_loss: 0.0968 - val_accuracy: 0.9707\n",
            "Epoch 41/50\n",
            "750/750 [==============================] - 2s 3ms/step - loss: 0.1297 - accuracy: 0.9625 - val_loss: 0.0952 - val_accuracy: 0.9726\n",
            "Epoch 42/50\n",
            "750/750 [==============================] - 2s 3ms/step - loss: 0.1202 - accuracy: 0.9649 - val_loss: 0.0956 - val_accuracy: 0.9721\n",
            "Epoch 43/50\n",
            "750/750 [==============================] - 2s 3ms/step - loss: 0.1255 - accuracy: 0.9623 - val_loss: 0.0939 - val_accuracy: 0.9720\n",
            "Epoch 44/50\n",
            "750/750 [==============================] - 2s 3ms/step - loss: 0.1200 - accuracy: 0.9637 - val_loss: 0.0944 - val_accuracy: 0.9719\n",
            "Epoch 45/50\n",
            "750/750 [==============================] - 2s 3ms/step - loss: 0.1156 - accuracy: 0.9666 - val_loss: 0.0946 - val_accuracy: 0.9729\n",
            "Epoch 46/50\n",
            "750/750 [==============================] - 2s 3ms/step - loss: 0.1199 - accuracy: 0.9649 - val_loss: 0.0930 - val_accuracy: 0.9730\n",
            "Epoch 47/50\n",
            "750/750 [==============================] - 2s 3ms/step - loss: 0.1161 - accuracy: 0.9658 - val_loss: 0.0941 - val_accuracy: 0.9727\n",
            "Epoch 48/50\n",
            "750/750 [==============================] - 2s 3ms/step - loss: 0.1150 - accuracy: 0.9668 - val_loss: 0.0925 - val_accuracy: 0.9728\n",
            "Epoch 49/50\n",
            "750/750 [==============================] - 2s 3ms/step - loss: 0.1116 - accuracy: 0.9666 - val_loss: 0.0929 - val_accuracy: 0.9727\n",
            "Epoch 50/50\n",
            "750/750 [==============================] - 2s 3ms/step - loss: 0.1061 - accuracy: 0.9687 - val_loss: 0.0933 - val_accuracy: 0.9737\n"
          ],
          "name": "stdout"
        }
      ]
    },
    {
      "cell_type": "code",
      "metadata": {
        "colab": {
          "base_uri": "https://localhost:8080/",
          "height": 590
        },
        "id": "9QfbwIhAgBfX",
        "outputId": "78a41bce-14bc-4702-8e77-9b443ee76439"
      },
      "source": [
        "import matplotlib.pyplot as plt\n",
        "%matplotlib inline\n",
        "# list all data in training\n",
        "print(training.history.keys())\n",
        "# summarize training for accuracy\n",
        "plt.plot(training.history['accuracy'])\n",
        "plt.plot(training.history['val_accuracy'])\n",
        "plt.title('model accuracy')\n",
        "plt.ylabel('accuracy')\n",
        "plt.xlabel('epoch')\n",
        "plt.legend(['train', 'test'], loc='upper left')\n",
        "plt.show()\n",
        "# summarize traning for loss\n",
        "plt.plot(training.history['loss'])\n",
        "plt.plot(training.history['val_loss'])\n",
        "plt.title('model loss')\n",
        "plt.ylabel('loss')\n",
        "plt.xlabel('epoch')\n",
        "plt.legend(['train', 'test'], loc='upper left')\n",
        "plt.show()"
      ],
      "execution_count": 43,
      "outputs": [
        {
          "output_type": "stream",
          "text": [
            "dict_keys(['loss', 'accuracy', 'val_loss', 'val_accuracy'])\n"
          ],
          "name": "stdout"
        },
        {
          "output_type": "display_data",
          "data": {
            "image/png": "[encoded data removed]",
            "text/plain": [
              "<Figure size 432x288 with 1 Axes>"
            ]
          },
          "metadata": {
            "tags": [],
            "needs_background": "light"
          }
        },
        {
          "output_type": "display_data",
          "data": {
            "image/png": "[encoded data removed]",
            "text/plain": [
              "<Figure size 432x288 with 1 Axes>"
            ]
          },
          "metadata": {
            "tags": [],
            "needs_background": "light"
          }
        }
      ]
    },
    {
      "cell_type": "code",
      "metadata": {
        "colab": {
          "base_uri": "https://localhost:8080/"
        },
        "id": "yT7LK87agBfq",
        "outputId": "69530106-25b9-488b-8732-249ec45b1d5b"
      },
      "source": [
        "#evaluate the model\n",
        "test_loss, test_acc = model_2.evaluate(X_test, Y_test)\n",
        "print('Test accuracy:', test_acc)"
      ],
      "execution_count": 44,
      "outputs": [
        {
          "output_type": "stream",
          "text": [
            "313/313 [==============================] - 1s 2ms/step - loss: 0.0885 - accuracy: 0.9732\n",
            "Test accuracy: 0.9732000231742859\n"
          ],
          "name": "stdout"
        }
      ]
    },
    {
      "cell_type": "code",
      "metadata": {
        "colab": {
          "base_uri": "https://localhost:8080/"
        },
        "id": "jdOVuO0AgBf0",
        "outputId": "1b3fa0cb-74bd-416c-c70e-51fdb7aeb4cb"
      },
      "source": [
        "model_2.summary()"
      ],
      "execution_count": 29,
      "outputs": [
        {
          "output_type": "stream",
          "text": [
            "Model: \"sequential_2\"\n",
            "_________________________________________________________________\n",
            "Layer (type)                 Output Shape              Param #   \n",
            "=================================================================\n",
            "dense_layer (Dense)          (None, 128)               100480    \n",
            "_________________________________________________________________\n",
            "dropout (Dropout)            (None, 128)               0         \n",
            "_________________________________________________________________\n",
            "dense_layer_2 (Dense)        (None, 128)               16512     \n",
            "_________________________________________________________________\n",
            "dropout_1 (Dropout)          (None, 128)               0         \n",
            "_________________________________________________________________\n",
            "dense_layer_3 (Dense)        (None, 10)                1290      \n",
            "=================================================================\n",
            "Total params: 118,282\n",
            "Trainable params: 118,282\n",
            "Non-trainable params: 0\n",
            "_________________________________________________________________\n"
          ],
          "name": "stdout"
        }
      ]
    },
    {
      "cell_type": "code",
      "metadata": {
        "colab": {
          "base_uri": "https://localhost:8080/"
        },
        "id": "oykr_QswgBf_",
        "outputId": "cee714f1-1589-4ffd-84a9-cfd27b629d55"
      },
      "source": [
        "model_2.weights"
      ],
      "execution_count": 30,
      "outputs": [
        {
          "output_type": "execute_result",
          "data": {
            "text/plain": [
              "[<tf.Variable 'dense_layer/kernel:0' shape=(784, 128) dtype=float32, numpy=\n",
              " array([[-0.05897042,  0.04767186,  0.02037965, ...,  0.02585442,\n",
              "          0.04497065,  0.07346145],\n",
              "        [-0.03885227, -0.04829396, -0.04782709, ...,  0.01740511,\n",
              "         -0.02558018, -0.03077037],\n",
              "        [ 0.03888644, -0.06538592,  0.07422205, ..., -0.00144289,\n",
              "         -0.00422412,  0.00033233],\n",
              "        ...,\n",
              "        [-0.01276825,  0.01863653,  0.07193587, ..., -0.06232809,\n",
              "          0.03755517, -0.04560975],\n",
              "        [ 0.01503586, -0.03757296,  0.04471692, ...,  0.03911948,\n",
              "         -0.03318   , -0.02793232],\n",
              "        [ 0.06255928,  0.0211542 , -0.00705483, ...,  0.02259002,\n",
              "         -0.01571409, -0.01041145]], dtype=float32)>,\n",
              " <tf.Variable 'dense_layer/bias:0' shape=(128,) dtype=float32, numpy=\n",
              " array([-0.04652195,  0.0068157 ,  0.04776034,  0.07042047,  0.01367685,\n",
              "         0.16741535, -0.01973589, -0.25551257,  0.07891518,  0.02011587,\n",
              "        -0.10963317,  0.06685136,  0.09844677,  0.02191064,  0.04115429,\n",
              "        -0.06866997, -0.24306996,  0.00409968, -0.06920531,  0.09355364,\n",
              "        -0.016909  ,  0.02705   ,  0.07329237, -0.06725644,  0.00860126,\n",
              "         0.06258574, -0.03707258, -0.03056568, -0.04244405,  0.02224279,\n",
              "        -0.1003302 ,  0.11265387, -0.060344  ,  0.12736654,  0.00724625,\n",
              "        -0.13354446,  0.132282  ,  0.04299566,  0.0261999 , -0.24292435,\n",
              "        -0.07336352,  0.07454113, -0.16145442, -0.22236083, -0.11813881,\n",
              "         0.02578896, -0.02306762,  0.11152999, -0.05579609,  0.09908295,\n",
              "        -0.01500637,  0.08908278, -0.01085436,  0.00581297, -0.00153091,\n",
              "         0.04488325, -0.09952416, -0.00432497, -0.20948134, -0.19761348,\n",
              "         0.05698832, -0.07035164, -0.0208431 ,  0.02291689,  0.08136788,\n",
              "        -0.05803859, -0.01724503, -0.11413727, -0.17676765, -0.09241515,\n",
              "         0.05088246, -0.01058494, -0.00171749,  0.12042436, -0.03298053,\n",
              "         0.02520062, -0.05621131,  0.08886097,  0.07513626, -0.00881837,\n",
              "        -0.13664947,  0.11106192,  0.02274504, -0.01939407,  0.03203488,\n",
              "         0.03541241, -0.03820245,  0.01930721,  0.06152345,  0.10735589,\n",
              "        -0.04109756,  0.07673002,  0.27132425, -0.02585503,  0.1808956 ,\n",
              "        -0.0297943 , -0.03983353, -0.18210445,  0.04313275,  0.02321153,\n",
              "        -0.18877701, -0.0512013 ,  0.13371657,  0.0144165 ,  0.0415181 ,\n",
              "         0.03270009, -0.07141201, -0.18539894, -0.0391637 ,  0.04848615,\n",
              "        -0.02122972, -0.07122967, -0.00534681,  0.0259525 ,  0.00676622,\n",
              "        -0.13823475, -0.02247438, -0.03042524,  0.01452   ,  0.06112416,\n",
              "         0.01827806, -0.00524483, -0.0494176 ,  0.0186207 ,  0.04210486,\n",
              "         0.10371813, -0.11191171, -0.04741655], dtype=float32)>,\n",
              " <tf.Variable 'dense_layer_2/kernel:0' shape=(128, 128) dtype=float32, numpy=\n",
              " array([[ 0.02940944, -0.12471104, -0.1340557 , ...,  0.0543415 ,\n",
              "         -0.1177929 , -0.13235441],\n",
              "        [ 0.23873754, -0.08975644,  0.06828734, ...,  0.09365704,\n",
              "         -0.1570066 , -0.12800911],\n",
              "        [ 0.21149512,  0.08506992, -0.06407587, ...,  0.07710166,\n",
              "          0.05505637, -0.02491163],\n",
              "        ...,\n",
              "        [ 0.18811475,  0.03076297, -0.07492015, ...,  0.03085494,\n",
              "         -0.02651269,  0.04100038],\n",
              "        [ 0.06040338,  0.12298058,  0.24633405, ...,  0.19777472,\n",
              "         -0.09476329,  0.1695083 ],\n",
              "        [ 0.17042796, -0.09384454,  0.05763372, ..., -0.11136961,\n",
              "          0.02884277,  0.11572581]], dtype=float32)>,\n",
              " <tf.Variable 'dense_layer_2/bias:0' shape=(128,) dtype=float32, numpy=\n",
              " array([ 7.13249221e-02, -2.09005103e-02, -1.24206813e-02,  6.46253303e-02,\n",
              "        -7.14497641e-02, -4.37834226e-02,  1.45841390e-01,  1.63115054e-01,\n",
              "         1.09051540e-01,  1.73604235e-01,  6.76312372e-02,  1.24511503e-01,\n",
              "         3.48962098e-02, -3.28323878e-02,  6.89522400e-02,  1.82617977e-02,\n",
              "         2.13981971e-01,  5.42299170e-03,  6.03974201e-02,  3.63452025e-02,\n",
              "         1.22747093e-01,  1.09659426e-01,  6.02401458e-02,  1.40727103e-01,\n",
              "         1.17603593e-01,  1.29959941e-01,  1.28069699e-01,  8.67779646e-03,\n",
              "         1.35441497e-01,  4.54725958e-02, -1.73262437e-03,  1.34604052e-01,\n",
              "         1.50586337e-01,  1.96018405e-02,  1.47985250e-01,  9.72578526e-02,\n",
              "         1.34958653e-02,  1.40214726e-01,  1.57343429e-02, -2.55551096e-02,\n",
              "         1.89179145e-02,  4.55567837e-02,  1.63821399e-01,  1.86752751e-01,\n",
              "        -1.07632164e-04,  2.57762261e-02,  1.32876143e-01, -2.68211006e-03,\n",
              "         3.48518863e-02,  1.64616451e-01,  2.20749807e-02,  3.12508270e-02,\n",
              "         1.64202675e-02,  2.63716858e-02,  1.18287280e-01,  7.02216402e-02,\n",
              "         2.14629680e-01,  1.17016234e-01,  1.28953140e-02,  7.57638142e-02,\n",
              "         1.40998363e-01,  3.27975005e-02,  8.90487060e-02,  3.21239233e-02,\n",
              "         6.06964119e-02,  9.26009864e-02, -3.02461511e-03,  1.08035795e-01,\n",
              "         3.90188284e-02, -2.20557339e-02,  5.20356074e-02,  1.02467351e-01,\n",
              "         2.11152002e-01,  4.40304019e-02,  1.97459087e-01,  6.38492638e-03,\n",
              "         1.02893256e-01,  1.74158692e-01,  3.47067825e-02,  4.07189056e-02,\n",
              "         6.54754639e-02,  2.74335332e-02,  7.87165239e-02,  1.77855983e-01,\n",
              "         1.74013436e-01,  9.90642756e-02,  1.69966191e-01,  1.86701939e-01,\n",
              "         8.70457292e-02,  1.93612147e-02,  8.03741347e-03,  1.69514641e-01,\n",
              "         3.60770896e-02,  9.62859690e-02,  9.76665989e-02,  3.72831114e-02,\n",
              "         5.91025241e-02, -1.44937290e-02,  5.55184595e-02,  5.00714257e-02,\n",
              "         5.84063306e-02,  1.62451565e-01,  5.75420111e-02,  5.32225668e-02,\n",
              "         1.17286675e-01,  1.77615643e-01,  9.34646651e-03,  4.59205247e-02,\n",
              "         1.75706998e-01,  5.30564375e-02,  9.34463888e-02,  1.18124612e-01,\n",
              "         4.23276192e-03,  4.67353463e-02,  1.08473040e-01,  5.46252988e-02,\n",
              "         1.06017575e-01,  6.53595403e-02,  1.48256272e-01,  2.18811885e-01,\n",
              "         4.29742597e-02,  4.10558954e-02,  7.02508092e-02,  6.46080300e-02,\n",
              "         9.44530666e-02,  3.41122262e-02, -7.49611063e-03, -4.09781560e-02],\n",
              "       dtype=float32)>,\n",
              " <tf.Variable 'dense_layer_3/kernel:0' shape=(128, 10) dtype=float32, numpy=\n",
              " array([[ 0.06396561, -0.33231205,  0.04747589, ...,  0.32206014,\n",
              "         -0.22639008,  0.3051707 ],\n",
              "        [ 0.03870498,  0.02879512, -0.16016118, ...,  0.23147838,\n",
              "          0.08051161, -0.14442046],\n",
              "        [ 0.35707325,  0.10462839,  0.2710891 , ...,  0.15510072,\n",
              "         -0.1440229 ,  0.01361841],\n",
              "        ...,\n",
              "        [ 0.27244782, -0.14158474, -0.06009142, ...,  0.04358084,\n",
              "         -0.20617126, -0.04265783],\n",
              "        [ 0.10160328, -0.200525  , -0.00804082, ..., -0.05264968,\n",
              "          0.09117979, -0.06543926],\n",
              "        [ 0.28837243, -0.23808824,  0.3039714 , ..., -0.10052799,\n",
              "         -0.24738942, -0.17832838]], dtype=float32)>,\n",
              " <tf.Variable 'dense_layer_3/bias:0' shape=(10,) dtype=float32, numpy=\n",
              " array([-0.08546748,  0.06419428, -0.26035815, -0.05841102, -0.00821131,\n",
              "         0.07880113, -0.04882888, -0.15424678,  0.451628  ,  0.02089658],\n",
              "       dtype=float32)>]"
            ]
          },
          "metadata": {
            "tags": []
          },
          "execution_count": 30
        }
      ]
    },
    {
      "cell_type": "code",
      "metadata": {
        "colab": {
          "base_uri": "https://localhost:8080/"
        },
        "id": "SPzS9VdLgBgK",
        "outputId": "9e268680-a05d-4ede-8f12-5efb599eb3a1"
      },
      "source": [
        "model_2.get_config()"
      ],
      "execution_count": 31,
      "outputs": [
        {
          "output_type": "execute_result",
          "data": {
            "text/plain": [
              "{'layers': [{'class_name': 'InputLayer',\n",
              "   'config': {'batch_input_shape': (None, 784),\n",
              "    'dtype': 'float32',\n",
              "    'name': 'dense_layer_input',\n",
              "    'ragged': False,\n",
              "    'sparse': False}},\n",
              "  {'class_name': 'Dense',\n",
              "   'config': {'activation': 'relu',\n",
              "    'activity_regularizer': None,\n",
              "    'batch_input_shape': (None, 784),\n",
              "    'bias_constraint': None,\n",
              "    'bias_initializer': {'class_name': 'Zeros', 'config': {}},\n",
              "    'bias_regularizer': None,\n",
              "    'dtype': 'float32',\n",
              "    'kernel_constraint': None,\n",
              "    'kernel_initializer': {'class_name': 'GlorotUniform',\n",
              "     'config': {'seed': None}},\n",
              "    'kernel_regularizer': None,\n",
              "    'name': 'dense_layer',\n",
              "    'trainable': True,\n",
              "    'units': 128,\n",
              "    'use_bias': True}},\n",
              "  {'class_name': 'Dropout',\n",
              "   'config': {'dtype': 'float32',\n",
              "    'name': 'dropout',\n",
              "    'noise_shape': None,\n",
              "    'rate': 0.5,\n",
              "    'seed': None,\n",
              "    'trainable': True}},\n",
              "  {'class_name': 'Dense',\n",
              "   'config': {'activation': 'relu',\n",
              "    'activity_regularizer': None,\n",
              "    'bias_constraint': None,\n",
              "    'bias_initializer': {'class_name': 'Zeros', 'config': {}},\n",
              "    'bias_regularizer': None,\n",
              "    'dtype': 'float32',\n",
              "    'kernel_constraint': None,\n",
              "    'kernel_initializer': {'class_name': 'GlorotUniform',\n",
              "     'config': {'seed': None}},\n",
              "    'kernel_regularizer': None,\n",
              "    'name': 'dense_layer_2',\n",
              "    'trainable': True,\n",
              "    'units': 128,\n",
              "    'use_bias': True}},\n",
              "  {'class_name': 'Dropout',\n",
              "   'config': {'dtype': 'float32',\n",
              "    'name': 'dropout_1',\n",
              "    'noise_shape': None,\n",
              "    'rate': 0.5,\n",
              "    'seed': None,\n",
              "    'trainable': True}},\n",
              "  {'class_name': 'Dense',\n",
              "   'config': {'activation': 'softmax',\n",
              "    'activity_regularizer': None,\n",
              "    'bias_constraint': None,\n",
              "    'bias_initializer': {'class_name': 'Zeros', 'config': {}},\n",
              "    'bias_regularizer': None,\n",
              "    'dtype': 'float32',\n",
              "    'kernel_constraint': None,\n",
              "    'kernel_initializer': {'class_name': 'GlorotUniform',\n",
              "     'config': {'seed': None}},\n",
              "    'kernel_regularizer': None,\n",
              "    'name': 'dense_layer_3',\n",
              "    'trainable': True,\n",
              "    'units': 10,\n",
              "    'use_bias': True}}],\n",
              " 'name': 'sequential_2'}"
            ]
          },
          "metadata": {
            "tags": []
          },
          "execution_count": 31
        }
      ]
    },
    {
      "cell_type": "markdown",
      "metadata": {
        "id": "pjps75cBuR1Z"
      },
      "source": [
        "###Improved Model 3: Changing the Optimizer - Adam"
      ]
    },
    {
      "cell_type": "code",
      "metadata": {
        "id": "WmXFwU5puZIF"
      },
      "source": [
        "#Most common type of model is a stack of layers\n",
        "model_3 = tf.keras.Sequential()\n",
        "N_hidden = 64\n",
        "# Adds a densely-connected layer with 64 units to the model:\n",
        "model_3.add(Dense(N_hidden, name='dense_layer', input_shape=(784,), activation = 'relu'))\n",
        "# Now the model will take as input arrays of shape (*, 784)# and output arrays of shape (*, 64)\n",
        "model_3.add(Dropout(0.3))\n",
        "# Adding another dense layer:\n",
        "model_3.add(Dense(N_hidden, name='dense_layer_2', activation='relu'))\n",
        "model_3.add(Dropout(0.3))\n",
        "# After the first layer, you don't need to specify\u000b# the size of the input anymore:\n",
        "# Add an output layer with 10 output units (10 different classes):\n",
        "model_3.add(Dense(10, name='dense_layer_3', activation = 'softmax'))\n"
      ],
      "execution_count": null,
      "outputs": []
    },
    {
      "cell_type": "code",
      "metadata": {
        "id": "71IzuyLBt3pQ"
      },
      "source": [
        "# Compiling the model.\n",
        "model_3.compile(optimizer='Adam', \n",
        "              loss='categorical_crossentropy',\n",
        "              metrics=['accuracy'])"
      ],
      "execution_count": null,
      "outputs": []
    },
    {
      "cell_type": "code",
      "metadata": {
        "colab": {
          "base_uri": "https://localhost:8080/"
        },
        "id": "KfP4B4Sat3pW",
        "outputId": "deee87e3-5db8-4e17-fda2-c85aaa29aaac"
      },
      "source": [
        "# Training the model. \n",
        "training = model_3.fit(X_train, Y_train, batch_size=128, epochs=20, validation_split=0.2) \n"
      ],
      "execution_count": null,
      "outputs": [
        {
          "output_type": "stream",
          "text": [
            "Epoch 1/20\n",
            "375/375 [==============================] - 1s 3ms/step - loss: 0.7093 - accuracy: 0.7751 - val_loss: 0.2281 - val_accuracy: 0.9327\n",
            "Epoch 2/20\n",
            "375/375 [==============================] - 1s 3ms/step - loss: 0.3358 - accuracy: 0.9027 - val_loss: 0.1790 - val_accuracy: 0.9463\n",
            "Epoch 3/20\n",
            "375/375 [==============================] - 1s 3ms/step - loss: 0.2759 - accuracy: 0.9200 - val_loss: 0.1547 - val_accuracy: 0.9548\n",
            "Epoch 4/20\n",
            "375/375 [==============================] - 1s 3ms/step - loss: 0.2370 - accuracy: 0.9305 - val_loss: 0.1438 - val_accuracy: 0.9580\n",
            "Epoch 5/20\n",
            "375/375 [==============================] - 1s 3ms/step - loss: 0.2160 - accuracy: 0.9367 - val_loss: 0.1317 - val_accuracy: 0.9611\n",
            "Epoch 6/20\n",
            "375/375 [==============================] - 1s 3ms/step - loss: 0.1992 - accuracy: 0.9409 - val_loss: 0.1213 - val_accuracy: 0.9649\n",
            "Epoch 7/20\n",
            "375/375 [==============================] - 1s 3ms/step - loss: 0.1860 - accuracy: 0.9450 - val_loss: 0.1225 - val_accuracy: 0.9642\n",
            "Epoch 8/20\n",
            "375/375 [==============================] - 1s 3ms/step - loss: 0.1735 - accuracy: 0.9492 - val_loss: 0.1118 - val_accuracy: 0.9678\n",
            "Epoch 9/20\n",
            "375/375 [==============================] - 1s 3ms/step - loss: 0.1651 - accuracy: 0.9509 - val_loss: 0.1154 - val_accuracy: 0.9666\n",
            "Epoch 10/20\n",
            "375/375 [==============================] - 1s 3ms/step - loss: 0.1550 - accuracy: 0.9536 - val_loss: 0.1096 - val_accuracy: 0.9680\n",
            "Epoch 11/20\n",
            "375/375 [==============================] - 1s 3ms/step - loss: 0.1549 - accuracy: 0.9534 - val_loss: 0.1036 - val_accuracy: 0.9689\n",
            "Epoch 12/20\n",
            "375/375 [==============================] - 1s 3ms/step - loss: 0.1458 - accuracy: 0.9549 - val_loss: 0.1093 - val_accuracy: 0.9682\n",
            "Epoch 13/20\n",
            "375/375 [==============================] - 1s 3ms/step - loss: 0.1442 - accuracy: 0.9568 - val_loss: 0.1040 - val_accuracy: 0.9700\n",
            "Epoch 14/20\n",
            "375/375 [==============================] - 1s 3ms/step - loss: 0.1308 - accuracy: 0.9595 - val_loss: 0.1050 - val_accuracy: 0.9694\n",
            "Epoch 15/20\n",
            "375/375 [==============================] - 1s 3ms/step - loss: 0.1308 - accuracy: 0.9591 - val_loss: 0.1009 - val_accuracy: 0.9712\n",
            "Epoch 16/20\n",
            "375/375 [==============================] - 1s 3ms/step - loss: 0.1308 - accuracy: 0.9605 - val_loss: 0.1043 - val_accuracy: 0.9707\n",
            "Epoch 17/20\n",
            "375/375 [==============================] - 1s 3ms/step - loss: 0.1201 - accuracy: 0.9629 - val_loss: 0.0996 - val_accuracy: 0.9700\n",
            "Epoch 18/20\n",
            "375/375 [==============================] - 1s 3ms/step - loss: 0.1217 - accuracy: 0.9618 - val_loss: 0.1009 - val_accuracy: 0.9700\n",
            "Epoch 19/20\n",
            "375/375 [==============================] - 1s 3ms/step - loss: 0.1205 - accuracy: 0.9624 - val_loss: 0.0994 - val_accuracy: 0.9713\n",
            "Epoch 20/20\n",
            "375/375 [==============================] - 1s 2ms/step - loss: 0.1152 - accuracy: 0.9635 - val_loss: 0.1029 - val_accuracy: 0.9721\n"
          ],
          "name": "stdout"
        }
      ]
    },
    {
      "cell_type": "code",
      "metadata": {
        "id": "uuwhbVkxj0iR",
        "colab": {
          "base_uri": "https://localhost:8080/",
          "height": 590
        },
        "outputId": "3f7a83ca-f45e-4596-8581-e8c78228b73d"
      },
      "source": [
        "import matplotlib.pyplot as plt\n",
        "%matplotlib inline\n",
        "# list all data in training\n",
        "print(training.history.keys())\n",
        "# summarize training for accuracy\n",
        "plt.plot(training.history['accuracy'])\n",
        "plt.plot(training.history['val_accuracy'])\n",
        "plt.title('model accuracy')\n",
        "plt.ylabel('accuracy')\n",
        "plt.xlabel('epoch')\n",
        "plt.legend(['train', 'test'], loc='upper left')\n",
        "plt.show()\n",
        "# summarize traning for loss\n",
        "plt.plot(training.history['loss'])\n",
        "plt.plot(training.history['val_loss'])\n",
        "plt.title('model loss')\n",
        "plt.ylabel('loss')\n",
        "plt.xlabel('epoch')\n",
        "plt.legend(['train', 'test'], loc='upper left')\n",
        "plt.show()"
      ],
      "execution_count": null,
      "outputs": [
        {
          "output_type": "stream",
          "text": [
            "dict_keys(['loss', 'accuracy', 'val_loss', 'val_accuracy'])\n"
          ],
          "name": "stdout"
        },
        {
          "output_type": "display_data",
          "data": {
            "image/png": "[encoded data removed]",
            "text/plain": [
              "<Figure size 432x288 with 1 Axes>"
            ]
          },
          "metadata": {
            "tags": [],
            "needs_background": "light"
          }
        },
        {
          "output_type": "display_data",
          "data": {
            "image/png": "[encoded data removed]",
            "text/plain": [
              "<Figure size 432x288 with 1 Axes>"
            ]
          },
          "metadata": {
            "tags": [],
            "needs_background": "light"
          }
        }
      ]
    },
    {
      "cell_type": "code",
      "metadata": {
        "id": "En35EsWnuHmC",
        "colab": {
          "base_uri": "https://localhost:8080/"
        },
        "outputId": "4cff63af-184f-4831-b01a-c18ed6de0bcf"
      },
      "source": [
        "#evaluate the model\n",
        "test_loss, test_acc = model_3.evaluate(X_test, Y_test)\n",
        "print('Test accuracy:', test_acc)"
      ],
      "execution_count": null,
      "outputs": [
        {
          "output_type": "stream",
          "text": [
            "313/313 [==============================] - 1s 2ms/step - loss: 0.1036 - accuracy: 0.9693\n",
            "Test accuracy: 0.9692999720573425\n"
          ],
          "name": "stdout"
        }
      ]
    },
    {
      "cell_type": "code",
      "metadata": {
        "id": "Vn7mv0zhj0i2",
        "colab": {
          "base_uri": "https://localhost:8080/"
        },
        "outputId": "696e393f-4f9a-4230-a947-650176e8b9eb"
      },
      "source": [
        "model_3.summary()"
      ],
      "execution_count": null,
      "outputs": [
        {
          "output_type": "stream",
          "text": [
            "Model: \"sequential_3\"\n",
            "_________________________________________________________________\n",
            "Layer (type)                 Output Shape              Param #   \n",
            "=================================================================\n",
            "dense_layer (Dense)          (None, 64)                50240     \n",
            "_________________________________________________________________\n",
            "dropout_2 (Dropout)          (None, 64)                0         \n",
            "_________________________________________________________________\n",
            "dense_layer_2 (Dense)        (None, 64)                4160      \n",
            "_________________________________________________________________\n",
            "dropout_3 (Dropout)          (None, 64)                0         \n",
            "_________________________________________________________________\n",
            "dense_layer_3 (Dense)        (None, 10)                650       \n",
            "=================================================================\n",
            "Total params: 55,050\n",
            "Trainable params: 55,050\n",
            "Non-trainable params: 0\n",
            "_________________________________________________________________\n"
          ],
          "name": "stdout"
        }
      ]
    },
    {
      "cell_type": "code",
      "metadata": {
        "id": "P5eSv_K5j0jK",
        "colab": {
          "base_uri": "https://localhost:8080/"
        },
        "outputId": "cdfca7ce-414b-4fa1-a168-0c49dc48cff2"
      },
      "source": [
        "model_3.weights"
      ],
      "execution_count": null,
      "outputs": [
        {
          "output_type": "execute_result",
          "data": {
            "text/plain": [
              "[<tf.Variable 'dense_layer/kernel:0' shape=(784, 64) dtype=float32, numpy=\n",
              " array([[ 0.01788852,  0.04997117,  0.06614246, ...,  0.0084151 ,\n",
              "          0.00821608, -0.05118785],\n",
              "        [-0.00022056, -0.06866984,  0.00329696, ...,  0.06060763,\n",
              "         -0.06041586,  0.04104947],\n",
              "        [-0.06914849,  0.04468491, -0.00856399, ..., -0.07731034,\n",
              "          0.04244415,  0.02429191],\n",
              "        ...,\n",
              "        [-0.07905978, -0.07528336,  0.04283901, ..., -0.00914193,\n",
              "         -0.05277519, -0.07349902],\n",
              "        [-0.08394137, -0.04911571, -0.01939993, ..., -0.02713561,\n",
              "          0.07175904, -0.04769786],\n",
              "        [-0.07325043,  0.01972195,  0.01517962, ..., -0.06113504,\n",
              "         -0.05261208, -0.00109615]], dtype=float32)>,\n",
              " <tf.Variable 'dense_layer/bias:0' shape=(64,) dtype=float32, numpy=\n",
              " array([-0.1125977 ,  0.13191916, -0.10340548,  0.02361854,  0.17368743,\n",
              "         0.0633492 ,  0.00347154, -0.17375928, -0.19657594,  0.050587  ,\n",
              "         0.08907962,  0.01708797, -0.05765415,  0.17009147,  0.11444354,\n",
              "         0.22244419, -0.10606053,  0.01948808,  0.10089092, -0.01761965,\n",
              "        -0.02342732, -0.00553421,  0.26008558,  0.19284704,  0.18460625,\n",
              "        -0.21344002, -0.21338277,  0.09758127,  0.13587339,  0.12330677,\n",
              "        -0.31297112,  0.06654954,  0.11312833, -0.2288874 ,  0.12048548,\n",
              "         0.01325847, -0.12253678, -0.26575193, -0.05499251, -0.00600814,\n",
              "         0.11729407,  0.02942653,  0.07371668, -0.02447368,  0.03313584,\n",
              "        -0.14895952, -0.00137958,  0.12556054,  0.19025774,  0.03656825,\n",
              "         0.142456  ,  0.21070163, -0.01305432,  0.11334085, -0.39623356,\n",
              "        -0.1494632 ,  0.01403276,  0.04381053, -0.10326971,  0.01729491,\n",
              "         0.17256223, -0.24529652,  0.13138692,  0.06073869], dtype=float32)>,\n",
              " <tf.Variable 'dense_layer_2/kernel:0' shape=(64, 64) dtype=float32, numpy=\n",
              " array([[ 0.11832847,  0.10873794, -0.10315146, ..., -0.35375282,\n",
              "          0.05077934, -0.08415569],\n",
              "        [-0.69656503,  0.31450143, -0.0249704 , ..., -0.32262078,\n",
              "         -0.08788722, -0.17400594],\n",
              "        [ 0.08817875,  0.14623746,  0.2547116 , ..., -0.02562279,\n",
              "          0.27200064, -0.01763146],\n",
              "        ...,\n",
              "        [-0.08205549, -0.14735965,  0.08240314, ..., -0.33692572,\n",
              "         -0.02999112,  0.23837069],\n",
              "        [-0.00142217,  0.14284353,  0.0066642 , ..., -0.51164603,\n",
              "          0.13779737, -0.23743822],\n",
              "        [ 0.00426462,  0.19049375, -0.32238325, ...,  0.19744161,\n",
              "         -0.16604382, -0.07378551]], dtype=float32)>,\n",
              " <tf.Variable 'dense_layer_2/bias:0' shape=(64,) dtype=float32, numpy=\n",
              " array([ 0.37252748,  0.13967682,  0.06755854,  0.24487126,  0.04335055,\n",
              "        -0.16417335,  0.30680683, -0.06262282, -0.1681662 ,  0.1595271 ,\n",
              "         0.34142116,  0.22799575,  0.09229546,  0.00874084,  0.04866205,\n",
              "         0.17963983,  0.11796844,  0.04743345,  0.03340433,  0.15541577,\n",
              "         0.24861416,  0.12373237, -0.07859643, -0.24072793, -0.05032754,\n",
              "        -0.11702857,  0.03656811, -0.07595787,  0.21877906, -0.01958571,\n",
              "        -0.2746478 ,  0.3472041 ,  0.30555305,  0.26695168,  0.20227584,\n",
              "         0.21364038,  0.28612772,  0.23202327,  0.31821486,  0.18020022,\n",
              "         0.03982951, -0.01197065,  0.21410573,  0.33257315,  0.03906036,\n",
              "         0.01597491,  0.08259442, -0.10330065,  0.31465822,  0.07081978,\n",
              "         0.32802653, -0.09106839,  0.47022304,  0.31640336,  0.38212594,\n",
              "         0.2421967 ,  0.1703876 , -0.03647052,  0.10258567,  0.09999442,\n",
              "         0.06533741,  0.29399365,  0.23503928,  0.10708793], dtype=float32)>,\n",
              " <tf.Variable 'dense_layer_3/kernel:0' shape=(64, 10) dtype=float32, numpy=\n",
              " array([[ 0.4770516 , -0.5012838 , -0.05048209, -0.17688252, -0.555053  ,\n",
              "         -0.39689946,  0.40917394, -0.7443017 ,  0.3132386 , -0.02955289],\n",
              "        [-0.3520438 ,  0.15757194,  0.08008216, -0.10816804,  0.20441097,\n",
              "         -0.19693658,  0.227053  , -0.4029847 , -0.55336356,  0.18750219],\n",
              "        [ 0.32477915, -0.39008868,  0.3557954 ,  0.3011888 , -0.1035567 ,\n",
              "         -0.19132036, -0.49984953, -0.25034317,  0.26578358,  0.13367702],\n",
              "        [ 0.18985443, -0.4596618 , -0.33662584,  0.16552773,  0.17393047,\n",
              "          0.24696843, -0.4903222 ,  0.25572303,  0.20192805,  0.20371914],\n",
              "        [-0.31584167, -0.35422835,  0.32677886, -0.17547852,  0.38024008,\n",
              "         -0.12483846, -0.2522631 , -0.4702775 , -0.47250506,  0.3524632 ],\n",
              "        [-0.4624226 ,  0.23068452,  0.26069057,  0.19393739, -0.08631057,\n",
              "          0.14002149,  0.20048432, -0.08821507, -0.22413073, -0.40803844],\n",
              "        [-0.30074787,  0.30998415, -0.29862472, -0.49942878,  0.2266009 ,\n",
              "          0.3117939 ,  0.2873615 , -0.05148719,  0.27116802, -0.29634666],\n",
              "        [-0.5027115 ,  0.1940467 , -0.36443776,  0.28624028, -0.15214624,\n",
              "          0.26322883, -0.47526026, -0.7550895 , -0.24580966,  0.19691429],\n",
              "        [-0.4215746 ,  0.2191009 ,  0.22890358,  0.15230353, -0.7428537 ,\n",
              "          0.02203313, -0.15443332,  0.1880435 ,  0.11103859, -0.6002462 ],\n",
              "        [ 0.24693446, -0.09458629,  0.18275303, -0.0872269 , -0.14988086,\n",
              "          0.19219413,  0.27650955, -0.51961315,  0.22730042, -0.43951797],\n",
              "        [ 0.282276  , -0.57696724, -0.27890027, -0.15424383, -0.4458103 ,\n",
              "          0.21781765,  0.01693165, -0.12333329,  0.27665913, -0.23733161],\n",
              "        [-0.3711125 ,  0.2577783 , -0.43677548, -0.04436843,  0.17415524,\n",
              "         -0.6941686 , -0.6202945 ,  0.19218469,  0.07578407,  0.10226164],\n",
              "        [-0.35491082, -0.32527772,  0.28946862, -0.0904859 ,  0.22057265,\n",
              "          0.21467738,  0.28779545, -0.34630734,  0.28310153,  0.23759727],\n",
              "        [-0.1575475 ,  0.10340396,  0.30089563,  0.26701805, -0.823446  ,\n",
              "         -0.3235986 , -0.59470296,  0.23191637,  0.22081451,  0.17661044],\n",
              "        [ 0.12100008, -0.2453371 , -0.3047641 ,  0.27668512, -0.5255059 ,\n",
              "          0.27634907, -0.28330198, -0.12052229, -0.35297444,  0.28989333],\n",
              "        [-0.42250615,  0.35555795, -0.5314923 , -0.3681286 , -0.18348876,\n",
              "         -0.03991167, -0.5302286 ,  0.32298487, -0.00824048,  0.2149112 ],\n",
              "        [-0.49854124,  0.22040324,  0.11781739, -0.26197085, -0.2228268 ,\n",
              "          0.18426055,  0.20045936,  0.11625972,  0.18298411, -0.23273379],\n",
              "        [ 0.02667472,  0.13042144,  0.11324177, -0.32283854, -0.16771886,\n",
              "          0.13686185,  0.23023653, -0.6898391 ,  0.15614331, -0.23120944],\n",
              "        [-0.6179863 ,  0.00706376, -0.22995685,  0.2853518 ,  0.2598541 ,\n",
              "          0.2821463 , -0.8994959 ,  0.20815873,  0.23508388,  0.2530891 ],\n",
              "        [-0.3938334 , -0.05447828, -0.21654415, -0.44348148, -0.08113188,\n",
              "          0.32983926,  0.37166125, -0.3317385 ,  0.33173957, -0.3416231 ],\n",
              "        [ 0.17606805, -0.6099301 , -0.2779205 , -0.28486732, -0.4710125 ,\n",
              "          0.21403916,  0.19458258, -0.4529006 ,  0.19147456,  0.372126  ],\n",
              "        [-0.41743127, -0.47071612, -0.25247285,  0.254268  ,  0.09412596,\n",
              "          0.1742456 ,  0.22358018, -0.23883453, -0.19892469, -0.38717216],\n",
              "        [ 0.282861  , -0.5076156 ,  0.27111596,  0.15664059, -0.08650912,\n",
              "         -0.00323449,  0.2549541 ,  0.29746547, -0.24449542, -0.48948163],\n",
              "        [-0.13135608,  0.03620989,  0.29325843,  0.269596  ,  0.2637831 ,\n",
              "          0.05369472, -0.532858  ,  0.30534485, -0.6407922 ,  0.11993049],\n",
              "        [-0.6554888 , -0.5356866 ,  0.08199283,  0.15311576,  0.17240255,\n",
              "          0.17811081, -0.604724  , -0.03709492, -0.267148  ,  0.11626786],\n",
              "        [-0.38593704,  0.19310375,  0.25576863,  0.23434938, -0.8309064 ,\n",
              "         -0.3652234 ,  0.05104047,  0.23937501, -0.05125526,  0.08300702],\n",
              "        [ 0.0239935 , -0.18294218, -0.05557027,  0.18491383,  0.2582301 ,\n",
              "          0.30958575, -0.27855778,  0.05424154,  0.1836542 , -0.3387062 ],\n",
              "        [-0.5695059 ,  0.26297596, -0.5170957 ,  0.15479991,  0.06712515,\n",
              "          0.15000573, -0.41266474,  0.16233309, -0.5993795 ,  0.08165341],\n",
              "        [ 0.11176994, -0.5282734 , -0.4889284 , -0.16988887,  0.34802327,\n",
              "          0.06088979,  0.27070582, -0.21414515, -0.34338766, -0.07542043],\n",
              "        [-0.20964563,  0.0726039 ,  0.24712677,  0.15624316, -0.5264097 ,\n",
              "         -0.32497337, -0.4277253 , -0.17120473,  0.17575817, -0.5228797 ],\n",
              "        [-0.5348789 , -0.00228291,  0.2962398 ,  0.2672027 , -0.5316475 ,\n",
              "          0.25896108, -0.9671267 ,  0.27078363, -0.2157908 ,  0.2491783 ],\n",
              "        [ 0.5064875 , -0.54007995, -0.13685478,  0.34223476, -0.21197487,\n",
              "         -0.17215946, -0.24753286, -0.38281536,  0.10583717, -0.10729204],\n",
              "        [ 0.1225829 , -0.3942058 , -0.3012079 ,  0.2895811 , -0.56405616,\n",
              "         -0.14516376, -0.53664833, -0.4399702 ,  0.35425332,  0.36002213],\n",
              "        [ 0.1745918 ,  0.47237143, -0.5435581 , -0.3030258 ,  0.07603747,\n",
              "         -0.10742917, -0.61295   ,  0.3291191 , -0.42695278,  0.27244645],\n",
              "        [ 0.2956587 , -0.3772659 ,  0.02903315, -0.23472354,  0.33725113,\n",
              "          0.03501073, -0.26619354, -0.4428845 , -0.32053834,  0.36261117],\n",
              "        [ 0.3409072 , -0.5080982 ,  0.01332862, -0.32986388,  0.40969834,\n",
              "         -0.01285802, -0.29190457, -0.27039075, -0.35038975,  0.32018647],\n",
              "        [ 0.01285798, -0.06275114, -0.32277122, -0.22955653, -0.50117135,\n",
              "          0.27624473, -0.12484537, -0.21416947,  0.35069555,  0.31240216],\n",
              "        [-0.11061297, -0.48713282, -0.03578126,  0.16137241,  0.24971254,\n",
              "         -0.58159083, -0.3456785 ,  0.07662885,  0.39604262,  0.29832077],\n",
              "        [-0.31057325,  0.37267804, -0.4628831 , -0.65494806,  0.2214247 ,\n",
              "         -0.3587768 ,  0.2711405 , -0.11576119, -0.09810905, -0.6342482 ],\n",
              "        [-0.0273459 ,  0.3891974 , -0.3430598 ,  0.23620543,  0.03013431,\n",
              "          0.27724147,  0.32312477, -0.5016011 , -0.10435821, -0.11371504],\n",
              "        [ 0.07835325, -0.2780451 ,  0.18453617,  0.14784954,  0.15662237,\n",
              "         -0.19124912,  0.17705935, -0.14373377,  0.15645663, -0.78130674],\n",
              "        [ 0.23977917,  0.3717873 ,  0.13239542,  0.26150483, -0.26017728,\n",
              "          0.22720984,  0.12128405, -0.3351969 , -0.5682517 , -0.14756685],\n",
              "        [-0.02824597, -0.14343674,  0.00901187, -0.05720827,  0.33047545,\n",
              "         -0.24124794, -0.07715415,  0.29797047, -0.623518  ,  0.26327544],\n",
              "        [ 0.11241434, -0.4030048 , -0.3550265 , -0.5420911 ,  0.26590982,\n",
              "          0.20066486, -0.01829972, -0.20340542,  0.31515643,  0.2656893 ],\n",
              "        [ 0.2667612 , -0.44715363,  0.01705564, -0.15880762, -0.6302165 ,\n",
              "          0.20595127,  0.24615993,  0.2619978 , -0.2523144 ,  0.13379693],\n",
              "        [ 0.33805662, -0.60542864,  0.23540981, -0.34222493,  0.25087345,\n",
              "          0.28111532,  0.2696032 ,  0.22040063, -0.10427236, -0.457143  ],\n",
              "        [ 0.21655573, -0.54420507,  0.08239669,  0.15454581, -0.7163885 ,\n",
              "          0.24122614, -0.26679885,  0.21255258, -0.311608  ,  0.19350119],\n",
              "        [-0.2927537 ,  0.20999874,  0.24176171,  0.21099883, -0.2884582 ,\n",
              "          0.15699491, -0.47634253,  0.24580133,  0.1749021 , -0.36482793],\n",
              "        [-0.4655327 ,  0.2377165 , -0.42033783,  0.2896062 ,  0.24698776,\n",
              "         -0.40876022, -0.35534814,  0.25942636,  0.14720449,  0.23572461],\n",
              "        [ 0.1999306 ,  0.17403845, -0.0242131 ,  0.21391302, -0.6865089 ,\n",
              "          0.24236089,  0.25173047, -0.53686357, -0.269354  , -0.20777166],\n",
              "        [ 0.3556591 , -0.5416142 ,  0.16406634, -0.24444714,  0.2319574 ,\n",
              "         -0.5049219 ,  0.34022936,  0.3225528 , -0.2648049 ,  0.23758781],\n",
              "        [ 0.0638915 ,  0.32206765,  0.29814443, -0.11737137,  0.01733684,\n",
              "         -0.36674637, -0.14864244, -0.09290799, -0.5919314 , -0.40089634],\n",
              "        [-0.0369431 ,  0.34027272, -0.53965783,  0.1955073 , -0.02422983,\n",
              "         -0.32653642, -0.03789598, -0.39387122,  0.38182527,  0.22224882],\n",
              "        [-0.07659368,  0.01346509,  0.04214961,  0.06563974, -0.04685438,\n",
              "         -0.20186952, -0.8515004 , -0.40202543,  0.47160965,  0.46603623],\n",
              "        [ 0.24370153, -0.4387518 , -0.39637348, -0.52969486,  0.14888245,\n",
              "         -0.43964675,  0.22470364,  0.19154406, -0.49003506,  0.19360664],\n",
              "        [-0.44257554,  0.37007055,  0.01951962, -0.5269136 ,  0.2454731 ,\n",
              "         -0.07369576,  0.2105467 ,  0.23153609, -0.4146059 ,  0.23142867],\n",
              "        [ 0.29247713, -0.15610155,  0.23932752,  0.18524252,  0.27903628,\n",
              "         -0.40959242,  0.21398623, -0.25700122,  0.08623038, -0.66014504],\n",
              "        [ 0.22836876,  0.15884627,  0.25492907,  0.07082613, -0.68559456,\n",
              "         -0.28808936, -0.195001  ,  0.2400636 ,  0.08337161, -0.63272196],\n",
              "        [ 0.3846026 , -0.74638253,  0.24671742, -0.21428707,  0.14962511,\n",
              "         -0.23167686, -0.4979088 ,  0.22878157,  0.15576586, -0.03528641],\n",
              "        [ 0.28761113, -0.3822489 ,  0.21111022, -0.387462  ,  0.14281426,\n",
              "         -0.41470057,  0.19281334, -0.29804438, -0.3374329 ,  0.05383177],\n",
              "        [-0.22791402,  0.31174856,  0.15379557, -0.44842812,  0.20785086,\n",
              "          0.1554351 , -0.38462633, -0.33023658,  0.02629306, -0.34815338],\n",
              "        [ 0.41206565,  0.6147381 , -0.21938881, -0.46338493, -0.19895212,\n",
              "         -0.26123288, -0.15391363,  0.33265865, -0.12223453,  0.02122505],\n",
              "        [-0.3889094 ,  0.17866904,  0.265915  , -0.24872461,  0.17014788,\n",
              "         -0.69021964,  0.04763157, -0.0083708 ,  0.16513725,  0.10302944],\n",
              "        [-0.10486599, -0.79277384, -0.24174817,  0.20392732, -0.21414882,\n",
              "          0.20231798, -0.6557709 ,  0.1577705 ,  0.20053042,  0.08176666]],\n",
              "       dtype=float32)>,\n",
              " <tf.Variable 'dense_layer_3/bias:0' shape=(10,) dtype=float32, numpy=\n",
              " array([ 0.10055495,  0.19323121, -0.45091408, -0.12928165,  0.04972696,\n",
              "        -0.1786499 ,  0.05967024, -0.10190784,  0.5037409 ,  0.05641808],\n",
              "       dtype=float32)>]"
            ]
          },
          "metadata": {
            "tags": []
          },
          "execution_count": 41
        }
      ]
    },
    {
      "cell_type": "code",
      "metadata": {
        "id": "OK9ct5w-j0jm",
        "colab": {
          "base_uri": "https://localhost:8080/"
        },
        "outputId": "cec92887-f083-404d-ffd2-247096edb1bc"
      },
      "source": [
        "model_3.get_config()"
      ],
      "execution_count": null,
      "outputs": [
        {
          "output_type": "execute_result",
          "data": {
            "text/plain": [
              "{'layers': [{'class_name': 'InputLayer',\n",
              "   'config': {'batch_input_shape': (None, 784),\n",
              "    'dtype': 'float32',\n",
              "    'name': 'dense_layer_input',\n",
              "    'ragged': False,\n",
              "    'sparse': False}},\n",
              "  {'class_name': 'Dense',\n",
              "   'config': {'activation': 'relu',\n",
              "    'activity_regularizer': None,\n",
              "    'batch_input_shape': (None, 784),\n",
              "    'bias_constraint': None,\n",
              "    'bias_initializer': {'class_name': 'Zeros', 'config': {}},\n",
              "    'bias_regularizer': None,\n",
              "    'dtype': 'float32',\n",
              "    'kernel_constraint': None,\n",
              "    'kernel_initializer': {'class_name': 'GlorotUniform',\n",
              "     'config': {'seed': None}},\n",
              "    'kernel_regularizer': None,\n",
              "    'name': 'dense_layer',\n",
              "    'trainable': True,\n",
              "    'units': 64,\n",
              "    'use_bias': True}},\n",
              "  {'class_name': 'Dropout',\n",
              "   'config': {'dtype': 'float32',\n",
              "    'name': 'dropout_2',\n",
              "    'noise_shape': None,\n",
              "    'rate': 0.3,\n",
              "    'seed': None,\n",
              "    'trainable': True}},\n",
              "  {'class_name': 'Dense',\n",
              "   'config': {'activation': 'relu',\n",
              "    'activity_regularizer': None,\n",
              "    'bias_constraint': None,\n",
              "    'bias_initializer': {'class_name': 'Zeros', 'config': {}},\n",
              "    'bias_regularizer': None,\n",
              "    'dtype': 'float32',\n",
              "    'kernel_constraint': None,\n",
              "    'kernel_initializer': {'class_name': 'GlorotUniform',\n",
              "     'config': {'seed': None}},\n",
              "    'kernel_regularizer': None,\n",
              "    'name': 'dense_layer_2',\n",
              "    'trainable': True,\n",
              "    'units': 64,\n",
              "    'use_bias': True}},\n",
              "  {'class_name': 'Dropout',\n",
              "   'config': {'dtype': 'float32',\n",
              "    'name': 'dropout_3',\n",
              "    'noise_shape': None,\n",
              "    'rate': 0.3,\n",
              "    'seed': None,\n",
              "    'trainable': True}},\n",
              "  {'class_name': 'Dense',\n",
              "   'config': {'activation': 'softmax',\n",
              "    'activity_regularizer': None,\n",
              "    'bias_constraint': None,\n",
              "    'bias_initializer': {'class_name': 'Zeros', 'config': {}},\n",
              "    'bias_regularizer': None,\n",
              "    'dtype': 'float32',\n",
              "    'kernel_constraint': None,\n",
              "    'kernel_initializer': {'class_name': 'GlorotUniform',\n",
              "     'config': {'seed': None}},\n",
              "    'kernel_regularizer': None,\n",
              "    'name': 'dense_layer_3',\n",
              "    'trainable': True,\n",
              "    'units': 10,\n",
              "    'use_bias': True}}],\n",
              " 'name': 'sequential_3'}"
            ]
          },
          "metadata": {
            "tags": []
          },
          "execution_count": 42
        }
      ]
    },
    {
      "cell_type": "markdown",
      "metadata": {
        "id": "mBnxm6kkzUYm"
      },
      "source": [
        "###Improved Model 4: Increasing the number of Hidden Layer neuron "
      ]
    },
    {
      "cell_type": "code",
      "metadata": {
        "id": "1tV9x2SNzUYq"
      },
      "source": [
        "#Most common type of model is a stack of layers\n",
        "model_4 = tf.keras.Sequential()\n",
        "N_hidden = 512\n",
        "# Adds a densely-connected layer with 64 units to the model:\n",
        "model_4.add(Dense(N_hidden, name='dense_layer', input_shape=(784,), activation = 'relu'))\n",
        "# Now the model will take as input arrays of shape (*, 784)# and output arrays of shape (*, 64)\n",
        "model_4.add(Dropout(0.3))\n",
        "# Adding another dense layer:\n",
        "model_4.add(Dense(N_hidden, name='dense_layer_2', activation='relu'))\n",
        "model_4.add(Dropout(0.3))\n",
        "# After the first layer, you don't need to specify\u000b# the size of the input anymore:\n",
        "# Add an output layer with 10 output units (10 different classes):\n",
        "model_4.add(Dense(10, name='dense_layer_3', activation = 'softmax'))\n"
      ],
      "execution_count": null,
      "outputs": []
    },
    {
      "cell_type": "code",
      "metadata": {
        "id": "ODypsK52zUY3"
      },
      "source": [
        "# Compiling the model.\n",
        "model_4.compile(optimizer='Adam', \n",
        "              loss='categorical_crossentropy',\n",
        "              metrics=['accuracy'])"
      ],
      "execution_count": null,
      "outputs": []
    },
    {
      "cell_type": "code",
      "metadata": {
        "id": "wcbJiQdpzUY_",
        "colab": {
          "base_uri": "https://localhost:8080/"
        },
        "outputId": "d9763394-763d-4488-c684-76298940928d"
      },
      "source": [
        "# Training the model. \n",
        "training = model_4.fit(X_train, Y_train, batch_size=128, epochs=31, validation_split=0.2) \n"
      ],
      "execution_count": null,
      "outputs": [
        {
          "output_type": "stream",
          "text": [
            "Epoch 1/31\n",
            "375/375 [==============================] - 1s 3ms/step - loss: 0.3013 - accuracy: 0.9086 - val_loss: 0.1312 - val_accuracy: 0.9618\n",
            "Epoch 2/31\n",
            "375/375 [==============================] - 1s 2ms/step - loss: 0.1276 - accuracy: 0.9615 - val_loss: 0.0884 - val_accuracy: 0.9718\n",
            "Epoch 3/31\n",
            "375/375 [==============================] - 1s 3ms/step - loss: 0.0914 - accuracy: 0.9715 - val_loss: 0.0916 - val_accuracy: 0.9737\n",
            "Epoch 4/31\n",
            "375/375 [==============================] - 1s 3ms/step - loss: 0.0733 - accuracy: 0.9769 - val_loss: 0.0824 - val_accuracy: 0.9748\n",
            "Epoch 5/31\n",
            "375/375 [==============================] - 1s 3ms/step - loss: 0.0616 - accuracy: 0.9814 - val_loss: 0.0718 - val_accuracy: 0.9772\n",
            "Epoch 6/31\n",
            "375/375 [==============================] - 1s 3ms/step - loss: 0.0500 - accuracy: 0.9836 - val_loss: 0.0757 - val_accuracy: 0.9784\n",
            "Epoch 7/31\n",
            "375/375 [==============================] - 1s 3ms/step - loss: 0.0454 - accuracy: 0.9850 - val_loss: 0.0703 - val_accuracy: 0.9804\n",
            "Epoch 8/31\n",
            "375/375 [==============================] - 1s 3ms/step - loss: 0.0410 - accuracy: 0.9866 - val_loss: 0.0783 - val_accuracy: 0.9804\n",
            "Epoch 9/31\n",
            "375/375 [==============================] - 1s 3ms/step - loss: 0.0394 - accuracy: 0.9871 - val_loss: 0.0748 - val_accuracy: 0.9799\n",
            "Epoch 10/31\n",
            "375/375 [==============================] - 1s 3ms/step - loss: 0.0345 - accuracy: 0.9883 - val_loss: 0.0763 - val_accuracy: 0.9805\n",
            "Epoch 11/31\n",
            "375/375 [==============================] - 1s 3ms/step - loss: 0.0326 - accuracy: 0.9891 - val_loss: 0.0833 - val_accuracy: 0.9799\n",
            "Epoch 12/31\n",
            "375/375 [==============================] - 1s 3ms/step - loss: 0.0297 - accuracy: 0.9904 - val_loss: 0.0722 - val_accuracy: 0.9837\n",
            "Epoch 13/31\n",
            "375/375 [==============================] - 1s 3ms/step - loss: 0.0291 - accuracy: 0.9898 - val_loss: 0.0781 - val_accuracy: 0.9808\n",
            "Epoch 14/31\n",
            "375/375 [==============================] - 1s 3ms/step - loss: 0.0289 - accuracy: 0.9908 - val_loss: 0.0780 - val_accuracy: 0.9816\n",
            "Epoch 15/31\n",
            "375/375 [==============================] - 1s 3ms/step - loss: 0.0246 - accuracy: 0.9922 - val_loss: 0.0892 - val_accuracy: 0.9793\n",
            "Epoch 16/31\n",
            "375/375 [==============================] - 1s 3ms/step - loss: 0.0228 - accuracy: 0.9924 - val_loss: 0.0867 - val_accuracy: 0.9814\n",
            "Epoch 17/31\n",
            "375/375 [==============================] - 1s 3ms/step - loss: 0.0260 - accuracy: 0.9910 - val_loss: 0.0861 - val_accuracy: 0.9816\n",
            "Epoch 18/31\n",
            "375/375 [==============================] - 1s 3ms/step - loss: 0.0214 - accuracy: 0.9929 - val_loss: 0.0898 - val_accuracy: 0.9796\n",
            "Epoch 19/31\n",
            "375/375 [==============================] - 1s 3ms/step - loss: 0.0227 - accuracy: 0.9924 - val_loss: 0.0920 - val_accuracy: 0.9811\n",
            "Epoch 20/31\n",
            "375/375 [==============================] - 1s 3ms/step - loss: 0.0216 - accuracy: 0.9925 - val_loss: 0.0838 - val_accuracy: 0.9821\n",
            "Epoch 21/31\n",
            "375/375 [==============================] - 1s 3ms/step - loss: 0.0205 - accuracy: 0.9928 - val_loss: 0.0995 - val_accuracy: 0.9787\n",
            "Epoch 22/31\n",
            "375/375 [==============================] - 1s 3ms/step - loss: 0.0199 - accuracy: 0.9935 - val_loss: 0.0947 - val_accuracy: 0.9832\n",
            "Epoch 23/31\n",
            "375/375 [==============================] - 1s 3ms/step - loss: 0.0211 - accuracy: 0.9937 - val_loss: 0.0859 - val_accuracy: 0.9822\n",
            "Epoch 24/31\n",
            "375/375 [==============================] - 1s 3ms/step - loss: 0.0185 - accuracy: 0.9936 - val_loss: 0.0868 - val_accuracy: 0.9833\n",
            "Epoch 25/31\n",
            "375/375 [==============================] - 1s 3ms/step - loss: 0.0166 - accuracy: 0.9947 - val_loss: 0.0917 - val_accuracy: 0.9818\n",
            "Epoch 26/31\n",
            "375/375 [==============================] - 1s 3ms/step - loss: 0.0171 - accuracy: 0.9945 - val_loss: 0.0911 - val_accuracy: 0.9822\n",
            "Epoch 27/31\n",
            "375/375 [==============================] - 1s 3ms/step - loss: 0.0208 - accuracy: 0.9940 - val_loss: 0.0892 - val_accuracy: 0.9822\n",
            "Epoch 28/31\n",
            "375/375 [==============================] - 1s 3ms/step - loss: 0.0191 - accuracy: 0.9941 - val_loss: 0.0923 - val_accuracy: 0.9832\n",
            "Epoch 29/31\n",
            "375/375 [==============================] - 1s 3ms/step - loss: 0.0172 - accuracy: 0.9947 - val_loss: 0.0909 - val_accuracy: 0.9829\n",
            "Epoch 30/31\n",
            "375/375 [==============================] - 1s 3ms/step - loss: 0.0159 - accuracy: 0.9953 - val_loss: 0.0903 - val_accuracy: 0.9826\n",
            "Epoch 31/31\n",
            "375/375 [==============================] - 1s 3ms/step - loss: 0.0188 - accuracy: 0.9942 - val_loss: 0.0903 - val_accuracy: 0.9825\n"
          ],
          "name": "stdout"
        }
      ]
    },
    {
      "cell_type": "code",
      "metadata": {
        "colab": {
          "base_uri": "https://localhost:8080/"
        },
        "id": "wIywzScFzUZJ",
        "outputId": "c6382598-87f0-4439-c635-22fa65fd946e"
      },
      "source": [
        "#evaluate the model_4\n",
        "test_loss, test_acc = model_4.evaluate(X_test, Y_test)\n",
        "print('Test accuracy:', test_acc)"
      ],
      "execution_count": null,
      "outputs": [
        {
          "output_type": "stream",
          "text": [
            "313/313 [==============================] - 1s 2ms/step - loss: 0.0796 - accuracy: 0.9824\n",
            "Test accuracy: 0.9824000000953674\n"
          ],
          "name": "stdout"
        }
      ]
    },
    {
      "cell_type": "code",
      "metadata": {
        "id": "L3tLcpsc3tKz",
        "colab": {
          "base_uri": "https://localhost:8080/",
          "height": 590
        },
        "outputId": "7b18e367-a3db-440e-bed5-64f71223e7fd"
      },
      "source": [
        "import matplotlib.pyplot as plt\n",
        "%matplotlib inline\n",
        "# list all data in training\n",
        "print(training.history.keys())\n",
        "# summarize training for accuracy\n",
        "plt.plot(training.history['accuracy'])\n",
        "plt.plot(training.history['val_accuracy'])\n",
        "plt.title('model accuracy')\n",
        "plt.ylabel('accuracy')\n",
        "plt.xlabel('epoch')\n",
        "plt.legend(['train', 'test'], loc='upper left')\n",
        "plt.show()\n",
        "# summarize traning for loss\n",
        "plt.plot(training.history['loss'])\n",
        "plt.plot(training.history['val_loss'])\n",
        "plt.title('model loss')\n",
        "plt.ylabel('loss')\n",
        "plt.xlabel('epoch')\n",
        "plt.legend(['train', 'test'], loc='upper left')\n",
        "plt.show()"
      ],
      "execution_count": null,
      "outputs": [
        {
          "output_type": "stream",
          "text": [
            "dict_keys(['loss', 'accuracy', 'val_loss', 'val_accuracy'])\n"
          ],
          "name": "stdout"
        },
        {
          "output_type": "display_data",
          "data": {
            "image/png": "[encoded data removed]",
            "text/plain": [
              "<Figure size 432x288 with 1 Axes>"
            ]
          },
          "metadata": {
            "tags": [],
            "needs_background": "light"
          }
        },
        {
          "output_type": "display_data",
          "data": {
            "image/png": "[encoded data removed]",
            "text/plain": [
              "<Figure size 432x288 with 1 Axes>"
            ]
          },
          "metadata": {
            "tags": [],
            "needs_background": "light"
          }
        }
      ]
    },
    {
      "cell_type": "code",
      "metadata": {
        "id": "FmDi5zHOkQTK",
        "colab": {
          "base_uri": "https://localhost:8080/"
        },
        "outputId": "0eaa861c-3819-465f-ef9e-fab0f0d6b4b7"
      },
      "source": [
        "model_4.summary()"
      ],
      "execution_count": null,
      "outputs": [
        {
          "output_type": "stream",
          "text": [
            "Model: \"sequential_4\"\n",
            "_________________________________________________________________\n",
            "Layer (type)                 Output Shape              Param #   \n",
            "=================================================================\n",
            "dense_layer (Dense)          (None, 512)               401920    \n",
            "_________________________________________________________________\n",
            "dropout_4 (Dropout)          (None, 512)               0         \n",
            "_________________________________________________________________\n",
            "dense_layer_2 (Dense)        (None, 512)               262656    \n",
            "_________________________________________________________________\n",
            "dropout_5 (Dropout)          (None, 512)               0         \n",
            "_________________________________________________________________\n",
            "dense_layer_3 (Dense)        (None, 10)                5130      \n",
            "=================================================================\n",
            "Total params: 669,706\n",
            "Trainable params: 669,706\n",
            "Non-trainable params: 0\n",
            "_________________________________________________________________\n"
          ],
          "name": "stdout"
        }
      ]
    },
    {
      "cell_type": "code",
      "metadata": {
        "id": "ogODS59VkQTO",
        "colab": {
          "base_uri": "https://localhost:8080/"
        },
        "outputId": "fc4000b9-48a2-4bfc-cfe4-468330dea760"
      },
      "source": [
        "model_4.weights"
      ],
      "execution_count": null,
      "outputs": [
        {
          "output_type": "execute_result",
          "data": {
            "text/plain": [
              "[<tf.Variable 'dense_layer/kernel:0' shape=(784, 512) dtype=float32, numpy=\n",
              " array([[-0.0350987 ,  0.02890076, -0.06416003, ...,  0.05977495,\n",
              "          0.06126365, -0.01457585],\n",
              "        [-0.0540298 , -0.0227532 ,  0.00462351, ..., -0.04416   ,\n",
              "         -0.04929402,  0.05988169],\n",
              "        [ 0.06040762, -0.00294261, -0.01463966, ...,  0.01581072,\n",
              "          0.05956136, -0.03907766],\n",
              "        ...,\n",
              "        [ 0.0137672 ,  0.00233026,  0.05356669, ..., -0.00795822,\n",
              "          0.06236725, -0.00446402],\n",
              "        [-0.05470567, -0.03257103,  0.02453188, ..., -0.00881742,\n",
              "          0.05389869,  0.01363385],\n",
              "        [ 0.0129263 , -0.01125934,  0.02139214, ..., -0.02659062,\n",
              "          0.01655393, -0.05026351]], dtype=float32)>,\n",
              " <tf.Variable 'dense_layer/bias:0' shape=(512,) dtype=float32, numpy=\n",
              " array([-5.99371232e-02, -1.49576709e-01, -1.64264947e-01, -1.03853129e-01,\n",
              "         7.63304532e-02,  8.23626202e-03, -7.41869062e-02,  1.86394118e-02,\n",
              "        -3.30771320e-02,  8.08676146e-03, -8.30026641e-02, -1.31708339e-01,\n",
              "         1.48747889e-02, -6.44380227e-02,  4.57098987e-03,  5.66201136e-02,\n",
              "        -7.63152912e-02,  1.65521968e-02,  1.68893039e-02, -5.95945679e-02,\n",
              "         4.06318493e-02,  1.90718123e-03,  2.56157927e-02,  2.78084595e-02,\n",
              "         4.63089533e-02, -9.23217982e-02,  6.61101416e-02,  4.30114679e-02,\n",
              "        -1.18421055e-01, -6.40167892e-02, -1.80761367e-02, -1.05380844e-02,\n",
              "        -1.67246647e-02, -4.57847901e-02, -2.89374366e-02, -5.98551482e-02,\n",
              "        -3.84196788e-02,  2.32263356e-02, -2.03203056e-02, -1.12564772e-01,\n",
              "        -6.15218841e-03,  6.15709461e-03, -1.28616735e-01,  3.68719315e-03,\n",
              "        -9.15061384e-02, -2.32604165e-02, -2.84979474e-02, -8.69642049e-02,\n",
              "         3.33154425e-02,  3.65184546e-02,  1.33258607e-02, -5.62918670e-02,\n",
              "        -6.48723915e-02,  3.28522315e-03, -4.09433022e-02, -1.54706808e-02,\n",
              "        -7.66757727e-02, -3.53087410e-02, -5.20910770e-02, -2.42474303e-03,\n",
              "        -1.27876699e-01,  2.41540670e-02, -9.50549617e-02, -3.48537676e-02,\n",
              "         8.51386338e-02,  3.72918136e-02,  1.78910401e-02, -1.09670140e-01,\n",
              "         2.02129781e-02, -3.17252055e-02,  6.93392083e-02, -9.14820805e-02,\n",
              "        -7.23212585e-02, -5.75969927e-03,  2.61965953e-02, -4.12614867e-02,\n",
              "        -6.22974262e-02, -7.38889948e-02, -4.74050678e-02,  1.65404044e-02,\n",
              "        -7.79799838e-03, -4.20345366e-02, -4.76024225e-02, -7.14191869e-02,\n",
              "         2.97244526e-02, -1.76158436e-02, -1.04094548e-02,  3.46701369e-02,\n",
              "         1.23718053e-01, -9.97495949e-02, -7.29000494e-02, -5.13851158e-02,\n",
              "         1.22732911e-02, -1.04604751e-01, -4.30963896e-02, -7.23504573e-02,\n",
              "        -2.31703762e-02,  2.90298536e-02,  4.70225289e-02, -1.04864493e-01,\n",
              "        -9.82126780e-03, -1.41902408e-02, -2.87159085e-02, -3.30763012e-02,\n",
              "        -6.28680289e-02, -6.03658408e-02, -8.24350864e-02,  1.14610210e-01,\n",
              "        -9.53859463e-02, -3.12356818e-02, -5.78265078e-02, -2.83922721e-03,\n",
              "        -1.08326472e-01, -1.04947463e-01,  6.19886033e-02, -1.69416249e-01,\n",
              "        -1.09821327e-01, -1.24144077e-01,  2.58373283e-02, -1.01518117e-01,\n",
              "        -1.42779082e-01,  1.07550472e-02, -6.60868585e-02,  3.04610059e-02,\n",
              "        -3.01576294e-02, -1.22208856e-01, -1.08338930e-02,  3.93836014e-03,\n",
              "        -3.35435458e-02, -2.85534076e-02,  7.18622133e-02, -3.06449528e-03,\n",
              "        -4.21493538e-02,  6.28451165e-03, -2.22175047e-02, -1.33977666e-01,\n",
              "         2.69819777e-02, -1.56610887e-02,  5.44693880e-02, -3.47224846e-02,\n",
              "        -8.25096369e-02, -1.50323153e-01, -6.06874377e-02,  2.18654089e-02,\n",
              "        -4.98383045e-02,  1.20092213e-01, -4.25250977e-02, -7.86953196e-02,\n",
              "        -6.99046180e-02, -6.69830889e-02, -8.42645415e-04,  1.30682951e-02,\n",
              "         4.25256528e-02,  2.09253877e-02, -5.10189459e-02, -3.97555791e-02,\n",
              "        -1.36625797e-01, -6.44480661e-02, -4.19371799e-02, -3.41631137e-02,\n",
              "         1.50857931e-02, -9.20546353e-02,  1.53831663e-02, -5.72520345e-02,\n",
              "         1.71174053e-02,  8.20346270e-03, -1.97075635e-01,  5.19929677e-02,\n",
              "        -1.63310692e-01, -9.62175652e-02, -1.08178467e-01, -4.49974984e-02,\n",
              "        -1.18442230e-01, -6.17804118e-02, -3.54394950e-02,  8.59022141e-02,\n",
              "         6.60150275e-02, -1.76480711e-02,  7.65182264e-03,  1.92302875e-02,\n",
              "        -4.18534614e-02, -4.18557301e-02, -6.69623315e-02,  3.04892622e-02,\n",
              "        -8.04342621e-04, -2.14694068e-02, -1.20956287e-01, -1.95462435e-01,\n",
              "         9.25446078e-02,  3.92728075e-02, -1.16929404e-01,  6.58717677e-02,\n",
              "        -5.94319440e-02,  5.62294871e-02, -4.55115363e-02,  6.49938211e-02,\n",
              "        -4.73533683e-02,  5.89712039e-02,  1.76614281e-02, -9.19050798e-02,\n",
              "        -8.59406292e-02, -5.19382767e-02, -1.39293335e-02,  3.72264944e-02,\n",
              "        -4.51248046e-03,  2.37971097e-02, -2.95379423e-02, -2.90739723e-02,\n",
              "        -3.46978530e-02,  1.41564582e-03, -2.86315251e-02, -8.81815925e-02,\n",
              "        -1.08503193e-01, -1.08088709e-01, -7.43617043e-02, -1.47517370e-02,\n",
              "        -1.58028454e-02, -9.25189182e-02, -4.59328629e-02,  6.44349232e-02,\n",
              "        -2.33083293e-02, -7.39198551e-02, -4.59883101e-02,  1.65205494e-01,\n",
              "         5.42856269e-02, -5.64702451e-02, -3.17431837e-02, -8.62426981e-02,\n",
              "        -2.14578714e-02, -7.74683133e-02, -7.34253451e-02, -3.09322905e-02,\n",
              "         2.84181768e-03, -8.75837579e-02, -3.15661877e-02, -1.79761183e-02,\n",
              "         3.73822520e-03, -6.86982125e-02, -9.27508250e-02, -6.54392540e-02,\n",
              "        -6.95093423e-02, -8.44312273e-03,  8.31842721e-02, -4.31927256e-02,\n",
              "        -5.14832661e-02, -9.08963829e-02, -2.53167003e-02, -1.15636952e-01,\n",
              "         1.99791994e-02, -1.63493957e-02, -3.35313082e-02,  5.15444428e-02,\n",
              "        -3.03568803e-02, -7.97191262e-02, -2.49651335e-02, -4.70881164e-02,\n",
              "         3.32754403e-02, -4.34340276e-02,  4.95721586e-02, -1.69368535e-02,\n",
              "        -1.38665652e-02,  9.96781280e-04, -3.83656807e-02, -7.27693960e-02,\n",
              "        -3.88079472e-02, -6.36160001e-02, -1.23110697e-01, -3.96544710e-02,\n",
              "         1.02234287e-02,  4.22789715e-02, -1.25025585e-01, -1.05139636e-01,\n",
              "        -1.00689165e-01, -3.73964421e-02, -7.04420581e-02, -1.15806885e-01,\n",
              "         2.89118718e-02, -7.29522035e-02, -2.90740281e-02, -1.53259765e-02,\n",
              "        -1.03439376e-01, -1.09949820e-02, -7.59777147e-03, -1.02544434e-01,\n",
              "        -6.57802969e-02, -1.78375542e-02, -1.48794621e-01, -7.13210087e-03,\n",
              "        -1.57276751e-03,  7.34748766e-02,  3.49648334e-02, -5.20895235e-02,\n",
              "        -1.49402827e-01, -9.51047614e-02,  9.77087319e-02, -3.93834524e-02,\n",
              "        -2.59822384e-02, -1.80799998e-02, -1.46242101e-02, -9.38218683e-02,\n",
              "         4.83670123e-02,  5.63305691e-02,  7.41313621e-02, -6.94313422e-02,\n",
              "        -6.79894090e-02, -6.96706474e-02, -5.70074618e-02, -9.53701958e-02,\n",
              "        -6.79229870e-02, -1.35404661e-01,  7.02810958e-02, -2.01010499e-02,\n",
              "        -8.02666098e-02, -2.48654392e-02, -1.73696931e-02, -3.94266425e-03,\n",
              "        -5.49236536e-02, -1.40913408e-02,  9.68022831e-03,  2.81141773e-02,\n",
              "         1.29582379e-02, -1.32231861e-01,  2.23431215e-02, -1.03765473e-01,\n",
              "         9.39218849e-02, -1.11882195e-01,  5.96767366e-02,  7.85147548e-02,\n",
              "        -1.93088427e-02, -8.28310996e-02, -3.21303643e-02, -1.20323278e-01,\n",
              "         2.76945326e-02, -9.90478396e-02, -4.87176366e-02,  7.57126734e-02,\n",
              "        -8.35690740e-03, -3.50776315e-02, -2.76170895e-02,  1.13652535e-02,\n",
              "        -1.50832860e-02,  2.66248621e-02, -5.14270216e-02, -3.00156791e-02,\n",
              "        -4.03585434e-02,  5.89586012e-02,  7.15155452e-02,  4.95185284e-03,\n",
              "        -7.74251372e-02, -2.81029474e-02,  8.05536867e-04, -8.03248063e-02,\n",
              "        -1.14502840e-01, -8.57969448e-02, -3.55451517e-02,  2.15678643e-02,\n",
              "         3.77144068e-02, -2.02080961e-02, -5.46633564e-02, -1.07264973e-01,\n",
              "        -8.15275833e-02,  1.26439445e-02, -1.74303159e-01, -1.91420346e-01,\n",
              "        -1.61461473e-01,  3.05951517e-02, -1.06731459e-01,  8.84056464e-03,\n",
              "        -1.29567161e-01, -1.47171885e-01,  1.08530140e-02,  7.50893075e-03,\n",
              "        -1.95584446e-02,  3.57388407e-02, -7.92592168e-02,  1.57169029e-02,\n",
              "        -6.84584454e-02,  1.58728417e-02,  3.55804717e-04, -9.46311727e-02,\n",
              "        -5.54721504e-02, -1.27687275e-01, -5.18834293e-02, -8.13268200e-02,\n",
              "        -4.31631655e-02, -5.70645323e-03,  2.85470486e-02, -3.65475081e-02,\n",
              "         6.06691614e-02, -1.27614409e-01,  3.63070332e-02, -3.47992815e-02,\n",
              "        -1.54768666e-02,  2.22835690e-02, -2.48539895e-02, -7.81999007e-02,\n",
              "        -4.09106091e-02, -4.96312156e-02, -1.25823885e-01,  1.17004506e-01,\n",
              "         7.49979308e-03,  1.40703525e-02, -1.39026707e-02, -2.34950781e-02,\n",
              "         3.08378357e-02, -4.96751890e-02, -2.21964438e-02,  2.96320971e-02,\n",
              "        -1.94808990e-02, -8.72140452e-02, -2.78760735e-02, -1.72224231e-02,\n",
              "         5.42803109e-02, -7.23276613e-03, -5.68280136e-03, -7.52863064e-02,\n",
              "        -7.93286506e-03,  9.06550810e-02, -8.52428451e-02, -7.58140236e-02,\n",
              "         2.00937428e-02, -6.46134317e-02, -3.22287902e-02, -2.65388936e-02,\n",
              "        -8.02935138e-02,  1.18939299e-02, -5.22592803e-03,  2.93160547e-02,\n",
              "        -3.80340181e-02, -3.58069129e-02, -4.86099571e-02, -6.83111250e-02,\n",
              "         8.99390802e-02, -3.00967158e-03,  5.83339669e-02,  1.36783095e-02,\n",
              "        -2.39726044e-02, -1.02539994e-01, -3.30022462e-02, -6.34477064e-02,\n",
              "         4.52661812e-02, -9.58678797e-02, -5.64766005e-02, -7.44661270e-03,\n",
              "        -2.22863350e-02, -4.06182632e-02, -9.49589759e-02, -5.33957742e-02,\n",
              "         7.28192329e-02, -6.52488470e-02, -2.28098985e-02, -1.08367968e-02,\n",
              "         1.07535698e-01,  1.57104563e-02, -5.69615550e-02, -1.06007330e-01,\n",
              "        -6.89474419e-02, -8.22869837e-02,  4.17062491e-02, -7.83236399e-02,\n",
              "         8.36452395e-02, -1.03403471e-01, -4.29133661e-02, -7.15087280e-02,\n",
              "         8.87062680e-03,  5.78111671e-02, -2.63398215e-02,  6.49622828e-03,\n",
              "        -5.60916634e-03, -6.97248336e-03, -7.43867829e-03, -5.85136889e-03,\n",
              "         1.13182187e-01, -2.60281339e-02,  3.49852107e-02, -7.02418387e-02,\n",
              "        -5.56184202e-02,  5.82373776e-02, -5.40532805e-02, -2.86276340e-02,\n",
              "        -1.32222503e-01, -9.58928466e-02,  5.20377979e-02,  6.88931569e-02,\n",
              "        -8.20306540e-02, -7.59349857e-03,  2.40761805e-02,  6.25385791e-02,\n",
              "        -5.92597984e-02, -4.16001305e-02, -1.94768626e-02, -1.21620007e-01,\n",
              "        -7.11372914e-03, -2.72117518e-02, -8.27591717e-02, -2.71931738e-02,\n",
              "        -8.23535472e-02, -1.01748714e-02,  7.86433666e-05, -1.08016223e-01,\n",
              "         3.78493518e-02, -8.31302702e-02, -6.63099624e-03,  2.89983340e-02,\n",
              "        -1.27565071e-01, -4.17351797e-02, -1.07850969e-01, -7.06344172e-02,\n",
              "         7.87348598e-02, -4.80630249e-03,  1.23204207e-02, -7.18376562e-02],\n",
              "       dtype=float32)>,\n",
              " <tf.Variable 'dense_layer_2/kernel:0' shape=(512, 512) dtype=float32, numpy=\n",
              " array([[ 1.3372132e-01,  1.2330884e-01,  5.2813650e-03, ...,\n",
              "          1.8436994e-02, -1.6121946e-01, -1.1151487e-01],\n",
              "        [-1.6894202e-01, -1.0012330e-01,  7.4438676e-02, ...,\n",
              "          8.9267893e-03, -7.1103506e-02,  9.1089979e-02],\n",
              "        [ 1.0630948e-01, -1.4687167e-01, -2.9150572e-01, ...,\n",
              "          1.8491706e-01, -8.6069442e-05, -3.1687230e-02],\n",
              "        ...,\n",
              "        [-4.7576889e-02, -6.3755333e-02,  1.0746949e-01, ...,\n",
              "         -2.1663849e-01, -1.5486848e-01,  3.1160476e-02],\n",
              "        [-1.8875757e-01,  8.7282516e-02,  2.0469528e-01, ...,\n",
              "         -2.8998673e-02, -7.9704687e-02,  2.6199883e-02],\n",
              "        [-1.9555603e-01, -1.0602277e-01,  7.0683792e-02, ...,\n",
              "         -1.3977550e-01, -5.7612412e-02, -1.2558332e-01]], dtype=float32)>,\n",
              " <tf.Variable 'dense_layer_2/bias:0' shape=(512,) dtype=float32, numpy=\n",
              " array([-0.00148248, -0.08179959, -0.12139848,  0.2240953 , -0.04970806,\n",
              "        -0.13539644, -0.00167368, -0.065831  , -0.15873615,  0.0437868 ,\n",
              "         0.03227705, -0.07842147, -0.1831157 ,  0.08811194,  0.01363327,\n",
              "        -0.01897926, -0.06416246, -0.07597926, -0.00974989, -0.08857253,\n",
              "        -0.08903558, -0.12437663, -0.08816994,  0.0042712 , -0.00130076,\n",
              "        -0.0404066 ,  0.08425999,  0.14582542, -0.09450437, -0.03534612,\n",
              "        -0.11704784, -0.06800777, -0.1946879 , -0.13878429, -0.08019793,\n",
              "        -0.06146906, -0.13237189, -0.01088131, -0.03201715, -0.19225635,\n",
              "        -0.11259232, -0.04480466, -0.17026563,  0.05842489, -0.07265235,\n",
              "        -0.03983521, -0.07830971, -0.1045959 , -0.06283552,  0.0274489 ,\n",
              "         0.09452412, -0.046973  , -0.20161794,  0.25121817,  0.1788596 ,\n",
              "        -0.06002764, -0.02661135,  0.10224821, -0.00575936, -0.12123227,\n",
              "        -0.05821582,  0.00162511, -0.10623895,  0.06290182,  0.01580699,\n",
              "         0.10121901,  0.12121242, -0.16809733,  0.01108364, -0.08980246,\n",
              "         0.00729309, -0.02802313, -0.03965178, -0.0852894 , -0.04144847,\n",
              "        -0.20811448, -0.0881153 , -0.1007286 ,  0.12441397, -0.01207494,\n",
              "         0.07443073,  0.01858738, -0.0408328 ,  0.25675407, -0.12489151,\n",
              "        -0.00309773, -0.14786863,  0.00088882,  0.27650845, -0.18637195,\n",
              "         0.03418741, -0.08434665,  0.0840522 , -0.02104211, -0.11580221,\n",
              "        -0.05783857, -0.16112496,  0.01116184,  0.15659265,  0.01574517,\n",
              "        -0.16398339, -0.076653  ,  0.10172997, -0.16257727, -0.1486329 ,\n",
              "        -0.17580003, -0.08009839,  0.12520894, -0.03587956, -0.09963324,\n",
              "         0.00529357, -0.01812324,  0.12548329,  0.02707752,  0.21933414,\n",
              "        -0.07319434,  0.13035485,  0.24438575,  0.21676481,  0.05642297,\n",
              "        -0.0271084 , -0.1255998 ,  0.13809627, -0.04283044, -0.09364039,\n",
              "        -0.00421722, -0.11776086,  0.17115206, -0.1637388 ,  0.0349989 ,\n",
              "         0.06068745, -0.1627149 , -0.14198516, -0.00582473, -0.03952231,\n",
              "         0.22664939, -0.00804329,  0.00035095, -0.0257623 , -0.18189928,\n",
              "        -0.03603258, -0.11921324,  0.10659023,  0.01014952, -0.1413039 ,\n",
              "         0.07776192,  0.07309353, -0.2087283 , -0.09103008, -0.04501792,\n",
              "         0.08613636,  0.13109185, -0.14045747, -0.05292135,  0.10575673,\n",
              "         0.09957135, -0.00874556,  0.1190112 , -0.0518645 , -0.03481522,\n",
              "        -0.17837995, -0.05458762,  0.00393512,  0.15952334,  0.0081477 ,\n",
              "         0.04546575, -0.1067274 ,  0.00114273,  0.06187718,  0.04786475,\n",
              "         0.14885315, -0.08920726,  0.001019  , -0.11968478, -0.23766385,\n",
              "        -0.01565083, -0.07899522,  0.12413586,  0.13909024,  0.00432101,\n",
              "         0.20774975, -0.12759754, -0.18922555,  0.06248789, -0.10550306,\n",
              "        -0.07261933, -0.02009488, -0.0920139 , -0.16115347, -0.11227828,\n",
              "         0.00476496, -0.05174996, -0.23083279, -0.15932757, -0.00962723,\n",
              "        -0.11855809, -0.14870575, -0.08662581, -0.09637483,  0.13811271,\n",
              "        -0.03678058,  0.11389372,  0.05887038,  0.06218345,  0.1217341 ,\n",
              "        -0.02313148, -0.04082095,  0.22698869, -0.10442246, -0.0690809 ,\n",
              "         0.17966639, -0.11239956, -0.13722438, -0.16654755, -0.08552922,\n",
              "        -0.01838878, -0.05036473,  0.06011277,  0.00609023, -0.08080774,\n",
              "        -0.16060685, -0.09606437, -0.12445271, -0.06339   , -0.10945006,\n",
              "         0.05981201, -0.14770246, -0.00485766,  0.18277371,  0.15686363,\n",
              "        -0.03803187,  0.10224763, -0.12280739,  0.03993681,  0.10534491,\n",
              "         0.07603469, -0.16265759,  0.04356301, -0.07423676,  0.00452936,\n",
              "        -0.12065822,  0.00090498, -0.01688241, -0.22427748, -0.25997734,\n",
              "         0.11638012, -0.05976126, -0.23070575, -0.03449688, -0.01032789,\n",
              "         0.07744211, -0.09799168, -0.03750337,  0.13266215, -0.06445368,\n",
              "        -0.12708074,  0.11436049, -0.0441799 ,  0.05343391, -0.01576258,\n",
              "         0.16467617, -0.09282389, -0.03403606, -0.06893291,  0.08733238,\n",
              "        -0.20103556,  0.07944523, -0.15269788, -0.10078879, -0.05120128,\n",
              "         0.05614806,  0.12035014, -0.11084857, -0.05469747, -0.15145954,\n",
              "        -0.08423587,  0.19589573, -0.15230809, -0.05216568,  0.02559939,\n",
              "         0.02145498, -0.03040064,  0.00377636, -0.16773912, -0.11878132,\n",
              "         0.15873204, -0.05804893, -0.01872735,  0.10486784,  0.07789686,\n",
              "        -0.03037963, -0.06309389,  0.08011981, -0.154665  ,  0.00951846,\n",
              "         0.0920333 , -0.05394144, -0.06999841,  0.11635624, -0.05815211,\n",
              "         0.172809  ,  0.14472534, -0.07966667, -0.20332748, -0.24843673,\n",
              "         0.09882423, -0.05027001, -0.01880888,  0.01451451, -0.10050226,\n",
              "        -0.18441454, -0.09435295,  0.00172859,  0.08205329,  0.20944369,\n",
              "         0.1029947 , -0.09735502,  0.27894455, -0.1570753 , -0.00619757,\n",
              "        -0.09644397, -0.04242093, -0.06339375,  0.06878722,  0.10924412,\n",
              "        -0.04982943,  0.02351781,  0.0629271 , -0.17215067,  0.14563966,\n",
              "         0.13090153,  0.01076182,  0.13476437,  0.10301296,  0.14469978,\n",
              "         0.09967011,  0.18356052,  0.13979453,  0.01034951,  0.01518604,\n",
              "        -0.04479699,  0.06806612, -0.08617795,  0.02025638,  0.04373781,\n",
              "         0.02688434,  0.03654623, -0.20479597, -0.09548287, -0.12399784,\n",
              "        -0.02825405, -0.06689959, -0.01808807, -0.07406295,  0.05640226,\n",
              "         0.15661867,  0.01212352, -0.04089089,  0.03701966,  0.15557814,\n",
              "        -0.0125861 ,  0.04432519, -0.08170545, -0.12903021, -0.17663118,\n",
              "        -0.15976353, -0.11736532, -0.11536952,  0.04511381, -0.10305456,\n",
              "        -0.09960197, -0.03636745, -0.10972769,  0.14760952, -0.01451915,\n",
              "         0.27493006, -0.11070915, -0.15421392,  0.14892589, -0.17200324,\n",
              "        -0.08600017,  0.16158886, -0.01780101, -0.1516998 , -0.02277054,\n",
              "        -0.12315621,  0.12922068,  0.06187259,  0.04591822, -0.06386818,\n",
              "        -0.10633075, -0.14735834, -0.01826625, -0.05967716, -0.01416788,\n",
              "        -0.07387824, -0.0163798 , -0.04756346, -0.08509312,  0.13076174,\n",
              "         0.21045749, -0.15277173, -0.0227962 , -0.20512676, -0.03349718,\n",
              "        -0.09244151,  0.09617481, -0.15856007, -0.00141092,  0.0705127 ,\n",
              "        -0.16118817, -0.1211113 ,  0.07449431,  0.18333505, -0.03982854,\n",
              "         0.07787928, -0.22769216,  0.01658586, -0.07495551,  0.01075226,\n",
              "         0.11090627,  0.14222354, -0.06203608, -0.06149131,  0.05659793,\n",
              "        -0.19113584, -0.18643974, -0.02132347, -0.01928165, -0.06382789,\n",
              "        -0.28363076, -0.03246514,  0.03728211,  0.18718015, -0.12948304,\n",
              "         0.05148444,  0.2500569 , -0.04635472, -0.05563286, -0.01540588,\n",
              "        -0.12065515,  0.0647122 , -0.0758862 ,  0.06213443,  0.12620625,\n",
              "         0.01038384,  0.25047687, -0.10978343,  0.02424152, -0.24862981,\n",
              "         0.07788561,  0.01047804, -0.18138257, -0.06318384, -0.07154033,\n",
              "        -0.04969943,  0.00069223, -0.02569581, -0.17719598, -0.00736735,\n",
              "         0.14398481, -0.03289657, -0.05302264, -0.20996773,  0.00466013,\n",
              "        -0.21717669,  0.13169706,  0.06589825, -0.09950035,  0.00502807,\n",
              "         0.17477241,  0.12545504,  0.01258945, -0.04563533, -0.01607385,\n",
              "         0.13500182,  0.01934913, -0.06698102, -0.01368146, -0.03600386,\n",
              "         0.06433824, -0.0787387 ,  0.13996154, -0.00711115,  0.03671021,\n",
              "        -0.01758107, -0.05078341,  0.03746219,  0.11333024, -0.0438056 ,\n",
              "        -0.10418906,  0.12652022, -0.16035601,  0.12319299,  0.08178407,\n",
              "         0.01908072, -0.11588059, -0.00747479, -0.13330843, -0.16396248,\n",
              "        -0.05472339, -0.09595821, -0.02019065, -0.083369  ,  0.07959065,\n",
              "        -0.09807574, -0.28756955,  0.1304926 , -0.20908149, -0.09862039,\n",
              "        -0.04327874, -0.08129419], dtype=float32)>,\n",
              " <tf.Variable 'dense_layer_3/kernel:0' shape=(512, 10) dtype=float32, numpy=\n",
              " array([[ 0.11032734, -0.2714551 , -0.11431279, ...,  0.26014224,\n",
              "         -0.09791704,  0.05288183],\n",
              "        [-0.251088  , -0.12355748, -0.21592997, ...,  0.02846117,\n",
              "          0.01479924,  0.02598862],\n",
              "        [-0.03931063,  0.11131032,  0.01088768, ..., -0.17586827,\n",
              "         -0.15309584,  0.04545754],\n",
              "        ...,\n",
              "        [ 0.05908183,  0.08742712, -0.13295372, ...,  0.12764274,\n",
              "         -0.14885311, -0.00830085],\n",
              "        [-0.00845517, -0.01994353, -0.17599276, ...,  0.06576607,\n",
              "         -0.02670994,  0.11232179],\n",
              "        [-0.20860365,  0.08404357, -0.01528188, ..., -0.06090136,\n",
              "         -0.0163494 ,  0.08463825]], dtype=float32)>,\n",
              " <tf.Variable 'dense_layer_3/bias:0' shape=(10,) dtype=float32, numpy=\n",
              " array([ 0.06110889, -0.16465767, -0.10128739, -0.03438793, -0.03898931,\n",
              "        -0.12874751, -0.0863887 , -0.11065999,  0.37909007,  0.10005432],\n",
              "       dtype=float32)>]"
            ]
          },
          "metadata": {
            "tags": []
          },
          "execution_count": 49
        }
      ]
    },
    {
      "cell_type": "code",
      "metadata": {
        "id": "MnrRfeyJkQTS",
        "colab": {
          "base_uri": "https://localhost:8080/"
        },
        "outputId": "c2993b81-2351-4b7a-942a-dae80136d9ad"
      },
      "source": [
        "model_4.get_config()"
      ],
      "execution_count": null,
      "outputs": [
        {
          "output_type": "execute_result",
          "data": {
            "text/plain": [
              "{'layers': [{'class_name': 'InputLayer',\n",
              "   'config': {'batch_input_shape': (None, 784),\n",
              "    'dtype': 'float32',\n",
              "    'name': 'dense_layer_input',\n",
              "    'ragged': False,\n",
              "    'sparse': False}},\n",
              "  {'class_name': 'Dense',\n",
              "   'config': {'activation': 'relu',\n",
              "    'activity_regularizer': None,\n",
              "    'batch_input_shape': (None, 784),\n",
              "    'bias_constraint': None,\n",
              "    'bias_initializer': {'class_name': 'Zeros', 'config': {}},\n",
              "    'bias_regularizer': None,\n",
              "    'dtype': 'float32',\n",
              "    'kernel_constraint': None,\n",
              "    'kernel_initializer': {'class_name': 'GlorotUniform',\n",
              "     'config': {'seed': None}},\n",
              "    'kernel_regularizer': None,\n",
              "    'name': 'dense_layer',\n",
              "    'trainable': True,\n",
              "    'units': 512,\n",
              "    'use_bias': True}},\n",
              "  {'class_name': 'Dropout',\n",
              "   'config': {'dtype': 'float32',\n",
              "    'name': 'dropout_4',\n",
              "    'noise_shape': None,\n",
              "    'rate': 0.3,\n",
              "    'seed': None,\n",
              "    'trainable': True}},\n",
              "  {'class_name': 'Dense',\n",
              "   'config': {'activation': 'relu',\n",
              "    'activity_regularizer': None,\n",
              "    'bias_constraint': None,\n",
              "    'bias_initializer': {'class_name': 'Zeros', 'config': {}},\n",
              "    'bias_regularizer': None,\n",
              "    'dtype': 'float32',\n",
              "    'kernel_constraint': None,\n",
              "    'kernel_initializer': {'class_name': 'GlorotUniform',\n",
              "     'config': {'seed': None}},\n",
              "    'kernel_regularizer': None,\n",
              "    'name': 'dense_layer_2',\n",
              "    'trainable': True,\n",
              "    'units': 512,\n",
              "    'use_bias': True}},\n",
              "  {'class_name': 'Dropout',\n",
              "   'config': {'dtype': 'float32',\n",
              "    'name': 'dropout_5',\n",
              "    'noise_shape': None,\n",
              "    'rate': 0.3,\n",
              "    'seed': None,\n",
              "    'trainable': True}},\n",
              "  {'class_name': 'Dense',\n",
              "   'config': {'activation': 'softmax',\n",
              "    'activity_regularizer': None,\n",
              "    'bias_constraint': None,\n",
              "    'bias_initializer': {'class_name': 'Zeros', 'config': {}},\n",
              "    'bias_regularizer': None,\n",
              "    'dtype': 'float32',\n",
              "    'kernel_constraint': None,\n",
              "    'kernel_initializer': {'class_name': 'GlorotUniform',\n",
              "     'config': {'seed': None}},\n",
              "    'kernel_regularizer': None,\n",
              "    'name': 'dense_layer_3',\n",
              "    'trainable': True,\n",
              "    'units': 10,\n",
              "    'use_bias': True}}],\n",
              " 'name': 'sequential_4'}"
            ]
          },
          "metadata": {
            "tags": []
          },
          "execution_count": 50
        }
      ]
    },
    {
      "cell_type": "markdown",
      "metadata": {
        "id": "AFbx6XHI0KyQ"
      },
      "source": [
        "###Improved Model 5: Manipulating the batch size"
      ]
    },
    {
      "cell_type": "code",
      "metadata": {
        "id": "WPaQm2XY0KyV"
      },
      "source": [
        "#Most common type of model is a stack of layers\n",
        "model_5 = tf.keras.Sequential()\n",
        "N_hidden = 512\n",
        "# Adds a densely-connected layer with 64 units to the model:\n",
        "model_5.add(Dense(N_hidden, name='dense_layer', input_shape=(784,), activation = 'relu'))\n",
        "# Now the model will take as input arrays of shape (*, 784)# and output arrays of shape (*, 64)\n",
        "model_5.add(Dropout(0.3))\n",
        "# Adding another dense layer:\n",
        "model_5.add(Dense(N_hidden, name='dense_layer_2', activation='relu'))\n",
        "model_5.add(Dropout(0.3))\n",
        "# After the first layer, you don't need to specify\u000b# the size of the input anymore:\n",
        "# Add an output layer with 10 output units (10 different classes):\n",
        "model_5.add(Dense(10, name='dense_layer_3', activation = 'softmax'))\n"
      ],
      "execution_count": null,
      "outputs": []
    },
    {
      "cell_type": "code",
      "metadata": {
        "id": "UWFjgHFj0Kyg"
      },
      "source": [
        "# Compiling the model.\n",
        "model_5.compile(optimizer='Adam', \n",
        "              loss='categorical_crossentropy',\n",
        "              metrics=['accuracy'])"
      ],
      "execution_count": null,
      "outputs": []
    },
    {
      "cell_type": "code",
      "metadata": {
        "colab": {
          "base_uri": "https://localhost:8080/"
        },
        "id": "opXV9TbQ0Kyl",
        "outputId": "85ece7e3-89c3-4457-f8d3-4aab8eeab94b"
      },
      "source": [
        "# Training the model. \n",
        "training = model_5.fit(X_train, Y_train, batch_size=64, epochs=30, validation_split=0.2) \n"
      ],
      "execution_count": null,
      "outputs": [
        {
          "output_type": "stream",
          "text": [
            "Epoch 1/30\n",
            "750/750 [==============================] - 2s 2ms/step - loss: 0.2700 - accuracy: 0.9184 - val_loss: 0.1309 - val_accuracy: 0.9603\n",
            "Epoch 2/30\n",
            "750/750 [==============================] - 2s 2ms/step - loss: 0.1236 - accuracy: 0.9624 - val_loss: 0.0942 - val_accuracy: 0.9707\n",
            "Epoch 3/30\n",
            "750/750 [==============================] - 2s 2ms/step - loss: 0.0936 - accuracy: 0.9709 - val_loss: 0.0790 - val_accuracy: 0.9762\n",
            "Epoch 4/30\n",
            "750/750 [==============================] - 2s 2ms/step - loss: 0.0757 - accuracy: 0.9761 - val_loss: 0.0874 - val_accuracy: 0.9736\n",
            "Epoch 5/30\n",
            "750/750 [==============================] - 2s 2ms/step - loss: 0.0642 - accuracy: 0.9796 - val_loss: 0.0823 - val_accuracy: 0.9751\n",
            "Epoch 6/30\n",
            "750/750 [==============================] - 2s 2ms/step - loss: 0.0578 - accuracy: 0.9824 - val_loss: 0.0762 - val_accuracy: 0.9787\n",
            "Epoch 7/30\n",
            "750/750 [==============================] - 2s 2ms/step - loss: 0.0500 - accuracy: 0.9837 - val_loss: 0.0763 - val_accuracy: 0.9773\n",
            "Epoch 8/30\n",
            "750/750 [==============================] - 2s 2ms/step - loss: 0.0465 - accuracy: 0.9851 - val_loss: 0.0816 - val_accuracy: 0.9776\n",
            "Epoch 9/30\n",
            "750/750 [==============================] - 2s 2ms/step - loss: 0.0488 - accuracy: 0.9841 - val_loss: 0.0829 - val_accuracy: 0.9771\n",
            "Epoch 10/30\n",
            "750/750 [==============================] - 2s 2ms/step - loss: 0.0378 - accuracy: 0.9881 - val_loss: 0.0810 - val_accuracy: 0.9797\n",
            "Epoch 11/30\n",
            "750/750 [==============================] - 2s 2ms/step - loss: 0.0364 - accuracy: 0.9879 - val_loss: 0.0818 - val_accuracy: 0.9798\n",
            "Epoch 12/30\n",
            "750/750 [==============================] - 2s 2ms/step - loss: 0.0353 - accuracy: 0.9885 - val_loss: 0.0863 - val_accuracy: 0.9787\n",
            "Epoch 13/30\n",
            "750/750 [==============================] - 2s 2ms/step - loss: 0.0377 - accuracy: 0.9881 - val_loss: 0.0933 - val_accuracy: 0.9780\n",
            "Epoch 14/30\n",
            "750/750 [==============================] - 2s 2ms/step - loss: 0.0331 - accuracy: 0.9895 - val_loss: 0.0864 - val_accuracy: 0.9802\n",
            "Epoch 15/30\n",
            "750/750 [==============================] - 2s 2ms/step - loss: 0.0291 - accuracy: 0.9908 - val_loss: 0.1014 - val_accuracy: 0.9770\n",
            "Epoch 16/30\n",
            "750/750 [==============================] - 2s 2ms/step - loss: 0.0280 - accuracy: 0.9907 - val_loss: 0.0927 - val_accuracy: 0.9794\n",
            "Epoch 17/30\n",
            "750/750 [==============================] - 2s 2ms/step - loss: 0.0304 - accuracy: 0.9904 - val_loss: 0.0886 - val_accuracy: 0.9812\n",
            "Epoch 18/30\n",
            "750/750 [==============================] - 2s 2ms/step - loss: 0.0294 - accuracy: 0.9903 - val_loss: 0.1028 - val_accuracy: 0.9795\n",
            "Epoch 19/30\n",
            "750/750 [==============================] - 2s 2ms/step - loss: 0.0249 - accuracy: 0.9925 - val_loss: 0.0891 - val_accuracy: 0.9814\n",
            "Epoch 20/30\n",
            "750/750 [==============================] - 2s 2ms/step - loss: 0.0261 - accuracy: 0.9920 - val_loss: 0.0950 - val_accuracy: 0.9806\n",
            "Epoch 21/30\n",
            "750/750 [==============================] - 2s 3ms/step - loss: 0.0254 - accuracy: 0.9924 - val_loss: 0.0916 - val_accuracy: 0.9810\n",
            "Epoch 22/30\n",
            "750/750 [==============================] - 2s 3ms/step - loss: 0.0274 - accuracy: 0.9918 - val_loss: 0.0854 - val_accuracy: 0.9815\n",
            "Epoch 23/30\n",
            "750/750 [==============================] - 2s 3ms/step - loss: 0.0261 - accuracy: 0.9919 - val_loss: 0.0899 - val_accuracy: 0.9822\n",
            "Epoch 24/30\n",
            "750/750 [==============================] - 2s 3ms/step - loss: 0.0220 - accuracy: 0.9929 - val_loss: 0.0987 - val_accuracy: 0.9819\n",
            "Epoch 25/30\n",
            "750/750 [==============================] - 2s 3ms/step - loss: 0.0243 - accuracy: 0.9920 - val_loss: 0.1047 - val_accuracy: 0.9822\n",
            "Epoch 26/30\n",
            "750/750 [==============================] - 2s 2ms/step - loss: 0.0241 - accuracy: 0.9930 - val_loss: 0.1063 - val_accuracy: 0.9799\n",
            "Epoch 27/30\n",
            "750/750 [==============================] - 2s 2ms/step - loss: 0.0224 - accuracy: 0.9931 - val_loss: 0.1157 - val_accuracy: 0.9804\n",
            "Epoch 28/30\n",
            "750/750 [==============================] - 2s 2ms/step - loss: 0.0237 - accuracy: 0.9932 - val_loss: 0.1053 - val_accuracy: 0.9817\n",
            "Epoch 29/30\n",
            "750/750 [==============================] - 2s 2ms/step - loss: 0.0221 - accuracy: 0.9935 - val_loss: 0.1089 - val_accuracy: 0.9826\n",
            "Epoch 30/30\n",
            "750/750 [==============================] - 2s 2ms/step - loss: 0.0224 - accuracy: 0.9934 - val_loss: 0.1120 - val_accuracy: 0.9817\n"
          ],
          "name": "stdout"
        }
      ]
    },
    {
      "cell_type": "code",
      "metadata": {
        "colab": {
          "base_uri": "https://localhost:8080/",
          "height": 590
        },
        "id": "UHMf1HAskp9n",
        "outputId": "e6075e88-b827-451f-a709-1616c4512335"
      },
      "source": [
        "import matplotlib.pyplot as plt\n",
        "%matplotlib inline\n",
        "# list all data in training\n",
        "print(training.history.keys())\n",
        "# summarize training for accuracy\n",
        "plt.plot(training.history['accuracy'])\n",
        "plt.plot(training.history['val_accuracy'])\n",
        "plt.title('model accuracy')\n",
        "plt.ylabel('accuracy')\n",
        "plt.xlabel('epoch')\n",
        "plt.legend(['train', 'test'], loc='upper left')\n",
        "plt.show()\n",
        "# summarize traning for loss\n",
        "plt.plot(training.history['loss'])\n",
        "plt.plot(training.history['val_loss'])\n",
        "plt.title('model loss')\n",
        "plt.ylabel('loss')\n",
        "plt.xlabel('epoch')\n",
        "plt.legend(['train', 'test'], loc='upper left')\n",
        "plt.show()"
      ],
      "execution_count": null,
      "outputs": [
        {
          "output_type": "stream",
          "text": [
            "dict_keys(['loss', 'accuracy', 'val_loss', 'val_accuracy'])\n"
          ],
          "name": "stdout"
        },
        {
          "output_type": "display_data",
          "data": {
            "image/png": "[encoded data removed]",
            "text/plain": [
              "<Figure size 432x288 with 1 Axes>"
            ]
          },
          "metadata": {
            "tags": [],
            "needs_background": "light"
          }
        },
        {
          "output_type": "display_data",
          "data": {
            "image/png": "[encoded data removed]",
            "text/plain": [
              "<Figure size 432x288 with 1 Axes>"
            ]
          },
          "metadata": {
            "tags": [],
            "needs_background": "light"
          }
        }
      ]
    },
    {
      "cell_type": "code",
      "metadata": {
        "colab": {
          "base_uri": "https://localhost:8080/"
        },
        "id": "e4kmSKEn0Kyv",
        "outputId": "44e37588-5160-4782-885c-4986649c5a2b"
      },
      "source": [
        "#evaluate the model\n",
        "test_loss, test_acc = model_5.evaluate(X_test, Y_test)\n",
        "print('Test accuracy:', test_acc)"
      ],
      "execution_count": null,
      "outputs": [
        {
          "output_type": "stream",
          "text": [
            "313/313 [==============================] - 1s 2ms/step - loss: 0.0823 - accuracy: 0.9833\n",
            "Test accuracy: 0.983299970626831\n"
          ],
          "name": "stdout"
        }
      ]
    },
    {
      "cell_type": "code",
      "metadata": {
        "colab": {
          "base_uri": "https://localhost:8080/"
        },
        "id": "LVr1ZMvnkp92",
        "outputId": "b83fbb3c-2657-429e-b9b8-77f813789a89"
      },
      "source": [
        "model_5.summary()"
      ],
      "execution_count": null,
      "outputs": [
        {
          "output_type": "stream",
          "text": [
            "Model: \"sequential_5\"\n",
            "_________________________________________________________________\n",
            "Layer (type)                 Output Shape              Param #   \n",
            "=================================================================\n",
            "dense_layer (Dense)          (None, 512)               401920    \n",
            "_________________________________________________________________\n",
            "dropout_6 (Dropout)          (None, 512)               0         \n",
            "_________________________________________________________________\n",
            "dense_layer_2 (Dense)        (None, 512)               262656    \n",
            "_________________________________________________________________\n",
            "dropout_7 (Dropout)          (None, 512)               0         \n",
            "_________________________________________________________________\n",
            "dense_layer_3 (Dense)        (None, 10)                5130      \n",
            "=================================================================\n",
            "Total params: 669,706\n",
            "Trainable params: 669,706\n",
            "Non-trainable params: 0\n",
            "_________________________________________________________________\n"
          ],
          "name": "stdout"
        }
      ]
    },
    {
      "cell_type": "code",
      "metadata": {
        "colab": {
          "base_uri": "https://localhost:8080/"
        },
        "id": "j76rvRmxkp-C",
        "outputId": "28e080d5-f65b-4e0e-c07c-aa21a8c4a9c3"
      },
      "source": [
        "model_5.weights"
      ],
      "execution_count": null,
      "outputs": [
        {
          "output_type": "execute_result",
          "data": {
            "text/plain": [
              "[<tf.Variable 'dense_layer/kernel:0' shape=(784, 512) dtype=float32, numpy=\n",
              " array([[-0.06593259,  0.03519005,  0.06677879, ...,  0.04077786,\n",
              "          0.02049432,  0.0265032 ],\n",
              "        [-0.02560719, -0.05702535, -0.0067075 , ...,  0.01097006,\n",
              "         -0.01621148, -0.03953826],\n",
              "        [-0.02265137, -0.03745953,  0.01783728, ...,  0.01726241,\n",
              "         -0.0553051 , -0.0358069 ],\n",
              "        ...,\n",
              "        [-0.06117092, -0.01791726, -0.0537577 , ..., -0.04438885,\n",
              "          0.04422494,  0.01158344],\n",
              "        [ 0.03987152,  0.0121283 ,  0.00418137, ...,  0.04135013,\n",
              "         -0.03672458, -0.0162241 ],\n",
              "        [ 0.02718371, -0.06355805,  0.03283341, ...,  0.02107023,\n",
              "          0.04659288,  0.05687013]], dtype=float32)>,\n",
              " <tf.Variable 'dense_layer/bias:0' shape=(512,) dtype=float32, numpy=\n",
              " array([-3.87562700e-02, -2.68058497e-02, -1.59374997e-01,  2.13728007e-02,\n",
              "        -8.63048360e-02,  8.31230953e-02, -6.20678626e-02, -1.33352280e-02,\n",
              "         5.08209728e-02, -7.81770423e-02, -1.44056872e-01, -2.49089420e-01,\n",
              "        -9.46706533e-02,  1.62227787e-02, -4.18883227e-02, -7.67128309e-04,\n",
              "        -1.13909543e-01,  8.12920257e-02,  6.32675663e-02, -1.63872316e-01,\n",
              "         2.35162526e-02, -1.62444830e-01, -3.27398814e-02, -3.24186645e-02,\n",
              "        -4.12891917e-02, -3.81764397e-02, -6.47312403e-02, -5.63026443e-02,\n",
              "         8.71867407e-03, -8.69505852e-02, -1.33685961e-01, -3.30959260e-01,\n",
              "        -5.23208641e-02, -2.03269441e-02, -5.82751818e-02,  7.24419951e-02,\n",
              "        -1.60164505e-01,  2.38811839e-02, -5.57539873e-02, -6.75264979e-04,\n",
              "         2.85656229e-02, -7.84001946e-02, -3.86559293e-02, -9.84854996e-02,\n",
              "        -2.84434497e-01, -9.47453082e-02, -9.32402313e-02, -1.02152757e-01,\n",
              "        -1.15578815e-01, -7.40684345e-02,  2.44222004e-02, -9.29052681e-02,\n",
              "        -1.02892779e-01, -1.47657290e-01, -2.18155310e-01,  6.02588281e-02,\n",
              "        -1.90280542e-01, -6.11347109e-02, -9.27930772e-02,  6.49288297e-02,\n",
              "        -1.18849896e-01, -7.37168565e-02,  2.82690655e-02,  7.94525519e-02,\n",
              "        -5.18353358e-02, -8.09944794e-02,  3.13510448e-02, -4.57289591e-02,\n",
              "        -1.87781066e-01, -1.20680012e-01, -9.39079002e-02, -7.23766387e-02,\n",
              "        -5.57937026e-02, -6.23338670e-03, -3.51121053e-02, -4.87993620e-02,\n",
              "        -2.58821175e-02,  8.98525119e-02, -3.27911205e-03, -1.53053418e-01,\n",
              "        -6.60550222e-02, -7.21948892e-02,  4.09188904e-02, -6.84965476e-02,\n",
              "         2.58916020e-02, -1.53693989e-01, -2.69381329e-03, -3.70650552e-02,\n",
              "         2.75922157e-02,  9.01406780e-02, -7.46772960e-02,  4.53803465e-02,\n",
              "         2.00246796e-02,  4.70486432e-02, -1.83100447e-01, -6.22264929e-02,\n",
              "        -1.50252938e-01,  6.51510386e-03, -3.93100232e-02, -1.48245320e-01,\n",
              "        -2.36373991e-02, -1.46236956e-01, -5.62437139e-02, -1.41179143e-02,\n",
              "        -2.08983445e-04,  4.41725813e-02, -7.35494718e-02,  1.80697560e-01,\n",
              "        -4.50048186e-02, -6.75094202e-02, -3.10553685e-02, -9.57557280e-03,\n",
              "        -1.06667817e-01, -6.74577057e-02, -1.21180534e-01, -4.51002531e-02,\n",
              "        -7.11629540e-02,  1.15766292e-02, -7.84739330e-02, -1.48432136e-01,\n",
              "        -1.04658984e-01,  3.09522785e-02, -2.54986901e-02,  1.61542539e-02,\n",
              "        -1.72969289e-02,  1.05557375e-01, -2.12109193e-01, -8.49160925e-02,\n",
              "        -1.32887632e-01, -1.21555910e-01, -7.46993646e-02, -1.54634476e-01,\n",
              "         1.35913923e-01, -3.22635993e-02, -4.72836047e-02,  1.95328146e-02,\n",
              "        -3.48518081e-02,  2.92468742e-02,  5.83499037e-02, -2.79139169e-02,\n",
              "        -9.21469554e-02, -3.75342928e-02, -8.32787603e-02, -5.37619926e-02,\n",
              "        -8.82752463e-02,  7.63419271e-02, -6.74016476e-02, -2.68652234e-02,\n",
              "        -3.12532089e-03, -1.98418386e-02, -1.26733407e-02, -6.20912760e-02,\n",
              "        -3.95992137e-02, -7.83358812e-02, -1.49392128e-01,  3.53998952e-02,\n",
              "         1.37594432e-01, -4.30366285e-02,  1.67067070e-02, -2.31501862e-01,\n",
              "        -8.04535002e-02, -8.09116811e-02,  3.32384780e-02, -1.03101045e-01,\n",
              "        -7.55074173e-02, -2.76332777e-02, -1.47316784e-01,  3.53151113e-02,\n",
              "        -2.36589704e-02, -1.30298942e-01,  1.02395816e-02, -1.24251984e-01,\n",
              "        -2.29402911e-02, -7.19095841e-02,  6.13709539e-03, -9.56284031e-02,\n",
              "        -1.23686060e-01,  1.96904987e-01,  1.13420576e-01,  3.63974422e-02,\n",
              "        -6.01400845e-02,  1.03121161e-01, -2.75050491e-01, -2.61822138e-02,\n",
              "         6.51765019e-02, -1.58447057e-01, -1.50157973e-01,  1.73135981e-01,\n",
              "        -2.42544170e-02, -1.74144581e-02, -9.43536088e-02, -1.96891427e-01,\n",
              "        -2.99197286e-02,  1.63988452e-02, -1.23662099e-01,  2.16196496e-02,\n",
              "         5.85294887e-03, -7.53512904e-02, -9.72802788e-02,  2.27673035e-02,\n",
              "        -6.37130663e-02, -5.93396984e-02, -1.47142574e-01, -1.24968402e-01,\n",
              "        -1.73649173e-02, -1.21406533e-01,  1.11150444e-01,  6.89823702e-02,\n",
              "         1.15713023e-01, -8.97371992e-02,  3.65508255e-03,  3.08244471e-02,\n",
              "        -1.24239318e-01, -4.69990708e-02, -2.49175310e-01, -1.09296367e-01,\n",
              "        -4.06969935e-02, -6.62759691e-02, -1.40813366e-01,  5.37420419e-06,\n",
              "        -4.20964882e-02, -4.51806895e-02, -3.84416692e-02, -1.64030418e-01,\n",
              "        -1.33947164e-01, -3.04223914e-02, -7.39722699e-02, -2.61986926e-02,\n",
              "        -9.96679813e-02,  4.83465716e-02,  7.50873536e-02, -1.26459882e-01,\n",
              "         9.44803655e-02, -4.07719612e-02,  9.28435400e-02, -1.41129047e-01,\n",
              "        -9.18411091e-02, -1.33295551e-01,  2.61206808e-03, -1.45766428e-02,\n",
              "        -1.04135588e-01, -4.08078656e-02,  9.65321343e-03, -3.51503752e-02,\n",
              "        -2.26047367e-01, -6.24449328e-02, -1.55018464e-01, -1.30217284e-01,\n",
              "         4.29911092e-02, -3.85970883e-02, -5.58625199e-02,  3.39644466e-04,\n",
              "        -6.08105808e-02, -1.03410915e-01,  4.23552021e-02, -5.87523133e-02,\n",
              "        -1.96739435e-01, -8.65577757e-02, -8.16515982e-02, -7.01625124e-02,\n",
              "        -2.78601907e-02, -1.18816318e-02, -4.00890894e-02, -4.66233827e-02,\n",
              "        -1.24192886e-01, -4.59520891e-02, -2.86436770e-02, -1.29883429e-02,\n",
              "        -3.00237183e-02, -1.55117819e-02, -1.06170755e-02, -6.84777573e-02,\n",
              "        -1.89264134e-01, -1.79700017e-01, -1.34781124e-02, -5.71419448e-02,\n",
              "         3.14214975e-02,  5.05199246e-02,  1.70811992e-02, -8.61317441e-02,\n",
              "         1.14791337e-02, -2.53635459e-02,  1.30888641e-01, -6.33574277e-02,\n",
              "         3.83012258e-02, -2.04401501e-02, -1.68731362e-02, -7.22974986e-02,\n",
              "        -3.80394273e-02, -6.65026158e-02, -9.14191753e-02,  1.97088532e-02,\n",
              "        -4.89095636e-02, -6.29687756e-02, -8.28241780e-02,  8.36219341e-02,\n",
              "        -3.01342458e-02, -4.26323041e-02,  2.83137243e-02, -6.91755190e-02,\n",
              "         7.52595589e-02,  5.84656037e-02,  2.47292574e-02, -1.06382810e-01,\n",
              "        -1.27264261e-01, -5.26944995e-02, -1.50034606e-01, -1.62134007e-01,\n",
              "         7.99950585e-02, -1.89711511e-01, -1.00731120e-01, -2.14989092e-02,\n",
              "        -8.28370079e-02,  7.72845298e-02, -6.07489906e-02,  3.08700502e-02,\n",
              "         3.88290472e-02, -9.04709622e-02, -8.01993236e-02, -2.78017730e-01,\n",
              "        -4.45181318e-02, -2.05608364e-02, -5.91415837e-02, -9.02229100e-02,\n",
              "         3.97358164e-02, -2.68928930e-02, -2.03591451e-01, -5.74162751e-02,\n",
              "        -9.25472304e-02, -1.01681054e-01, -1.74116313e-01,  6.85670078e-02,\n",
              "        -6.14604838e-02, -9.08696502e-02,  1.78435631e-02, -2.70988736e-02,\n",
              "         1.38284534e-01, -7.75953680e-02,  1.21679446e-02, -6.11806922e-02,\n",
              "        -1.57216787e-02,  4.63036671e-02, -4.13956307e-02, -1.60259202e-01,\n",
              "        -1.17033139e-01, -2.06811965e-01, -9.92325768e-02, -1.03239819e-01,\n",
              "        -9.55549926e-02, -9.94272437e-03,  4.48617935e-02, -8.19357634e-02,\n",
              "        -4.86602522e-02, -8.29358622e-02,  3.28732617e-02, -5.63030653e-02,\n",
              "         2.31482871e-02, -6.22565188e-02, -1.11552246e-04, -2.59367679e-03,\n",
              "         4.69458066e-02, -2.90118740e-03, -1.02739900e-01,  1.69202298e-01,\n",
              "         1.93511951e-03, -7.76201934e-02,  4.12738807e-02,  2.68357303e-02,\n",
              "        -1.77073911e-01, -1.54668018e-01, -8.71380493e-02,  8.77236947e-02,\n",
              "         7.66249523e-02, -4.98065203e-02, -1.11914024e-01, -1.55635402e-01,\n",
              "         4.43908013e-02, -1.43216997e-01,  1.95958689e-02,  2.77477480e-03,\n",
              "        -6.52158782e-02, -1.12869889e-01, -6.17920756e-02,  8.43526213e-04,\n",
              "        -3.52020711e-02,  1.37413316e-03, -1.69826403e-01,  1.06048025e-02,\n",
              "         3.50804143e-02, -5.24838120e-02, -5.64474463e-02, -1.57653406e-01,\n",
              "        -1.02428101e-01,  1.71024259e-03, -1.72769696e-01, -2.63357610e-02,\n",
              "        -1.13747910e-01,  4.23357412e-02, -1.27560452e-01, -2.38508314e-01,\n",
              "        -7.06543326e-02, -3.91971432e-02, -2.92657521e-02, -1.17981784e-01,\n",
              "        -1.22720838e-01,  2.92434935e-02,  3.87986675e-02, -1.99698098e-02,\n",
              "         9.16703194e-02, -3.80924046e-02, -7.51204342e-02, -1.22476749e-01,\n",
              "        -5.54142222e-02, -6.50389493e-02, -1.38150185e-01, -1.09010994e-01,\n",
              "        -8.59047994e-02,  2.30663363e-02,  7.85780698e-02, -6.41985908e-02,\n",
              "        -7.31994510e-02,  2.29796916e-01, -3.74503061e-02, -1.33120537e-01,\n",
              "         3.98640484e-02, -1.32219106e-01, -5.19503839e-02, -1.06875850e-02,\n",
              "        -1.16687782e-01, -1.77745268e-01, -1.87069163e-01, -5.74503988e-02,\n",
              "         3.15527692e-02, -1.28129423e-01,  9.08308774e-02, -1.77766770e-01,\n",
              "        -1.18698724e-01, -1.77757159e-01, -6.51975395e-03, -1.13674283e-01,\n",
              "        -8.26333687e-02, -1.53192297e-01, -8.75483751e-02, -7.32204691e-02,\n",
              "         1.42390430e-01, -1.59576476e-01, -6.03145696e-02,  2.74455938e-02,\n",
              "        -8.78018793e-03, -3.61152440e-02, -4.02897503e-03, -1.70329824e-01,\n",
              "        -2.31619682e-02, -6.04699738e-02, -9.84274223e-02,  1.15308762e-02,\n",
              "        -1.65877700e-01, -2.42228478e-01, -1.19121946e-01, -1.17626712e-01,\n",
              "        -1.29023269e-01, -1.07359521e-01, -2.31447130e-01,  5.96194528e-02,\n",
              "         6.69952258e-02, -5.41353785e-02, -9.36109275e-02, -2.72538438e-02,\n",
              "        -8.85919780e-02, -1.55165061e-01, -2.82558501e-02,  7.71762524e-03,\n",
              "        -2.72576250e-02, -4.41960655e-02,  6.98553994e-02, -7.69581944e-02,\n",
              "         8.40245634e-02, -1.41965032e-01, -7.05539286e-02,  6.91019818e-02,\n",
              "        -5.66862291e-03, -6.55584484e-02, -6.88783675e-02,  4.06486280e-02,\n",
              "        -2.21591499e-02, -2.98965853e-02, -8.17573369e-02, -6.92804530e-02,\n",
              "        -3.07895914e-02, -5.45612536e-02, -7.52088875e-02,  2.80291471e-03,\n",
              "         3.39249112e-02,  4.18569446e-02, -1.11418106e-01, -1.82857662e-01,\n",
              "         3.04684341e-02, -1.22429378e-01, -1.56514477e-02,  1.00484408e-01,\n",
              "        -1.93678603e-01,  6.13691518e-03, -1.54722750e-01, -1.44221827e-01,\n",
              "        -3.18690315e-02, -1.86037332e-01, -6.59667179e-02,  8.00616050e-04,\n",
              "        -1.63728774e-01, -1.63761992e-02,  6.57766766e-04, -2.27212757e-01],\n",
              "       dtype=float32)>,\n",
              " <tf.Variable 'dense_layer_2/kernel:0' shape=(512, 512) dtype=float32, numpy=\n",
              " array([[-0.2928992 , -0.18367364,  0.09986313, ..., -0.17903438,\n",
              "         -0.05025876,  0.10264402],\n",
              "        [-0.09415066, -0.09398935,  0.02694911, ..., -0.02133439,\n",
              "         -0.29218063, -0.14634617],\n",
              "        [ 0.01982727,  0.05530681, -0.08229458, ...,  0.05336897,\n",
              "          0.09786341, -0.0643389 ],\n",
              "        ...,\n",
              "        [ 0.07536744, -0.19716635,  0.09079377, ...,  0.04840589,\n",
              "         -0.03409896, -0.18269372],\n",
              "        [ 0.01073941, -0.10484255, -0.23275346, ...,  0.13074325,\n",
              "          0.1273735 , -0.17065258],\n",
              "        [-0.2576304 ,  0.10194852, -0.17913567, ...,  0.0973587 ,\n",
              "          0.0121945 , -0.02788093]], dtype=float32)>,\n",
              " <tf.Variable 'dense_layer_2/bias:0' shape=(512,) dtype=float32, numpy=\n",
              " array([-3.27701688e-01, -1.14209764e-01, -2.11420149e-01, -7.70932809e-02,\n",
              "        -1.77088037e-01, -3.34839404e-01, -1.49751738e-01, -4.19164240e-01,\n",
              "        -6.41196296e-02, -1.62648991e-01, -1.36655763e-01, -7.48563036e-02,\n",
              "         2.35652179e-01,  1.07917283e-03,  9.06300619e-02,  1.26954168e-01,\n",
              "        -7.21426234e-02, -8.04316029e-02, -5.81831613e-04,  2.66530931e-01,\n",
              "         7.45404437e-02,  7.51084788e-03, -2.01184284e-02, -1.94371417e-01,\n",
              "        -1.33472681e-01, -2.18893901e-01, -2.13911533e-01, -7.62278214e-02,\n",
              "        -8.75134096e-02, -5.20408042e-02, -7.98616186e-02, -1.81270659e-01,\n",
              "         1.67203382e-01, -2.58651972e-01, -2.14693919e-01, -1.29447237e-01,\n",
              "        -1.61057442e-01, -1.01318635e-01, -3.39149177e-01, -1.92458451e-01,\n",
              "        -2.49903604e-01,  2.48277351e-01,  1.97812244e-01, -1.56660125e-01,\n",
              "        -1.85332850e-01, -1.47525407e-02, -1.20233797e-01,  1.09055862e-01,\n",
              "        -2.01307535e-02,  2.23614108e-02, -1.69608399e-01, -3.53672594e-01,\n",
              "        -1.59729272e-02, -2.18082830e-01, -2.05503911e-01, -2.37748355e-01,\n",
              "         6.30894899e-02, -4.38379765e-01, -6.72810897e-02,  2.36691907e-01,\n",
              "        -1.12232134e-01,  2.90668979e-02, -1.73632994e-01, -2.90114552e-01,\n",
              "        -1.48999557e-01, -2.34343350e-01, -1.02626443e-01, -8.36034641e-02,\n",
              "        -1.29038104e-04, -8.98169875e-02, -5.97913973e-02, -2.04943195e-01,\n",
              "        -1.14503495e-01,  8.02429989e-02,  3.51754911e-02, -1.62855610e-01,\n",
              "        -2.16384396e-01, -2.41629228e-01,  9.19549633e-03,  2.42254198e-01,\n",
              "        -1.94228441e-01, -2.89023407e-02, -6.47945032e-02,  4.98059168e-02,\n",
              "         1.28457472e-01, -9.15760323e-02, -1.30521208e-01, -2.18797863e-01,\n",
              "        -9.82288122e-02, -8.23908001e-02, -2.85485893e-01, -1.54483348e-01,\n",
              "         5.50166555e-02, -1.38671756e-01, -1.72760710e-01, -1.36150718e-01,\n",
              "        -2.35415548e-01, -2.89639652e-01, -7.25731999e-02,  9.08236057e-02,\n",
              "        -9.67902616e-02, -1.32152457e-02,  5.30497357e-03,  4.07831013e-01,\n",
              "        -3.24302882e-01, -2.66654491e-01, -8.32230896e-02,  5.44842966e-02,\n",
              "        -1.19776994e-01,  1.99971259e-01,  1.58315957e-01,  3.71179134e-02,\n",
              "        -8.77062529e-02, -8.60487521e-02,  1.81333302e-03,  2.10590973e-01,\n",
              "        -3.86597663e-01,  2.45128363e-01, -5.31208813e-01, -6.97789714e-02,\n",
              "        -2.33711109e-01,  1.14818044e-01, -6.54926971e-02, -9.08726752e-02,\n",
              "        -3.07859331e-01, -1.99155658e-01, -1.76323757e-01, -1.68730188e-02,\n",
              "         9.88609865e-02, -1.07188240e-01,  1.71258561e-02, -2.85706669e-01,\n",
              "        -3.47467422e-01, -5.60083576e-02, -4.23451923e-02, -8.76402482e-02,\n",
              "         1.18251413e-01, -4.49786568e-03, -1.98686540e-01,  5.92714846e-02,\n",
              "         1.82499468e-01, -1.42635122e-01, -1.95919290e-01,  1.66829064e-01,\n",
              "        -1.68985054e-01,  3.76610383e-02, -7.47158900e-02, -2.94009984e-01,\n",
              "        -1.74465597e-01,  9.06447098e-02, -6.64483905e-02,  1.92466319e-01,\n",
              "        -2.05443054e-01,  2.34203368e-01,  1.93979844e-01,  8.16976931e-03,\n",
              "         1.07782200e-01,  3.56083214e-02,  1.35239407e-01,  1.66340694e-01,\n",
              "        -1.08454656e-02, -9.29700285e-02,  2.02994078e-01, -1.09991580e-01,\n",
              "        -8.72308686e-02,  9.40754041e-02, -2.32540950e-01, -1.24786973e-01,\n",
              "        -3.38871390e-01, -1.10365637e-01,  5.68437763e-02, -1.25054672e-01,\n",
              "        -1.00330301e-01,  1.04584202e-01,  9.01105925e-02, -1.36871859e-01,\n",
              "         2.40194812e-01,  1.83732957e-02,  7.14354888e-02, -5.05677722e-02,\n",
              "        -2.71141887e-01,  1.17196240e-01, -8.59430432e-03, -6.87400550e-02,\n",
              "        -1.82321236e-01, -1.19805582e-01,  4.57341559e-02, -1.96340725e-01,\n",
              "         1.80048749e-01, -1.99165568e-01, -2.30539605e-01,  3.11619807e-02,\n",
              "         3.97426970e-02,  2.14682415e-01, -2.36065924e-01,  2.32448298e-02,\n",
              "        -2.08519682e-01,  1.28207490e-01,  2.25212350e-01, -1.88364983e-02,\n",
              "        -4.12117764e-02, -2.09078774e-01, -1.23187862e-01, -9.12220478e-02,\n",
              "         2.50376046e-01, -1.69349343e-01, -2.29108155e-01, -3.94447416e-01,\n",
              "         5.12709357e-02,  1.23563707e-01, -2.49101102e-01, -1.72328904e-01,\n",
              "         1.02962978e-01, -7.99623597e-03,  3.04782122e-01,  6.84772283e-02,\n",
              "        -1.23092063e-01, -2.39704162e-01,  4.75373901e-02, -9.00553446e-03,\n",
              "        -2.98380792e-01, -2.45444417e-01, -7.25789592e-02, -7.04738051e-02,\n",
              "        -2.87517071e-01, -3.22638482e-01, -3.23099703e-01,  9.02105048e-02,\n",
              "        -1.80369660e-01, -1.38097227e-01, -2.25761771e-01,  2.51883902e-02,\n",
              "        -1.49724454e-01, -1.02552593e-01,  2.41216198e-01,  2.08552424e-02,\n",
              "         7.79608963e-03,  4.82342653e-02, -2.19861139e-03, -1.79024264e-01,\n",
              "        -3.63994569e-01, -2.36707721e-02, -1.29365101e-01, -2.66508043e-01,\n",
              "        -2.35062525e-01, -1.95022281e-02, -1.11572988e-01, -3.31564933e-01,\n",
              "         6.58801422e-02, -1.65244102e-01,  1.28158346e-01, -1.01940446e-02,\n",
              "        -3.38851839e-01,  1.78839192e-01,  2.41668388e-01, -2.89891921e-02,\n",
              "        -1.19043961e-01, -4.83795907e-03, -2.46112317e-01, -2.04964280e-01,\n",
              "        -2.59922653e-01, -2.06416965e-01, -2.38009423e-01,  5.15454449e-02,\n",
              "        -2.69538850e-01, -1.13482423e-01, -1.08863479e-02, -2.52365321e-01,\n",
              "        -1.83634199e-02, -4.45062220e-02,  3.06899175e-02, -1.73722170e-02,\n",
              "        -1.63858116e-01,  3.09863985e-02, -2.31383339e-01,  2.00371683e-01,\n",
              "        -2.38273725e-01, -1.07497022e-01, -2.84391016e-01,  1.62695393e-01,\n",
              "        -3.77807528e-01, -1.06503084e-01, -2.30988353e-01,  5.58286905e-02,\n",
              "        -2.24672966e-02, -3.05033833e-01,  1.85198292e-01, -2.21469607e-02,\n",
              "        -2.11041495e-01,  1.66272014e-01, -2.25177109e-01, -9.51272100e-02,\n",
              "        -5.72618842e-03, -2.53605485e-01,  1.33910522e-01, -8.60460624e-02,\n",
              "         9.12233144e-02, -1.28170803e-01, -3.82364355e-02, -5.22404201e-02,\n",
              "        -2.36574188e-02, -1.91325441e-01, -2.30301768e-01, -2.16246814e-01,\n",
              "         5.90871833e-02, -1.60018981e-01, -1.22417316e-01,  2.81431496e-01,\n",
              "         9.37730297e-02, -2.58556753e-01,  8.80874023e-02, -1.98068529e-01,\n",
              "        -3.27900916e-01, -2.52075680e-02, -7.89605901e-02, -1.67049929e-01,\n",
              "        -5.86284138e-02, -1.26278803e-01, -1.52921140e-01, -6.16508201e-02,\n",
              "        -2.68501341e-01, -1.05959862e-01, -3.47433478e-01, -2.43103936e-01,\n",
              "        -1.73228458e-01, -1.12835564e-01,  1.02839351e-01, -1.17764659e-01,\n",
              "        -1.41585499e-01,  1.79662220e-02,  5.87845966e-02, -2.36721680e-01,\n",
              "        -3.12156558e-01, -1.23461179e-01, -3.82642925e-01, -2.20885694e-01,\n",
              "        -6.17857799e-02, -1.57104433e-01,  3.50333005e-01,  1.16150975e-01,\n",
              "        -9.79375988e-02,  6.33616149e-02, -7.76938647e-02, -1.85672939e-01,\n",
              "        -3.99170443e-02, -1.69111133e-01, -1.68872569e-02, -2.76807964e-01,\n",
              "        -1.39713198e-01,  9.48852152e-02, -1.59401461e-01, -2.09218219e-01,\n",
              "         1.33492470e-01,  8.09892863e-02, -7.64967129e-02, -1.67388543e-01,\n",
              "        -5.07813469e-02,  3.92929371e-03, -1.37375072e-01, -2.18667552e-01,\n",
              "        -3.28704834e-01,  8.78858194e-02, -2.89588630e-01, -2.65126675e-01,\n",
              "        -3.23494226e-01, -2.84306675e-01, -1.99119747e-01, -1.47214249e-01,\n",
              "         3.98314476e-01, -2.48291433e-01, -1.78385034e-01,  2.72975504e-01,\n",
              "        -5.05193323e-02, -8.68472904e-02, -6.62610959e-03, -1.14766762e-01,\n",
              "        -2.52708197e-01, -1.39957950e-01, -5.15166707e-02, -4.29705344e-02,\n",
              "        -1.74018875e-01,  1.17979467e-01,  3.13839912e-02, -1.07089460e-01,\n",
              "         9.29878429e-02, -2.20086932e-01, -4.51407284e-02, -3.39885950e-01,\n",
              "         1.40322208e-01, -1.32249013e-01, -2.20587716e-01, -3.91238257e-02,\n",
              "         1.62820693e-03,  1.85786903e-01,  1.61158249e-01, -3.22928101e-01,\n",
              "        -1.25167966e-01, -2.77073711e-01, -2.45848432e-01, -3.34572285e-01,\n",
              "        -2.60445327e-01, -1.47057623e-01, -1.06408723e-01, -2.48959631e-01,\n",
              "        -4.26094308e-02, -2.26137087e-01,  2.10811540e-01, -6.56249449e-02,\n",
              "        -1.66824922e-01, -4.39124733e-01,  3.01134497e-01, -4.97386158e-02,\n",
              "        -3.20642084e-01, -1.94994330e-01, -1.23303548e-01, -1.76896960e-01,\n",
              "        -1.90660492e-01, -1.34375721e-01, -4.19845395e-02, -3.44924964e-02,\n",
              "        -3.55052687e-02, -1.42877653e-01,  5.70625067e-02, -4.69772309e-01,\n",
              "         1.52640184e-03, -1.24891326e-01, -2.09535420e-01, -1.77854389e-01,\n",
              "         3.17636162e-01, -3.28038990e-01, -3.35568458e-01, -5.45013510e-02,\n",
              "        -2.97611892e-01, -1.98498547e-01, -1.90899655e-01,  2.36308172e-01,\n",
              "        -1.09251603e-01,  1.01936571e-01, -2.59418964e-01, -3.61551270e-02,\n",
              "        -1.69594526e-01, -2.18720026e-02, -7.24626407e-02, -1.58566665e-02,\n",
              "         1.20353848e-02, -3.73697907e-01, -3.23487341e-01, -1.34599432e-01,\n",
              "        -1.85088456e-01,  2.47322265e-02, -2.25487471e-01,  2.27843583e-01,\n",
              "        -1.75069109e-01,  4.38082265e-03, -2.18461171e-01, -1.69322997e-01,\n",
              "         3.52805853e-02, -2.02421367e-01, -3.99964526e-02, -4.28584456e-01,\n",
              "         9.70497131e-02,  8.17768350e-02, -3.81155759e-02, -1.45542055e-01,\n",
              "        -4.15510982e-02, -4.93183658e-02, -1.52331635e-01,  3.15520018e-01,\n",
              "         9.87651199e-02, -1.81512147e-01, -2.32482105e-01,  2.85928790e-02,\n",
              "        -6.00185320e-02, -1.20604590e-01, -1.41297430e-01, -2.23687887e-01,\n",
              "        -1.35350481e-01, -2.27010146e-01, -2.33894944e-01, -1.01453140e-01,\n",
              "        -4.60281372e-01, -2.56608456e-01, -6.39216527e-02, -3.25333066e-02,\n",
              "        -4.72502291e-01, -1.44850612e-01, -1.75242364e-01, -2.81261265e-01,\n",
              "         1.84862360e-01,  4.71618921e-02,  1.00478999e-01, -9.11120474e-02,\n",
              "        -1.48163751e-01,  1.26143783e-01, -1.87284589e-01, -2.10882917e-01,\n",
              "         3.91248427e-02,  3.93396392e-02, -2.47730076e-01, -1.79698095e-01,\n",
              "        -9.40283164e-02, -2.00017393e-01, -4.27528411e-01, -3.58301610e-01,\n",
              "         1.37185737e-01, -2.17204750e-01, -3.39844674e-01, -2.68397540e-01,\n",
              "        -2.31417790e-01, -5.06400280e-02, -1.77911505e-01, -1.10181607e-01],\n",
              "       dtype=float32)>,\n",
              " <tf.Variable 'dense_layer_3/kernel:0' shape=(512, 10) dtype=float32, numpy=\n",
              " array([[ 0.01556757,  0.16562103,  0.08381381, ...,  0.06172057,\n",
              "         -0.12809089,  0.05698435],\n",
              "        [-0.133322  ,  0.04191075, -0.21614352, ...,  0.22236691,\n",
              "         -0.08598082, -0.0728395 ],\n",
              "        [ 0.08244278,  0.01656512,  0.07709143, ..., -0.09400273,\n",
              "         -0.06837986, -0.26698488],\n",
              "        ...,\n",
              "        [ 0.10539587, -0.05863142,  0.07225497, ..., -0.17594746,\n",
              "          0.0865726 , -0.04288447],\n",
              "        [-0.19596401,  0.14149752, -0.24369583, ...,  0.00757571,\n",
              "         -0.07930439,  0.11521433],\n",
              "        [ 0.05826394, -0.24983568,  0.04998457, ...,  0.09705425,\n",
              "         -0.19057119,  0.03376133]], dtype=float32)>,\n",
              " <tf.Variable 'dense_layer_3/bias:0' shape=(10,) dtype=float32, numpy=\n",
              " array([ 0.01586432, -0.19983849, -0.11026786, -0.10654999, -0.10101459,\n",
              "        -0.14614403, -0.15813756, -0.2637554 ,  0.6361377 ,  0.19315855],\n",
              "       dtype=float32)>]"
            ]
          },
          "metadata": {
            "tags": []
          },
          "execution_count": 57
        }
      ]
    },
    {
      "cell_type": "code",
      "metadata": {
        "colab": {
          "base_uri": "https://localhost:8080/"
        },
        "id": "0cV3gfkLkp-M",
        "outputId": "00053efc-7303-4a0e-d731-f00435344565"
      },
      "source": [
        "model_5.get_config()"
      ],
      "execution_count": null,
      "outputs": [
        {
          "output_type": "execute_result",
          "data": {
            "text/plain": [
              "{'layers': [{'class_name': 'InputLayer',\n",
              "   'config': {'batch_input_shape': (None, 784),\n",
              "    'dtype': 'float32',\n",
              "    'name': 'dense_layer_input',\n",
              "    'ragged': False,\n",
              "    'sparse': False}},\n",
              "  {'class_name': 'Dense',\n",
              "   'config': {'activation': 'relu',\n",
              "    'activity_regularizer': None,\n",
              "    'batch_input_shape': (None, 784),\n",
              "    'bias_constraint': None,\n",
              "    'bias_initializer': {'class_name': 'Zeros', 'config': {}},\n",
              "    'bias_regularizer': None,\n",
              "    'dtype': 'float32',\n",
              "    'kernel_constraint': None,\n",
              "    'kernel_initializer': {'class_name': 'GlorotUniform',\n",
              "     'config': {'seed': None}},\n",
              "    'kernel_regularizer': None,\n",
              "    'name': 'dense_layer',\n",
              "    'trainable': True,\n",
              "    'units': 512,\n",
              "    'use_bias': True}},\n",
              "  {'class_name': 'Dropout',\n",
              "   'config': {'dtype': 'float32',\n",
              "    'name': 'dropout_6',\n",
              "    'noise_shape': None,\n",
              "    'rate': 0.3,\n",
              "    'seed': None,\n",
              "    'trainable': True}},\n",
              "  {'class_name': 'Dense',\n",
              "   'config': {'activation': 'relu',\n",
              "    'activity_regularizer': None,\n",
              "    'bias_constraint': None,\n",
              "    'bias_initializer': {'class_name': 'Zeros', 'config': {}},\n",
              "    'bias_regularizer': None,\n",
              "    'dtype': 'float32',\n",
              "    'kernel_constraint': None,\n",
              "    'kernel_initializer': {'class_name': 'GlorotUniform',\n",
              "     'config': {'seed': None}},\n",
              "    'kernel_regularizer': None,\n",
              "    'name': 'dense_layer_2',\n",
              "    'trainable': True,\n",
              "    'units': 512,\n",
              "    'use_bias': True}},\n",
              "  {'class_name': 'Dropout',\n",
              "   'config': {'dtype': 'float32',\n",
              "    'name': 'dropout_7',\n",
              "    'noise_shape': None,\n",
              "    'rate': 0.3,\n",
              "    'seed': None,\n",
              "    'trainable': True}},\n",
              "  {'class_name': 'Dense',\n",
              "   'config': {'activation': 'softmax',\n",
              "    'activity_regularizer': None,\n",
              "    'bias_constraint': None,\n",
              "    'bias_initializer': {'class_name': 'Zeros', 'config': {}},\n",
              "    'bias_regularizer': None,\n",
              "    'dtype': 'float32',\n",
              "    'kernel_constraint': None,\n",
              "    'kernel_initializer': {'class_name': 'GlorotUniform',\n",
              "     'config': {'seed': None}},\n",
              "    'kernel_regularizer': None,\n",
              "    'name': 'dense_layer_3',\n",
              "    'trainable': True,\n",
              "    'units': 10,\n",
              "    'use_bias': True}}],\n",
              " 'name': 'sequential_5'}"
            ]
          },
          "metadata": {
            "tags": []
          },
          "execution_count": 58
        }
      ]
    },
    {
      "cell_type": "markdown",
      "metadata": {
        "id": "jX8DXi1jiFYS"
      },
      "source": [
        "###Improved Model 6: Adding Another Hidden Layer to the Model"
      ]
    },
    {
      "cell_type": "code",
      "metadata": {
        "id": "5Ad_vKSRiNq0"
      },
      "source": [
        "import tensorflow as tf\n",
        "\n",
        "#In Keras, layers are assembled to build models \n",
        "from tensorflow.keras.layers import Dense\n",
        "from tensorflow.keras.layers import Dropout\n",
        "\n",
        "#Most common type of model is a stack of layers\n",
        "model_6 = tf.keras.Sequential()\n",
        "N_hidden = 512\n",
        "\n",
        "# Adds a densely-connected layer with 64 units to the model:\n",
        "model_6.add(Dense(N_hidden, name='dense_layer', input_shape=(784,), activation = 'relu'))\n",
        "# Now the model will take as input arrays of shape (*, 784)# and output arrays of shape (*, 64)\n",
        "model_6.add(Dropout(0.3))\n",
        "\n",
        "# Adding another dense layer:\n",
        "model_6.add(Dense(N_hidden, name='dense_layer_2', activation='relu'))\n",
        "model_6.add(Dropout(0.3))\n",
        "\n",
        "# Adding another dense layer:\n",
        "model_6.add(Dense(N_hidden, name='dense_layer_3', activation='relu'))\n",
        "model_6.add(Dropout(0.3))\n",
        "\n",
        "# Add an output layer with 10 output units (10 different classes):\n",
        "model_6.add(Dense(10, name='dense_layer_4', activation = 'softmax'))\n"
      ],
      "execution_count": 115,
      "outputs": []
    },
    {
      "cell_type": "code",
      "metadata": {
        "id": "OgTz-7_Ai03r"
      },
      "source": [
        "# Compiling the model.\n",
        "#opt = keras.optimizers.RMSprop(learning_rate=0.0001)\n",
        "model_6.compile(optimizer='RMSprop', \n",
        "              loss='categorical_crossentropy',\n",
        "              metrics=['accuracy'])"
      ],
      "execution_count": 116,
      "outputs": []
    },
    {
      "cell_type": "code",
      "metadata": {
        "colab": {
          "base_uri": "https://localhost:8080/"
        },
        "id": "8wlsmatji03-",
        "outputId": "3156db16-96e1-4cdb-bb16-cd6891e7df09"
      },
      "source": [
        "# Training the model. \n",
        "training = model_6.fit(X_train, Y_train, batch_size=64, epochs=30, validation_split=0.2) "
      ],
      "execution_count": 117,
      "outputs": [
        {
          "output_type": "stream",
          "text": [
            "Epoch 1/30\n",
            "750/750 [==============================] - 3s 4ms/step - loss: 0.5051 - accuracy: 0.8401 - val_loss: 0.1280 - val_accuracy: 0.9628\n",
            "Epoch 2/30\n",
            "750/750 [==============================] - 2s 3ms/step - loss: 0.1562 - accuracy: 0.9569 - val_loss: 0.1131 - val_accuracy: 0.9697\n",
            "Epoch 3/30\n",
            "750/750 [==============================] - 3s 4ms/step - loss: 0.1282 - accuracy: 0.9678 - val_loss: 0.1210 - val_accuracy: 0.9709\n",
            "Epoch 4/30\n",
            "750/750 [==============================] - 3s 4ms/step - loss: 0.1270 - accuracy: 0.9696 - val_loss: 0.1362 - val_accuracy: 0.9758\n",
            "Epoch 5/30\n",
            "750/750 [==============================] - 2s 3ms/step - loss: 0.1252 - accuracy: 0.9707 - val_loss: 0.1501 - val_accuracy: 0.9725\n",
            "Epoch 6/30\n",
            "750/750 [==============================] - 2s 3ms/step - loss: 0.1198 - accuracy: 0.9742 - val_loss: 0.1487 - val_accuracy: 0.9756\n",
            "Epoch 7/30\n",
            "750/750 [==============================] - 2s 3ms/step - loss: 0.1257 - accuracy: 0.9726 - val_loss: 0.1614 - val_accuracy: 0.9742\n",
            "Epoch 8/30\n",
            "750/750 [==============================] - 3s 3ms/step - loss: 0.1214 - accuracy: 0.9735 - val_loss: 0.1590 - val_accuracy: 0.9725\n",
            "Epoch 9/30\n",
            "750/750 [==============================] - 3s 3ms/step - loss: 0.1251 - accuracy: 0.9736 - val_loss: 0.1690 - val_accuracy: 0.9749\n",
            "Epoch 10/30\n",
            "750/750 [==============================] - 3s 3ms/step - loss: 0.1190 - accuracy: 0.9769 - val_loss: 0.1547 - val_accuracy: 0.9767\n",
            "Epoch 11/30\n",
            "750/750 [==============================] - 2s 3ms/step - loss: 0.1222 - accuracy: 0.9776 - val_loss: 0.2041 - val_accuracy: 0.9768\n",
            "Epoch 12/30\n",
            "750/750 [==============================] - 2s 3ms/step - loss: 0.1454 - accuracy: 0.9762 - val_loss: 0.2011 - val_accuracy: 0.9776\n",
            "Epoch 13/30\n",
            "750/750 [==============================] - 3s 3ms/step - loss: 0.1315 - accuracy: 0.9762 - val_loss: 0.2574 - val_accuracy: 0.9750\n",
            "Epoch 14/30\n",
            "750/750 [==============================] - 3s 3ms/step - loss: 0.1103 - accuracy: 0.9813 - val_loss: 0.2581 - val_accuracy: 0.9779\n",
            "Epoch 15/30\n",
            "750/750 [==============================] - 3s 3ms/step - loss: 0.1229 - accuracy: 0.9783 - val_loss: 0.1984 - val_accuracy: 0.9772\n",
            "Epoch 16/30\n",
            "750/750 [==============================] - 3s 3ms/step - loss: 0.1192 - accuracy: 0.9792 - val_loss: 0.2396 - val_accuracy: 0.9775\n",
            "Epoch 17/30\n",
            "750/750 [==============================] - 3s 4ms/step - loss: 0.1129 - accuracy: 0.9797 - val_loss: 0.2326 - val_accuracy: 0.9772\n",
            "Epoch 18/30\n",
            "750/750 [==============================] - 3s 4ms/step - loss: 0.1156 - accuracy: 0.9800 - val_loss: 0.2482 - val_accuracy: 0.9755\n",
            "Epoch 19/30\n",
            "750/750 [==============================] - 3s 3ms/step - loss: 0.1128 - accuracy: 0.9815 - val_loss: 0.2515 - val_accuracy: 0.9771\n",
            "Epoch 20/30\n",
            "750/750 [==============================] - 2s 3ms/step - loss: 0.1042 - accuracy: 0.9818 - val_loss: 0.2808 - val_accuracy: 0.9747\n",
            "Epoch 21/30\n",
            "750/750 [==============================] - 3s 3ms/step - loss: 0.1308 - accuracy: 0.9814 - val_loss: 0.2545 - val_accuracy: 0.9780\n",
            "Epoch 22/30\n",
            "750/750 [==============================] - 3s 4ms/step - loss: 0.1183 - accuracy: 0.9836 - val_loss: 0.2305 - val_accuracy: 0.9789\n",
            "Epoch 23/30\n",
            "750/750 [==============================] - 2s 3ms/step - loss: 0.1174 - accuracy: 0.9801 - val_loss: 0.2691 - val_accuracy: 0.9781\n",
            "Epoch 24/30\n",
            "750/750 [==============================] - 2s 3ms/step - loss: 0.1201 - accuracy: 0.9825 - val_loss: 0.2845 - val_accuracy: 0.9777\n",
            "Epoch 25/30\n",
            "750/750 [==============================] - 2s 3ms/step - loss: 0.1170 - accuracy: 0.9823 - val_loss: 0.2894 - val_accuracy: 0.9797\n",
            "Epoch 26/30\n",
            "750/750 [==============================] - 2s 3ms/step - loss: 0.1338 - accuracy: 0.9813 - val_loss: 0.2659 - val_accuracy: 0.9798\n",
            "Epoch 27/30\n",
            "750/750 [==============================] - 2s 3ms/step - loss: 0.1097 - accuracy: 0.9837 - val_loss: 0.2721 - val_accuracy: 0.9787\n",
            "Epoch 28/30\n",
            "750/750 [==============================] - 2s 3ms/step - loss: 0.1022 - accuracy: 0.9847 - val_loss: 0.4392 - val_accuracy: 0.9777\n",
            "Epoch 29/30\n",
            "750/750 [==============================] - 3s 3ms/step - loss: 0.1316 - accuracy: 0.9835 - val_loss: 0.3621 - val_accuracy: 0.9799\n",
            "Epoch 30/30\n",
            "750/750 [==============================] - 2s 3ms/step - loss: 0.1199 - accuracy: 0.9843 - val_loss: 0.3142 - val_accuracy: 0.9808\n"
          ],
          "name": "stdout"
        }
      ]
    },
    {
      "cell_type": "code",
      "metadata": {
        "colab": {
          "base_uri": "https://localhost:8080/",
          "height": 590
        },
        "id": "we2ZBwRui04X",
        "outputId": "6e9d4388-f487-4859-94f1-b589d66858f3"
      },
      "source": [
        "import matplotlib.pyplot as plt\n",
        "%matplotlib inline\n",
        "# list all data in training\n",
        "print(training.history.keys())\n",
        "# summarize training for accuracy\n",
        "plt.plot(training.history['accuracy'])\n",
        "plt.plot(training.history['val_accuracy'])\n",
        "plt.title('model accuracy')\n",
        "plt.ylabel('accuracy')\n",
        "plt.xlabel('epoch')\n",
        "plt.xticks(ticks=[0,5,10,15,20,25,30])\n",
        "plt.yticks(ticks=[0.8, 0.85, 0.9, 0.95,1.0])\n",
        "plt.legend(['train', 'test'], loc='upper left')\n",
        "plt.show()\n",
        "# summarize traning for loss\n",
        "plt.plot(training.history['loss'])\n",
        "plt.plot(training.history['val_loss'])\n",
        "plt.title('model loss')\n",
        "plt.ylabel('loss')\n",
        "plt.xlabel('epoch')\n",
        "plt.legend(['train', 'test'], loc='upper left')\n",
        "plt.show()"
      ],
      "execution_count": 118,
      "outputs": [
        {
          "output_type": "stream",
          "text": [
            "dict_keys(['loss', 'accuracy', 'val_loss', 'val_accuracy'])\n"
          ],
          "name": "stdout"
        },
        {
          "output_type": "display_data",
          "data": {
            "image/png": "[encoded data removed]",
            "text/plain": [
              "<Figure size 432x288 with 1 Axes>"
            ]
          },
          "metadata": {
            "tags": [],
            "needs_background": "light"
          }
        },
        {
          "output_type": "display_data",
          "data": {
            "image/png": "[encoded data removed]",
            "text/plain": [
              "<Figure size 432x288 with 1 Axes>"
            ]
          },
          "metadata": {
            "tags": [],
            "needs_background": "light"
          }
        }
      ]
    },
    {
      "cell_type": "code",
      "metadata": {
        "colab": {
          "base_uri": "https://localhost:8080/"
        },
        "id": "rW_yiiBci04l",
        "outputId": "8881d826-c66b-475a-e568-683fcd504607"
      },
      "source": [
        "#evaluate the model\n",
        "test_loss, test_acc = model_6.evaluate(X_test, Y_test)\n",
        "print('Test accuracy:', test_acc)"
      ],
      "execution_count": 119,
      "outputs": [
        {
          "output_type": "stream",
          "text": [
            "313/313 [==============================] - 1s 2ms/step - loss: 0.2304 - accuracy: 0.9802\n",
            "Test accuracy: 0.9801999926567078\n"
          ],
          "name": "stdout"
        }
      ]
    },
    {
      "cell_type": "code",
      "metadata": {
        "colab": {
          "base_uri": "https://localhost:8080/"
        },
        "id": "-st6PFxmi04q",
        "outputId": "4d77012a-4932-4843-ebc9-5c21e8cbd157"
      },
      "source": [
        "model_6.summary()"
      ],
      "execution_count": null,
      "outputs": [
        {
          "output_type": "stream",
          "text": [
            "Model: \"sequential_6\"\n",
            "_________________________________________________________________\n",
            "Layer (type)                 Output Shape              Param #   \n",
            "=================================================================\n",
            "dense_layer (Dense)          (None, 512)               401920    \n",
            "_________________________________________________________________\n",
            "dropout_8 (Dropout)          (None, 512)               0         \n",
            "_________________________________________________________________\n",
            "dense_layer_2 (Dense)        (None, 512)               262656    \n",
            "_________________________________________________________________\n",
            "dropout_9 (Dropout)          (None, 512)               0         \n",
            "_________________________________________________________________\n",
            "dense_layer_3 (Dense)        (None, 512)               262656    \n",
            "_________________________________________________________________\n",
            "dropout_10 (Dropout)         (None, 512)               0         \n",
            "_________________________________________________________________\n",
            "dense_layer_4 (Dense)        (None, 10)                5130      \n",
            "=================================================================\n",
            "Total params: 932,362\n",
            "Trainable params: 932,362\n",
            "Non-trainable params: 0\n",
            "_________________________________________________________________\n"
          ],
          "name": "stdout"
        }
      ]
    },
    {
      "cell_type": "code",
      "metadata": {
        "colab": {
          "base_uri": "https://localhost:8080/"
        },
        "id": "VVS-TuqDi04v",
        "outputId": "0e9544f5-14d6-4f07-c9cc-279dca639430"
      },
      "source": [
        "model_6.weights"
      ],
      "execution_count": 109,
      "outputs": [
        {
          "output_type": "execute_result",
          "data": {
            "text/plain": [
              "[<tf.Variable 'dense_layer/kernel:0' shape=(784, 128) dtype=float32, numpy=\n",
              " array([[ 0.06274249, -0.04148984, -0.04114684, ..., -0.02882751,\n",
              "          0.04496888,  0.06441214],\n",
              "        [-0.03753798, -0.03326217,  0.02136146, ..., -0.06790027,\n",
              "         -0.06912115,  0.0008831 ],\n",
              "        [-0.07050317,  0.06115473,  0.0216086 , ..., -0.03998207,\n",
              "         -0.0739439 ,  0.04122152],\n",
              "        ...,\n",
              "        [ 0.04633906, -0.04676593,  0.0417845 , ..., -0.04262722,\n",
              "          0.01235752,  0.0440312 ],\n",
              "        [ 0.06750868, -0.03622452,  0.04463405, ...,  0.06350464,\n",
              "          0.03087317,  0.05517536],\n",
              "        [-0.04216018, -0.05669574, -0.05656337, ...,  0.04391798,\n",
              "          0.07373361,  0.06072605]], dtype=float32)>,\n",
              " <tf.Variable 'dense_layer/bias:0' shape=(128,) dtype=float32, numpy=\n",
              " array([ 0.08030933, -0.08859678,  0.1595964 , -0.31883723,  0.17640097,\n",
              "        -0.00135237,  0.09111959, -0.00694619, -0.05227925, -0.07140817,\n",
              "         0.05001714, -0.07229086,  0.05994048,  0.15977664, -0.0917318 ,\n",
              "        -0.11260375, -0.08117753,  0.00541883, -0.10106193, -0.13579677,\n",
              "         0.07588866, -0.02108663,  0.16488978, -0.14395654, -0.20308816,\n",
              "        -0.09288875,  0.1405745 , -0.05188653, -0.10099504,  0.07232357,\n",
              "         0.2363178 ,  0.08952093, -0.21009214, -0.12051127, -0.02909222,\n",
              "         0.00048502, -0.16675326, -0.03695337, -0.08742447, -0.16453704,\n",
              "        -0.14864431, -0.33799675, -0.08200889, -0.17941041, -0.0498875 ,\n",
              "        -0.0820718 , -0.12711017, -0.12757213,  0.03228057,  0.15487328,\n",
              "        -0.12056486, -0.01013091, -0.16887878, -0.29972813,  0.14116065,\n",
              "        -0.03420382, -0.07314485, -0.08518837, -0.122168  ,  0.05184776,\n",
              "         0.13474277,  0.05389012, -0.11013377,  0.03403098, -0.09243015,\n",
              "        -0.09542558, -0.04219279,  0.01617876, -0.01668674, -0.12071156,\n",
              "         0.16867134, -0.34136143, -0.18680784, -0.0657286 ,  0.3063202 ,\n",
              "         0.03346102, -0.11112329, -0.02074137, -0.04862395, -0.05163281,\n",
              "        -0.06345   , -0.05971467, -0.10558727,  0.0570354 ,  0.12171499,\n",
              "        -0.02559804, -0.18439467, -0.05762105, -0.1361219 , -0.08102327,\n",
              "        -0.10763007,  0.03171249, -0.1736374 , -0.04227107, -0.04499951,\n",
              "         0.02567232,  0.23772824, -0.3006921 , -0.05079328,  0.13246918,\n",
              "        -0.22143877,  0.02054331, -0.24011989,  0.17631657, -0.04189561,\n",
              "        -0.08418073, -0.16496874,  0.02326931, -0.02209195, -0.10462313,\n",
              "        -0.12235285, -0.02431362, -0.03929184,  0.16870275, -0.22790684,\n",
              "         0.12964824, -0.22801048, -0.11728725, -0.08806989, -0.15576908,\n",
              "        -0.17649417,  0.18838277, -0.19064873, -0.10522063,  0.05900821,\n",
              "         0.15356337, -0.23011385, -0.0632474 ], dtype=float32)>,\n",
              " <tf.Variable 'dense_layer_2/kernel:0' shape=(128, 128) dtype=float32, numpy=\n",
              " array([[ 0.2901703 , -0.20640567,  0.00238872, ..., -0.39688942,\n",
              "         -0.01966044,  0.12423034],\n",
              "        [-0.053362  ,  0.17371005, -0.5829319 , ...,  0.01450305,\n",
              "          0.03186625, -0.04854598],\n",
              "        [-0.14713076,  0.01883999, -0.00127902, ..., -0.29134434,\n",
              "         -0.32210854, -0.30831245],\n",
              "        ...,\n",
              "        [-0.14246841,  0.02389848, -0.00082274, ..., -0.2846211 ,\n",
              "         -0.09136072, -0.21097232],\n",
              "        [ 0.20985934,  0.03513883,  0.23198432, ..., -0.11165906,\n",
              "          0.03315819,  0.05114507],\n",
              "        [-0.2705905 ,  0.08669398, -0.37481084, ...,  0.08464625,\n",
              "         -0.26859453, -0.28337082]], dtype=float32)>,\n",
              " <tf.Variable 'dense_layer_2/bias:0' shape=(128,) dtype=float32, numpy=\n",
              " array([-1.06373385e-01, -3.36889982e-01, -3.73871624e-02,  3.83256525e-01,\n",
              "        -3.18271443e-02, -2.10311547e-01,  1.44769862e-01,  2.41914436e-01,\n",
              "        -2.42547408e-01,  1.19833715e-01,  1.69976577e-01,  2.58933216e-01,\n",
              "        -2.00633276e-02, -7.61857182e-02, -4.55601424e-01,  3.55725139e-02,\n",
              "        -2.98889034e-04, -2.83685297e-01,  2.07290232e-01,  1.92941546e-01,\n",
              "        -2.36588269e-01,  2.31174484e-01,  9.02670319e-04, -1.22083619e-01,\n",
              "        -1.23004615e-01,  1.53457567e-01, -2.96894852e-02,  4.67504896e-02,\n",
              "        -2.94296920e-01,  2.66254663e-01, -1.11579761e-01, -2.34005064e-01,\n",
              "         3.99973616e-02,  5.90033596e-03,  2.89971620e-01, -3.65310133e-01,\n",
              "        -1.88977927e-01, -2.07188010e-01,  6.40939921e-02,  2.08247915e-01,\n",
              "         2.28072360e-01, -2.20610246e-01, -7.22886324e-02,  1.51753560e-01,\n",
              "         1.11152440e-01, -2.35813633e-01,  3.28786224e-01,  1.23227976e-01,\n",
              "        -2.50470877e-01, -8.34151655e-02,  1.54077902e-01, -2.49229684e-01,\n",
              "        -1.02773830e-02, -2.30736256e-01, -6.82172254e-02, -8.12688768e-02,\n",
              "        -1.53576568e-01, -3.19990277e-01,  7.63819925e-03,  3.26048881e-01,\n",
              "        -1.76175535e-01,  9.23938602e-02,  9.02894791e-03,  1.86385632e-01,\n",
              "        -2.54264567e-02,  1.85586020e-01, -2.86701292e-01, -3.41277838e-01,\n",
              "         1.28102064e-01,  2.09486768e-01, -2.30932891e-01, -1.93059742e-02,\n",
              "         9.80458334e-02, -2.03960016e-02, -1.93788692e-01,  2.54486591e-01,\n",
              "        -1.01163238e-01, -1.83893174e-01, -4.08585370e-02, -4.71564919e-01,\n",
              "        -1.12868443e-01, -3.89064610e-01,  2.40900680e-01, -4.29119021e-01,\n",
              "         2.75797814e-01,  2.56599277e-01,  2.43361086e-01, -1.82227924e-01,\n",
              "        -8.38656723e-02,  2.09418252e-01,  3.90915982e-02,  1.96489900e-01,\n",
              "         1.88024312e-01, -1.45381793e-01,  4.26115662e-01,  3.97684723e-01,\n",
              "        -1.21924065e-01, -2.02855602e-01,  4.17808071e-02, -3.44039313e-02,\n",
              "         6.27861023e-02, -9.07114968e-02, -1.79079212e-02, -2.39560887e-01,\n",
              "         1.40979052e-01,  1.73286468e-01,  2.38151923e-01,  1.21807292e-01,\n",
              "        -2.55875945e-01,  1.33706346e-01, -8.72649699e-02,  4.21870165e-02,\n",
              "        -3.00877333e-01, -1.10163931e-02, -1.00719802e-01,  4.82092172e-01,\n",
              "         1.52550578e-01, -1.98014662e-01, -3.06053400e-01,  1.29191235e-01,\n",
              "         1.62671171e-02, -1.73672155e-01, -2.05864802e-01,  2.27262393e-01,\n",
              "        -1.35825187e-01,  7.22569823e-02,  3.66322726e-01,  2.32411250e-01],\n",
              "       dtype=float32)>,\n",
              " <tf.Variable 'dense_layer_3/kernel:0' shape=(128, 128) dtype=float32, numpy=\n",
              " array([[ 0.02031668, -0.04020869,  0.04649817, ..., -0.23734047,\n",
              "         -0.12387922,  0.11581111],\n",
              "        [-0.03758785, -0.35304302, -0.11845415, ...,  0.005813  ,\n",
              "          0.18034449, -0.04128309],\n",
              "        [-0.47267962,  0.10864623,  0.37641397, ..., -0.14074847,\n",
              "         -0.12488078, -0.05924366],\n",
              "        ...,\n",
              "        [ 0.2674436 , -0.05077134, -0.12004047, ...,  0.27889684,\n",
              "         -0.077388  , -0.43219253],\n",
              "        [ 0.1287302 ,  0.05038656, -0.03072347, ..., -0.2660029 ,\n",
              "         -0.3251792 , -0.07219125],\n",
              "        [ 0.33098102, -0.18833138, -0.11671437, ..., -0.29935586,\n",
              "          0.20335032,  0.24510893]], dtype=float32)>,\n",
              " <tf.Variable 'dense_layer_3/bias:0' shape=(128,) dtype=float32, numpy=\n",
              " array([ 0.12871979,  0.15186264,  0.28262314,  0.2984397 ,  0.06302418,\n",
              "         0.1540156 ,  0.03806654,  0.1461385 ,  0.2705537 ,  0.24546964,\n",
              "         0.11194692,  0.33020592,  0.2638433 ,  0.09276204,  0.05542044,\n",
              "         0.17761333,  0.12306938,  0.05626738,  0.03831222,  0.02086951,\n",
              "         0.19655049,  0.19629073,  0.38784727,  0.13848084,  0.17652686,\n",
              "         0.4103457 ,  0.32334536,  0.20453301,  0.2928635 ,  0.3430647 ,\n",
              "         0.2003731 ,  0.20966478,  0.30301565,  0.14069368,  0.39109415,\n",
              "         0.07040749,  0.3538752 ,  0.11601361,  0.3105541 ,  0.05259661,\n",
              "         0.05737724,  0.30557537,  0.16413559,  0.06806342,  0.36096513,\n",
              "         0.31450632,  0.09786428,  0.17078453,  0.30757695,  0.03206801,\n",
              "         0.0415143 , -0.05436635, -0.13058238,  0.18580146, -0.02426832,\n",
              "         0.38755158,  0.14891939,  0.05902888,  0.25758806,  0.13127106,\n",
              "         0.10922356,  0.18866137, -0.00920986,  0.26235607,  0.03586416,\n",
              "         0.35317877,  0.20924452,  0.39144292,  0.17458312,  0.27964273,\n",
              "         0.3548452 ,  0.1522339 ,  0.2567146 ,  0.3259357 ,  0.01908046,\n",
              "         0.07204341,  0.3159585 ,  0.2645969 ,  0.01035652,  0.17948847,\n",
              "        -0.11496015,  0.14355391,  0.10743316,  0.18309048,  0.2931226 ,\n",
              "         0.2554696 ,  0.02554681, -0.00604444, -0.05721942,  0.03997267,\n",
              "         0.23014607,  0.30034456,  0.27900162,  0.10994127,  0.08474319,\n",
              "         0.15449   ,  0.19309303,  0.10807002, -0.12857914,  0.36543363,\n",
              "         0.19173966,  0.26451758,  0.1661658 ,  0.08539055,  0.1439881 ,\n",
              "         0.09967711,  0.10302162,  0.36149108,  0.31867042,  0.19504485,\n",
              "         0.30475613, -0.0358406 ,  0.07860424,  0.16325179,  0.18970194,\n",
              "         0.21419947,  0.21027304,  0.30941206,  0.32210618,  0.16765441,\n",
              "        -0.17572515,  0.17877933,  0.12126005,  0.24259827, -0.08836517,\n",
              "         0.32888976,  0.19005373,  0.03030611], dtype=float32)>,\n",
              " <tf.Variable 'dense_layer_4/kernel:0' shape=(128, 10) dtype=float32, numpy=\n",
              " array([[ 0.08994744,  0.14457119, -0.290384  , ...,  0.17525205,\n",
              "         -0.1521757 ,  0.18566476],\n",
              "        [-0.23461437,  0.15672702, -0.27146628, ...,  0.1681969 ,\n",
              "         -0.02640066,  0.17990413],\n",
              "        [-0.02289666, -0.1897564 ,  0.086325  , ..., -0.07085986,\n",
              "          0.1617772 , -0.21855031],\n",
              "        ...,\n",
              "        [-0.16835256, -0.35645968, -0.47089303, ..., -0.35740474,\n",
              "          0.14059374,  0.13772528],\n",
              "        [ 0.0812493 ,  0.12790002,  0.08230775, ..., -0.26731566,\n",
              "         -0.25620073, -0.21303688],\n",
              "        [ 0.11894543,  0.05361068,  0.08539249, ...,  0.12958483,\n",
              "         -0.38449034, -0.10733365]], dtype=float32)>,\n",
              " <tf.Variable 'dense_layer_4/bias:0' shape=(10,) dtype=float32, numpy=\n",
              " array([ 0.06146418, -0.0680566 , -0.13002636, -0.17567126, -0.0157959 ,\n",
              "        -0.00428961, -0.22706534, -0.14926712,  0.413432  ,  0.15574831],\n",
              "       dtype=float32)>]"
            ]
          },
          "metadata": {
            "tags": []
          },
          "execution_count": 109
        }
      ]
    },
    {
      "cell_type": "code",
      "metadata": {
        "colab": {
          "base_uri": "https://localhost:8080/"
        },
        "id": "V5lg_PNsi041",
        "outputId": "e6ced3e5-3c6c-4dc7-85ce-beb840017b7e"
      },
      "source": [
        "model_6.get_config()"
      ],
      "execution_count": 108,
      "outputs": [
        {
          "output_type": "execute_result",
          "data": {
            "text/plain": [
              "{'layers': [{'class_name': 'InputLayer',\n",
              "   'config': {'batch_input_shape': (None, 784),\n",
              "    'dtype': 'float32',\n",
              "    'name': 'dense_layer_input',\n",
              "    'ragged': False,\n",
              "    'sparse': False}},\n",
              "  {'class_name': 'Dense',\n",
              "   'config': {'activation': 'relu',\n",
              "    'activity_regularizer': None,\n",
              "    'batch_input_shape': (None, 784),\n",
              "    'bias_constraint': None,\n",
              "    'bias_initializer': {'class_name': 'Zeros', 'config': {}},\n",
              "    'bias_regularizer': None,\n",
              "    'dtype': 'float32',\n",
              "    'kernel_constraint': None,\n",
              "    'kernel_initializer': {'class_name': 'GlorotUniform',\n",
              "     'config': {'seed': None}},\n",
              "    'kernel_regularizer': None,\n",
              "    'name': 'dense_layer',\n",
              "    'trainable': True,\n",
              "    'units': 128,\n",
              "    'use_bias': True}},\n",
              "  {'class_name': 'Dropout',\n",
              "   'config': {'dtype': 'float32',\n",
              "    'name': 'dropout_31',\n",
              "    'noise_shape': None,\n",
              "    'rate': 0.3,\n",
              "    'seed': None,\n",
              "    'trainable': True}},\n",
              "  {'class_name': 'Dense',\n",
              "   'config': {'activation': 'relu',\n",
              "    'activity_regularizer': None,\n",
              "    'bias_constraint': None,\n",
              "    'bias_initializer': {'class_name': 'Zeros', 'config': {}},\n",
              "    'bias_regularizer': None,\n",
              "    'dtype': 'float32',\n",
              "    'kernel_constraint': None,\n",
              "    'kernel_initializer': {'class_name': 'GlorotUniform',\n",
              "     'config': {'seed': None}},\n",
              "    'kernel_regularizer': None,\n",
              "    'name': 'dense_layer_2',\n",
              "    'trainable': True,\n",
              "    'units': 128,\n",
              "    'use_bias': True}},\n",
              "  {'class_name': 'Dropout',\n",
              "   'config': {'dtype': 'float32',\n",
              "    'name': 'dropout_32',\n",
              "    'noise_shape': None,\n",
              "    'rate': 0.3,\n",
              "    'seed': None,\n",
              "    'trainable': True}},\n",
              "  {'class_name': 'Dense',\n",
              "   'config': {'activation': 'relu',\n",
              "    'activity_regularizer': None,\n",
              "    'bias_constraint': None,\n",
              "    'bias_initializer': {'class_name': 'Zeros', 'config': {}},\n",
              "    'bias_regularizer': None,\n",
              "    'dtype': 'float32',\n",
              "    'kernel_constraint': None,\n",
              "    'kernel_initializer': {'class_name': 'GlorotUniform',\n",
              "     'config': {'seed': None}},\n",
              "    'kernel_regularizer': None,\n",
              "    'name': 'dense_layer_3',\n",
              "    'trainable': True,\n",
              "    'units': 128,\n",
              "    'use_bias': True}},\n",
              "  {'class_name': 'Dropout',\n",
              "   'config': {'dtype': 'float32',\n",
              "    'name': 'dropout_33',\n",
              "    'noise_shape': None,\n",
              "    'rate': 0.3,\n",
              "    'seed': None,\n",
              "    'trainable': True}},\n",
              "  {'class_name': 'Dense',\n",
              "   'config': {'activation': 'softmax',\n",
              "    'activity_regularizer': None,\n",
              "    'bias_constraint': None,\n",
              "    'bias_initializer': {'class_name': 'Zeros', 'config': {}},\n",
              "    'bias_regularizer': None,\n",
              "    'dtype': 'float32',\n",
              "    'kernel_constraint': None,\n",
              "    'kernel_initializer': {'class_name': 'GlorotUniform',\n",
              "     'config': {'seed': None}},\n",
              "    'kernel_regularizer': None,\n",
              "    'name': 'dense_layer_4',\n",
              "    'trainable': True,\n",
              "    'units': 10,\n",
              "    'use_bias': True}}],\n",
              " 'name': 'sequential_13'}"
            ]
          },
          "metadata": {
            "tags": []
          },
          "execution_count": 108
        }
      ]
    },
    {
      "cell_type": "markdown",
      "metadata": {
        "id": "X6UHyrSERqid"
      },
      "source": [
        "# DIY: Assignment"
      ]
    },
    {
      "cell_type": "markdown",
      "metadata": {
        "id": "kYZ5DXBNLQAn"
      },
      "source": [
        "####**Total Marks: 50**\n",
        "**Duration: 6 days**\n",
        "\n",
        "As a part of this assignment following are the list of task that may help  improve your skills with TensorFlow. It is important to get hands-on experience with TensorFlow in order to learn how to use it properly.\n",
        "\n",
        "You may want to backup this Notebook before making any changes."
      ]
    },
    {
      "cell_type": "markdown",
      "metadata": {
        "id": "hQTkURqTLcAy"
      },
      "source": [
        "\n",
        "###**`.ipynb file 1`** "
      ]
    },
    {
      "cell_type": "markdown",
      "metadata": {
        "id": "BgqFWLmeRvsr"
      },
      "source": [
        "\n",
        "**Marks: 10**\n",
        "- Do you get the exact same results if you run the Notebook multiple times without changing any parameters?  \n",
        "> - **Observation**: We don't get the exact same results on multiple runs, the accuracy varies on each run even though the parameters are unchanged. \n",
        "\n",
        "- What is the effect of adding more neurons to each hidden layer?\n",
        "> - **Observation**: Adding more neurons increases the accuracy, but the overfitting is not reduced. The model is still overfitted.\n",
        "\n",
        "- What happens if we manipulate the value of dropout?\n",
        "> - **Observation**: Increasing the drop out value reduced the accuracy and the model remains overfitted. Decreasing the drop out value resulted in better accuracy and reduced overfitting.\n",
        "\n",
        "- What is the effect of adding more hidden layer to the network?\n",
        "> - **Observation**: Adding an hidden layer increased the accuracy further and reduced overfitting. The model is slightly underfit which is negligible.\n",
        "\n",
        "- What is the accuracy score if we use RMSprop for model 6?\n",
        "> - **Observation**: We get accuracy of 98.5% using RMSprop for model 6.\n",
        "\n",
        "- Does manipulating the learning rate affect the model? Justify your answer.\n",
        "> - **Observation**: Yes, manipulating the learning rate affects the model accuracy. Higher learning rate reduces the accuracy and lower learning rate increases the accuracy. Too large learning rates will result in unstable training and tiny rates may result in long training process.\n",
        "\n",
        "- What is the best parameter configuration for this project?\n",
        "> - **Observation**: Considering the accuracy and fitting with batch size of 64 and 30 Epochs. Below are the preferred configuration parameters for this project.\n",
        ">> - Input and Hidden layers activation function: Relu\n",
        ">> - Output layer activation function: Softmax\n",
        ">> - Model Optimizer: RMSprop with default learning rate\n",
        ">> - Loss Function: categorical_crossentropy\n",
        "\n"
      ]
    },
    {
      "cell_type": "code",
      "metadata": {
        "id": "35nFvYpKsG3h"
      },
      "source": [
        ""
      ],
      "execution_count": null,
      "outputs": []
    }
  ]
}